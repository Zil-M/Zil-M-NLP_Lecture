{
 "cells": [
  {
   "cell_type": "code",
   "execution_count": 1,
   "id": "nominated-oracle",
   "metadata": {},
   "outputs": [],
   "source": [
    "from __future__ import absolute_import, division, print_function, unicode_literals\n",
    "\n",
    "import os\n",
    "import re\n",
    "import math\n",
    "import numpy as np\n",
    "import pandas as pd\n",
    "import random\n",
    "import json\n",
    "import copy\n",
    "import sentencepiece as spm\n",
    "import matplotlib.pyplot as plt\n",
    "\n",
    "import tensorflow as tf\n",
    "import tensorflow.keras.backend as K\n",
    "\n",
    "from tqdm.notebook import tqdm\n",
    "\n",
    "\n",
    "random_seed = 1234\n",
    "random.seed(random_seed)\n",
    "np.random.seed(random_seed)\n",
    "tf.random.set_seed(random_seed)"
   ]
  },
  {
   "cell_type": "markdown",
   "id": "indirect-mobility",
   "metadata": {},
   "source": [
    "# 1. 데이터 분석"
   ]
  },
  {
   "cell_type": "markdown",
   "id": "tight-nursery",
   "metadata": {},
   "source": [
    "> 본 1장에서는 BERT 모델에 활용할 데이터를 메모리에 적재하고 데이터의 구성 정보를 확인하는 과정을 기술한다.<br>\n",
    "> 해당 데이터는 '나무위키' 사이트에서 주제별 문서를 수집하여, 635MB 규모의 한국어 데이터를 활용한다.<br>\n",
    "> <br>\n",
    "> [출처 - 나무위키](https://namu.wiki/w/%EB%82%98%EB%AC%B4%EC%9C%84%ED%82%A4:%EB%8C%80%EB%AC%B8)"
   ]
  },
  {
   "cell_type": "code",
   "execution_count": 2,
   "id": "female-territory",
   "metadata": {},
   "outputs": [],
   "source": [
    "corpus_file_path = './Data/lecture14/data/kowiki.txt'"
   ]
  },
  {
   "cell_type": "code",
   "execution_count": 3,
   "id": "fluid-farmer",
   "metadata": {},
   "outputs": [],
   "source": [
    "def load_dataset(file_path):\n",
    "    data_set = None\n",
    "    with open(file_path, 'r') as f:\n",
    "        data_set = f.read().splitlines()\n",
    "        \n",
    "    return data_set"
   ]
  },
  {
   "cell_type": "code",
   "execution_count": 4,
   "id": "sensitive-cherry",
   "metadata": {},
   "outputs": [],
   "source": [
    "kowiki_data = load_dataset(corpus_file_path)"
   ]
  },
  {
   "cell_type": "code",
   "execution_count": 5,
   "id": "complimentary-banner",
   "metadata": {},
   "outputs": [
    {
     "name": "stdout",
     "output_type": "stream",
     "text": [
      "문장 개수 : 3957766 개\n",
      "\n",
      "['지미 카터', '제임스 얼 \"지미\" 카터 주니어(, 1924년 10월 1일 ~ )는 민주당 출신 미국 39번째 대통령 (1977년 ~ 1981년)이다.', '지미 카터는 조지아주 섬터 카운티 플레인스 마을에서 태어났다. 조지아 공과대학교를 졸업하였다. 그 후 해군에 들어가 전함·원자력·잠수함의 승무원으로 일하였다. 1953년 미국 해군 대위로 예편하였고 이후 땅콩·면화 등을 가꿔 많은 돈을 벌었다. 그의 별명이 \"땅콩 농부\" (Peanut Farmer)로 알려졌다.', '1962년 조지아 주 상원 의원 선거에서 낙선하나 그 선거가 부정선거 였음을 입증하게 되어 당선되고, 1966년 조지아 주 지사 선거에 낙선하지만 1970년 조지아 주 지사를 역임했다. 대통령이 되기 전 조지아주 상원의원을 두번 연임했으며, 1971년부터 1975년까지 조지아 지사로 근무했다. 조지아 주지사로 지내면서, 미국에 사는 흑인 등용법을 내세웠다.', '1976년 대통령 선거에 민주당 후보로 출마하여 도덕주의 정책으로 내세워, 포드를 누르고 당선되었다.']\n"
     ]
    }
   ],
   "source": [
    "print(f'문장 개수 : {len(kowiki_data)} 개\\n')\n",
    "print(kowiki_data[:5])"
   ]
  },
  {
   "cell_type": "markdown",
   "id": "distinguished-argument",
   "metadata": {},
   "source": [
    "> 3,957,766개의 문장이 있으며, 주제 별 상세 내용이 기재되어있음을 확인할 수 있다."
   ]
  },
  {
   "cell_type": "markdown",
   "id": "former-introduction",
   "metadata": {},
   "source": [
    "# 2. sentence piece 기반 토크나이저"
   ]
  },
  {
   "cell_type": "markdown",
   "id": "pacific-dutch",
   "metadata": {},
   "source": [
    "> 수집한 데이터를 sentence piece 기반으로 토크나이저 객체를 생성하고 객체의 구성 정보를 확인하는 과정을 기술한다."
   ]
  },
  {
   "cell_type": "markdown",
   "id": "colonial-gasoline",
   "metadata": {},
   "source": [
    "# 2.1 sentence piece 생성"
   ]
  },
  {
   "cell_type": "markdown",
   "id": "colored-fundamentals",
   "metadata": {},
   "source": [
    "> 단어 토큰 8,000 개, 특수 토큰 7개으로 구성된 총 8,007개의 토큰을 가진 sentence piece 모델 객체를 생성한다."
   ]
  },
  {
   "cell_type": "code",
   "execution_count": 6,
   "id": "pharmaceutical-invention",
   "metadata": {},
   "outputs": [],
   "source": [
    "prefix = 'ko_8000' # sentence pice 모델 이름\n",
    "vocab_size = 8000  # 단어사전 크기"
   ]
  },
  {
   "cell_type": "code",
   "execution_count": 7,
   "id": "certain-distributor",
   "metadata": {},
   "outputs": [],
   "source": [
    "spm.SentencePieceTrainer.train(\n",
    "    f\"--input={corpus_file_path} --model_prefix={prefix} --vocab_size={vocab_size + 7}\" + \n",
    "    \" --model_type=bpe\" +\n",
    "    \" --max_sentence_length=999999\" + # 문장 최대 길이\n",
    "    \" --pad_id=0 --pad_piece=[PAD]\" + # pad (0)\n",
    "    \" --unk_id=1 --unk_piece=[UNK]\" + # unknown (1)\n",
    "    \" --bos_id=2 --bos_piece=[BOS]\" + # begin of sequence (2)\n",
    "    \" --eos_id=3 --eos_piece=[EOS]\" + # end of sequence (3)\n",
    "    \" --user_defined_symbols=[SEP],[CLS],[MASK]\") # 사용자 정의 토큰"
   ]
  },
  {
   "cell_type": "markdown",
   "id": "preliminary-durham",
   "metadata": {},
   "source": [
    "# 2.2 생성한 sentence piece model 확인"
   ]
  },
  {
   "cell_type": "markdown",
   "id": "geographic-clinic",
   "metadata": {},
   "source": [
    "> 이전에 수행한 sentence piece 모델을 로드 후, 10개의 토큰을 출력하여 구성 내용을 확인한다."
   ]
  },
  {
   "cell_type": "code",
   "execution_count": 7,
   "id": "peripheral-slope",
   "metadata": {},
   "outputs": [],
   "source": [
    "data_dir = './Data/lecture14/data'\n",
    "model_dir = './Data/lecture14/models'"
   ]
  },
  {
   "cell_type": "code",
   "execution_count": 8,
   "id": "incredible-mention",
   "metadata": {},
   "outputs": [
    {
     "data": {
      "text/plain": [
       "True"
      ]
     },
     "execution_count": 8,
     "metadata": {},
     "output_type": "execute_result"
    }
   ],
   "source": [
    "# vocab loading\n",
    "vocab = spm.SentencePieceProcessor()\n",
    "vocab.load(f\"{model_dir}/ko_8000.model\")"
   ]
  },
  {
   "cell_type": "code",
   "execution_count": 9,
   "id": "pleasant-iceland",
   "metadata": {
    "scrolled": true
   },
   "outputs": [
    {
     "name": "stdout",
     "output_type": "stream",
     "text": [
      "['▁1', '▁이', '으로', '에서', '▁있', '▁2', '▁그', '▁대', '▁사', '이다']\n"
     ]
    }
   ],
   "source": [
    "vocab_list = []\n",
    "for id in range(7, len(vocab)):\n",
    "    if not vocab.is_unknown(id):\n",
    "        vocab_list.append(vocab.id_to_piece(id))\n",
    "        \n",
    "print(vocab_list[:10])"
   ]
  },
  {
   "cell_type": "markdown",
   "id": "magnetic-europe",
   "metadata": {},
   "source": [
    "# 3. Data Preporcessing"
   ]
  },
  {
   "cell_type": "markdown",
   "id": "stylish-sandwich",
   "metadata": {},
   "source": [
    "> BERT 모델에 활용되는 훈련 프로세스인 Masked-Language model과 Next Sentence Prediction를 구현한다.<br>\n",
    "> 구현된 MLM, NSP를 활용하여  BERT 모델에 사용할 pretrain 데이터를 생성후 결과를 확인하는 과정을 기술한다."
   ]
  },
  {
   "cell_type": "markdown",
   "id": "unique-squad",
   "metadata": {},
   "source": [
    "## 3.1 Create MAKS"
   ]
  },
  {
   "cell_type": "markdown",
   "id": "residential-salmon",
   "metadata": {},
   "source": [
    "> Masked-Language model, 이하 MLM은 BERT 모델에 활용되는 훈련 프로세스 중 하나이다.<br>\n",
    "> 기존 BERT에 문장을 입력했을 때 BERT 내부의 가중치를 최적화하여 반대쪽에 동일한 문장을 출력하는 것으로 구성한다.<br>\n",
    "> MLM는 BERT에 문장 정보를 제공하기 전에 몇 개의 토큰을 마스킹하여 제공한다.<br>\n",
    "> 이는 일부 단어가 제거된 불완전한 문장을 입력하여 Masking된 토큰의 다음 단어를 예측할 수 있도록 BERT 모델을 학습시키는 것이다.<br>\n",
    "> <br>\n",
    "> 전체 토큰의 30%를 마스킹하여 MLM을 구성한다. 이때, 문장 입력 시 랜덤하게 Masking을 수행한다.<br>\n",
    "> <br>\n",
    "> [출처 - Masked-Language Modeling With BERT](https://towardsdatascience.com/masked-language-modelling-with-bert-7d49793e5d2c)"
   ]
  },
  {
   "cell_type": "code",
   "execution_count": 10,
   "id": "german-regular",
   "metadata": {},
   "outputs": [],
   "source": [
    "def create_pretrain_mask(tokens, mask_cnt, vocab_list):\n",
    "    # step1. 단어 단위로 mask 하기위한 index 분할\n",
    "    cand_idx = []  # word 단위의 index array\n",
    "    for (i, token) in enumerate(tokens):\n",
    "        if token == \"[CLS]\" or token == \"[SEP]\":\n",
    "            continue\n",
    "        if 0 < len(cand_idx) and not token.startswith(u\"\\u2581\"):\n",
    "            cand_idx[-1].append(i)\n",
    "        else:\n",
    "            cand_idx.append([i])\n",
    "            \n",
    "    # step2. random mask를 위한 순서 섞기\n",
    "    random.shuffle(cand_idx)\n",
    "\n",
    "    mask_lms = []  # mask 된 값\n",
    "    for index_set in cand_idx:\n",
    "        if len(mask_lms) >= mask_cnt:  # 핸재 mask된 개수가 30%를 넘으면 중지\n",
    "            break\n",
    "        if len(mask_lms) + len(index_set) > mask_cnt:  # 이번에 mask할 개수를 포함해 30%를 넘으면 skip\n",
    "            continue\n",
    "        dice = random.random()  # 0..1 사이의 확률 값\n",
    "        for index in index_set:\n",
    "            masked_token = None\n",
    "            if dice < 0.8:  # 80% replace with [MASK]\n",
    "                masked_token = \"[MASK]\"\n",
    "            elif dice < 0.9: # 10% keep original\n",
    "                masked_token = tokens[index]\n",
    "            else:  # 10% random word\n",
    "                masked_token = random.choice(vocab_list)\n",
    "            mask_lms.append({\"index\": index, \"label\": tokens[index]})\n",
    "            tokens[index] = masked_token\n",
    "            \n",
    "    # step3. mask_lms 정렬 후 mask_idx, mask_label 추출\n",
    "    mask_lms = sorted(mask_lms, key=lambda x: x[\"index\"])\n",
    "    mask_idx = [p[\"index\"] for p in mask_lms]  # mask된 token의 index\n",
    "    mask_label = [p[\"label\"] for p in mask_lms]  # mask된 token의 원래 값\n",
    "\n",
    "    return tokens, mask_idx, mask_label"
   ]
  },
  {
   "cell_type": "markdown",
   "id": "chubby-noise",
   "metadata": {},
   "source": [
    "> 구현한 MNM의 정상 작동 여부를 확인하기위해, 예문을 입력하여 테스트를 진행한다."
   ]
  },
  {
   "cell_type": "code",
   "execution_count": 11,
   "id": "pointed-module",
   "metadata": {},
   "outputs": [
    {
     "name": "stdout",
     "output_type": "stream",
     "text": [
      "원문 : ['▁미국', '이', '[MASK]', '[MASK]', '▁인', '상', '할', '▁예정', '이었', '으나', '[MASK]', '[MASK]', '▁취', '소', '되었다', '.']\n",
      "Masking 된 문장 : ['▁미국', '이', '[MASK]', '[MASK]', '▁인', '상', '할', '▁예정', '이었', '으나', '[MASK]', '[MASK]', '▁취', '소', '되었다', '.']\n",
      "maks index : [2, 3, 10, 11]\n",
      "mask label : ['▁금', '리를', '▁계획', '이']\n"
     ]
    }
   ],
   "source": [
    "tokens_org = vocab.encode_as_pieces(\"미국이 금리를 인상할 예정이었으나 계획이 취소되었다.\")\n",
    "\n",
    "mask_cnt = int((len(tokens_org)) * 0.3)\n",
    "tokens, mask_idx, mask_label = create_pretrain_mask(tokens_org, mask_cnt, vocab_list)\n",
    "\n",
    "print(f\"원문 : {tokens_org}\")\n",
    "print(f\"Masking 된 문장 : {tokens}\")\n",
    "print(f\"maks index : {mask_idx}\")\n",
    "print(f\"mask label : {mask_label}\")"
   ]
  },
  {
   "cell_type": "markdown",
   "id": "uniform-hearts",
   "metadata": {},
   "source": [
    "> 정상적으로  예문의 단어 토큰 중 30%가 Mask 처리된 모습을 확인할 수 있다."
   ]
  },
  {
   "cell_type": "markdown",
   "id": "ethical-clearance",
   "metadata": {},
   "source": [
    "## 3.2 Create NSP pair"
   ]
  },
  {
   "cell_type": "markdown",
   "id": "distinct-jacket",
   "metadata": {},
   "source": [
    "> Next Sentence Prediction, 이하 NSP은 BERT 모델에 활용되는 훈련 프로세스 중 하나이다.<br>\n",
    "> NSP는 BERT에게 문장 간의 장기적인 종속성을 이해하도록 학습시키는 알고리듬이다.<br> \n",
    "> 이를 위해 BERT에 A문장과 B문장이라는 두 개의 문장을 주는 것으로 구성하여, B문장이 A문장 다음에 오는지 체크한다.<br>\n",
    "> 이후 BERT는 IsNextSentence(True)또는 NotNextSentence(False)를 출력한다.<br>\n",
    "> <br>\n",
    "> 문장의 단어 토큰의 길이를 제한하는 함수를 활용하여 NSP 데이터를 생성하는 함수를 구현한다.<br>\n",
    "> <br>\n",
    "> [출처 - BERT For Next Sentence Prediction](https://towardsdatascience.com/bert-for-next-sentence-prediction-466b67f8226f)"
   ]
  },
  {
   "cell_type": "code",
   "execution_count": 12,
   "id": "apparent-scope",
   "metadata": {},
   "outputs": [],
   "source": [
    "# 단어 토큰 길이 전처리\n",
    "def trim_tokens(tokens_a, tokens_b, max_seq):\n",
    "    \"\"\"\n",
    "    tokens_a, tokens_b의 길이를 줄임 최대 길이: max_seq\n",
    "    :param tokens_a: tokens A\n",
    "    :param tokens_b: tokens B\n",
    "    :param max_seq: 두 tokens 길이의 최대 값\n",
    "    \"\"\"\n",
    "    while True:\n",
    "        total_length = len(tokens_a) + len(tokens_b)\n",
    "        if total_length <= max_seq:\n",
    "            break\n",
    "\n",
    "        if len(tokens_a) > len(tokens_b):\n",
    "            del tokens_a[0]\n",
    "        else:\n",
    "            tokens_b.pop()"
   ]
  },
  {
   "cell_type": "code",
   "execution_count": 32,
   "id": "utility-exclusive",
   "metadata": {},
   "outputs": [],
   "source": [
    "# NSP 데이터 생성\n",
    "def create_pretrain_instances(vocab, doc, n_seq, mask_prob, vocab_list):\n",
    "    \"\"\"\n",
    "    doc별 pretrain 데이터 생성\n",
    "    \"\"\"\n",
    "    # for CLS], [SEP], [SEP]\n",
    "    max_seq = n_seq - 3\n",
    "\n",
    "    instances = []\n",
    "    current_chunk = []\n",
    "    current_length = 0\n",
    "    for i in range(len(doc)):\n",
    "        current_chunk.append(doc[i])  # line\n",
    "        current_length += len(doc[i])\n",
    "        if 1 < len(current_chunk) and (i == len(doc) - 1 or current_length >= max_seq):\n",
    "            # token a\n",
    "            a_end = 1\n",
    "            if 1 < len(current_chunk):\n",
    "                a_end = random.randrange(1, len(current_chunk))\n",
    "            tokens_a = []\n",
    "            for j in range(a_end):\n",
    "                tokens_a.extend(current_chunk[j])\n",
    "            # token b\n",
    "            tokens_b = []\n",
    "            for j in range(a_end, len(current_chunk)):\n",
    "                tokens_b.extend(current_chunk[j])\n",
    "\n",
    "            if random.random() < 0.5:  # 50% 확률로 swap\n",
    "                is_next = 0\n",
    "                tokens_t = tokens_a\n",
    "                tokens_a = tokens_b\n",
    "                tokens_b = tokens_t\n",
    "            else:\n",
    "                is_next = 1\n",
    "            # max_seq 보다 큰 경우 길이 조절\n",
    "            trim_tokens(tokens_a, tokens_b, max_seq)\n",
    "            assert 0 < len(tokens_a)\n",
    "            assert 0 < len(tokens_b)\n",
    "            # tokens & aegment 생성\n",
    "            tokens = [\"[CLS]\"] + tokens_a + [\"[SEP]\"] + tokens_b + [\"[SEP]\"]\n",
    "            segment = [0] * (len(tokens_a) + 2) + [1] * (len(tokens_b) + 1)\n",
    "            # mask\n",
    "            tokens, mask_idx, mask_label = create_pretrain_mask(tokens, int((len(tokens)-3) * mask_prob), vocab_list)\n",
    "\n",
    "            instance = {\n",
    "                \"tokens\": tokens,\n",
    "                \"segment\": segment,\n",
    "                \"is_next\": is_next,\n",
    "                \"mask_idx\": mask_idx,\n",
    "                \"mask_label\": mask_label\n",
    "            }\n",
    "            instances.append(instance)\n",
    "\n",
    "            current_chunk = []\n",
    "            current_length = 0\n",
    "            \n",
    "    return instances"
   ]
  },
  {
   "cell_type": "markdown",
   "id": "efficient-copying",
   "metadata": {},
   "source": [
    "> 구현한 NSP의 정상 작동 여부를 확인하기위해, 예문을 입력하여 테스트를 진행한다."
   ]
  },
  {
   "cell_type": "code",
   "execution_count": 33,
   "id": "accompanied-emerald",
   "metadata": {},
   "outputs": [
    {
     "name": "stdout",
     "output_type": "stream",
     "text": [
      "단어 토큰 : ['[CLS]', '▁미국', '이', '▁금', '리를', '▁인', '상', '할', '▁예정', '이었', '으나', '▁계획', '이', '▁취', '소', '되었다', '.', '[SEP]', '▁다음', '날', '▁코', '스', '피', '는', '▁상', '승', '캔', '들로', '[MASK]', '[MASK]', '[MASK]', '[MASK]', '[MASK]', '[MASK]', '[SEP]']\n",
      "\n",
      "세그먼트 : [0, 0, 0, 0, 0, 0, 0, 0, 0, 0, 0, 0, 0, 0, 0, 0, 0, 0, 1, 1, 1, 1, 1, 1, 1, 1, 1, 1, 1, 1, 1, 1, 1, 1, 1]\n",
      "\n",
      "종속 여부(True:1, False:0) : 1\n",
      "\n",
      "mask index : [3, 4, 28, 29, 30, 31, 32, 33]\n",
      "\n",
      "mask label : ['▁금', '리를', '▁장', '이', '▁마', '감', '되었다', '.']\n",
      "\n"
     ]
    }
   ],
   "source": [
    "ex_sentence = ['미국이 금리를 인상할 예정이었으나 계획이 취소되었다.','다음날 코스피는 상승캔들로 장이 마감되었다.']\n",
    "doc = list()\n",
    "\n",
    "for sentence in ex_sentence:\n",
    "    doc.append(vocab.encode_as_pieces(sentence))\n",
    "\n",
    "n_seq = 64\n",
    "mask_prob = 0.3\n",
    "\n",
    "result = create_pretrain_instances(vocab, doc, n_seq, mask_prob, vocab_list)\n",
    "\n",
    "print(f'단어 토큰 : {result[0].get(\"tokens\")}', end=\"\\n\\n\")\n",
    "print(f'세그먼트 : {result[0].get(\"segment\")}', end=\"\\n\\n\")\n",
    "print(f'종속 여부(True:1, False:0) : {result[0].get(\"is_next\")}', end=\"\\n\\n\")\n",
    "print(f'mask index : {result[0].get(\"mask_idx\")}', end=\"\\n\\n\")\n",
    "print(f'mask label : {result[0].get(\"mask_label\")}', end=\"\\n\\n\")"
   ]
  },
  {
   "cell_type": "markdown",
   "id": "lucky-glasgow",
   "metadata": {},
   "source": [
    "## 3.3 Create Pretrain Dataset"
   ]
  },
  {
   "cell_type": "markdown",
   "id": "entitled-geometry",
   "metadata": {},
   "source": [
    "> <code>MNM</code>과 <code>NSP</code> 함수를 활용하여 BERT 모델에 사용할 pretrain 데이터를 생성한다."
   ]
  },
  {
   "cell_type": "code",
   "execution_count": 34,
   "id": "agreed-thunder",
   "metadata": {},
   "outputs": [],
   "source": [
    "def make_pretrain_data(vocab, in_file, out_file, n_seq, mask_prob=0.3):\n",
    "    \"\"\" pretrain 데이터 생성 \"\"\"\n",
    "    def save_pretrain_instances(out_f, doc):\n",
    "        instances = create_pretrain_instances(vocab, doc, n_seq, mask_prob, vocab_list)\n",
    "        for instance in instances:\n",
    "            out_f.write(json.dumps(instance, ensure_ascii=False))\n",
    "            out_f.write(\"\\n\")\n",
    "\n",
    "    # 특수문자 7개를 제외한 vocab_list 생성\n",
    "    vocab_list = []\n",
    "    for id in range(7, len(vocab)):\n",
    "        if not vocab.is_unknown(id):\n",
    "            vocab_list.append(vocab.id_to_piece(id))\n",
    "\n",
    "    # line count 확인\n",
    "    line_cnt = 0\n",
    "    with open(in_file, \"r\") as in_f:\n",
    "        for line in in_f:\n",
    "            line_cnt += 1\n",
    "\n",
    "    with open(in_file, \"r\") as in_f:\n",
    "        with open(out_file, \"w\") as out_f:\n",
    "            doc = []\n",
    "            for line in tqdm(in_f, total=line_cnt):\n",
    "                line = line.strip()\n",
    "                if line == \"\":  # line이 빈줄 일 경우 (새로운 단락을 의미 함)\n",
    "                    if 0 < len(doc):\n",
    "                        save_pretrain_instances(out_f, doc)\n",
    "                        doc = []\n",
    "                else:  # line이 빈줄이 아닐 경우 tokenize 해서 doc에 저장\n",
    "                    pieces = vocab.encode_as_pieces(line)\n",
    "                    if 0 < len(pieces):\n",
    "                        doc.append(pieces)\n",
    "            if 0 < len(doc):  # 마지막에 처리되지 않은 doc가 있는 경우\n",
    "                save_pretrain_instances(out_f, doc)\n",
    "                doc = []"
   ]
  },
  {
   "cell_type": "code",
   "execution_count": 35,
   "id": "prepared-supervisor",
   "metadata": {},
   "outputs": [],
   "source": [
    "def check_line_count(file_path):\n",
    "    total = 0\n",
    "    with open(file_path, 'r') as in_f:\n",
    "        for line in in_f:\n",
    "            total += 1\n",
    "\n",
    "    return total"
   ]
  },
  {
   "cell_type": "code",
   "execution_count": 36,
   "id": "phantom-preparation",
   "metadata": {},
   "outputs": [
    {
     "data": {
      "application/vnd.jupyter.widget-view+json": {
       "model_id": "ce6fbc77891b413dab0fd080ff99d025",
       "version_major": 2,
       "version_minor": 0
      },
      "text/plain": [
       "  0%|          | 0/3957761 [00:00<?, ?it/s]"
      ]
     },
     "metadata": {},
     "output_type": "display_data"
    }
   ],
   "source": [
    "pretrain_json_path = './Data/lecture14/data/bert_pre_train.json'\n",
    "make_pretrain_data(vocab, corpus_file_path, pretrain_json_path, n_seq=128, mask_prob=0.3)"
   ]
  },
  {
   "cell_type": "code",
   "execution_count": 37,
   "id": "wooden-thermal",
   "metadata": {},
   "outputs": [
    {
     "name": "stdout",
     "output_type": "stream",
     "text": [
      "말뭉치 데이터 문장 개수 : 3957761 개\n",
      "Pretrain 학습 데이터 문장 개수 : 918189 개\n"
     ]
    }
   ],
   "source": [
    "print(f'말뭉치 데이터 문장 개수 : {check_line_count(corpus_file_path)} 개')\n",
    "print(f'Pretrain 학습 데이터 문장 개수 : {check_line_count(out_file)} 개')"
   ]
  },
  {
   "cell_type": "markdown",
   "id": "intimate-acoustic",
   "metadata": {},
   "source": [
    "> 기존 약 400만개의 말뭉치 데이터를 pretrain하여 약 92만개(기존 대비 23.1%)의 규모로 데이터를 구성하였다. "
   ]
  },
  {
   "cell_type": "markdown",
   "id": "impressive-somerset",
   "metadata": {},
   "source": [
    "## 3.4 Load Pretrain Dataset"
   ]
  },
  {
   "cell_type": "markdown",
   "id": "greatest-nomination",
   "metadata": {},
   "source": [
    "> <code>out_file</code> 경로에 저장한 pretrain 데이터셋은 파일 용량이 1.58GB이다.<br>\n",
    "> <code>np.memmap</code>을 활용하여 메모리 사용량을 최소화함으로써 용량이 큰 pretrain 데이터셋을 효율적으로 사용하고자한다.<br>\n",
    "> 모델의 학습 속도를 높이기 위하여 <code>pretrain</code>의 모든 데이터(918,189개) 중 약 14%의 데이터(128,000개)만 사용한다."
   ]
  },
  {
   "cell_type": "code",
   "execution_count": 38,
   "id": "affecting-helicopter",
   "metadata": {},
   "outputs": [],
   "source": [
    "def load_pre_train_data(vocab, filename, n_seq, count=None):\n",
    "    \"\"\"\n",
    "    학습에 필요한 데이터를 로드\n",
    "    :param vocab: vocab\n",
    "    :param filename: 전처리된 json 파일\n",
    "    :param n_seq: 시퀀스 길이 (number of sequence)\n",
    "    :param count: 데이터 수 제한 (None이면 전체)\n",
    "    :return enc_tokens: encoder inputs\n",
    "    :return segments: segment inputs\n",
    "    :return labels_nsp: nsp labels\n",
    "    :return labels_mlm: mlm labels\n",
    "    \"\"\"\n",
    "    total = 0\n",
    "    with open(filename, \"r\") as f:\n",
    "        for line in f:\n",
    "            total += 1\n",
    "            # 데이터 수 제한\n",
    "            if count is not None and count <= total:\n",
    "                break\n",
    "    \n",
    "    # np.memmap을 사용하면 메모리를 적은 메모리에서도 대용량 데이터 처리가 가능 함\n",
    "    enc_tokens = np.memmap(filename='enc_tokens.memmap', mode='w+', dtype=np.int32, shape=(total, n_seq))\n",
    "    segments = np.memmap(filename='segments.memmap', mode='w+', dtype=np.int32, shape=(total, n_seq))\n",
    "    labels_nsp = np.memmap(filename='labels_nsp.memmap', mode='w+', dtype=np.int32, shape=(total,))\n",
    "    labels_mlm = np.memmap(filename='labels_mlm.memmap', mode='w+', dtype=np.int32, shape=(total, n_seq))\n",
    "\n",
    "    with open(filename, \"r\") as f:\n",
    "        for i, line in enumerate(tqdm(f, total=total)):\n",
    "            if total <= i:\n",
    "                print(\"data load early stop\", total, i)\n",
    "                break\n",
    "            data = json.loads(line)\n",
    "            # encoder token\n",
    "            enc_token = [vocab.piece_to_id(p) for p in data[\"tokens\"]]\n",
    "            enc_token += [0] * (n_seq - len(enc_token))\n",
    "            # segment\n",
    "            segment = data[\"segment\"]\n",
    "            segment += [0] * (n_seq - len(segment))\n",
    "            # nsp label\n",
    "            label_nsp = data[\"is_next\"]\n",
    "            # mlm label\n",
    "            mask_idx = np.array(data[\"mask_idx\"], dtype=np.int)\n",
    "            mask_label = np.array([vocab.piece_to_id(p) for p in data[\"mask_label\"]], dtype=np.int)\n",
    "            label_mlm = np.full(n_seq, dtype=np.int, fill_value=0)\n",
    "            label_mlm[mask_idx] = mask_label\n",
    "\n",
    "            assert len(enc_token) == len(segment) == len(label_mlm) == n_seq\n",
    "\n",
    "            enc_tokens[i] = enc_token\n",
    "            segments[i] = segment\n",
    "            labels_nsp[i] = label_nsp\n",
    "            labels_mlm[i] = label_mlm\n",
    "\n",
    "    return (enc_tokens, segments), (labels_nsp, labels_mlm)"
   ]
  },
  {
   "cell_type": "code",
   "execution_count": 40,
   "id": "casual-performance",
   "metadata": {},
   "outputs": [
    {
     "data": {
      "application/vnd.jupyter.widget-view+json": {
       "model_id": "33fd96d26b744def9c2aa1854930d4ce",
       "version_major": 2,
       "version_minor": 0
      },
      "text/plain": [
       "  0%|          | 0/128000 [00:00<?, ?it/s]"
      ]
     },
     "metadata": {},
     "output_type": "display_data"
    },
    {
     "name": "stdout",
     "output_type": "stream",
     "text": [
      "data load early stop 128000 128000\n"
     ]
    }
   ],
   "source": [
    "pre_train_inputs, pre_train_labels = load_pre_train_data(vocab, pretrain_json_path, 128, count=128000)"
   ]
  },
  {
   "cell_type": "markdown",
   "id": "undefined-response",
   "metadata": {},
   "source": [
    "## 3.5 Create Train, Test dataset"
   ]
  },
  {
   "cell_type": "markdown",
   "id": "premium-restaurant",
   "metadata": {},
   "source": [
    "> BERT 모델 학습에 사용할 Train 데이터와 모델 평가에 활용할 Test 데이터를 생성한다."
   ]
  },
  {
   "cell_type": "code",
   "execution_count": 63,
   "id": "aggregate-rebecca",
   "metadata": {},
   "outputs": [
    {
     "name": "stdout",
     "output_type": "stream",
     "text": [
      "<class 'tuple'>\n",
      "<class 'tuple'>\n",
      "(128000, 128)\n",
      "(128000, 128)\n",
      "(128000,)\n",
      "(128000, 128)\n"
     ]
    }
   ],
   "source": [
    "print(type(pre_train_inputs))\n",
    "print(type(pre_train_labels))\n",
    "print(pre_train_inputs[0].shape)\n",
    "print(pre_train_inputs[1].shape)\n",
    "print(pre_train_labels[0].shape)\n",
    "print(pre_train_labels[1].shape)"
   ]
  },
  {
   "cell_type": "code",
   "execution_count": 64,
   "id": "swiss-january",
   "metadata": {},
   "outputs": [],
   "source": [
    "pre_test_input = (pre_train_inputs[0][:100], pre_train_inputs[1][:100])\n",
    "pre_test_label = (pre_train_labels[0][:100], pre_train_labels[1][:100])\n",
    "pre_train_inputs = (pre_train_inputs[0][100:], pre_train_inputs[1][100:])\n",
    "pre_train_labels = (pre_train_labels[0][100:], pre_train_labels[1][100:])"
   ]
  },
  {
   "cell_type": "markdown",
   "id": "formed-soccer",
   "metadata": {},
   "source": [
    "# 4. BERT 모델 구현"
   ]
  },
  {
   "cell_type": "markdown",
   "id": "destroyed-nepal",
   "metadata": {},
   "source": [
    "> BERT 모델은 Self-Attention 으로 이루어진 Encoder-Decoder 구조를 가진 Transformer모델과 흡사하지만 Transformer Encoder 구조만을 활용하는 모델로, 아래 그림과 같이 3개의 embedding 레이어로 구성되어있다."
   ]
  },
  {
   "attachments": {
    "GN-8-P-02.max-800x600.png": {
     "image/png": "[encoded data removed]"
    }
   },
   "cell_type": "markdown",
   "id": "juvenile-belief",
   "metadata": {},
   "source": [
    "![GN-8-P-02.max-800x600.png](attachment:GN-8-P-02.max-800x600.png)"
   ]
  },
  {
   "cell_type": "markdown",
   "id": "distinct-position",
   "metadata": {},
   "source": [
    "## 4.1 Utility Function"
   ]
  },
  {
   "cell_type": "markdown",
   "id": "painted-tyler",
   "metadata": {},
   "source": [
    "> BERT 모델을 구현함에 있어 편의성을 위한 유틸성 사용자 정의 함수들을 구현한다"
   ]
  },
  {
   "cell_type": "code",
   "execution_count": 65,
   "id": "direct-granny",
   "metadata": {},
   "outputs": [],
   "source": [
    "# pad mask 계산하는 함수\n",
    "def get_pad_mask(tokens, i_pad=0):\n",
    "    \"\"\"\n",
    "    :param tokens: tokens (bs, n_seq)\n",
    "    :param i_pad: id of pad\n",
    "    :return mask: pad mask (pad: 1, other: 0)\n",
    "    \"\"\"\n",
    "    mask = tf.cast(tf.math.equal(tokens, i_pad), tf.float32)\n",
    "    mask = tf.expand_dims(mask, axis=1)\n",
    "    return mask\n",
    "\n",
    "# ahead mask 계산하는 함수\n",
    "def get_ahead_mask(tokens, i_pad=0):\n",
    "    \"\"\"\n",
    "    :param tokens: tokens (bs, n_seq)\n",
    "    :param i_pad: id of pad\n",
    "    :return mask: ahead and pad mask (ahead or pad: 1, other: 0)\n",
    "    \"\"\"\n",
    "    n_seq = tf.shape(tokens)[1]\n",
    "    ahead_mask = 1 - tf.linalg.band_part(tf.ones((n_seq, n_seq)), -1, 0)\n",
    "    ahead_mask = tf.expand_dims(ahead_mask, axis=0)\n",
    "    pad_mask = get_pad_mask(tokens, i_pad)\n",
    "    mask = tf.maximum(ahead_mask, pad_mask)\n",
    "    return mask\n",
    "\n",
    "# gelu activation 함수\n",
    "@tf.function(experimental_relax_shapes=True)\n",
    "def gelu(x):\n",
    "    \"\"\"\n",
    "    :param x: 입력 값\n",
    "    :return: gelu activation result\n",
    "    \"\"\"\n",
    "    return 0.5 * x * (1 + K.tanh(x * 0.7978845608 * (1 + 0.044715 * x * x)))\n",
    "\n",
    "\n",
    "# parameter initializer 생성 함수\n",
    "def kernel_initializer(stddev=0.02):\n",
    "    \"\"\"\n",
    "    :param stddev: 생성할 랜덤 변수의 표준편차\n",
    "    \"\"\"\n",
    "    return tf.keras.initializers.TruncatedNormal(stddev=stddev)\n",
    "\n",
    "# bias initializer 생성 함수\n",
    "def bias_initializer():\n",
    "    return tf.zeros_initializer\n",
    "\n",
    "\n",
    "# json을 config 형태로 사용하기 위한 Class\n",
    "class Config(dict):\n",
    "    \"\"\"\n",
    "    :param dict: config dictionary\n",
    "    \"\"\"\n",
    "    __getattr__ = dict.__getitem__\n",
    "    __setattr__ = dict.__setitem__\n",
    "\n",
    "    @classmethod\n",
    "    def load(cls, file):\n",
    "        \"\"\"\n",
    "        file에서 Config를 생성 함수\n",
    "        :param file: filename\n",
    "        \"\"\"\n",
    "        with open(file, 'r') as f:\n",
    "            config = json.loads(f.read())\n",
    "            return Config(config)"
   ]
  },
  {
   "cell_type": "markdown",
   "id": "stunning-singer",
   "metadata": {},
   "source": [
    "## 4.2 Weighed shared embedding class"
   ]
  },
  {
   "cell_type": "markdown",
   "id": "dying-entertainment",
   "metadata": {},
   "source": [
    "> BERT의 모델에서 가중치를 공유하도록하는 임베딩 레이어 클래스를 구현한다."
   ]
  },
  {
   "cell_type": "code",
   "execution_count": 66,
   "id": "federal-parliament",
   "metadata": {},
   "outputs": [],
   "source": [
    "class SharedEmbedding(tf.keras.layers.Layer):\n",
    "    def __init__(self, config, name=\"weight_shared_embedding\"):\n",
    "        \"\"\"\n",
    "        생성자\n",
    "        :param config: Config 객체\n",
    "        :param name: layer name\n",
    "        \"\"\"\n",
    "        super().__init__(name=name)\n",
    "\n",
    "        self.n_vocab = config.n_vocab\n",
    "        self.d_model = config.d_model\n",
    "    \n",
    "    def build(self, input_shape):\n",
    "        \"\"\"\n",
    "        shared weight 생성\n",
    "        :param input_shape: Tensor Shape (not used)\n",
    "        \"\"\"\n",
    "        with tf.name_scope(\"shared_embedding_weight\"):\n",
    "            self.shared_weights = self.add_weight(\n",
    "                \"weights\",\n",
    "                shape=[self.n_vocab, self.d_model],\n",
    "                initializer=kernel_initializer()\n",
    "            )\n",
    "\n",
    "    def call(self, inputs, mode=\"embedding\"):\n",
    "        \"\"\"\n",
    "        layer 실행\n",
    "        :param inputs: 입력\n",
    "        :param mode: 실행 모드\n",
    "        :return: embedding or linear 실행 결과\n",
    "        \"\"\"\n",
    "        # mode가 embedding일 경우 embedding lookup 실행\n",
    "        if mode == \"embedding\":\n",
    "            return self._embedding(inputs)\n",
    "        # mode가 linear일 경우 linear 실행\n",
    "        elif mode == \"linear\":\n",
    "            return self._linear(inputs)\n",
    "        # mode가 기타일 경우 오류 발생\n",
    "        else:\n",
    "            raise ValueError(f\"mode {mode} is not valid.\")\n",
    "    \n",
    "    def _embedding(self, inputs):\n",
    "        \"\"\"\n",
    "        embedding lookup\n",
    "        :param inputs: 입력\n",
    "        \"\"\"\n",
    "        embed = tf.gather(self.shared_weights, tf.cast(inputs, tf.int32))\n",
    "        return embed\n",
    "\n",
    "    def _linear(self, inputs):  # (bs, n_seq, d_model)\n",
    "        \"\"\"\n",
    "        linear 실행\n",
    "        :param inputs: 입력\n",
    "        \"\"\"\n",
    "        n_batch = tf.shape(inputs)[0]\n",
    "        n_seq = tf.shape(inputs)[1]\n",
    "        inputs = tf.reshape(inputs, [-1, self.d_model])  # (bs * n_seq, d_model)\n",
    "        outputs = tf.matmul(inputs, self.shared_weights, transpose_b=True)\n",
    "        outputs = tf.reshape(outputs, [n_batch, n_seq, self.n_vocab])  # (bs, n_seq, n_vocab)\n",
    "        return outputs"
   ]
  },
  {
   "cell_type": "markdown",
   "id": "clear-mouse",
   "metadata": {},
   "source": [
    "## 4.3 Positional embedding class"
   ]
  },
  {
   "cell_type": "markdown",
   "id": "flush-answer",
   "metadata": {},
   "source": [
    "> Transformer에서 사용되던 position embedding과 동일한 기능을 수행하는 임베딩 레이어 클래스를 구현한다."
   ]
  },
  {
   "cell_type": "code",
   "execution_count": 67,
   "id": "incorporate-clearance",
   "metadata": {},
   "outputs": [],
   "source": [
    "class PositionalEmbedding(tf.keras.layers.Layer):\n",
    "\n",
    "    def __init__(self, config, name=\"position_embedding\"):\n",
    "        \"\"\"\n",
    "        생성자\n",
    "        :param config: Config 객체\n",
    "        :param name: layer name\n",
    "        \"\"\"\n",
    "        super().__init__(name=name)\n",
    "        \n",
    "        self.embedding = tf.keras.layers.Embedding(config.n_seq, config.d_model, embeddings_initializer=kernel_initializer())\n",
    "\n",
    "    def call(self, inputs):\n",
    "        \"\"\"\n",
    "        layer 실행\n",
    "        :param inputs: 입력\n",
    "        :return embed: positional embedding lookup 결과\n",
    "        \"\"\"\n",
    "        position = tf.cast(tf.math.cumsum(tf.ones_like(inputs), axis=1, exclusive=True), tf.int32)\n",
    "        embed = self.embedding(position)\n",
    "        return embed"
   ]
  },
  {
   "cell_type": "markdown",
   "id": "funky-cause",
   "metadata": {},
   "source": [
    "## 4.4 Scale dot product attention class"
   ]
  },
  {
   "cell_type": "markdown",
   "id": "reported-harvard",
   "metadata": {},
   "source": [
    "> Transformer에서 사용되던 Scale dot product attention과 동일한 기능을 수행하는 어텐션 클래스를 구현한다."
   ]
  },
  {
   "cell_type": "code",
   "execution_count": 68,
   "id": "opposite-eight",
   "metadata": {},
   "outputs": [],
   "source": [
    "class ScaleDotProductAttention(tf.keras.layers.Layer):\n",
    "    def __init__(self, name=\"scale_dot_product_attention\"):\n",
    "        \"\"\"\n",
    "        생성자\n",
    "        :param name: layer name\n",
    "        \"\"\"\n",
    "        super().__init__(name=name)\n",
    "\n",
    "    def call(self, Q, K, V, attn_mask):\n",
    "        \"\"\"\n",
    "        layer 실행\n",
    "        :param Q: Q value\n",
    "        :param K: K value\n",
    "        :param V: V value\n",
    "        :param attn_mask: 실행 모드\n",
    "        :return attn_out: attention 실행 결과\n",
    "        \"\"\"\n",
    "        attn_score = tf.matmul(Q, K, transpose_b=True)\n",
    "        scale = tf.math.sqrt(tf.cast(tf.shape(K)[-1], tf.float32))\n",
    "        attn_scale = tf.math.divide(attn_score, scale)\n",
    "        attn_scale -= 1.e9 * attn_mask\n",
    "        attn_prob = tf.nn.softmax(attn_scale, axis=-1)\n",
    "        attn_out = tf.matmul(attn_prob, V)\n",
    "        return attn_out"
   ]
  },
  {
   "cell_type": "markdown",
   "id": "blank-regression",
   "metadata": {},
   "source": [
    "## 4.5 Multi head attention class"
   ]
  },
  {
   "cell_type": "markdown",
   "id": "outstanding-peoples",
   "metadata": {},
   "source": [
    "> Transformer에서 사용되던 Multi head attention과 동일한 기능을 수행하는 어텐션 클래스를 구현한다."
   ]
  },
  {
   "cell_type": "code",
   "execution_count": 69,
   "id": "interstate-contrast",
   "metadata": {},
   "outputs": [],
   "source": [
    "class MultiHeadAttention(tf.keras.layers.Layer):\n",
    "\n",
    "    def __init__(self, config, name=\"multi_head_attention\"):\n",
    "        \"\"\"\n",
    "        생성자\n",
    "        :param config: Config 객체\n",
    "        :param name: layer name\n",
    "        \"\"\"\n",
    "        super().__init__(name=name)\n",
    "\n",
    "        self.d_model = config.d_model\n",
    "        self.n_head = config.n_head\n",
    "        self.d_head = config.d_head\n",
    "\n",
    "        # Q, K, V input dense layer\n",
    "        self.W_Q = tf.keras.layers.Dense(config.n_head * config.d_head, kernel_initializer=kernel_initializer(), bias_initializer=bias_initializer())\n",
    "        self.W_K = tf.keras.layers.Dense(config.n_head * config.d_head, kernel_initializer=kernel_initializer(), bias_initializer=bias_initializer())\n",
    "        self.W_V = tf.keras.layers.Dense(config.n_head * config.d_head, kernel_initializer=kernel_initializer(), bias_initializer=bias_initializer())\n",
    "        # Scale Dot Product Attention class\n",
    "        self.attention = ScaleDotProductAttention(name=\"self_attention\")\n",
    "        # output dense layer\n",
    "        self.W_O = tf.keras.layers.Dense(config.d_model, kernel_initializer=kernel_initializer(), bias_initializer=bias_initializer())\n",
    "\n",
    "    def call(self, Q, K, V, attn_mask):\n",
    "        \"\"\"\n",
    "        layer 실행\n",
    "        :param Q: Q value\n",
    "        :param K: K value\n",
    "        :param V: V value\n",
    "        :param attn_mask: 실행 모드\n",
    "        :return attn_out: attention 실행 결과\n",
    "        \"\"\"\n",
    "        # reshape Q, K, V, attn_mask\n",
    "        batch_size = tf.shape(Q)[0]\n",
    "        Q_m = tf.transpose(tf.reshape(self.W_Q(Q), [batch_size, -1, self.n_head, self.d_head]), [0, 2, 1, 3])  # (bs, n_head, Q_len, d_head)\n",
    "        K_m = tf.transpose(tf.reshape(self.W_K(K), [batch_size, -1, self.n_head, self.d_head]), [0, 2, 1, 3])  # (bs, n_head, K_len, d_head)\n",
    "        V_m = tf.transpose(tf.reshape(self.W_V(V), [batch_size, -1, self.n_head, self.d_head]), [0, 2, 1, 3])  # (bs, n_head, K_len, d_head)\n",
    "        attn_mask_m = tf.expand_dims(attn_mask, axis=1)\n",
    "        # Scale Dot Product Attention with multi head Q, K, V, attn_mask\n",
    "        attn_out = self.attention(Q_m, K_m, V_m, attn_mask_m)  # (bs, n_head, Q_len, d_head)\n",
    "        # transpose and liner\n",
    "        attn_out_m = tf.transpose(attn_out, perm=[0, 2, 1, 3])  # (bs, Q_len, n_head, d_head)\n",
    "        attn_out = tf.reshape(attn_out_m, [batch_size, -1, config.n_head * config.d_head])  # (bs, Q_len, d_model)\n",
    "        attn_out = self.W_O(attn_out) # (bs, Q_len, d_model)\n",
    "\n",
    "        return attn_out"
   ]
  },
  {
   "cell_type": "markdown",
   "id": "cubic-fighter",
   "metadata": {},
   "source": [
    "## 4.6 Position wise feed forward class"
   ]
  },
  {
   "cell_type": "markdown",
   "id": "tested-orange",
   "metadata": {},
   "source": [
    "> Transformer에서 사용되던 feed forward network과 동일한 기능을 수행하는 Position wise feed forward 클래스를 구현한다."
   ]
  },
  {
   "cell_type": "code",
   "execution_count": 70,
   "id": "excessive-seeker",
   "metadata": {},
   "outputs": [],
   "source": [
    "class PositionWiseFeedForward(tf.keras.layers.Layer):\n",
    "    \n",
    "    def __init__(self, config, name=\"feed_forward\"):\n",
    "        \"\"\"\n",
    "        생성자\n",
    "        :param config: Config 객체\n",
    "        :param name: layer name\n",
    "        \"\"\"\n",
    "        super().__init__(name=name)\n",
    "\n",
    "        self.W_1 = tf.keras.layers.Dense(config.d_ff, activation=gelu, kernel_initializer=kernel_initializer(), bias_initializer=bias_initializer())\n",
    "        self.W_2 = tf.keras.layers.Dense(config.d_model, kernel_initializer=kernel_initializer(), bias_initializer=bias_initializer())\n",
    "\n",
    "    def call(self, inputs):\n",
    "        \"\"\"\n",
    "        layer 실행\n",
    "        :param inputs: inputs\n",
    "        :return ff_val: feed forward 실행 결과\n",
    "        \"\"\"\n",
    "        ff_val = self.W_2(self.W_1(inputs))\n",
    "        return ff_val"
   ]
  },
  {
   "cell_type": "markdown",
   "id": "fatal-focus",
   "metadata": {},
   "source": [
    "## 4.7 Encoder layer class"
   ]
  },
  {
   "cell_type": "markdown",
   "id": "smaller-warren",
   "metadata": {},
   "source": [
    "> 위 4.1 ~ 4.6 장에서 구현한 클래스를 활용하여 BERT 모델의 인코더 레이어 클래스를 구현한다."
   ]
  },
  {
   "cell_type": "code",
   "execution_count": 71,
   "id": "relevant-interest",
   "metadata": {},
   "outputs": [],
   "source": [
    "class EncoderLayer(tf.keras.layers.Layer):\n",
    "\n",
    "    def __init__(self, config, name=\"encoder_layer\"):\n",
    "        \"\"\"\n",
    "        생성자\n",
    "        :param config: Config 객체\n",
    "        :param name: layer name\n",
    "        \"\"\"\n",
    "        super().__init__(name=name)\n",
    "\n",
    "        self.self_attention = MultiHeadAttention(config)\n",
    "        self.norm1 = tf.keras.layers.LayerNormalization(epsilon=config.layernorm_epsilon)\n",
    "\n",
    "        self.ffn = PositionWiseFeedForward(config)\n",
    "        self.norm2 = tf.keras.layers.LayerNormalization(epsilon=config.layernorm_epsilon)\n",
    "\n",
    "        self.dropout = tf.keras.layers.Dropout(config.dropout)\n",
    " \n",
    "    def call(self, enc_embed, self_mask):\n",
    "        \"\"\"\n",
    "        layer 실행\n",
    "        :param enc_embed: enc_embed 또는 이전 EncoderLayer의 출력\n",
    "        :param self_mask: enc_tokens의 pad mask\n",
    "        :return enc_out: EncoderLayer 실행 결과\n",
    "        \"\"\"\n",
    "        self_attn_val = self.self_attention(enc_embed, enc_embed, enc_embed, self_mask)\n",
    "        norm1_val = self.norm1(enc_embed + self.dropout(self_attn_val))\n",
    "\n",
    "        ffn_val = self.ffn(norm1_val)\n",
    "        enc_out = self.norm2(norm1_val + self.dropout(ffn_val))\n",
    "\n",
    "        return enc_out"
   ]
  },
  {
   "cell_type": "markdown",
   "id": "surprised-lawsuit",
   "metadata": {},
   "source": [
    "## 4.8 BERT model class"
   ]
  },
  {
   "cell_type": "markdown",
   "id": "violent-jewel",
   "metadata": {},
   "source": [
    "> 4.1~ 4.7장의 클래스를 활용하여 BERT 모델을 구현하는 클래스를 구현한다."
   ]
  },
  {
   "cell_type": "code",
   "execution_count": 73,
   "id": "blank-completion",
   "metadata": {},
   "outputs": [],
   "source": [
    "class BERT(tf.keras.layers.Layer):\n",
    "\n",
    "    def __init__(self, config, name=\"bert\"):\n",
    "        \"\"\"\n",
    "        생성자\n",
    "        :param config: Config 객체\n",
    "        :param name: layer name\n",
    "        \"\"\"\n",
    "        super().__init__(name=name)\n",
    "\n",
    "        self.i_pad = config.i_pad\n",
    "        self.embedding = SharedEmbedding(config)\n",
    "        self.position = PositionalEmbedding(config)\n",
    "        self.segment = tf.keras.layers.Embedding(2, config.d_model, embeddings_initializer=kernel_initializer())\n",
    "        self.norm = tf.keras.layers.LayerNormalization(epsilon=config.layernorm_epsilon)\n",
    "        \n",
    "        self.encoder_layers = [EncoderLayer(config, name=f\"encoder_layer_{i}\") for i in range(config.n_layer)]\n",
    "\n",
    "        self.dropout = tf.keras.layers.Dropout(config.dropout)\n",
    "\n",
    "    def call(self, inputs):\n",
    "        \"\"\"\n",
    "        layer 실행\n",
    "        :param inputs: (enc_tokens, segments)\n",
    "        :return logits: dec_tokens에 대한 다음 토큰 예측 결과 logits\n",
    "        \"\"\"\n",
    "        enc_tokens, segments = inputs\n",
    "\n",
    "        enc_self_mask = tf.keras.layers.Lambda(get_pad_mask, output_shape=(1, None), name='enc_self_mask')(enc_tokens, self.i_pad)\n",
    "\n",
    "        enc_embed = self.get_embedding(enc_tokens, segments)\n",
    "\n",
    "        enc_out = self.dropout(enc_embed)\n",
    "        for encoder_layer in self.encoder_layers:\n",
    "            enc_out = encoder_layer(enc_out, enc_self_mask)\n",
    "\n",
    "        logits_cls = enc_out[:,0]\n",
    "        logits_lm = self.embedding(enc_out, mode=\"linear\")\n",
    "        return logits_cls, logits_lm\n",
    "    \n",
    "    def get_embedding(self, tokens, segments):\n",
    "        \"\"\"\n",
    "        token embedding, position embedding lookup\n",
    "        :param tokens: 입력 tokens\n",
    "        :param segments: 입력 segments\n",
    "        :return embed: embedding 결과\n",
    "        \"\"\"\n",
    "        embed = self.embedding(tokens) + self.position(tokens) + self.segment(segments)\n",
    "        embed = self.norm(embed)\n",
    "        return embed"
   ]
  },
  {
   "cell_type": "markdown",
   "id": "fleet-pathology",
   "metadata": {},
   "source": [
    "# 5. Pretrain BERT model"
   ]
  },
  {
   "cell_type": "markdown",
   "id": "taken-while",
   "metadata": {},
   "source": [
    "> BERT 레이어를 바탕으로 pretrain 데이터를 학습하는 BERT 모델 구현하고 인스턴스 객체를 생성하는 과정을 기술한다."
   ]
  },
  {
   "cell_type": "markdown",
   "id": "confidential-david",
   "metadata": {},
   "source": [
    "## 5.1 Pretrain BERT model for BERT layer"
   ]
  },
  {
   "cell_type": "markdown",
   "id": "occupational-mention",
   "metadata": {},
   "source": [
    "> BERT 레이어를 바탕으로 pretrain 데이터를 학습하는 BERT 모델을 설계한다."
   ]
  },
  {
   "cell_type": "code",
   "execution_count": 74,
   "id": "sapphire-anger",
   "metadata": {},
   "outputs": [],
   "source": [
    "class PooledOutput(tf.keras.layers.Layer):\n",
    "    def __init__(self, config, n_output, name=\"pooled_output\"):\n",
    "        super().__init__(name=name)\n",
    "\n",
    "        self.dense1 = tf.keras.layers.Dense(\n",
    "            config.d_model, activation=tf.nn.tanh,\n",
    "            kernel_initializer=kernel_initializer(),\n",
    "            bias_initializer=bias_initializer())\n",
    "        \n",
    "        self.dense2 = tf.keras.layers.Dense(\n",
    "            n_output, use_bias=False, activation=tf.nn.softmax, name=\"nsp\",\n",
    "            kernel_initializer=kernel_initializer(),\n",
    "            bias_initializer=bias_initializer())\n",
    " \n",
    "    def call(self, inputs):\n",
    "        outputs = self.dense1(inputs)\n",
    "        outputs = self.dense2(outputs)\n",
    "        return outputs\n",
    "    \n",
    "def build_model_pre_train(config):\n",
    "    enc_tokens = tf.keras.layers.Input((None,), name=\"enc_tokens\")\n",
    "    segments = tf.keras.layers.Input((None,), name=\"segments\")\n",
    "\n",
    "    bert = BERT(config)\n",
    "    logits_cls, logits_lm = bert((enc_tokens, segments))\n",
    "\n",
    "    logits_cls = PooledOutput(config, 2, name=\"pooled_nsp\")(logits_cls)\n",
    "    outputs_nsp = tf.keras.layers.Softmax(name=\"nsp\")(logits_cls)\n",
    "\n",
    "    outputs_mlm = tf.keras.layers.Softmax(name=\"mlm\")(logits_lm)\n",
    "\n",
    "    model = tf.keras.Model(inputs=(enc_tokens, segments), outputs=(outputs_nsp, outputs_mlm))\n",
    "    return model"
   ]
  },
  {
   "cell_type": "markdown",
   "id": "european-incidence",
   "metadata": {},
   "source": [
    "## 5.2 Set calculation function"
   ]
  },
  {
   "cell_type": "markdown",
   "id": "stupid-clear",
   "metadata": {},
   "source": [
    "> BERT 모델의 loss와 accuracy를 계산하고 Learning Rate를 설정하는 함수를 구현한다."
   ]
  },
  {
   "cell_type": "code",
   "execution_count": 79,
   "id": "substantial-perspective",
   "metadata": {},
   "outputs": [],
   "source": [
    "# Loss계산 함수\n",
    "def lm_loss(y_true, y_pred):\n",
    "    \"\"\"\n",
    "    :param y_true: 정답 (bs, n_seq)\n",
    "    :param y_pred: 예측 값 (bs, n_seq, n_vocab)\n",
    "    \"\"\"\n",
    "    # loss 계산\n",
    "    loss = tf.keras.losses.SparseCategoricalCrossentropy(reduction=tf.keras.losses.Reduction.NONE)(y_true, y_pred)\n",
    "    # pad(0) 인 부분 mask\n",
    "    mask = tf.cast(tf.math.not_equal(y_true, 0), dtype=loss.dtype)\n",
    "    loss *= mask\n",
    "    return loss * 20  # mlm을 더 잘 학습하도록 20배 증가 시킴\n",
    "\n",
    "# Accuracy 계산 함수\n",
    "def lm_acc(y_true, y_pred):\n",
    "    \"\"\"\n",
    "    :param y_true: 정답 (bs, n_seq)\n",
    "    :param y_pred: 예측 값 (bs, n_seq, n_vocab)\n",
    "    \"\"\"\n",
    "    # 정답 여부 확인\n",
    "    y_pred_class = tf.cast(K.argmax(y_pred, axis=-1), tf.float32)\n",
    "    matches = tf.cast(K.equal(y_true, y_pred_class), tf.float32)\n",
    "    # pad(0) 인 부분 mask\n",
    "    mask = tf.cast(tf.math.not_equal(y_true, 0), dtype=matches.dtype)\n",
    "    matches *= mask\n",
    "    # 정확도 계산\n",
    "    accuracy = K.sum(matches) / K.maximum(K.sum(mask), 1)\n",
    "    return accuracy"
   ]
  },
  {
   "cell_type": "markdown",
   "id": "delayed-malaysia",
   "metadata": {},
   "source": [
    "> <code>CosineSchedule</code>를 활용하여 초기에는 학습률이 높으나, 학습이 진행됨에 따라 점진적으로 낮아지는 클래스를 구현한다."
   ]
  },
  {
   "cell_type": "code",
   "execution_count": 80,
   "id": "pursuant-colleague",
   "metadata": {},
   "outputs": [],
   "source": [
    "class CosineSchedule(tf.keras.optimizers.schedules.LearningRateSchedule):\n",
    "\n",
    "    def __init__(self, train_steps=4000, warmup_steps=2000, max_lr=2.5e-4):\n",
    "        \"\"\"\n",
    "        생성자\n",
    "        :param train_steps: 학습 step 총 합\n",
    "        :param warmup_steps: warmup steps\n",
    "        :param max_lr: 최대 learning rate\n",
    "        \"\"\"\n",
    "        super().__init__()\n",
    "\n",
    "        assert 0 < warmup_steps < train_steps\n",
    "        self.warmup_steps = warmup_steps\n",
    "        self.train_steps = train_steps\n",
    "        self.max_lr = max_lr\n",
    "\n",
    "    def __call__(self, step_num):\n",
    "        \"\"\"\n",
    "        learning rate 계산\n",
    "        :param step_num: 현재 step number\n",
    "        :retrun: 계산된 learning rate\n",
    "        \"\"\"\n",
    "        state = tf.cast(step_num <= self.warmup_steps, tf.float32)\n",
    "        lr1 = tf.cast(step_num, tf.float32) / self.warmup_steps\n",
    "        progress = tf.cast(step_num - self.warmup_steps, tf.float32) / max(1, self.train_steps - self.warmup_steps)\n",
    "        lr2 = 0.5 * (1.0 + tf.math.cos(math.pi * progress))\n",
    "        return (state * lr1 + (1 - state) * lr2) * self.max_lr"
   ]
  },
  {
   "cell_type": "markdown",
   "id": "martial-fluid",
   "metadata": {},
   "source": [
    "## 5.3 Create pretrain BERT model"
   ]
  },
  {
   "cell_type": "markdown",
   "id": "northern-resolution",
   "metadata": {},
   "source": [
    "> BERT 모델의 하이퍼 파라미터를 설정한 후 <code>build_model_pre_train()</code>활용하여 BERT 객체를 생성한다.<br>\n",
    "> BERT model 객체는 5,340,672개의 학습 파라미터로 구성되어있다."
   ]
  },
  {
   "cell_type": "code",
   "execution_count": 77,
   "id": "alert-mistake",
   "metadata": {},
   "outputs": [],
   "source": [
    "config = Config({\"d_model\": 256, \n",
    "                 \"n_head\": 8, \n",
    "                 \"d_head\": 64, \n",
    "                 \"dropout\": 0.1, \n",
    "                 \"d_ff\": 1024, \n",
    "                 \"layernorm_epsilon\": 0.001, \n",
    "                 \"n_layer\": 3, \n",
    "                 \"n_seq\": 256, \n",
    "                 \"n_vocab\": 0, \n",
    "                 \"i_pad\": 0})\n",
    "\n",
    "config.n_vocab = len(vocab)\n",
    "config.i_pad = vocab.pad_id()"
   ]
  },
  {
   "cell_type": "code",
   "execution_count": 78,
   "id": "restricted-authentication",
   "metadata": {},
   "outputs": [
    {
     "name": "stdout",
     "output_type": "stream",
     "text": [
      "Model: \"model_1\"\n",
      "__________________________________________________________________________________________________\n",
      "Layer (type)                    Output Shape         Param #     Connected to                     \n",
      "==================================================================================================\n",
      "enc_tokens (InputLayer)         [(None, None)]       0                                            \n",
      "__________________________________________________________________________________________________\n",
      "segments (InputLayer)           [(None, None)]       0                                            \n",
      "__________________________________________________________________________________________________\n",
      "bert (BERT)                     ((None, 256), (None, 5274368     enc_tokens[0][0]                 \n",
      "                                                                 segments[0][0]                   \n",
      "__________________________________________________________________________________________________\n",
      "pooled_nsp (PooledOutput)       (None, 2)            66304       bert[0][0]                       \n",
      "__________________________________________________________________________________________________\n",
      "nsp (Softmax)                   (None, 2)            0           pooled_nsp[0][0]                 \n",
      "__________________________________________________________________________________________________\n",
      "mlm (Softmax)                   (None, None, 8007)   0           bert[0][1]                       \n",
      "==================================================================================================\n",
      "Total params: 5,340,672\n",
      "Trainable params: 5,340,672\n",
      "Non-trainable params: 0\n",
      "__________________________________________________________________________________________________\n"
     ]
    }
   ],
   "source": [
    "pre_train_BERT_model = build_model_pre_train(config)\n",
    "pre_train_BERT_model.summary()"
   ]
  },
  {
   "cell_type": "markdown",
   "id": "minimal-agriculture",
   "metadata": {},
   "source": [
    "# 6. Train BERT model"
   ]
  },
  {
   "cell_type": "markdown",
   "id": "excessive-diagram",
   "metadata": {},
   "source": [
    "> 모델 학습 이전에 훈련 횟수와 배치 사이즈, 옵티마이저, 학습률, 손실 함수을 정의한다.<br>\n",
    "> 이후, 모델을 학습을 진행하며 각 epoch당 모델의 훈련 성능을 확인하는 과정을 기술한다."
   ]
  },
  {
   "cell_type": "markdown",
   "id": "graphic-worth",
   "metadata": {},
   "source": [
    "## 6.1 Setting optimizer"
   ]
  },
  {
   "cell_type": "markdown",
   "id": "incorporate-envelope",
   "metadata": {},
   "source": [
    "> 훈련 횟수는 10회이며, 배치 사이즈는 64, 옵티마이저는 'Adam'로 설정한다.<br>\n",
    "> 학습률은 초기에는 높으나 학습이 진행됨에 따라 점점 낮아지도록 가변적으로 설정한다."
   ]
  },
  {
   "cell_type": "code",
   "execution_count": 83,
   "id": "small-enclosure",
   "metadata": {},
   "outputs": [],
   "source": [
    "epochs = 10\n",
    "batch_size = 64\n",
    "\n",
    "# optimizer\n",
    "train_steps = math.ceil(len(pre_train_inputs[0]) / batch_size) * epochs\n",
    "learning_rate = CosineSchedule(train_steps=train_steps, warmup_steps=max(100, train_steps // 10))\n",
    "optimizer = tf.keras.optimizers.Adam(learning_rate, beta_1=0.9, beta_2=0.98, epsilon=1e-9)\n",
    "\n",
    "# compile\n",
    "pre_train_BERT_model.compile(\n",
    "    loss=(tf.keras.losses.sparse_categorical_crossentropy, lm_loss),\n",
    "    optimizer=optimizer,\n",
    "    metrics={\"nsp\": \"acc\", \"mlm\": lm_acc})"
   ]
  },
  {
   "cell_type": "markdown",
   "id": "fabulous-large",
   "metadata": {},
   "source": [
    "## 6.2 train model"
   ]
  },
  {
   "cell_type": "markdown",
   "id": "american-iceland",
   "metadata": {},
   "source": [
    "> BERT 모델은 학습에 많은 시간이 소요되므로,check_point를 설정하여 학습 중간에 모델을 저장하도록 설정한다."
   ]
  },
  {
   "cell_type": "code",
   "execution_count": 84,
   "id": "relevant-insertion",
   "metadata": {},
   "outputs": [],
   "source": [
    "save_weights = tf.keras.callbacks.ModelCheckpoint(f\"{model_dir}/bert_pre_train128000.hdf5\", monitor=\"mlm_lm_acc\", verbose=1, save_best_only=True, mode=\"max\", save_freq=\"epoch\", save_weights_only=True)"
   ]
  },
  {
   "cell_type": "code",
   "execution_count": 85,
   "id": "motivated-investment",
   "metadata": {},
   "outputs": [
    {
     "name": "stdout",
     "output_type": "stream",
     "text": [
      "Epoch 1/10\n",
      "1999/1999 [==============================] - 601s 297ms/step - loss: 42.1520 - nsp_loss: 0.6671 - mlm_loss: 41.4849 - nsp_acc: 0.5735 - mlm_lm_acc: 0.1056\n",
      "\n",
      "Epoch 00001: mlm_lm_acc improved from -inf to 0.11378, saving model to ./Data/lecture14/models/bert_pre_train128000.hdf5\n",
      "Epoch 2/10\n",
      "1999/1999 [==============================] - 595s 298ms/step - loss: 35.1687 - nsp_loss: 0.6292 - mlm_loss: 34.5395 - nsp_acc: 0.6099 - mlm_lm_acc: 0.1301\n",
      "\n",
      "Epoch 00002: mlm_lm_acc improved from 0.11378 to 0.13218, saving model to ./Data/lecture14/models/bert_pre_train128000.hdf5\n",
      "Epoch 3/10\n",
      "1999/1999 [==============================] - 595s 298ms/step - loss: 32.6497 - nsp_loss: 0.6188 - mlm_loss: 32.0308 - nsp_acc: 0.6186 - mlm_lm_acc: 0.1471\n",
      "\n",
      "Epoch 00003: mlm_lm_acc improved from 0.13218 to 0.15921, saving model to ./Data/lecture14/models/bert_pre_train128000.hdf5\n",
      "Epoch 4/10\n",
      "1999/1999 [==============================] - 595s 298ms/step - loss: 28.5273 - nsp_loss: 0.6143 - mlm_loss: 27.9130 - nsp_acc: 0.6235 - mlm_lm_acc: 0.1911\n",
      "\n",
      "Epoch 00004: mlm_lm_acc improved from 0.15921 to 0.19614, saving model to ./Data/lecture14/models/bert_pre_train128000.hdf5\n",
      "Epoch 5/10\n",
      "1999/1999 [==============================] - 595s 298ms/step - loss: 27.0706 - nsp_loss: 0.6104 - mlm_loss: 26.4602 - nsp_acc: 0.6254 - mlm_lm_acc: 0.2121\n",
      "\n",
      "Epoch 00005: mlm_lm_acc improved from 0.19614 to 0.21430, saving model to ./Data/lecture14/models/bert_pre_train128000.hdf5\n",
      "Epoch 6/10\n",
      "1999/1999 [==============================] - 594s 297ms/step - loss: 26.2924 - nsp_loss: 0.6067 - mlm_loss: 25.6857 - nsp_acc: 0.6331 - mlm_lm_acc: 0.2242\n",
      "\n",
      "Epoch 00006: mlm_lm_acc improved from 0.21430 to 0.22560, saving model to ./Data/lecture14/models/bert_pre_train128000.hdf5\n",
      "Epoch 7/10\n",
      "1999/1999 [==============================] - 594s 297ms/step - loss: 25.7530 - nsp_loss: 0.6039 - mlm_loss: 25.1490 - nsp_acc: 0.6391 - mlm_lm_acc: 0.2325\n",
      "\n",
      "Epoch 00007: mlm_lm_acc improved from 0.22560 to 0.23318, saving model to ./Data/lecture14/models/bert_pre_train128000.hdf5\n",
      "Epoch 8/10\n",
      "1999/1999 [==============================] - 594s 297ms/step - loss: 25.4145 - nsp_loss: 0.6028 - mlm_loss: 24.8117 - nsp_acc: 0.6421 - mlm_lm_acc: 0.2379\n",
      "\n",
      "Epoch 00008: mlm_lm_acc improved from 0.23318 to 0.23817, saving model to ./Data/lecture14/models/bert_pre_train128000.hdf5\n",
      "Epoch 9/10\n",
      "1999/1999 [==============================] - 595s 298ms/step - loss: 25.2206 - nsp_loss: 0.5998 - mlm_loss: 24.6208 - nsp_acc: 0.6469 - mlm_lm_acc: 0.2415\n",
      "\n",
      "Epoch 00009: mlm_lm_acc improved from 0.23817 to 0.24132, saving model to ./Data/lecture14/models/bert_pre_train128000.hdf5\n",
      "Epoch 10/10\n",
      "1999/1999 [==============================] - 595s 298ms/step - loss: 25.1228 - nsp_loss: 0.5983 - mlm_loss: 24.5245 - nsp_acc: 0.6515 - mlm_lm_acc: 0.2428\n",
      "\n",
      "Epoch 00010: mlm_lm_acc improved from 0.24132 to 0.24275, saving model to ./Data/lecture14/models/bert_pre_train128000.hdf5\n"
     ]
    }
   ],
   "source": [
    "history = pre_train_BERT_model.fit(pre_train_inputs, pre_train_labels, epochs=epochs, batch_size=batch_size, callbacks=[save_weights])"
   ]
  },
  {
   "cell_type": "markdown",
   "id": "macro-direction",
   "metadata": {},
   "source": [
    "> 모델을 10회 반복훈련한 결과는 다음과 같다.<br>\n",
    "> <br>\n",
    "> loss: 25.1228<br>\n",
    "> nsp_loss: 0.5983<br>\n",
    "> mlm_loss: 24.5245<br>\n",
    "> nsp_acc: 0.6515<br>\n",
    "> mlm_lm_acc: 0.2428<br>"
   ]
  },
  {
   "cell_type": "markdown",
   "id": "homeless-equilibrium",
   "metadata": {},
   "source": [
    "# 7. Result"
   ]
  },
  {
   "cell_type": "markdown",
   "id": "precise-prince",
   "metadata": {},
   "source": [
    "> 6장에서 학습된 BERT 모델의 학습 과정을 시각화하여 확인하고, 테스트 데이터를 활용하여 모델의 성능을 평가하는 과정을 기술한다."
   ]
  },
  {
   "cell_type": "markdown",
   "id": "antique-exemption",
   "metadata": {},
   "source": [
    "## 7.1 모델 학습 과정 시각화"
   ]
  },
  {
   "cell_type": "markdown",
   "id": "increased-workshop",
   "metadata": {},
   "source": [
    "> <code>history</code>변수에 저장된 모델의 학습 기록 수치데이터를 그래프로 시각화하여 확인한다."
   ]
  },
  {
   "cell_type": "code",
   "execution_count": 86,
   "id": "obvious-vietnam",
   "metadata": {},
   "outputs": [
    {
     "data": {
      "image/png": "[encoded data removed]",
      "text/plain": [
       "<Figure size 864x288 with 2 Axes>"
      ]
     },
     "metadata": {
      "needs_background": "light"
     },
     "output_type": "display_data"
    }
   ],
   "source": [
    "# training result\n",
    "plt.figure(figsize=(12, 4))\n",
    "\n",
    "plt.subplot(1, 2, 1)\n",
    "plt.plot(history.history['nsp_loss'], 'b-', label='nsp_loss')\n",
    "plt.plot(history.history['mlm_loss'], 'r--', label='mlm_loss')\n",
    "plt.xlabel('Epoch')\n",
    "plt.legend()\n",
    "\n",
    "plt.subplot(1, 2, 2)\n",
    "plt.plot(history.history['nsp_acc'], 'g-', label='nsp_acc')\n",
    "plt.plot(history.history['mlm_lm_acc'], 'k--', label='mlm_acc')\n",
    "plt.xlabel('Epoch')\n",
    "plt.legend()\n",
    "\n",
    "plt.show()"
   ]
  },
  {
   "cell_type": "markdown",
   "id": "integrated-disclaimer",
   "metadata": {},
   "source": [
    "> 모델의 NSP와 MLM의 Loss는 안정적으로 감소하는 모습을 보여주었다.<br>\n",
    "> NSP와 MLM와의 수치적 데이터 차이가 커서 Loss 그래프에서 NSP의 값이 제대로 출력되지 않는 모습을 보여주었다.<br>\n",
    "> <br>\n",
    "> 모델의 NSP와 MLM의 Accuracy는 안정적으로 증가하는 모습을 보여주었다.<br>\n",
    "> NSP와 MLM와의 수치적 데이터 차이가 크지않아, Accuracy 그래프에서는 NSP의 값이 제대로 출력된 모습을 보여주었다.<br>"
   ]
  },
  {
   "cell_type": "markdown",
   "id": "subsequent-airplane",
   "metadata": {},
   "source": [
    "## 7.2 모델 성능 평가"
   ]
  },
  {
   "cell_type": "markdown",
   "id": "statistical-taxation",
   "metadata": {},
   "source": [
    "> 이전에 생성한 테스트용 데이터셋을 활용하여 훈련된 모델의 성능을 테스트한다.<br>"
   ]
  },
  {
   "cell_type": "code",
   "execution_count": 87,
   "id": "municipal-stockholm",
   "metadata": {},
   "outputs": [
    {
     "name": "stdout",
     "output_type": "stream",
     "text": [
      "4/4 [==============================] - 1s 56ms/step - loss: 25.4810 - nsp_loss: 0.6524 - mlm_loss: 24.8286 - nsp_acc: 0.5500 - mlm_lm_acc: 0.2975\n"
     ]
    },
    {
     "data": {
      "text/plain": [
       "[25.48102378845215,\n",
       " 0.6524033546447754,\n",
       " 24.82862091064453,\n",
       " 0.550000011920929,\n",
       " 0.2975154519081116]"
      ]
     },
     "execution_count": 87,
     "metadata": {},
     "output_type": "execute_result"
    }
   ],
   "source": [
    "pre_train_BERT_model.evaluate(pre_test_input, pre_test_label)"
   ]
  },
  {
   "cell_type": "markdown",
   "id": "comparable-philippines",
   "metadata": {},
   "source": [
    "> 훈련된 모델을 테스트한 결과는 다음과 같다.<br>\n",
    "> <br>\n",
    "> loss: 25.4810<br>\n",
    "> nsp_loss: 0.65243<br>\n",
    "> mlm_loss: 24.8286<br>\n",
    "> nsp_acc: 0.5500<br>\n",
    "> mlm_lm_acc: 0.2975<br>"
   ]
  },
  {
   "cell_type": "markdown",
   "id": "demonstrated-unemployment",
   "metadata": {},
   "source": [
    "# 결론"
   ]
  },
  {
   "cell_type": "markdown",
   "id": "dying-wound",
   "metadata": {},
   "source": [
    "> '나무위키' 도메인으로부터 수집한 한국어 데이터로 vocab size 8000, 약530만 규모의 학습 파라미터 사이즈로 구성된 BERT 모델을 10Epoch 학습시킨 결과는 아래 표와 같다."
   ]
  },
  {
   "cell_type": "markdown",
   "id": "indonesian-reminder",
   "metadata": {},
   "source": [
    "|데이터 셋|Loss|NSP loss|NSP accuracy|MLM loss|MLM accuracy|\n",
    "|------|------|------|------|------|------|\n",
    "|Train dataset|25.1228|0.5983|0.6515|24.5245|0.2428|\n",
    "|Test dataset|25.4810|0.6524|0.55|24.8286|0.2975|"
   ]
  },
  {
   "cell_type": "markdown",
   "id": "occupational-popularity",
   "metadata": {},
   "source": [
    "> 최종 손실 함수는 훈련용 데이터와 테스트용 데이터 모두 25의 값을 기록했다.<br>\n",
    "> NSP(문장 간 종속성)은 두 데이터 평균 60%대의 정확도를 보여주었고, loss rate도 낮은 모습을 확인할 수 있다.<br>\n",
    "> MLM(일부 토큰 숨기기)는  데이터 평균 20%대의 정확도를 보여주었고, loss rate도 높은 모습을 확인할 수 있다.<br>\n",
    "> MLM는 모델이 Masking된 단어를 예측할 때, vocabulary에서 1개만을 추출해야하므로, 예측 확률이 낮은 모습을 보여주었다고 생각한다.<br>"
   ]
  }
 ],
 "metadata": {
  "kernelspec": {
   "display_name": "Python 3",
   "language": "python",
   "name": "python3"
  },
  "language_info": {
   "codemirror_mode": {
    "name": "ipython",
    "version": 3
   },
   "file_extension": ".py",
   "mimetype": "text/x-python",
   "name": "python",
   "nbconvert_exporter": "python",
   "pygments_lexer": "ipython3",
   "version": "3.7.9"
  }
 },
 "nbformat": 4,
 "nbformat_minor": 5
}

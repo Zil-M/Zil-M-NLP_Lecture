{
 "cells": [
  {
   "cell_type": "code",
   "execution_count": 1,
   "id": "attended-latex",
   "metadata": {},
   "outputs": [
    {
     "name": "stdout",
     "output_type": "stream",
     "text": [
      "Requirement already satisfied: sentencepiece in /opt/conda/lib/python3.7/site-packages (0.1.95)\n",
      "\u001b[33mWARNING: You are using pip version 20.3.3; however, version 21.3.1 is available.\n",
      "You should consider upgrading via the '/opt/conda/bin/python3.7 -m pip install --upgrade pip' command.\u001b[0m\n"
     ]
    }
   ],
   "source": [
    "!pip install sentencepiece"
   ]
  },
  {
   "cell_type": "code",
   "execution_count": 2,
   "id": "understood-thumb",
   "metadata": {},
   "outputs": [],
   "source": [
    "import os\n",
    "import numpy as np\n",
    "import pandas as pd\n",
    "import tensorflow as tf\n",
    "import missingno as msno\n",
    "import sentencepiece as spm\n",
    "import matplotlib.pyplot as plt\n",
    "\n",
    "from konlpy.tag import Mecab\n",
    "from sklearn.model_selection import train_test_split\n",
    "from tensorflow import keras\n",
    "from tensorflow.keras.preprocessing.text import Tokenizer\n",
    "from tensorflow.keras.preprocessing.sequence import pad_sequences"
   ]
  },
  {
   "cell_type": "markdown",
   "id": "plain-bridges",
   "metadata": {},
   "source": [
    "# 1. Naver Movie Review Data Load"
   ]
  },
  {
   "cell_type": "markdown",
   "id": "governing-divide",
   "metadata": {},
   "source": [
    "> 본 1장에서는 네이버 영화 리뷰의 데이터가 저장된 train, test 데이터를 메모리에 읽은 후, 데이터의 내용을 확인하는 과정을 기술한다."
   ]
  },
  {
   "cell_type": "markdown",
   "id": "wicked-projector",
   "metadata": {},
   "source": [
    "## 1.1 Data Load"
   ]
  },
  {
   "cell_type": "markdown",
   "id": "varied-oriental",
   "metadata": {},
   "source": [
    "> 스토리지에 저장된 네이버 영화 리뷰 데이터를 메모리에 할당 후, 각 변수에 저장하는 작업을 진행한다."
   ]
  },
  {
   "cell_type": "code",
   "execution_count": 3,
   "id": "industrial-cheese",
   "metadata": {},
   "outputs": [],
   "source": [
    "train_data = pd.read_table(os.getenv('HOME')+'/aiffel/GoingNLP/Data/Lecture1/ratings_train.txt')\n",
    "test_data = pd.read_table('~/aiffel/GoingNLP/Data/Lecture1/ratings_test.txt')"
   ]
  },
  {
   "cell_type": "markdown",
   "id": "impossible-logic",
   "metadata": {},
   "source": [
    "## 1.2 View Data"
   ]
  },
  {
   "cell_type": "markdown",
   "id": "paperback-physics",
   "metadata": {},
   "source": [
    "### 1.2.1 Check Train Data"
   ]
  },
  {
   "cell_type": "markdown",
   "id": "hollow-owner",
   "metadata": {},
   "source": [
    "> 네이버 영화 리뷰의 훈련용 데이터 내용을 확인하는 작업을 진행한다."
   ]
  },
  {
   "cell_type": "code",
   "execution_count": 4,
   "id": "transparent-earthquake",
   "metadata": {},
   "outputs": [
    {
     "name": "stdout",
     "output_type": "stream",
     "text": [
      "150000\n"
     ]
    },
    {
     "data": {
      "text/html": [
       "<div>\n",
       "<style scoped>\n",
       "    .dataframe tbody tr th:only-of-type {\n",
       "        vertical-align: middle;\n",
       "    }\n",
       "\n",
       "    .dataframe tbody tr th {\n",
       "        vertical-align: top;\n",
       "    }\n",
       "\n",
       "    .dataframe thead th {\n",
       "        text-align: right;\n",
       "    }\n",
       "</style>\n",
       "<table border=\"1\" class=\"dataframe\">\n",
       "  <thead>\n",
       "    <tr style=\"text-align: right;\">\n",
       "      <th></th>\n",
       "      <th>id</th>\n",
       "      <th>document</th>\n",
       "      <th>label</th>\n",
       "    </tr>\n",
       "  </thead>\n",
       "  <tbody>\n",
       "    <tr>\n",
       "      <th>0</th>\n",
       "      <td>9976970</td>\n",
       "      <td>아 더빙.. 진짜 짜증나네요 목소리</td>\n",
       "      <td>0</td>\n",
       "    </tr>\n",
       "    <tr>\n",
       "      <th>1</th>\n",
       "      <td>3819312</td>\n",
       "      <td>흠...포스터보고 초딩영화줄....오버연기조차 가볍지 않구나</td>\n",
       "      <td>1</td>\n",
       "    </tr>\n",
       "    <tr>\n",
       "      <th>2</th>\n",
       "      <td>10265843</td>\n",
       "      <td>너무재밓었다그래서보는것을추천한다</td>\n",
       "      <td>0</td>\n",
       "    </tr>\n",
       "    <tr>\n",
       "      <th>3</th>\n",
       "      <td>9045019</td>\n",
       "      <td>교도소 이야기구먼 ..솔직히 재미는 없다..평점 조정</td>\n",
       "      <td>0</td>\n",
       "    </tr>\n",
       "    <tr>\n",
       "      <th>4</th>\n",
       "      <td>6483659</td>\n",
       "      <td>사이몬페그의 익살스런 연기가 돋보였던 영화!스파이더맨에서 늙어보이기만 했던 커스틴 ...</td>\n",
       "      <td>1</td>\n",
       "    </tr>\n",
       "  </tbody>\n",
       "</table>\n",
       "</div>"
      ],
      "text/plain": [
       "         id                                           document  label\n",
       "0   9976970                                아 더빙.. 진짜 짜증나네요 목소리      0\n",
       "1   3819312                  흠...포스터보고 초딩영화줄....오버연기조차 가볍지 않구나      1\n",
       "2  10265843                                  너무재밓었다그래서보는것을추천한다      0\n",
       "3   9045019                      교도소 이야기구먼 ..솔직히 재미는 없다..평점 조정      0\n",
       "4   6483659  사이몬페그의 익살스런 연기가 돋보였던 영화!스파이더맨에서 늙어보이기만 했던 커스틴 ...      1"
      ]
     },
     "execution_count": 4,
     "metadata": {},
     "output_type": "execute_result"
    }
   ],
   "source": [
    "print(len(train_data))\n",
    "train_data[0:5]"
   ]
  },
  {
   "cell_type": "markdown",
   "id": "favorite-yesterday",
   "metadata": {},
   "source": [
    "> 훈련용 데이터를 확인한 결과, 총 150,000여개의 데이터와 id, document, label 정보가 있음을 확인했다."
   ]
  },
  {
   "cell_type": "markdown",
   "id": "arbitrary-defeat",
   "metadata": {},
   "source": [
    "### 1.2.2 Check Test Data"
   ]
  },
  {
   "cell_type": "code",
   "execution_count": 5,
   "id": "published-former",
   "metadata": {},
   "outputs": [
    {
     "name": "stdout",
     "output_type": "stream",
     "text": [
      "50000\n"
     ]
    },
    {
     "data": {
      "text/html": [
       "<div>\n",
       "<style scoped>\n",
       "    .dataframe tbody tr th:only-of-type {\n",
       "        vertical-align: middle;\n",
       "    }\n",
       "\n",
       "    .dataframe tbody tr th {\n",
       "        vertical-align: top;\n",
       "    }\n",
       "\n",
       "    .dataframe thead th {\n",
       "        text-align: right;\n",
       "    }\n",
       "</style>\n",
       "<table border=\"1\" class=\"dataframe\">\n",
       "  <thead>\n",
       "    <tr style=\"text-align: right;\">\n",
       "      <th></th>\n",
       "      <th>id</th>\n",
       "      <th>document</th>\n",
       "      <th>label</th>\n",
       "    </tr>\n",
       "  </thead>\n",
       "  <tbody>\n",
       "    <tr>\n",
       "      <th>0</th>\n",
       "      <td>6270596</td>\n",
       "      <td>굳 ㅋ</td>\n",
       "      <td>1</td>\n",
       "    </tr>\n",
       "    <tr>\n",
       "      <th>1</th>\n",
       "      <td>9274899</td>\n",
       "      <td>GDNTOPCLASSINTHECLUB</td>\n",
       "      <td>0</td>\n",
       "    </tr>\n",
       "    <tr>\n",
       "      <th>2</th>\n",
       "      <td>8544678</td>\n",
       "      <td>뭐야 이 평점들은.... 나쁘진 않지만 10점 짜리는 더더욱 아니잖아</td>\n",
       "      <td>0</td>\n",
       "    </tr>\n",
       "    <tr>\n",
       "      <th>3</th>\n",
       "      <td>6825595</td>\n",
       "      <td>지루하지는 않은데 완전 막장임... 돈주고 보기에는....</td>\n",
       "      <td>0</td>\n",
       "    </tr>\n",
       "    <tr>\n",
       "      <th>4</th>\n",
       "      <td>6723715</td>\n",
       "      <td>3D만 아니었어도 별 다섯 개 줬을텐데.. 왜 3D로 나와서 제 심기를 불편하게 하죠??</td>\n",
       "      <td>0</td>\n",
       "    </tr>\n",
       "  </tbody>\n",
       "</table>\n",
       "</div>"
      ],
      "text/plain": [
       "        id                                           document  label\n",
       "0  6270596                                                굳 ㅋ      1\n",
       "1  9274899                               GDNTOPCLASSINTHECLUB      0\n",
       "2  8544678             뭐야 이 평점들은.... 나쁘진 않지만 10점 짜리는 더더욱 아니잖아      0\n",
       "3  6825595                   지루하지는 않은데 완전 막장임... 돈주고 보기에는....      0\n",
       "4  6723715  3D만 아니었어도 별 다섯 개 줬을텐데.. 왜 3D로 나와서 제 심기를 불편하게 하죠??      0"
      ]
     },
     "execution_count": 5,
     "metadata": {},
     "output_type": "execute_result"
    }
   ],
   "source": [
    "print(len(test_data))\n",
    "test_data[0:5]"
   ]
  },
  {
   "cell_type": "markdown",
   "id": "amended-cleaner",
   "metadata": {},
   "source": [
    "> 훈련용 데이터를 확인한 결과, 총 50,000여개의 데이터와 id, document, label 정보가 있음을 확인했다."
   ]
  },
  {
   "cell_type": "markdown",
   "id": "systematic-violation",
   "metadata": {},
   "source": [
    "> 위 과정으로, 훈련용 데이터와 테스트용 데이터의 정보(id, decument, label)은 동일하며, 데이터 량이 3:1 비율임을 확인할 수 있다."
   ]
  },
  {
   "cell_type": "markdown",
   "id": "informed-protection",
   "metadata": {},
   "source": [
    "# 2. Data Preprocessing"
   ]
  },
  {
   "cell_type": "markdown",
   "id": "useful-shakespeare",
   "metadata": {},
   "source": [
    "> 본 2장에서는 데이터 분석에 앞서 데이터를 사전에 정제하는 과정을 진행한다."
   ]
  },
  {
   "cell_type": "markdown",
   "id": "hybrid-element",
   "metadata": {},
   "source": [
    "## 2.1 Check missing values"
   ]
  },
  {
   "cell_type": "markdown",
   "id": "brazilian-seattle",
   "metadata": {},
   "source": [
    "> 본 2.1장에서는 불러온 데이터에 결측치가 있는지 수치적으로 확인하는 작업을 수행한다."
   ]
  },
  {
   "cell_type": "markdown",
   "id": "racial-nowhere",
   "metadata": {},
   "source": [
    "### 2.1.1 Check missing values in train dataset"
   ]
  },
  {
   "cell_type": "code",
   "execution_count": 6,
   "id": "spoken-calvin",
   "metadata": {},
   "outputs": [
    {
     "data": {
      "text/plain": [
       "<AxesSubplot:>"
      ]
     },
     "execution_count": 6,
     "metadata": {},
     "output_type": "execute_result"
    },
    {
     "data": {
      "image/png": "[encoded data removed]",
      "text/plain": [
       "<Figure size 1728x720 with 3 Axes>"
      ]
     },
     "metadata": {
      "needs_background": "light"
     },
     "output_type": "display_data"
    }
   ],
   "source": [
    "msno.bar(train_data)"
   ]
  },
  {
   "cell_type": "markdown",
   "id": "recreational-mattress",
   "metadata": {},
   "source": [
    "> 수치적 분석에서 150,000여개 데이터 중 5개의 결측치가 확인되었다."
   ]
  },
  {
   "cell_type": "markdown",
   "id": "organic-function",
   "metadata": {},
   "source": [
    "### 2.1.2 Check missing values in test dataset"
   ]
  },
  {
   "cell_type": "code",
   "execution_count": 7,
   "id": "floral-berry",
   "metadata": {},
   "outputs": [
    {
     "data": {
      "text/plain": [
       "<AxesSubplot:>"
      ]
     },
     "execution_count": 7,
     "metadata": {},
     "output_type": "execute_result"
    },
    {
     "data": {
      "image/png": "[encoded data removed]",
      "text/plain": [
       "<Figure size 1728x720 with 3 Axes>"
      ]
     },
     "metadata": {
      "needs_background": "light"
     },
     "output_type": "display_data"
    }
   ],
   "source": [
    "msno.bar(test_data)"
   ]
  },
  {
   "cell_type": "markdown",
   "id": "oriented-stick",
   "metadata": {},
   "source": [
    "> 수치적 분석에서 50,000여개 데이터 중 3개의 결측치가 확인되었다."
   ]
  },
  {
   "cell_type": "markdown",
   "id": "daily-thought",
   "metadata": {},
   "source": [
    "## 2.2 Remove missing data"
   ]
  },
  {
   "cell_type": "markdown",
   "id": "handed-token",
   "metadata": {},
   "source": [
    "> 본 2.2장에서는 위 2.1장에서 train data와 test data에서 확인한 결측치를 제거하는 작업을 진행한다."
   ]
  },
  {
   "cell_type": "code",
   "execution_count": 8,
   "id": "extra-companion",
   "metadata": {},
   "outputs": [
    {
     "name": "stdout",
     "output_type": "stream",
     "text": [
      "149995\n",
      "49997\n"
     ]
    }
   ],
   "source": [
    "train_data.dropna(inplace=True)\n",
    "test_data.dropna(inplace=True)\n",
    "\n",
    "print(len(train_data['document']))\n",
    "print(len(test_data['document']))"
   ]
  },
  {
   "cell_type": "markdown",
   "id": "sensitive-wrist",
   "metadata": {},
   "source": [
    "> 결측치 제거 후 재 확인했을때, train 데이터셋과 test 데이터셋의 결측치가 없어졌음을 확인할 수 있다."
   ]
  },
  {
   "cell_type": "markdown",
   "id": "adjustable-wiring",
   "metadata": {},
   "source": [
    "## 2.3 Deduplication"
   ]
  },
  {
   "cell_type": "markdown",
   "id": "federal-blogger",
   "metadata": {},
   "source": [
    "> 데이터 세트의 본문 내용에 중복되는 리뷰 데이터가 없도록 중복을 제거하는 작업을 진행한다."
   ]
  },
  {
   "cell_type": "code",
   "execution_count": 9,
   "id": "outstanding-cotton",
   "metadata": {},
   "outputs": [],
   "source": [
    "train_data.drop_duplicates([\"document\"], inplace=True)\n",
    "test_data.drop_duplicates([\"document\"], inplace=True)"
   ]
  },
  {
   "cell_type": "code",
   "execution_count": 10,
   "id": "progressive-hebrew",
   "metadata": {},
   "outputs": [
    {
     "name": "stdout",
     "output_type": "stream",
     "text": [
      "146182\n",
      "49157\n"
     ]
    }
   ],
   "source": [
    "print(len(train_data['document']))\n",
    "print(len(test_data['document']))"
   ]
  },
  {
   "cell_type": "markdown",
   "id": "aerial-forwarding",
   "metadata": {},
   "source": [
    "> 중복 데이터를 제거한 결과는 아래와 같다.<br>\n",
    "> <br>\n",
    "> train_data - 149,995개 -> 146,182개<br>\n",
    "> test_data - 49,997개 -> 49,157개"
   ]
  },
  {
   "cell_type": "markdown",
   "id": "super-constraint",
   "metadata": {},
   "source": [
    "# 3. Data Analysis"
   ]
  },
  {
   "cell_type": "markdown",
   "id": "driven-structure",
   "metadata": {},
   "source": [
    "> 본 3장에서는 데이터세트를 분석하고 모델의 목적에 맞도록 적절한 가공을 진행한다."
   ]
  },
  {
   "cell_type": "markdown",
   "id": "upset-rings",
   "metadata": {},
   "source": [
    "## 3.1 Check sentence length distribution"
   ]
  },
  {
   "cell_type": "markdown",
   "id": "electrical-consumer",
   "metadata": {},
   "source": [
    "> 각 데이터셋의 문장 길이 분포를 확인하는 작업을 진행하기 위한 사용자 정의 함수를 구현한다."
   ]
  },
  {
   "cell_type": "code",
   "execution_count": 11,
   "id": "imported-wheel",
   "metadata": {},
   "outputs": [],
   "source": [
    "def view_sentence_length_distribution(df_data):\n",
    "    min_len = 999\n",
    "    max_len = 0\n",
    "    sum_len = 0\n",
    "\n",
    "    for sen in df_data:\n",
    "        length = len(sen)\n",
    "        if min_len > length: min_len = length\n",
    "        if max_len < length: max_len = length\n",
    "        sum_len += length\n",
    "\n",
    "    print(\"문장의 최단 길이:\", min_len)\n",
    "    print(\"문장의 최장 길이:\", max_len)\n",
    "    print(\"문장의 평균 길이:\", sum_len // len(df_data))\n",
    "\n",
    "    sentence_length = np.zeros((max_len), dtype=np.int)\n",
    "\n",
    "    for sen in df_data:\n",
    "        sentence_length[len(sen)-1] += 1\n",
    "    \n",
    "    plt.bar(range(max_len), sentence_length, width=1.0)\n",
    "    plt.title(\"Sentence Length Distribution\")\n",
    "    plt.show()"
   ]
  },
  {
   "cell_type": "markdown",
   "id": "hollow-banking",
   "metadata": {},
   "source": [
    "### 3.1.1 train data"
   ]
  },
  {
   "cell_type": "markdown",
   "id": "advised-prefix",
   "metadata": {},
   "source": [
    "> 문장의 길이 분포를 시각화하여 출력하는 함수를 활용하여 train dataset을 확인한다."
   ]
  },
  {
   "cell_type": "code",
   "execution_count": 12,
   "id": "multiple-billion",
   "metadata": {},
   "outputs": [
    {
     "name": "stdout",
     "output_type": "stream",
     "text": [
      "문장의 최단 길이: 1\n",
      "문장의 최장 길이: 146\n",
      "문장의 평균 길이: 35\n"
     ]
    },
    {
     "data": {
      "image/png": "[encoded data removed]",
      "text/plain": [
       "<Figure size 432x288 with 1 Axes>"
      ]
     },
     "metadata": {
      "needs_background": "light"
     },
     "output_type": "display_data"
    }
   ],
   "source": [
    "view_sentence_length_distribution(train_data['document'])"
   ]
  },
  {
   "cell_type": "markdown",
   "id": "incorporated-clarity",
   "metadata": {},
   "source": [
    "> train_data의 문장 최소 길이는 1이고, 최대 길이는 146이며, 문장의 평균 길이 35임을 확인할 수 있다."
   ]
  },
  {
   "cell_type": "markdown",
   "id": "reduced-divide",
   "metadata": {},
   "source": [
    "### 3.1.2 test data"
   ]
  },
  {
   "cell_type": "markdown",
   "id": "informational-african",
   "metadata": {},
   "source": [
    "> 문장의 길이 분포를 시각화하여 출력하는 함수를 활용하여 test dataset을 확인한다."
   ]
  },
  {
   "cell_type": "code",
   "execution_count": 13,
   "id": "piano-classic",
   "metadata": {},
   "outputs": [
    {
     "name": "stdout",
     "output_type": "stream",
     "text": [
      "문장의 최단 길이: 1\n",
      "문장의 최장 길이: 144\n",
      "문장의 평균 길이: 35\n"
     ]
    },
    {
     "data": {
      "image/png": "[encoded data removed]",
      "text/plain": [
       "<Figure size 432x288 with 1 Axes>"
      ]
     },
     "metadata": {
      "needs_background": "light"
     },
     "output_type": "display_data"
    }
   ],
   "source": [
    "view_sentence_length_distribution(test_data['document'])"
   ]
  },
  {
   "cell_type": "markdown",
   "id": "aging-acoustic",
   "metadata": {},
   "source": [
    "> test_data의 문장의 최소 길이는 1이고, 최대 길이는 144이며, 문장의 평균 길이 35임을 확인할 수 있다."
   ]
  },
  {
   "cell_type": "markdown",
   "id": "respiratory-glory",
   "metadata": {},
   "source": [
    "## 3.2 Data Purification"
   ]
  },
  {
   "cell_type": "markdown",
   "id": "animated-tourist",
   "metadata": {},
   "source": [
    "> 문장의 길이가 너무 짧으면 노이즈가 될 수 있으므로, 길이가 10 미만인 데이터는 제거하도록 한다.<br>\n",
    "> 문장의 길이가 너무 길면 모델의 복잡도(연산량)이/가 비효율적으로 증가하므로 길이가 70을 초과한 데이터는 제거하도록 한다.<br>\n",
    "> 이를 위한, 조건 이내의 문장 길이를 가진 데이터를 추출하여 반환하는 사용자 정의 함수를 구현한다."
   ]
  },
  {
   "cell_type": "code",
   "execution_count": 14,
   "id": "spatial-nicaragua",
   "metadata": {},
   "outputs": [],
   "source": [
    "def sentence_lenght_limit(df_data, sentence_min, sentence_max):\n",
    "    # step1. 문장 길이 제한\n",
    "    doc = []\n",
    "    for s in df_data['document']:\n",
    "        if(len(s) <= sentence_max and len(s) >= sentence_min):\n",
    "            doc.append(s)\n",
    "    \n",
    "    # step2. list to pd.DataFrame convert \n",
    "    temp_data = pd.DataFrame(dict.fromkeys('d', doc))\n",
    "    temp_data.rename(columns = {'d' : 'document'}, inplace = True)\n",
    "    \n",
    "    # step3. 조건 내 값 병합\n",
    "    df_data = pd.merge(df_data, temp_data, on='document')        \n",
    "    df_data.rename(columns={'id_x':'id'})\n",
    "    df_data.rename(columns={'label_x':'label'})\n",
    "    \n",
    "    # step4. 데이터 중복 제거\n",
    "    df_data.drop_duplicates(subset=['document'], inplace=True)\n",
    "\n",
    "    return df_data"
   ]
  },
  {
   "cell_type": "markdown",
   "id": "funky-restaurant",
   "metadata": {},
   "source": [
    "### 3.2.1 train data"
   ]
  },
  {
   "cell_type": "markdown",
   "id": "mysterious-holiday",
   "metadata": {},
   "source": [
    "> 조건 이내의 문장 길이를 가진 데이터를 추출하여 반환하는 함수를 활용하여  train dataset을 확인한다."
   ]
  },
  {
   "cell_type": "code",
   "execution_count": 15,
   "id": "searching-healing",
   "metadata": {},
   "outputs": [],
   "source": [
    "train_data = sentence_lenght_limit(train_data, 10, 70)"
   ]
  },
  {
   "cell_type": "markdown",
   "id": "ordinary-release",
   "metadata": {},
   "source": [
    "> 사용자 정의 함수로 가공하여 추출된 train dataset을 확인한다."
   ]
  },
  {
   "cell_type": "code",
   "execution_count": 16,
   "id": "corporate-andrew",
   "metadata": {},
   "outputs": [
    {
     "data": {
      "text/html": [
       "<div>\n",
       "<style scoped>\n",
       "    .dataframe tbody tr th:only-of-type {\n",
       "        vertical-align: middle;\n",
       "    }\n",
       "\n",
       "    .dataframe tbody tr th {\n",
       "        vertical-align: top;\n",
       "    }\n",
       "\n",
       "    .dataframe thead th {\n",
       "        text-align: right;\n",
       "    }\n",
       "</style>\n",
       "<table border=\"1\" class=\"dataframe\">\n",
       "  <thead>\n",
       "    <tr style=\"text-align: right;\">\n",
       "      <th></th>\n",
       "      <th>id</th>\n",
       "      <th>document</th>\n",
       "      <th>label</th>\n",
       "    </tr>\n",
       "  </thead>\n",
       "  <tbody>\n",
       "    <tr>\n",
       "      <th>119786</th>\n",
       "      <td>6222902</td>\n",
       "      <td>인간이 문제지.. 소는 뭔죄인가..</td>\n",
       "      <td>0</td>\n",
       "    </tr>\n",
       "    <tr>\n",
       "      <th>119787</th>\n",
       "      <td>8549745</td>\n",
       "      <td>평점이 너무 낮아서...</td>\n",
       "      <td>1</td>\n",
       "    </tr>\n",
       "    <tr>\n",
       "      <th>119788</th>\n",
       "      <td>9311800</td>\n",
       "      <td>이게 뭐요? 한국인은 거들먹거리고 필리핀 혼혈은 착하다?</td>\n",
       "      <td>0</td>\n",
       "    </tr>\n",
       "    <tr>\n",
       "      <th>119789</th>\n",
       "      <td>2376369</td>\n",
       "      <td>청춘 영화의 최고봉.방황과 우울했던 날들의 자화상</td>\n",
       "      <td>1</td>\n",
       "    </tr>\n",
       "    <tr>\n",
       "      <th>119790</th>\n",
       "      <td>9619869</td>\n",
       "      <td>한국 영화 최초로 수간하는 내용이 담긴 영화</td>\n",
       "      <td>0</td>\n",
       "    </tr>\n",
       "  </tbody>\n",
       "</table>\n",
       "</div>"
      ],
      "text/plain": [
       "             id                         document  label\n",
       "119786  6222902              인간이 문제지.. 소는 뭔죄인가..      0\n",
       "119787  8549745                    평점이 너무 낮아서...      1\n",
       "119788  9311800  이게 뭐요? 한국인은 거들먹거리고 필리핀 혼혈은 착하다?      0\n",
       "119789  2376369      청춘 영화의 최고봉.방황과 우울했던 날들의 자화상      1\n",
       "119790  9619869         한국 영화 최초로 수간하는 내용이 담긴 영화      0"
      ]
     },
     "execution_count": 16,
     "metadata": {},
     "output_type": "execute_result"
    }
   ],
   "source": [
    "train_data[-5:]"
   ]
  },
  {
   "cell_type": "markdown",
   "id": "active-trick",
   "metadata": {},
   "source": [
    "> 조건 이내의 데이터만 추출한 결과 기존 146,182개의 데이터 중 119,791개의 데이터가 확보되었음을 확인할 수 있다.<br>\n",
    "> 위 데이터의 문장 길이 분포를 시각화하여 확인한 결과는 아래와 같다."
   ]
  },
  {
   "cell_type": "code",
   "execution_count": 17,
   "id": "parallel-contrary",
   "metadata": {},
   "outputs": [
    {
     "name": "stdout",
     "output_type": "stream",
     "text": [
      "문장의 최단 길이: 10\n",
      "문장의 최장 길이: 70\n",
      "문장의 평균 길이: 28\n"
     ]
    },
    {
     "data": {
      "image/png": "[encoded data removed]",
      "text/plain": [
       "<Figure size 432x288 with 1 Axes>"
      ]
     },
     "metadata": {
      "needs_background": "light"
     },
     "output_type": "display_data"
    }
   ],
   "source": [
    "view_sentence_length_distribution(train_data['document'])"
   ]
  },
  {
   "cell_type": "markdown",
   "id": "rural-essence",
   "metadata": {},
   "source": [
    "> 가공된 train_data의 문장의 최소 길이는 10이고, 최대 길이는 70이며, 문장의 평균 길이 28임을 확인할 수 있다."
   ]
  },
  {
   "cell_type": "markdown",
   "id": "toxic-theta",
   "metadata": {},
   "source": [
    "### 3.2.2 test data"
   ]
  },
  {
   "cell_type": "markdown",
   "id": "deadly-continuity",
   "metadata": {},
   "source": [
    "> 조건 이내의 문장 길이를 가진 데이터를 추출하여 반환하는 함수를 활용하여  test dataset을 확인한다."
   ]
  },
  {
   "cell_type": "code",
   "execution_count": 18,
   "id": "communist-norway",
   "metadata": {},
   "outputs": [],
   "source": [
    "test_data = sentence_lenght_limit(test_data, 10, 70)"
   ]
  },
  {
   "cell_type": "markdown",
   "id": "common-upgrade",
   "metadata": {},
   "source": [
    "> 사용자 정의 함수로 가공하여 추출된 test dataset을 확인한다."
   ]
  },
  {
   "cell_type": "code",
   "execution_count": 19,
   "id": "intended-issue",
   "metadata": {},
   "outputs": [
    {
     "data": {
      "text/html": [
       "<div>\n",
       "<style scoped>\n",
       "    .dataframe tbody tr th:only-of-type {\n",
       "        vertical-align: middle;\n",
       "    }\n",
       "\n",
       "    .dataframe tbody tr th {\n",
       "        vertical-align: top;\n",
       "    }\n",
       "\n",
       "    .dataframe thead th {\n",
       "        text-align: right;\n",
       "    }\n",
       "</style>\n",
       "<table border=\"1\" class=\"dataframe\">\n",
       "  <thead>\n",
       "    <tr style=\"text-align: right;\">\n",
       "      <th></th>\n",
       "      <th>id</th>\n",
       "      <th>document</th>\n",
       "      <th>label</th>\n",
       "    </tr>\n",
       "  </thead>\n",
       "  <tbody>\n",
       "    <tr>\n",
       "      <th>40021</th>\n",
       "      <td>4608761</td>\n",
       "      <td>오랜만에 평점 로긴했네ㅋㅋ 킹왕짱 쌈뽕한 영화를 만났습니다 강렬하게 육쾌함</td>\n",
       "      <td>1</td>\n",
       "    </tr>\n",
       "    <tr>\n",
       "      <th>40022</th>\n",
       "      <td>5308387</td>\n",
       "      <td>의지 박약들이나 하는거다 탈영은 일단 주인공 김대희 닮았고 이등병 찐따 OOOO</td>\n",
       "      <td>0</td>\n",
       "    </tr>\n",
       "    <tr>\n",
       "      <th>40023</th>\n",
       "      <td>9072549</td>\n",
       "      <td>그림도 좋고 완성도도 높았지만... 보는 내내 불안하게 만든다</td>\n",
       "      <td>0</td>\n",
       "    </tr>\n",
       "    <tr>\n",
       "      <th>40024</th>\n",
       "      <td>5802125</td>\n",
       "      <td>절대 봐서는 안 될 영화.. 재미도 없고 기분만 잡치고.. 한 세트장에서 다 해먹네</td>\n",
       "      <td>0</td>\n",
       "    </tr>\n",
       "    <tr>\n",
       "      <th>40025</th>\n",
       "      <td>6070594</td>\n",
       "      <td>마무리는 또 왜이래</td>\n",
       "      <td>0</td>\n",
       "    </tr>\n",
       "  </tbody>\n",
       "</table>\n",
       "</div>"
      ],
      "text/plain": [
       "            id                                        document  label\n",
       "40021  4608761       오랜만에 평점 로긴했네ㅋㅋ 킹왕짱 쌈뽕한 영화를 만났습니다 강렬하게 육쾌함      1\n",
       "40022  5308387    의지 박약들이나 하는거다 탈영은 일단 주인공 김대희 닮았고 이등병 찐따 OOOO      0\n",
       "40023  9072549              그림도 좋고 완성도도 높았지만... 보는 내내 불안하게 만든다      0\n",
       "40024  5802125  절대 봐서는 안 될 영화.. 재미도 없고 기분만 잡치고.. 한 세트장에서 다 해먹네      0\n",
       "40025  6070594                                      마무리는 또 왜이래      0"
      ]
     },
     "execution_count": 19,
     "metadata": {},
     "output_type": "execute_result"
    }
   ],
   "source": [
    "test_data[-5:]"
   ]
  },
  {
   "cell_type": "markdown",
   "id": "seven-azerbaijan",
   "metadata": {},
   "source": [
    "> 조건 이내의 데이터만 추출한 결과 기존 49,157개의 데이터 중 40,026개의 데이터가 확보되었음을 확인할 수 있다.<br>\n",
    "> 위 데이터의 문장 길이 분포를 시각화하여 확인한 결과는 아래와 같다."
   ]
  },
  {
   "cell_type": "code",
   "execution_count": 20,
   "id": "amino-accident",
   "metadata": {},
   "outputs": [
    {
     "name": "stdout",
     "output_type": "stream",
     "text": [
      "문장의 최단 길이: 10\n",
      "문장의 최장 길이: 70\n",
      "문장의 평균 길이: 28\n"
     ]
    },
    {
     "data": {
      "image/png": "[encoded data removed]",
      "text/plain": [
       "<Figure size 432x288 with 1 Axes>"
      ]
     },
     "metadata": {
      "needs_background": "light"
     },
     "output_type": "display_data"
    }
   ],
   "source": [
    "view_sentence_length_distribution(test_data['document'])"
   ]
  },
  {
   "cell_type": "markdown",
   "id": "guided-mineral",
   "metadata": {},
   "source": [
    "> 가공된 test_data의 문장의 최소 길이는 10이고, 최대 길이는 70이며, 문장의 평균 길이 28임을 확인할 수 있다."
   ]
  },
  {
   "cell_type": "markdown",
   "id": "harmful-bryan",
   "metadata": {},
   "source": [
    "# 4. Sentence piece Model Train"
   ]
  },
  {
   "cell_type": "markdown",
   "id": "dying-brighton",
   "metadata": {},
   "source": [
    "> 본 4장에서는 Google에서 제공하는 오픈소스 기반 Sentence Tokenizer인 SentencePiece모델을 학습하는 과정을 기술한다."
   ]
  },
  {
   "cell_type": "markdown",
   "id": "expanded-franchise",
   "metadata": {},
   "source": [
    "## 4.1 Setting Data"
   ]
  },
  {
   "cell_type": "markdown",
   "id": "jewish-rough",
   "metadata": {},
   "source": [
    "> 훈련한 모델을 저장할 경로와, 단어 사전의 크기를 설정하고, 모델 학습을 위해 데이터셋에 개행문자를 추가하는 작업을 진행한다."
   ]
  },
  {
   "cell_type": "code",
   "execution_count": 21,
   "id": "secure-wonder",
   "metadata": {},
   "outputs": [],
   "source": [
    "temp_file = os.getenv('HOME')+'/aiffel/GoingNLP/Data/Lecture1/korean-english-park.train.ko.temp'\n",
    "vocab_size = 8000\n",
    "\n",
    "with open(temp_file, 'w') as f:\n",
    "    for row in train_data['document']:\n",
    "        f.write(str(row) + '\\n')"
   ]
  },
  {
   "cell_type": "markdown",
   "id": "rapid-referral",
   "metadata": {},
   "source": [
    "## 4.2 Model Train"
   ]
  },
  {
   "cell_type": "markdown",
   "id": "analyzed-demand",
   "metadata": {},
   "source": [
    "> 위 과정으로 정제한 데이터를 활용하여 Sentence Piece 모델을 학습한다."
   ]
  },
  {
   "cell_type": "code",
   "execution_count": 22,
   "id": "ecological-collect",
   "metadata": {},
   "outputs": [],
   "source": [
    "spm.SentencePieceTrainer.Train('--input={} --model_prefix=korean_spm --vocab_size={}'.format(temp_file, vocab_size))"
   ]
  },
  {
   "cell_type": "markdown",
   "id": "complicated-novel",
   "metadata": {},
   "source": [
    "> 학습한 모델이 지정한 경로에 저장되었는지 확인한다."
   ]
  },
  {
   "cell_type": "code",
   "execution_count": 23,
   "id": "honey-doctrine",
   "metadata": {},
   "outputs": [
    {
     "name": "stdout",
     "output_type": "stream",
     "text": [
      "-rw-r--r-- 1 root root 375267 Dec 16 04:56 korean_spm.model\r\n",
      "-rw-r--r-- 1 root root 144698 Dec 16 04:56 korean_spm.vocab\r\n"
     ]
    }
   ],
   "source": [
    "!ls -l korean_spm*"
   ]
  },
  {
   "cell_type": "markdown",
   "id": "strategic-strand",
   "metadata": {},
   "source": [
    "> 설정한 경로에 학습된 모델과 단어 사전이 잘 저장되었음을 확인할 수 있다."
   ]
  },
  {
   "cell_type": "markdown",
   "id": "starting-friendship",
   "metadata": {},
   "source": [
    "## 4.3 Model Test"
   ]
  },
  {
   "attachments": {
    "06e3296b491c10782740dc69bd4ee69c.jpg": {
     "image/jpeg": "[encoded data removed]"
    }
   },
   "cell_type": "markdown",
   "id": "positive-principal",
   "metadata": {},
   "source": [
    "![06e3296b491c10782740dc69bd4ee69c.jpg](attachment:06e3296b491c10782740dc69bd4ee69c.jpg)"
   ]
  },
  {
   "cell_type": "markdown",
   "id": "infectious-rotation",
   "metadata": {},
   "source": [
    "> 한국인들도 의견이 분분했던 '너나본지두달다돼감' 문장을 활용하여 학습된 Sentence piece Model이 올바르게 분석하는지 확인하는 실험을 진행한다."
   ]
  },
  {
   "cell_type": "code",
   "execution_count": 24,
   "id": "personal-ultimate",
   "metadata": {},
   "outputs": [
    {
     "name": "stdout",
     "output_type": "stream",
     "text": [
      "[1028, 33, 246, 19, 295, 517, 17, 2018, 210, 4]\n",
      "['▁너', '나', '본', '지', '두', '달', '다', '돼', '감', '.']\n",
      "너나본지두달다돼감.\n"
     ]
    }
   ],
   "source": [
    "s = spm.SentencePieceProcessor()\n",
    "s.Load(os.getenv('HOME')+'/aiffel/GoingNLP/korean_spm.model')\n",
    "\n",
    "# SentencePiece를 활용한 sentence -> encoding\n",
    "tokensIDs = s.EncodeAsIds('너나본지두달다돼감.')\n",
    "print(tokensIDs)\n",
    "\n",
    "# SentencePiece를 활용한 sentence -> encoded pieces\n",
    "print(s.SampleEncodeAsPieces('너나본지두달다돼감.',1, 0.0))\n",
    "\n",
    "# SentencePiece를 활용한 encoding -> sentence 복원\n",
    "print(s.DecodeIds(tokensIDs))"
   ]
  },
  {
   "cell_type": "markdown",
   "id": "accurate-lyric",
   "metadata": {},
   "source": [
    "> 국립국어원 못지 않은 단어 분석 성능을 보여주었다."
   ]
  },
  {
   "cell_type": "markdown",
   "id": "toxic-reverse",
   "metadata": {},
   "source": [
    "# 5. Tokenizer"
   ]
  },
  {
   "cell_type": "markdown",
   "id": "allied-liechtenstein",
   "metadata": {},
   "source": [
    "> 본 5장에서는 4장에서 학습한 Sentence piece Model을 활용하여 Tokenizer을 생성하는 과정을 기술한다."
   ]
  },
  {
   "cell_type": "markdown",
   "id": "common-acceptance",
   "metadata": {},
   "source": [
    "## 5.1 Create Tokenizer Function"
   ]
  },
  {
   "cell_type": "markdown",
   "id": "structured-residence",
   "metadata": {},
   "source": [
    "> 4장에서 훈련시킨 Sentence Piece Model을 활용하여 Tokenizer 기능을 수행하는 사용자 정의 함수를 구현한다.<br>\n",
    "> 문장 길이 차이에 따른 패딩은 뒷 부분을 0으로 보충하는 'Post'를 사용한다."
   ]
  },
  {
   "cell_type": "code",
   "execution_count": 25,
   "id": "practical-workshop",
   "metadata": {},
   "outputs": [],
   "source": [
    "def sp_tokenize(s, corpus):\n",
    "\n",
    "    tensor = []\n",
    "\n",
    "    for sen in corpus:\n",
    "        tensor.append(s.EncodeAsIds(sen))\n",
    "\n",
    "    with open(\"./korean_spm.vocab\", 'r') as f:\n",
    "        vocab = f.readlines()\n",
    "\n",
    "    word_index = {}\n",
    "    index_word = {}\n",
    "\n",
    "    for idx, line in enumerate(vocab):\n",
    "        word = line.split(\"\\t\")[0]\n",
    "\n",
    "        word_index.update({idx:word})\n",
    "        index_word.update({word:idx})\n",
    "\n",
    "    tensor = pad_sequences(tensor, padding='post')\n",
    "\n",
    "    return tensor, word_index, index_word"
   ]
  },
  {
   "cell_type": "markdown",
   "id": "complicated-preliminary",
   "metadata": {},
   "source": [
    "## 5.2 make dataset"
   ]
  },
  {
   "cell_type": "markdown",
   "id": "inclusive-better",
   "metadata": {},
   "source": [
    "> 위 사용자 정의 함수를 활용하여 모델 학습 및 검증에 사용할 train, val, test 데이터셋을 확보하는 작업을 진행한다."
   ]
  },
  {
   "cell_type": "markdown",
   "id": "forbidden-statement",
   "metadata": {},
   "source": [
    "### 5.2.1 make train and test dataset"
   ]
  },
  {
   "cell_type": "markdown",
   "id": "first-background",
   "metadata": {},
   "source": [
    "> sp_tokenize 함수를 활용하여 model 학습에 사용할 train, test 데이터와 token 확인을 위한 word to index 데이터를 확보한다."
   ]
  },
  {
   "cell_type": "code",
   "execution_count": 26,
   "id": "plain-graduation",
   "metadata": {},
   "outputs": [],
   "source": [
    "# Tokenizer using the Sentence Piece model\n",
    "train_tensor , train_word_index, _ = sp_tokenize(s, train_data['document'])\n",
    "test_tensor, _, _ = sp_tokenize(s, test_data['document'])"
   ]
  },
  {
   "cell_type": "code",
   "execution_count": 27,
   "id": "domestic-villa",
   "metadata": {},
   "outputs": [],
   "source": [
    "X_train = train_tensor\n",
    "y_train = np.array(train_data[\"label\"])\n",
    "\n",
    "X_test = test_tensor\n",
    "y_test = np.array(test_data[\"label\"])\n",
    "\n",
    "word_to_index = train_word_index"
   ]
  },
  {
   "cell_type": "markdown",
   "id": "coral-price",
   "metadata": {},
   "source": [
    "### 5.2.2 Make validation dataset"
   ]
  },
  {
   "cell_type": "markdown",
   "id": "lonely-clause",
   "metadata": {},
   "source": [
    "> 훈련할 모델의 성능을 검증하기 위한 검증용 데이터와 모델 훈련에 사용할 데이터를 분리하는 작업을 진행한다.<br>\n",
    "> train 데이터에는 총 119,791개의 데이터가 있고, 이를 훈련용 데이터셋(80%), 검증용 데이터셋(20%)비율로 나누는 작업을 진행한다."
   ]
  },
  {
   "cell_type": "code",
   "execution_count": 28,
   "id": "hungry-lunch",
   "metadata": {},
   "outputs": [],
   "source": [
    "x_train_set, x_val_set, y_train_set, y_val_set = train_test_split(X_train, y_train, test_size=0.2, random_state=1996)"
   ]
  },
  {
   "cell_type": "markdown",
   "id": "terminal-madison",
   "metadata": {},
   "source": [
    "## 5.3 Check token and dataset"
   ]
  },
  {
   "cell_type": "markdown",
   "id": "lonely-ending",
   "metadata": {},
   "source": [
    "> 토크나이저 작업 결과를 확인하고 모델에 사용할 텐서의 차원수를 확인하는 작업을 진행한다."
   ]
  },
  {
   "cell_type": "code",
   "execution_count": 29,
   "id": "mounted-medium",
   "metadata": {},
   "outputs": [
    {
     "name": "stdout",
     "output_type": "stream",
     "text": [
      "0 : <unk>\n",
      "1 : <s>\n",
      "2 : </s>\n",
      "3 : ▁\n",
      "4 : .\n",
      "5 : ..\n",
      "6 : 이\n",
      "7 : ▁영화\n",
      "8 : ...\n",
      "9 : 의\n",
      "10 : 가\n",
      "11 : 도\n",
      "12 : 는\n",
      "13 : ,\n",
      "14 : 을\n",
      "15 : 에\n",
      "16 : 고\n",
      "17 : 다\n",
      "18 : 은\n",
      "19 : 지\n",
      "20 : ?\n",
      "21 : !\n",
      "22 : 한\n",
      "23 : ▁너무\n",
      "24 : ▁정말\n",
      "25 : 만\n",
      "26 : 를\n",
      "27 : ▁이\n",
      "28 : 로\n",
      "29 : ▁진짜\n",
      "30 : ~\n"
     ]
    }
   ],
   "source": [
    "for index, value in word_to_index.items():\n",
    "    if index > 30:\n",
    "        break\n",
    "        \n",
    "    print(\"{} : {}\".format(index, value))"
   ]
  },
  {
   "cell_type": "markdown",
   "id": "medical-praise",
   "metadata": {},
   "source": [
    "> 's', '/s' 으로 시작 토큰과 종료 토큰이 생성되었음을 확인할 수 있고, 단어 단위로 분절되어 있음을 확인할 수 있다."
   ]
  },
  {
   "cell_type": "code",
   "execution_count": 30,
   "id": "solid-links",
   "metadata": {},
   "outputs": [
    {
     "name": "stdout",
     "output_type": "stream",
     "text": [
      "훈련용 데이터 :  (95832, 63)\n",
      "검증용 데이터 :  (23959, 63)\n",
      "\n",
      "\n",
      "훈련용 라벨 데이터 :  (95832,)\n",
      "검증용 라벨 데이터 :  (23959,)\n"
     ]
    }
   ],
   "source": [
    "print(\"훈련용 데이터 : \",x_train_set.shape)\n",
    "print(\"검증용 데이터 : \",x_val_set.shape)\n",
    "print(\"\\n\")\n",
    "print(\"훈련용 라벨 데이터 : \",y_train_set.shape)\n",
    "print(\"검증용 라벨 데이터 : \",y_val_set.shape)"
   ]
  },
  {
   "cell_type": "markdown",
   "id": "integral-memorabilia",
   "metadata": {},
   "source": [
    "> 훈련용과 검증용 데이터는 각각, 95,832개 23,959개로 구성되었으며, 모두 63차원으로 구성되었음을 확인할 수 있다."
   ]
  },
  {
   "cell_type": "markdown",
   "id": "charitable-paris",
   "metadata": {},
   "source": [
    "# 6. Model Design"
   ]
  },
  {
   "cell_type": "markdown",
   "id": "single-tragedy",
   "metadata": {},
   "source": [
    "> 본 6장에서는 한국어 텍스트를 학습할 모델을 설계하는 과정을 기술한다.<br>"
   ]
  },
  {
   "cell_type": "markdown",
   "id": "matched-blocking",
   "metadata": {},
   "source": [
    "## 6.1 LSTM model design"
   ]
  },
  {
   "cell_type": "markdown",
   "id": "external-gabriel",
   "metadata": {},
   "source": [
    "> 본 데이터 세트는 63차원이라는 깊은 차원의 구조를 가지고 있다.<br>\n",
    "> 이에, RNN 모델 중 길이가 긴 문장에서 강점을 보이는 LSTM 모델을 활용하여 모델을 구성한다.<br>\n",
    "> <br>\n",
    "> word_vector_dim을 최대 문장 길이와 같은 63차원으로 설정하여 임베딩 레이어를 실행한다.<br>\n",
    "> LSTM의 state vector는 2의 제곱이면서, 최대 문장 길이의 절반과 유사한 32 차원으로 설정하고 이에 맞추어 Dense도 32로 설정한다.<br>\n",
    "> 결과가 True, False를 나타내는 (1,0),  2가지 뿐 이므로 출력 레이어의 Dense 1로 설정하고 활성화 함수를 시그모이드로 설정한다."
   ]
  },
  {
   "cell_type": "code",
   "execution_count": 31,
   "id": "educational-strategy",
   "metadata": {},
   "outputs": [
    {
     "name": "stdout",
     "output_type": "stream",
     "text": [
      "Model: \"sequential\"\n",
      "_________________________________________________________________\n",
      "Layer (type)                 Output Shape              Param #   \n",
      "=================================================================\n",
      "embedding (Embedding)        (None, None, 63)          504000    \n",
      "_________________________________________________________________\n",
      "lstm (LSTM)                  (None, 32)                12288     \n",
      "_________________________________________________________________\n",
      "dense (Dense)                (None, 32)                1056      \n",
      "_________________________________________________________________\n",
      "dense_1 (Dense)              (None, 1)                 33        \n",
      "=================================================================\n",
      "Total params: 517,377\n",
      "Trainable params: 517,377\n",
      "Non-trainable params: 0\n",
      "_________________________________________________________________\n"
     ]
    }
   ],
   "source": [
    "word_vector_dim = 63\n",
    "\n",
    "LSTM_model = keras.Sequential()\n",
    "LSTM_model.add(keras.layers.Embedding(vocab_size, word_vector_dim, input_shape=(None,)))\n",
    "LSTM_model.add(keras.layers.LSTM(32))\n",
    "LSTM_model.add(keras.layers.Dense(32, activation='tanh'))\n",
    "LSTM_model.add(keras.layers.Dense(1, activation='sigmoid'))\n",
    "\n",
    "LSTM_model.summary()"
   ]
  },
  {
   "cell_type": "markdown",
   "id": "impaired-brooks",
   "metadata": {},
   "source": [
    "> LSTM 모델 디자인 결과, 517,377개의 파라미터를 훈련해야함을 확인할 수 있다."
   ]
  },
  {
   "cell_type": "markdown",
   "id": "noticed-former",
   "metadata": {},
   "source": [
    "## 6.2 LSTM Model train"
   ]
  },
  {
   "cell_type": "markdown",
   "id": "surface-arizona",
   "metadata": {},
   "source": [
    "> 옵티마이저는 가중치의 방향과 step_size를 학습 결과에 따라 적절하게 조정하기 위해 'adam'을 설정하였다.<br>\n",
    "> 결과가 True or False인 이진 분류 이므로 loss는 'binary_crossentropy'으로 설정하였다.<br>\n",
    "> metrics는 정확도를 기준으로 20회 학습을 진행한다.<br>"
   ]
  },
  {
   "cell_type": "code",
   "execution_count": 63,
   "id": "average-habitat",
   "metadata": {},
   "outputs": [],
   "source": [
    "epochs=20"
   ]
  },
  {
   "cell_type": "code",
   "execution_count": 54,
   "id": "exterior-completion",
   "metadata": {},
   "outputs": [
    {
     "name": "stdout",
     "output_type": "stream",
     "text": [
      "Epoch 1/20\n",
      "188/188 [==============================] - 6s 24ms/step - loss: 0.6933 - accuracy: 0.4999 - val_loss: 0.6931 - val_accuracy: 0.5052\n",
      "Epoch 2/20\n",
      "188/188 [==============================] - 4s 22ms/step - loss: 0.6932 - accuracy: 0.4980 - val_loss: 0.6931 - val_accuracy: 0.5052\n",
      "Epoch 3/20\n",
      "188/188 [==============================] - 4s 22ms/step - loss: 0.6932 - accuracy: 0.4996 - val_loss: 0.6931 - val_accuracy: 0.5052\n",
      "Epoch 4/20\n",
      "188/188 [==============================] - 4s 22ms/step - loss: 0.6932 - accuracy: 0.4972 - val_loss: 0.6931 - val_accuracy: 0.5052\n",
      "Epoch 5/20\n",
      "188/188 [==============================] - 4s 22ms/step - loss: 0.6921 - accuracy: 0.5010 - val_loss: 0.6250 - val_accuracy: 0.6734\n",
      "Epoch 6/20\n",
      "188/188 [==============================] - 4s 22ms/step - loss: 0.6409 - accuracy: 0.6440 - val_loss: 0.6760 - val_accuracy: 0.5501\n",
      "Epoch 7/20\n",
      "188/188 [==============================] - 4s 22ms/step - loss: 0.6703 - accuracy: 0.5584 - val_loss: 0.6688 - val_accuracy: 0.5648\n",
      "Epoch 8/20\n",
      "188/188 [==============================] - 4s 22ms/step - loss: 0.6649 - accuracy: 0.5664 - val_loss: 0.6650 - val_accuracy: 0.5746\n",
      "Epoch 9/20\n",
      "188/188 [==============================] - 4s 22ms/step - loss: 0.6618 - accuracy: 0.5762 - val_loss: 0.6585 - val_accuracy: 0.5997\n",
      "Epoch 10/20\n",
      "188/188 [==============================] - 4s 22ms/step - loss: 0.6552 - accuracy: 0.6021 - val_loss: 0.6589 - val_accuracy: 0.5951\n",
      "Epoch 11/20\n",
      "188/188 [==============================] - 4s 22ms/step - loss: 0.6542 - accuracy: 0.6002 - val_loss: 0.6551 - val_accuracy: 0.6049\n",
      "Epoch 12/20\n",
      "188/188 [==============================] - 4s 22ms/step - loss: 0.6516 - accuracy: 0.6061 - val_loss: 0.6570 - val_accuracy: 0.6027\n",
      "Epoch 13/20\n",
      "188/188 [==============================] - 4s 22ms/step - loss: 0.6518 - accuracy: 0.6062 - val_loss: 0.6563 - val_accuracy: 0.6017\n",
      "Epoch 14/20\n",
      "188/188 [==============================] - 4s 22ms/step - loss: 0.6522 - accuracy: 0.6077 - val_loss: 0.6537 - val_accuracy: 0.6081\n",
      "Epoch 15/20\n",
      "188/188 [==============================] - 4s 21ms/step - loss: 0.6491 - accuracy: 0.6137 - val_loss: 0.6530 - val_accuracy: 0.6092\n",
      "Epoch 16/20\n",
      "188/188 [==============================] - 4s 22ms/step - loss: 0.6488 - accuracy: 0.6103 - val_loss: 0.6527 - val_accuracy: 0.6089\n",
      "Epoch 17/20\n",
      "188/188 [==============================] - 4s 22ms/step - loss: 0.6528 - accuracy: 0.6003 - val_loss: 0.6688 - val_accuracy: 0.5609\n",
      "Epoch 18/20\n",
      "188/188 [==============================] - 4s 22ms/step - loss: 0.6787 - accuracy: 0.5311 - val_loss: 0.6932 - val_accuracy: 0.4948\n",
      "Epoch 19/20\n",
      "188/188 [==============================] - 4s 21ms/step - loss: 0.6935 - accuracy: 0.4987 - val_loss: 0.6931 - val_accuracy: 0.5052\n",
      "Epoch 20/20\n",
      "188/188 [==============================] - 4s 22ms/step - loss: 0.6933 - accuracy: 0.5029 - val_loss: 0.6931 - val_accuracy: 0.5052\n"
     ]
    }
   ],
   "source": [
    "LSTM_model.compile(optimizer='adam', loss='binary_crossentropy', metrics=['accuracy'])\n",
    "LSTM_history = LSTM_model.fit(x_train_set, y_train_set, epochs=epochs, batch_size=512, validation_data=(x_val_set, y_val_set), verbose=1)"
   ]
  },
  {
   "cell_type": "markdown",
   "id": "split-baker",
   "metadata": {},
   "source": [
    "## 6.3 LSTM Model Visualization&Test"
   ]
  },
  {
   "cell_type": "markdown",
   "id": "bronze-jacob",
   "metadata": {},
   "source": [
    "> 모델의 학습 과정을 시각적으로 확인하고, 모델의 성능을 테스트 하는 과정을 기술한다."
   ]
  },
  {
   "cell_type": "markdown",
   "id": "straight-friendly",
   "metadata": {},
   "source": [
    "### 6.3.1 Visualization"
   ]
  },
  {
   "cell_type": "markdown",
   "id": "celtic-african",
   "metadata": {},
   "source": [
    "> Model의 학습 과정을 시각적으로 확인할 수 있는 사용자 정의 함수를 구현한다."
   ]
  },
  {
   "cell_type": "code",
   "execution_count": 32,
   "id": "biblical-ebony",
   "metadata": {},
   "outputs": [],
   "source": [
    "def line_plot(epoch, history, list_of_metrics):\n",
    "    \n",
    "    fig, ax = plt.subplots(1,2)\n",
    "    \n",
    "    for i in range(len(ax)):\n",
    "        ax[i].set_xlabel('Epochs')\n",
    "        ax[i].set_ylabel('Value')\n",
    "        \n",
    "        for n in range(len(list_of_metrics)):\n",
    "            if i == 0:\n",
    "                y = history[list_of_metrics[n]]\n",
    "                if n == 0:\n",
    "                    ax[i].plot(epoch, y, label=\"train\")\n",
    "                else:\n",
    "                    ax[i].plot(epoch, y, label=\"validation\")\n",
    "                ax[i].set_title('Loss')\n",
    "                ax[i].legend(loc='upper right')\n",
    "                if n == 1:\n",
    "                    break\n",
    "            else:\n",
    "                if n >= 2:\n",
    "                    y = history[list_of_metrics[n]]\n",
    "                    if n == 2:\n",
    "                        ax[i].plot(epoch, y, label=\"train\")\n",
    "                    else:\n",
    "                        ax[i].plot(epoch, y, label=\"validation\")\n",
    "                    ax[i].set_title('Accuracy')\n",
    "                    ax[i].legend(loc='lower right')\n",
    "                    \n",
    "    plt.show()"
   ]
  },
  {
   "cell_type": "code",
   "execution_count": 55,
   "id": "piano-outdoors",
   "metadata": {},
   "outputs": [
    {
     "data": {
      "image/png": "[encoded data removed]",
      "text/plain": [
       "<Figure size 432x288 with 2 Axes>"
      ]
     },
     "metadata": {
      "needs_background": "light"
     },
     "output_type": "display_data"
    }
   ],
   "source": [
    "line_plot(LSTM_history.epoch, LSTM_history.history, ['loss', 'val_loss', 'accuracy', 'val_accuracy'])"
   ]
  },
  {
   "cell_type": "markdown",
   "id": "wrapped-avenue",
   "metadata": {},
   "source": [
    "> Accuracy, loss 그래프 모두 학습이 불안정하며, 학습이 잘 되지 않는 모습을 보여주고 있다."
   ]
  },
  {
   "cell_type": "markdown",
   "id": "violent-story",
   "metadata": {},
   "source": [
    "### 6.3.2 Test"
   ]
  },
  {
   "cell_type": "code",
   "execution_count": 39,
   "id": "everyday-cache",
   "metadata": {},
   "outputs": [
    {
     "name": "stdout",
     "output_type": "stream",
     "text": [
      "1251/1251 [==============================] - 6s 5ms/step - loss: 0.6642 - accuracy: 0.5808\n"
     ]
    },
    {
     "data": {
      "text/plain": [
       "[0.66415935754776, 0.5808224678039551]"
      ]
     },
     "execution_count": 39,
     "metadata": {},
     "output_type": "execute_result"
    }
   ],
   "source": [
    "LSTM_model.evaluate(X_test, y_test)"
   ]
  },
  {
   "cell_type": "markdown",
   "id": "capital-luxury",
   "metadata": {},
   "source": [
    "> 학습된 LSTM 모델 성능을 테스트한 결과 loss는 0.6이나, 정확도는 58%라는 낮은 성능을 보여주었다."
   ]
  },
  {
   "cell_type": "markdown",
   "id": "welsh-suspect",
   "metadata": {},
   "source": [
    "> 위 과정을 통해 수치적 기록과, 시각적 기록 모두 LSTM 모델이 제대로 학습되지 않고 성능도 낮은 모습을 보여주었다.\n",
    "> "
   ]
  },
  {
   "cell_type": "markdown",
   "id": "established-adapter",
   "metadata": {},
   "source": [
    "# 7. Other Model"
   ]
  },
  {
   "cell_type": "markdown",
   "id": "impressive-hamburg",
   "metadata": {},
   "source": [
    "> 자연어 처리에 강점을 보여주는 LSTM 모델이 Sentence piece 토큰 학습을 잘 하지 못하는 모습을 보여주었다.<br>\n",
    "> 이에, Maxpool1D 와 Convolution 1D 모델을 활용하여 Sentence piece 토큰을 학습하고 결과를 확인하고자 한다. "
   ]
  },
  {
   "cell_type": "markdown",
   "id": "united-territory",
   "metadata": {},
   "source": [
    "## 7.1 Maxpool1D_model"
   ]
  },
  {
   "cell_type": "code",
   "execution_count": 34,
   "id": "limiting-escape",
   "metadata": {},
   "outputs": [
    {
     "name": "stdout",
     "output_type": "stream",
     "text": [
      "Model: \"sequential_1\"\n",
      "_________________________________________________________________\n",
      "Layer (type)                 Output Shape              Param #   \n",
      "=================================================================\n",
      "embedding_1 (Embedding)      (None, None, 63)          504000    \n",
      "_________________________________________________________________\n",
      "global_max_pooling1d (Global (None, 63)                0         \n",
      "_________________________________________________________________\n",
      "dense_2 (Dense)              (None, 16)                1024      \n",
      "_________________________________________________________________\n",
      "dense_3 (Dense)              (None, 1)                 17        \n",
      "=================================================================\n",
      "Total params: 505,041\n",
      "Trainable params: 505,041\n",
      "Non-trainable params: 0\n",
      "_________________________________________________________________\n"
     ]
    }
   ],
   "source": [
    "Maxpool1D_model = keras.Sequential()\n",
    "Maxpool1D_model.add(keras.layers.Embedding(vocab_size, word_vector_dim, input_shape=(None,)))\n",
    "Maxpool1D_model.add(keras.layers.GlobalMaxPooling1D())\n",
    "Maxpool1D_model.add(keras.layers.Dense(16, activation='tanh'))\n",
    "Maxpool1D_model.add(keras.layers.Dense(1, activation='sigmoid'))\n",
    "\n",
    "Maxpool1D_model.summary()"
   ]
  },
  {
   "cell_type": "markdown",
   "id": "fabulous-coast",
   "metadata": {},
   "source": [
    "> Maxpool1D 모델을 설계한 결과, 505,041개의 파라미터를 훈련해야함을 확인할 수 있다."
   ]
  },
  {
   "cell_type": "code",
   "execution_count": 57,
   "id": "unlike-lounge",
   "metadata": {},
   "outputs": [
    {
     "name": "stdout",
     "output_type": "stream",
     "text": [
      "Epoch 1/20\n",
      "188/188 [==============================] - 3s 13ms/step - loss: 0.6272 - accuracy: 0.6839 - val_loss: 0.3756 - val_accuracy: 0.8363\n",
      "Epoch 2/20\n",
      "188/188 [==============================] - 2s 13ms/step - loss: 0.3217 - accuracy: 0.8657 - val_loss: 0.3455 - val_accuracy: 0.8484\n",
      "Epoch 3/20\n",
      "188/188 [==============================] - 2s 13ms/step - loss: 0.2641 - accuracy: 0.8934 - val_loss: 0.3519 - val_accuracy: 0.8475\n",
      "Epoch 4/20\n",
      "188/188 [==============================] - 2s 13ms/step - loss: 0.2211 - accuracy: 0.9151 - val_loss: 0.3661 - val_accuracy: 0.8463\n",
      "Epoch 5/20\n",
      "188/188 [==============================] - 2s 12ms/step - loss: 0.1879 - accuracy: 0.9312 - val_loss: 0.3915 - val_accuracy: 0.8423\n",
      "Epoch 6/20\n",
      "188/188 [==============================] - 2s 13ms/step - loss: 0.1534 - accuracy: 0.9481 - val_loss: 0.4227 - val_accuracy: 0.8426\n",
      "Epoch 7/20\n",
      "188/188 [==============================] - 2s 13ms/step - loss: 0.1204 - accuracy: 0.9625 - val_loss: 0.4694 - val_accuracy: 0.8383\n",
      "Epoch 8/20\n",
      "188/188 [==============================] - 2s 13ms/step - loss: 0.0876 - accuracy: 0.9758 - val_loss: 0.5240 - val_accuracy: 0.8346\n",
      "Epoch 9/20\n",
      "188/188 [==============================] - 2s 13ms/step - loss: 0.0604 - accuracy: 0.9867 - val_loss: 0.5842 - val_accuracy: 0.8333\n",
      "Epoch 10/20\n",
      "188/188 [==============================] - 2s 13ms/step - loss: 0.0387 - accuracy: 0.9929 - val_loss: 0.6430 - val_accuracy: 0.8319\n",
      "Epoch 11/20\n",
      "188/188 [==============================] - 2s 13ms/step - loss: 0.0243 - accuracy: 0.9968 - val_loss: 0.7055 - val_accuracy: 0.8323\n",
      "Epoch 12/20\n",
      "188/188 [==============================] - 2s 13ms/step - loss: 0.0143 - accuracy: 0.9987 - val_loss: 0.7623 - val_accuracy: 0.8308\n",
      "Epoch 13/20\n",
      "188/188 [==============================] - 2s 13ms/step - loss: 0.0089 - accuracy: 0.9993 - val_loss: 0.8066 - val_accuracy: 0.8323\n",
      "Epoch 14/20\n",
      "188/188 [==============================] - 2s 13ms/step - loss: 0.0061 - accuracy: 0.9996 - val_loss: 0.8466 - val_accuracy: 0.8325\n",
      "Epoch 15/20\n",
      "188/188 [==============================] - 2s 13ms/step - loss: 0.0042 - accuracy: 0.9997 - val_loss: 0.8779 - val_accuracy: 0.8328\n",
      "Epoch 16/20\n",
      "188/188 [==============================] - 2s 13ms/step - loss: 0.0034 - accuracy: 0.9997 - val_loss: 0.9065 - val_accuracy: 0.8325\n",
      "Epoch 17/20\n",
      "188/188 [==============================] - 2s 12ms/step - loss: 0.0027 - accuracy: 0.9998 - val_loss: 0.9340 - val_accuracy: 0.8328\n",
      "Epoch 18/20\n",
      "188/188 [==============================] - 2s 13ms/step - loss: 0.0025 - accuracy: 0.9997 - val_loss: 0.9557 - val_accuracy: 0.8329\n",
      "Epoch 19/20\n",
      "188/188 [==============================] - 2s 13ms/step - loss: 0.0019 - accuracy: 0.9998 - val_loss: 0.9762 - val_accuracy: 0.8325\n",
      "Epoch 20/20\n",
      "188/188 [==============================] - 3s 14ms/step - loss: 0.0018 - accuracy: 0.9998 - val_loss: 0.9957 - val_accuracy: 0.8328\n"
     ]
    }
   ],
   "source": [
    "Maxpool1D_model.compile(optimizer='adam', loss='binary_crossentropy', metrics=['accuracy'])\n",
    "Maxpool1D_history = Maxpool1D_model.fit(x_train_set, y_train_set, epochs=epochs, batch_size=512, validation_data=(x_val_set, y_val_set), verbose=1)"
   ]
  },
  {
   "cell_type": "code",
   "execution_count": 58,
   "id": "gorgeous-draft",
   "metadata": {},
   "outputs": [
    {
     "data": {
      "image/png": "[encoded data removed]",
      "text/plain": [
       "<Figure size 432x288 with 2 Axes>"
      ]
     },
     "metadata": {
      "needs_background": "light"
     },
     "output_type": "display_data"
    }
   ],
   "source": [
    "line_plot(Maxpool1D_history.epoch, Maxpool1D_history.history, ['loss', 'val_loss', 'accuracy', 'val_accuracy'])"
   ]
  },
  {
   "cell_type": "markdown",
   "id": "aware-trash",
   "metadata": {},
   "source": [
    "> train의 Accuracy, loss 그래프 모두 안정적인 학습 과정을 보여주었다.<br>\n",
    "> 그러나, validation의  Accuracy, loss 그래프에서 수렴도은 안정적이었으나, 성능에서는 잘 개선되지 않는 모습을 보여주고 있다."
   ]
  },
  {
   "cell_type": "code",
   "execution_count": 66,
   "id": "annual-guatemala",
   "metadata": {},
   "outputs": [
    {
     "name": "stdout",
     "output_type": "stream",
     "text": [
      "1251/1251 [==============================] - 3s 3ms/step - loss: 1.0366 - accuracy: 0.8268\n"
     ]
    },
    {
     "data": {
      "text/plain": [
       "[1.0366066694259644, 0.8268125653266907]"
      ]
     },
     "execution_count": 66,
     "metadata": {},
     "output_type": "execute_result"
    }
   ],
   "source": [
    "Maxpool1D_model.evaluate(X_test, y_test)"
   ]
  },
  {
   "cell_type": "markdown",
   "id": "precious-situation",
   "metadata": {},
   "source": [
    "> 학습된 Maxpool 1D 모델 성능을 테스트한 결과 loss는 1.0이고, 정확도는 82%라는 준수한 성능을 보여주었다."
   ]
  },
  {
   "cell_type": "markdown",
   "id": "alternate-charles",
   "metadata": {},
   "source": [
    "## 7.2 Convolution 1D model"
   ]
  },
  {
   "cell_type": "code",
   "execution_count": 61,
   "id": "close-triple",
   "metadata": {},
   "outputs": [
    {
     "name": "stdout",
     "output_type": "stream",
     "text": [
      "Model: \"sequential_6\"\n",
      "_________________________________________________________________\n",
      "Layer (type)                 Output Shape              Param #   \n",
      "=================================================================\n",
      "embedding_5 (Embedding)      (None, None, 10)          80000     \n",
      "_________________________________________________________________\n",
      "conv1d_8 (Conv1D)            (None, None, 16)          816       \n",
      "_________________________________________________________________\n",
      "max_pooling1d_4 (MaxPooling1 (None, None, 16)          0         \n",
      "_________________________________________________________________\n",
      "conv1d_9 (Conv1D)            (None, None, 8)           648       \n",
      "_________________________________________________________________\n",
      "global_max_pooling1d_4 (Glob (None, 8)                 0         \n",
      "_________________________________________________________________\n",
      "dense_10 (Dense)             (None, 4)                 36        \n",
      "_________________________________________________________________\n",
      "dense_11 (Dense)             (None, 1)                 5         \n",
      "=================================================================\n",
      "Total params: 81,505\n",
      "Trainable params: 81,505\n",
      "Non-trainable params: 0\n",
      "_________________________________________________________________\n"
     ]
    }
   ],
   "source": [
    "model_conv_1D = tf.keras.Sequential()\n",
    "model_conv_1D.add(tf.keras.layers.Embedding(vocab_size, 10, input_shape=(None,)))\n",
    "model_conv_1D.add(tf.keras.layers.Conv1D(16, 5, activation='relu'))\n",
    "model_conv_1D.add(tf.keras.layers.MaxPooling1D(5))\n",
    "model_conv_1D.add(tf.keras.layers.Conv1D(8, 5, activation='relu'))\n",
    "model_conv_1D.add(tf.keras.layers.GlobalMaxPooling1D())\n",
    "model_conv_1D.add(tf.keras.layers.Dense(4, activation='tanh'))\n",
    "model_conv_1D.add(tf.keras.layers.Dense(1, activation='sigmoid'))\n",
    "model_conv_1D.summary()"
   ]
  },
  {
   "cell_type": "markdown",
   "id": "experienced-baker",
   "metadata": {},
   "source": [
    "> Convolution 1D 모델 디자인 결과, 81,505개의 파라미터를 훈련해야함을 확인할 수 있다."
   ]
  },
  {
   "cell_type": "code",
   "execution_count": 64,
   "id": "removed-personality",
   "metadata": {},
   "outputs": [
    {
     "name": "stdout",
     "output_type": "stream",
     "text": [
      "Epoch 1/20\n",
      "2995/2995 [==============================] - 26s 7ms/step - loss: 0.5233 - accuracy: 0.7055 - val_loss: 0.3517 - val_accuracy: 0.8477\n",
      "Epoch 2/20\n",
      "2995/2995 [==============================] - 15s 5ms/step - loss: 0.2952 - accuracy: 0.8781 - val_loss: 0.3484 - val_accuracy: 0.8467\n",
      "Epoch 3/20\n",
      "2995/2995 [==============================] - 15s 5ms/step - loss: 0.2385 - accuracy: 0.9075 - val_loss: 0.3667 - val_accuracy: 0.8430\n",
      "Epoch 4/20\n",
      "2995/2995 [==============================] - 15s 5ms/step - loss: 0.1869 - accuracy: 0.9330 - val_loss: 0.4066 - val_accuracy: 0.8405\n",
      "Epoch 5/20\n",
      "2995/2995 [==============================] - 15s 5ms/step - loss: 0.1415 - accuracy: 0.9530 - val_loss: 0.4616 - val_accuracy: 0.8344\n",
      "Epoch 6/20\n",
      "2995/2995 [==============================] - 15s 5ms/step - loss: 0.1086 - accuracy: 0.9658 - val_loss: 0.5208 - val_accuracy: 0.8253\n",
      "Epoch 7/20\n",
      "2995/2995 [==============================] - 15s 5ms/step - loss: 0.0829 - accuracy: 0.9746 - val_loss: 0.5790 - val_accuracy: 0.8261\n",
      "Epoch 8/20\n",
      "2995/2995 [==============================] - 15s 5ms/step - loss: 0.0633 - accuracy: 0.9816 - val_loss: 0.6411 - val_accuracy: 0.8225\n",
      "Epoch 9/20\n",
      "2995/2995 [==============================] - 15s 5ms/step - loss: 0.0536 - accuracy: 0.9847 - val_loss: 0.7060 - val_accuracy: 0.8203\n",
      "Epoch 10/20\n",
      "2995/2995 [==============================] - 17s 6ms/step - loss: 0.0432 - accuracy: 0.9882 - val_loss: 0.7464 - val_accuracy: 0.8175\n",
      "Epoch 11/20\n",
      "2995/2995 [==============================] - 15s 5ms/step - loss: 0.0378 - accuracy: 0.9891 - val_loss: 0.7758 - val_accuracy: 0.8171\n",
      "Epoch 12/20\n",
      "2995/2995 [==============================] - 15s 5ms/step - loss: 0.0332 - accuracy: 0.9913 - val_loss: 0.8204 - val_accuracy: 0.8143\n",
      "Epoch 13/20\n",
      "2995/2995 [==============================] - 15s 5ms/step - loss: 0.0274 - accuracy: 0.9930 - val_loss: 0.8328 - val_accuracy: 0.8117\n",
      "Epoch 14/20\n",
      "2995/2995 [==============================] - 15s 5ms/step - loss: 0.0264 - accuracy: 0.9927 - val_loss: 0.8690 - val_accuracy: 0.8094\n",
      "Epoch 15/20\n",
      "2995/2995 [==============================] - 15s 5ms/step - loss: 0.0235 - accuracy: 0.9939 - val_loss: 0.8894 - val_accuracy: 0.8097\n",
      "Epoch 16/20\n",
      "2995/2995 [==============================] - 15s 5ms/step - loss: 0.0228 - accuracy: 0.9939 - val_loss: 0.9117 - val_accuracy: 0.8137\n",
      "Epoch 17/20\n",
      "2995/2995 [==============================] - 15s 5ms/step - loss: 0.0205 - accuracy: 0.9946 - val_loss: 0.9185 - val_accuracy: 0.8129\n",
      "Epoch 18/20\n",
      "2995/2995 [==============================] - 15s 5ms/step - loss: 0.0205 - accuracy: 0.9950 - val_loss: 0.9399 - val_accuracy: 0.8123\n",
      "Epoch 19/20\n",
      "2995/2995 [==============================] - 15s 5ms/step - loss: 0.0192 - accuracy: 0.9955 - val_loss: 0.9631 - val_accuracy: 0.8108\n",
      "Epoch 20/20\n",
      "2995/2995 [==============================] - 15s 5ms/step - loss: 0.0166 - accuracy: 0.9961 - val_loss: 0.9382 - val_accuracy: 0.8125\n"
     ]
    }
   ],
   "source": [
    "model_conv_1D.compile(optimizer='adam', loss='binary_crossentropy', metrics=['accuracy'])\n",
    "model_conv_1D_history = model_conv_1D.fit(x_train_set, y_train_set, epochs=epochs, validation_data=(x_val_set, y_val_set))"
   ]
  },
  {
   "cell_type": "code",
   "execution_count": 65,
   "id": "periodic-music",
   "metadata": {},
   "outputs": [
    {
     "data": {
      "image/png": "[encoded data removed]",
      "text/plain": [
       "<Figure size 432x288 with 2 Axes>"
      ]
     },
     "metadata": {
      "needs_background": "light"
     },
     "output_type": "display_data"
    }
   ],
   "source": [
    "line_plot(model_conv_1D_history.epoch, model_conv_1D_history.history, ['loss', 'val_loss', 'accuracy', 'val_accuracy'])"
   ]
  },
  {
   "cell_type": "markdown",
   "id": "casual-nickname",
   "metadata": {},
   "source": [
    "> train의 Accuracy, loss 그래프 모두 안정적인 학습 과정을 보여주었다.<br>\n",
    "> validation의  Accuracy, loss 그래프에서는 불안정한 학습 과정을 보여주었다.<br>\n",
    "> 결과적으로, 성능은 더욱 나빠지는 모습을 보여주고있다. 이는 과적합 현상임을 확인할 수 있다."
   ]
  },
  {
   "cell_type": "code",
   "execution_count": 67,
   "id": "restricted-updating",
   "metadata": {},
   "outputs": [
    {
     "name": "stdout",
     "output_type": "stream",
     "text": [
      "1251/1251 [==============================] - 7s 4ms/step - loss: 1.0048 - accuracy: 0.8039\n"
     ]
    },
    {
     "data": {
      "text/plain": [
       "[1.0048096179962158, 0.8039274215698242]"
      ]
     },
     "execution_count": 67,
     "metadata": {},
     "output_type": "execute_result"
    }
   ],
   "source": [
    "model_conv_1D.evaluate(X_test, y_test)"
   ]
  },
  {
   "cell_type": "markdown",
   "id": "moving-knock",
   "metadata": {},
   "source": [
    "> 학습된 Convolution 1D 모델 성능을 테스트한 결과 loss는 1.0이고, 정확도는 80%라는 준수한 성능을 보여주었다."
   ]
  },
  {
   "cell_type": "markdown",
   "id": "funded-commerce",
   "metadata": {},
   "source": [
    "## 7.3 Resut"
   ]
  },
  {
   "cell_type": "markdown",
   "id": "bridal-telescope",
   "metadata": {},
   "source": [
    "> LSTM, Maxpool 1D, Convolution 1D 각각 3가지 모델을 활용하여 SentencePiece기반 토큰을 학습한 결과는 아래 표와 같다.<br>\n",
    "> LSTM모델은 가장 낮은 성능을 보여주었으나, loss rate는 3가지 모델중 가장 낮은 모습을 보여주었다.<br>\n",
    "> Maxpool 1D 모델은 LSTM와 비슷한 학습 파라미터를 보유했으나, 3가지 모델 중 가장 높은 정확도를 보여주었다.<br>\n",
    "> Convolution 1D는 3가지 모델중 가장 적은 학슴 파라미터를 필요로 하면서, 동시에 Maxpool 1D와 유사한 성능을 보여주었다."
   ]
  },
  {
   "cell_type": "markdown",
   "id": "italian-ridge",
   "metadata": {},
   "source": [
    "|모델명|parameter|accuracy|loss|\n",
    "|------|---|---|---|\n",
    "|LSTM|517,377|0.5808|<b>0.6642</b>|\n",
    "|Maxpool 1D|505,041|<b>0.8268</b>|1.0366|\n",
    "|Convolution 1D|<b>81,505</b> |0.8039|1.0048|"
   ]
  },
  {
   "cell_type": "markdown",
   "id": "involved-emission",
   "metadata": {},
   "source": [
    "> 위 결과를 통해, Sentence piece 기반 토큰에 가장 적합한 모델은 Convolution 1D 모델이라 생각한다."
   ]
  },
  {
   "cell_type": "markdown",
   "id": "awful-dayton",
   "metadata": {},
   "source": [
    "# 8. Research"
   ]
  },
  {
   "cell_type": "markdown",
   "id": "killing-cholesterol",
   "metadata": {},
   "source": [
    "> 본 8장에서는 위 실험에서 좋은 성능을 보여준 Convolution 1D 모델을 활용하여 Sentence piece 기반 토큰 외에 다른 토큰에서도 좋은 성능을 보여주는지 실험하는 과정을 기술한다."
   ]
  },
  {
   "cell_type": "markdown",
   "id": "seventh-decrease",
   "metadata": {},
   "source": [
    "## 8.1 Create token"
   ]
  },
  {
   "cell_type": "markdown",
   "id": "velvet-romance",
   "metadata": {},
   "source": [
    "> 본 8.1장에서는 Convolution 1D 모델에 사용하기위한 아래의 후보군 토큰을 생성하는 과정을 기술한다.\n",
    ">\n",
    "> + 공백 기반 토큰\n",
    "> + 형태소 기반 토큰\n",
    "> + Sentence Piece 기반 토큰 (실험완료)"
   ]
  },
  {
   "cell_type": "markdown",
   "id": "sharing-rendering",
   "metadata": {},
   "source": [
    "### 8.1.1 공백 기반 토큰 생성"
   ]
  },
  {
   "cell_type": "markdown",
   "id": "considerable-patch",
   "metadata": {},
   "source": [
    "> keras 라이브러리의 Tokenizer()의 하이퍼 파라미터 filters에 공백 인자를 넣어 공백 기반 토큰을 생성하는 사용자 정의 함수를 구현한다."
   ]
  },
  {
   "cell_type": "code",
   "execution_count": 33,
   "id": "immediate-soviet",
   "metadata": {},
   "outputs": [],
   "source": [
    "def blank_space_tokenize(corpus):\n",
    "    \n",
    "    df_data = list()\n",
    "    \n",
    "    for sentence in corpus:\n",
    "        df_data.append(sentence.split())\n",
    "    blank_space_tokenizer.fit_on_texts(df_data)\n",
    "    tensor = blank_space_tokenizer.texts_to_sequences(df_data)\n",
    "    tensor = pad_sequences(tensor, padding='post', maxlen=70)\n",
    "\n",
    "    return tensor"
   ]
  },
  {
   "cell_type": "markdown",
   "id": "cardiac-shower",
   "metadata": {},
   "source": [
    "> train과 test 데이터간의 중복 토큰을 방지하기 위해 공백 토큰나이저 객체는 전역변수로 설정하고, 각 데이터의 토큰을 확보한다."
   ]
  },
  {
   "cell_type": "code",
   "execution_count": 34,
   "id": "false-weight",
   "metadata": {},
   "outputs": [],
   "source": [
    "blank_space_tokenizer = tf.keras.preprocessing.text.Tokenizer(filters='')\n",
    "\n",
    "blank_space_x_train = blank_space_tokenize(train_data[\"document\"])\n",
    "blank_space_x_test = blank_space_tokenize(test_data[\"document\"])"
   ]
  },
  {
   "cell_type": "markdown",
   "id": "bottom-angle",
   "metadata": {},
   "source": [
    "> 공백으로 구분된 토큰을 어떻게 생성했는지 확인하고 토큰의 개수를 확인하는 작업을 진행한다."
   ]
  },
  {
   "cell_type": "code",
   "execution_count": 35,
   "id": "exact-conspiracy",
   "metadata": {},
   "outputs": [
    {
     "name": "stdout",
     "output_type": "stream",
     "text": [
      "1 : 영화\n",
      "2 : 너무\n",
      "3 : 정말\n",
      "4 : 진짜\n",
      "5 : 이\n",
      "6 : 영화.\n",
      "7 : 왜\n",
      "8 : 이런\n",
      "9 : 그냥\n",
      "10 : 더\n",
      "11 : 수\n",
      "12 : 최고의\n",
      "13 : 잘\n",
      "14 : 영화를\n",
      "15 : 보고\n",
      "16 : 본\n",
      "17 : 좀\n",
      "18 : 영화는\n",
      "19 : 다\n",
      "20 : 영화가\n",
      "\n",
      " 공백 기반 토큰 총 개수 :  314737\n"
     ]
    }
   ],
   "source": [
    "for index, value in blank_space_tokenizer.index_word.items():\n",
    "    if index > 20:\n",
    "        break\n",
    "        \n",
    "    print(\"{} : {}\".format(index, value))\n",
    "    \n",
    "print(\"\\n 공백 기반 토큰 총 개수 : \", len(blank_space_tokenizer.index_word))"
   ]
  },
  {
   "cell_type": "markdown",
   "id": "valued-thong",
   "metadata": {},
   "source": [
    "> 200,000 여개의 네이버 영화 리뷰 데이터를 공백 기반으로 토큰화 한 결과, 314,737개의 토큰이 생성되었다.<br>\n",
    "> 1, 6, 14, 18, 20번 인덱스를 보면 '영화'라는 같은 의미를 공유함에도 다른 단어로 인식함을 확인할 수 있다"
   ]
  },
  {
   "cell_type": "markdown",
   "id": "optional-integration",
   "metadata": {},
   "source": [
    "### 8.1.2 형태소 기반 토큰 생성"
   ]
  },
  {
   "cell_type": "markdown",
   "id": "crazy-parks",
   "metadata": {},
   "source": [
    "> KoNLPy 라이브러리의 MeCab() 클래스 함수를 활용하여 형태소 기반 토큰을 생성하는 사용자 정의 함수를 구현한다."
   ]
  },
  {
   "cell_type": "code",
   "execution_count": 36,
   "id": "incredible-appearance",
   "metadata": {},
   "outputs": [],
   "source": [
    "def morpheme_tokenize(corpus):\n",
    "    mecab_o = Mecab()\n",
    "    df_data = []\n",
    "    \n",
    "    for sentence in corpus:\n",
    "        df_data.append(mecab_o.morphs(sentence))\n",
    "\n",
    "    morpheme_tokenizer.fit_on_texts(df_data)\n",
    "    tensor = morpheme_tokenizer.texts_to_sequences(df_data)\n",
    "    tensor = pad_sequences(tensor, padding='post', maxlen=70)\n",
    "    \n",
    "    return tensor"
   ]
  },
  {
   "cell_type": "markdown",
   "id": "novel-audio",
   "metadata": {},
   "source": [
    "> train과 test 데이터간의 중복 토큰을 방지하기 위해 형태소 토큰나이저 객체는 전역변수로 설정하고, 각 데이터의 토큰을 확보한다."
   ]
  },
  {
   "cell_type": "code",
   "execution_count": 37,
   "id": "agreed-subscriber",
   "metadata": {},
   "outputs": [],
   "source": [
    "morpheme_tokenizer = tf.keras.preprocessing.text.Tokenizer(filters='')\n",
    "\n",
    "morpheme_x_train = morpheme_tokenize(train_data[\"document\"])\n",
    "morpheme_x_test = morpheme_tokenize(test_data[\"document\"])"
   ]
  },
  {
   "cell_type": "markdown",
   "id": "micro-homework",
   "metadata": {},
   "source": [
    "> 형태소로 구분된 토큰을 어떻게 생성했는지 확인하고 토큰의 개수를 확인하는 작업을 진행한다."
   ]
  },
  {
   "cell_type": "code",
   "execution_count": 38,
   "id": "spectacular-rebecca",
   "metadata": {},
   "outputs": [
    {
     "name": "stdout",
     "output_type": "stream",
     "text": [
      "1 : .\n",
      "2 : 이\n",
      "3 : 는\n",
      "4 : 영화\n",
      "5 : 다\n",
      "6 : 고\n",
      "7 : 하\n",
      "8 : 의\n",
      "9 : 도\n",
      "10 : 가\n",
      "11 : 은\n",
      "12 : 에\n",
      "13 : 을\n",
      "14 : 보\n",
      "15 : ..\n",
      "16 : 한\n",
      "17 : !\n",
      "18 : 게\n",
      "19 : ,\n",
      "20 : 지\n",
      "\n",
      " 형태소 기반 토큰 총 개수 :  49875\n"
     ]
    }
   ],
   "source": [
    "for index, value in morpheme_tokenizer.index_word.items():\n",
    "    if index > 20:\n",
    "        break\n",
    "        \n",
    "    print(\"{} : {}\".format(index, value))\n",
    "    \n",
    "print(\"\\n 형태소 기반 토큰 총 개수 : \", len(morpheme_tokenizer.index_word))"
   ]
  },
  {
   "cell_type": "markdown",
   "id": "mysterious-complexity",
   "metadata": {},
   "source": [
    "> 200,000 여개의 네이버 영화 리뷰 데이터를 형태소 기반으로 토큰화 한 결과, 49,875개의 토큰이 생성되었다.<br>\n",
    "> 의미가 중복되는 단어 없이 문법에 맞게 잘 분리되었음을 확인할 수 있다."
   ]
  },
  {
   "cell_type": "markdown",
   "id": "completed-quick",
   "metadata": {},
   "source": [
    "## 8.2 Token train for convolution 1D model"
   ]
  },
  {
   "cell_type": "markdown",
   "id": "ordered-aquatic",
   "metadata": {},
   "source": [
    "> 본 8.2장에서는 생성된 후보군의 토큰을 활용하여 Convolution 1D 모델에 학습하기위한 학습 데이터를 생성하고 훈련하는 과정을 기술한다."
   ]
  },
  {
   "cell_type": "markdown",
   "id": "backed-museum",
   "metadata": {},
   "source": [
    "### 8.2.1 Create train& validation dataset"
   ]
  },
  {
   "cell_type": "markdown",
   "id": "buried-paradise",
   "metadata": {},
   "source": [
    "> sklearn 라이브러리에서 모델 훈련에 사용하기 위한 데이터셋을 쉽게 생성할 수 있도록 제공하는 train_test_split()을 제공한다.<br>\n",
    "> 위 함수를 활용하여 각 토큰의 훈련용 데이터셋과 검증용 데이터셋을 8:2 비율로 생성한다."
   ]
  },
  {
   "cell_type": "code",
   "execution_count": 39,
   "id": "advanced-consent",
   "metadata": {},
   "outputs": [],
   "source": [
    "blank_space_x_train, blank_space_x_val, blank_space_y_train, blank_space_y_val = \\\n",
    "        train_test_split(blank_space_x_train, y_train, test_size=0.2, random_state=1996)\n",
    "\n",
    "morpheme_x_train, morpheme_x_val, morpheme_y_train, morpheme_y_val = \\\n",
    "        train_test_split(morpheme_x_train, y_train, test_size=0.2, random_state=1996)"
   ]
  },
  {
   "cell_type": "markdown",
   "id": "careful-probe",
   "metadata": {},
   "source": [
    "### 8.2.2 Conv1D model train for blank space token"
   ]
  },
  {
   "cell_type": "code",
   "execution_count": 51,
   "id": "rental-begin",
   "metadata": {},
   "outputs": [
    {
     "name": "stdout",
     "output_type": "stream",
     "text": [
      "Model: \"sequential_4\"\n",
      "_________________________________________________________________\n",
      "Layer (type)                 Output Shape              Param #   \n",
      "=================================================================\n",
      "embedding_3 (Embedding)      (None, None, 10)          3147470   \n",
      "_________________________________________________________________\n",
      "conv1d_4 (Conv1D)            (None, None, 16)          816       \n",
      "_________________________________________________________________\n",
      "max_pooling1d_2 (MaxPooling1 (None, None, 16)          0         \n",
      "_________________________________________________________________\n",
      "conv1d_5 (Conv1D)            (None, None, 8)           648       \n",
      "_________________________________________________________________\n",
      "global_max_pooling1d_2 (Glob (None, 8)                 0         \n",
      "_________________________________________________________________\n",
      "dense_6 (Dense)              (None, 4)                 36        \n",
      "_________________________________________________________________\n",
      "dense_7 (Dense)              (None, 1)                 5         \n",
      "=================================================================\n",
      "Total params: 3,148,975\n",
      "Trainable params: 3,148,975\n",
      "Non-trainable params: 0\n",
      "_________________________________________________________________\n"
     ]
    }
   ],
   "source": [
    "blank_space_conv1d_model = tf.keras.Sequential()\n",
    "blank_space_conv1d_model.add(tf.keras.layers.Embedding(len(blank_space_tokenizer.index_word)+10, 10, input_shape=(None,)))\n",
    "blank_space_conv1d_model.add(tf.keras.layers.Conv1D(16, 5, activation='relu'))\n",
    "blank_space_conv1d_model.add(tf.keras.layers.MaxPooling1D(5))\n",
    "blank_space_conv1d_model.add(tf.keras.layers.Conv1D(8, 5, activation='relu'))\n",
    "blank_space_conv1d_model.add(tf.keras.layers.MaxPooling1D(5))\n",
    "blank_space_conv1d_model.add(tf.keras.layers.Dense(4, activation='tanh'))\n",
    "blank_space_conv1d_model.add(tf.keras.layers.Dense(1, activation='sigmoid'))\n",
    "blank_space_conv1d_model.summary()"
   ]
  },
  {
   "cell_type": "markdown",
   "id": "attempted-flavor",
   "metadata": {},
   "source": [
    "> 공백 기반 토큰을 활용한 Convolution 1D 모델을 설계한 결과, 3,148,975개의 파라미터를 훈련해야함을 확인할 수 있다.<br>\n",
    "> 공백 기반 토큰의 임베딩 파라미터 개수가 많기에, 이에따라 학습할 파라미터의 개수도 많은 모습을 보여준다."
   ]
  },
  {
   "cell_type": "code",
   "execution_count": 52,
   "id": "greater-geography",
   "metadata": {},
   "outputs": [
    {
     "name": "stdout",
     "output_type": "stream",
     "text": [
      "Epoch 1/10\n",
      "2995/2995 [==============================] - 62s 20ms/step - loss: 0.5646 - accuracy: 0.6735 - val_loss: 0.4429 - val_accuracy: 0.7801\n",
      "Epoch 2/10\n",
      "2995/2995 [==============================] - 58s 19ms/step - loss: 0.1654 - accuracy: 0.9441 - val_loss: 0.5277 - val_accuracy: 0.7652\n",
      "Epoch 3/10\n",
      "2995/2995 [==============================] - 62s 21ms/step - loss: 0.0383 - accuracy: 0.9889 - val_loss: 0.6688 - val_accuracy: 0.7659\n",
      "Epoch 4/10\n",
      "2995/2995 [==============================] - 63s 21ms/step - loss: 0.0120 - accuracy: 0.9970 - val_loss: 0.8075 - val_accuracy: 0.7618\n",
      "Epoch 5/10\n",
      "2995/2995 [==============================] - 61s 20ms/step - loss: 0.0052 - accuracy: 0.9985 - val_loss: 0.9725 - val_accuracy: 0.7546\n",
      "Epoch 6/10\n",
      "2995/2995 [==============================] - 60s 20ms/step - loss: 0.0022 - accuracy: 0.9995 - val_loss: 1.0845 - val_accuracy: 0.7590\n",
      "Epoch 7/10\n",
      "2995/2995 [==============================] - 60s 20ms/step - loss: 0.0012 - accuracy: 0.9997 - val_loss: 1.2937 - val_accuracy: 0.7501\n",
      "Epoch 8/10\n",
      "2995/2995 [==============================] - 61s 20ms/step - loss: 9.3268e-04 - accuracy: 0.9997 - val_loss: 1.3214 - val_accuracy: 0.7412\n",
      "Epoch 9/10\n",
      "2995/2995 [==============================] - 61s 20ms/step - loss: 6.3074e-04 - accuracy: 0.9998 - val_loss: 1.3231 - val_accuracy: 0.7541\n",
      "Epoch 10/10\n",
      "2995/2995 [==============================] - 62s 21ms/step - loss: 1.1202e-04 - accuracy: 1.0000 - val_loss: 1.5097 - val_accuracy: 0.7523\n"
     ]
    }
   ],
   "source": [
    "blank_space_conv1d_model.compile(optimizer='adam', loss='binary_crossentropy', metrics=['accuracy'])\n",
    "blank_space_conv1d_history = blank_space_conv1d_model.fit(blank_space_x_train, blank_space_y_train, epochs=10, validation_data=(blank_space_x_val, blank_space_y_val))"
   ]
  },
  {
   "cell_type": "markdown",
   "id": "awful-finland",
   "metadata": {},
   "source": [
    "### 8.2.3 Conv1D model train for morpheme token"
   ]
  },
  {
   "cell_type": "code",
   "execution_count": 55,
   "id": "prerequisite-hundred",
   "metadata": {},
   "outputs": [
    {
     "name": "stdout",
     "output_type": "stream",
     "text": [
      "Model: \"sequential_5\"\n",
      "_________________________________________________________________\n",
      "Layer (type)                 Output Shape              Param #   \n",
      "=================================================================\n",
      "embedding_4 (Embedding)      (None, None, 10)          498850    \n",
      "_________________________________________________________________\n",
      "conv1d_6 (Conv1D)            (None, None, 16)          816       \n",
      "_________________________________________________________________\n",
      "max_pooling1d_3 (MaxPooling1 (None, None, 16)          0         \n",
      "_________________________________________________________________\n",
      "conv1d_7 (Conv1D)            (None, None, 8)           648       \n",
      "_________________________________________________________________\n",
      "global_max_pooling1d_3 (Glob (None, 8)                 0         \n",
      "_________________________________________________________________\n",
      "dense_8 (Dense)              (None, 4)                 36        \n",
      "_________________________________________________________________\n",
      "dense_9 (Dense)              (None, 1)                 5         \n",
      "=================================================================\n",
      "Total params: 500,355\n",
      "Trainable params: 500,355\n",
      "Non-trainable params: 0\n",
      "_________________________________________________________________\n"
     ]
    }
   ],
   "source": [
    "morpheme_conv1d_model = tf.keras.Sequential()\n",
    "morpheme_conv1d_model.add(tf.keras.layers.Embedding(len(morpheme_tokenizer.index_word)+10, 10, input_shape=(None,)))\n",
    "morpheme_conv1d_model.add(tf.keras.layers.Conv1D(16, 5, activation='relu'))\n",
    "morpheme_conv1d_model.add(tf.keras.layers.MaxPooling1D(5))\n",
    "morpheme_conv1d_model.add(tf.keras.layers.Conv1D(8, 5, activation='relu'))\n",
    "morpheme_conv1d_model.add(tf.keras.layers.GlobalMaxPooling1D())\n",
    "morpheme_conv1d_model.add(tf.keras.layers.Dense(4, activation='tanh'))\n",
    "morpheme_conv1d_model.add(tf.keras.layers.Dense(1, activation='sigmoid'))\n",
    "morpheme_conv1d_model.summary()"
   ]
  },
  {
   "cell_type": "markdown",
   "id": "premium-martial",
   "metadata": {},
   "source": [
    "> 형태소 기반 토큰을 활용한 Convolution 1D 모델을 설계한 결과, 500,355개의 파라미터를 훈련해야함을 확인할 수 있다.<br>\n",
    "> 형태소 기반 토큰의 임베딩 파라미터 개수가 꽤 있기에, 이에따라 학습할 파라미터의 개수도 많은 모습을 보여준다."
   ]
  },
  {
   "cell_type": "code",
   "execution_count": 56,
   "id": "chief-shaft",
   "metadata": {},
   "outputs": [
    {
     "name": "stdout",
     "output_type": "stream",
     "text": [
      "Epoch 1/10\n",
      "2995/2995 [==============================] - 21s 7ms/step - loss: 0.4977 - accuracy: 0.7472 - val_loss: 0.3473 - val_accuracy: 0.8508\n",
      "Epoch 2/10\n",
      "2995/2995 [==============================] - 20s 7ms/step - loss: 0.2866 - accuracy: 0.8853 - val_loss: 0.3456 - val_accuracy: 0.8516\n",
      "Epoch 3/10\n",
      "2995/2995 [==============================] - 20s 7ms/step - loss: 0.2107 - accuracy: 0.9208 - val_loss: 0.3606 - val_accuracy: 0.8508\n",
      "Epoch 4/10\n",
      "2995/2995 [==============================] - 20s 7ms/step - loss: 0.1575 - accuracy: 0.9435 - val_loss: 0.4055 - val_accuracy: 0.8450\n",
      "Epoch 5/10\n",
      "2995/2995 [==============================] - 20s 7ms/step - loss: 0.1184 - accuracy: 0.9596 - val_loss: 0.4492 - val_accuracy: 0.8388\n",
      "Epoch 6/10\n",
      "2995/2995 [==============================] - 20s 7ms/step - loss: 0.0934 - accuracy: 0.9692 - val_loss: 0.4971 - val_accuracy: 0.8324\n",
      "Epoch 7/10\n",
      "2995/2995 [==============================] - 20s 7ms/step - loss: 0.0727 - accuracy: 0.9773 - val_loss: 0.5502 - val_accuracy: 0.8315\n",
      "Epoch 8/10\n",
      "2995/2995 [==============================] - 20s 7ms/step - loss: 0.0609 - accuracy: 0.9809 - val_loss: 0.6093 - val_accuracy: 0.8280\n",
      "Epoch 9/10\n",
      "2995/2995 [==============================] - 20s 7ms/step - loss: 0.0510 - accuracy: 0.9840 - val_loss: 0.6558 - val_accuracy: 0.8203\n",
      "Epoch 10/10\n",
      "2995/2995 [==============================] - 20s 7ms/step - loss: 0.0442 - accuracy: 0.9870 - val_loss: 0.6868 - val_accuracy: 0.8195\n"
     ]
    }
   ],
   "source": [
    "morpheme_conv1d_model.compile(optimizer='adam', loss='binary_crossentropy', metrics=['accuracy'])\n",
    "morpheme_conv1d_history = morpheme_conv1d_model.fit(morpheme_x_train, morpheme_y_train, epochs=10, validation_data=(morpheme_x_val, morpheme_y_val))"
   ]
  },
  {
   "cell_type": "markdown",
   "id": "fifth-version",
   "metadata": {},
   "source": [
    "## 8.3 model test"
   ]
  },
  {
   "cell_type": "markdown",
   "id": "alert-stock",
   "metadata": {},
   "source": [
    "> 본 8.3장에서는 8.2장에서 Convolution 1D 모델의 학습 과정을 살펴보고, Test 데이터셋을 활용하여 성능을 평가한다."
   ]
  },
  {
   "cell_type": "markdown",
   "id": "detected-junction",
   "metadata": {},
   "source": [
    "### 8.3.1 Conv1D model test for blank space token"
   ]
  },
  {
   "cell_type": "markdown",
   "id": "mechanical-champagne",
   "metadata": {},
   "source": [
    "> 공백 기반 토큰을 학습한 Convoluton 1D 모델의 학습 과정은 아래 그림과 같다."
   ]
  },
  {
   "cell_type": "code",
   "execution_count": 59,
   "id": "matched-sentence",
   "metadata": {},
   "outputs": [
    {
     "data": {
      "image/png": "[encoded data removed]",
      "text/plain": [
       "<Figure size 432x288 with 2 Axes>"
      ]
     },
     "metadata": {
      "needs_background": "light"
     },
     "output_type": "display_data"
    }
   ],
   "source": [
    "line_plot(blank_space_conv1d_history.epoch, blank_space_conv1d_history.history, ['loss', 'val_loss','accuracy', 'val_accuracy'])"
   ]
  },
  {
   "cell_type": "markdown",
   "id": "average-defense",
   "metadata": {},
   "source": [
    "> train의 Accuracy, loss 그래프 모두 안정적인 학습 과정을 보여주었다.<br>\n",
    "> validation의  Accuracy, loss 그래프에서는 성능이 역행하는 모습을 보여주었다.<br>"
   ]
  },
  {
   "cell_type": "code",
   "execution_count": 54,
   "id": "buried-highway",
   "metadata": {},
   "outputs": [
    {
     "name": "stdout",
     "output_type": "stream",
     "text": [
      "1251/1251 [==============================] - 3s 2ms/step - loss: 3.7523 - accuracy: 0.5059\n"
     ]
    },
    {
     "data": {
      "text/plain": [
       "[3.752335548400879, 0.5058961510658264]"
      ]
     },
     "execution_count": 54,
     "metadata": {},
     "output_type": "execute_result"
    }
   ],
   "source": [
    "blank_space_conv1d_model.evaluate(blank_space_x_test, y_test)"
   ]
  },
  {
   "cell_type": "markdown",
   "id": "classical-pledge",
   "metadata": {},
   "source": [
    "> 공백 기반 토큰을 학습한 Convolution 1D 모델 성능을 테스트한 결과 loss는 3.7이고, 정확도는 50%라는 낮은 성능을 보여주었다."
   ]
  },
  {
   "cell_type": "markdown",
   "id": "seasonal-johnston",
   "metadata": {},
   "source": [
    "### 8.3.2 Conv1D model test for morpheme token"
   ]
  },
  {
   "cell_type": "markdown",
   "id": "loving-shipping",
   "metadata": {},
   "source": [
    "> 형태소 기반 토큰을 학습한 Convoluton 1D 모델의 학습 과정은 아래 그림과 같다."
   ]
  },
  {
   "cell_type": "code",
   "execution_count": 60,
   "id": "shaped-philip",
   "metadata": {},
   "outputs": [
    {
     "data": {
      "image/png": "[encoded data removed]",
      "text/plain": [
       "<Figure size 432x288 with 2 Axes>"
      ]
     },
     "metadata": {
      "needs_background": "light"
     },
     "output_type": "display_data"
    }
   ],
   "source": [
    "line_plot(morpheme_conv1d_history.epoch, morpheme_conv1d_history.history, ['loss', 'val_loss', 'accuracy', 'val_accuracy'])"
   ]
  },
  {
   "cell_type": "markdown",
   "id": "northern-possibility",
   "metadata": {},
   "source": [
    "> train의 Accuracy, loss 그래프 모두 안정적인 학습 과정을 보여주었다.<br>\n",
    "> validation의  Accuracy, loss 그래프에서는 값은 안정적으로 수렴하나, 성능은 반대로 나빠지는 모습을 보여주었다."
   ]
  },
  {
   "cell_type": "code",
   "execution_count": 58,
   "id": "smaller-transportation",
   "metadata": {},
   "outputs": [
    {
     "name": "stdout",
     "output_type": "stream",
     "text": [
      "1251/1251 [==============================] - 3s 2ms/step - loss: 1.8114 - accuracy: 0.5803\n"
     ]
    },
    {
     "data": {
      "text/plain": [
       "[1.8114036321640015, 0.5802978277206421]"
      ]
     },
     "execution_count": 58,
     "metadata": {},
     "output_type": "execute_result"
    }
   ],
   "source": [
    "morpheme_conv1d_model.evaluate(morpheme_x_test, y_test)"
   ]
  },
  {
   "cell_type": "markdown",
   "id": "civil-cisco",
   "metadata": {},
   "source": [
    "> 형태소 기반 토큰을 학습한 Convolution 1D 모델 성능을 테스트한 결과 loss는 1.8이고, 정확도는 58%인 결과를 확인할 수 있다."
   ]
  },
  {
   "cell_type": "markdown",
   "id": "successful-export",
   "metadata": {},
   "source": [
    "## 8.4 Result"
   ]
  },
  {
   "cell_type": "markdown",
   "id": "trying-consistency",
   "metadata": {},
   "source": [
    "> 각각 공백, 형태소, 문장 조각 기법을 활용하여 토큰을 생성하고, 각 토큰을 Convolution 1D모델로 학습한 결과는 아래 표와 같다."
   ]
  },
  {
   "cell_type": "markdown",
   "id": "solved-anaheim",
   "metadata": {},
   "source": [
    "|모델|토큰 종류|train parameter|test_accuracy|test_loss|\n",
    "|---|------|---|---|---|\n",
    "|Convolution 1D|공백(Blank Space)|3,148,975|0.5059|3.7523|\n",
    "|Convolution 1D|형태소(morpheme)|500,355|0.5803|1.8114|\n",
    "|Convolution 1D|문장 조각(Sentence Piece)|<b>81,505</b> |<b>0.8039</b>|<b>1.0048</b>|"
   ]
  },
  {
   "cell_type": "markdown",
   "id": "representative-feeling",
   "metadata": {},
   "source": [
    "> 공백(Blank Space) 토큰 기반 Conv1D 모델은 3가지 비교군에서 가장 낮은 성능을 보여주었다.<br>\n",
    "> 또한, 학습에 필요한 학습 파라미터가 너무 많아 학습 시간도 비교군에 비해 오래 걸리는 모습을 보여주었다.<br>\n",
    "> <br>\n",
    "> \n",
    "> 형태소(morpheme) 토큰 기반 Conv1D 모델은 3가지 비교군에서 2번째로 낮은 성능을 보여주었다.<br>\n",
    "> 공백 기반 토큰 모델에 비해, 학습 파라미터가 1/6로 크게 감소했으며, test_loss도 절반으로 감소한 모습을 확인할 수 있다.<br>\n",
    "> 그러나 test_accuracy의 성능이 낮아 실 사용에는 활용하기에는 부족하다는 문제가 있다.<br>\n",
    "> <br>\n",
    "> 문장 조각(Sentence Piece) 토큰 기반 Conv1D 모델은 3가지 비교군에서 가장 높은 성능을 보여주었다.<br>\n",
    "> test_accuracy는 80%이며, test_loss 또한 1.0으로 준수한 성능으로 프로토타입 서비스에 활용할 수 있음을 보여주었다.<br>\n",
    "> 특히, 학습 파라미터는 공백 기반 토큰 모델 대비 2.5%으로 매우 적은 학습 파라미터 개수를 보여주었다.<br>\n",
    "> 이는 모델의 학습에 소요되는 시간이 감소되는 장점을 얻을 수 있다."
   ]
  }
 ],
 "metadata": {
  "kernelspec": {
   "display_name": "Python 3",
   "language": "python",
   "name": "python3"
  },
  "language_info": {
   "codemirror_mode": {
    "name": "ipython",
    "version": 3
   },
   "file_extension": ".py",
   "mimetype": "text/x-python",
   "name": "python",
   "nbconvert_exporter": "python",
   "pygments_lexer": "ipython3",
   "version": "3.7.9"
  }
 },
 "nbformat": 4,
 "nbformat_minor": 5
}

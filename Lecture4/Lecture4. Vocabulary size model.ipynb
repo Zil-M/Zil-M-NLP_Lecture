{
 "cells": [
  {
   "cell_type": "markdown",
   "id": "hidden-wellington",
   "metadata": {},
   "source": [
    "# 연구 목표"
   ]
  },
  {
   "cell_type": "markdown",
   "id": "dental-russia",
   "metadata": {},
   "source": [
    "> 자연어 처리 분야에서 컴퓨터에게 언어를 효율으로 학습시키기 위해, 다양한 머신러닝 알고리듬이 연구되었고 기존 하드웨어 성능의 한계로 인한 문제가 개선됨에 따라 자연어를 딥러닝에 적용하는 연구도 활발하게 진행되고 있다. 이에, 본 연구에서는 Keras사에서 제공하는 '로이터 뉴스(Reuters News)' 데이터를 활용하여 머신러닝 알고리듬과 딥러닝 모델의 성능을 비교하고, 모델에서 사용하는 단어 수(vacabulary size)의 차이가 모델 성능에 영향을 미치는지 분석하는 실험을 진행한다."
   ]
  },
  {
   "cell_type": "code",
   "execution_count": 84,
   "id": "reasonable-dressing",
   "metadata": {},
   "outputs": [],
   "source": [
    "import numpy as np\n",
    "import pandas as pd\n",
    "import seaborn as sns\n",
    "import missingno as msno\n",
    "import matplotlib.pyplot as plt\n",
    "import tensorflow as tf\n",
    "\n",
    "from tensorflow import keras\n",
    "from keras import backend as K\n",
    "from tensorflow.keras.datasets import reuters\n",
    "from tensorflow.keras.utils import to_categorical\n",
    "from tensorflow.keras.preprocessing.sequence import pad_sequences\n",
    "\n",
    "from sklearn.metrics import f1_score\n",
    "from sklearn.metrics import recall_score\n",
    "from sklearn.metrics import precision_score \n",
    "from sklearn.metrics import accuracy_score\n",
    "from sklearn.metrics import confusion_matrix\n",
    "from sklearn.metrics import classification_report\n",
    "from sklearn.model_selection import train_test_split\n",
    "from sklearn.feature_extraction.text import CountVectorizer\n",
    "from sklearn.feature_extraction.text import TfidfTransformer\n",
    "\n",
    "from sklearn.svm import LinearSVC\n",
    "from sklearn.tree import DecisionTreeClassifier\n",
    "from sklearn.naive_bayes import ComplementNB\n",
    "from sklearn.naive_bayes import MultinomialNB\n",
    "from sklearn.ensemble import VotingClassifier\n",
    "from sklearn.ensemble import RandomForestClassifier\n",
    "from sklearn.ensemble import GradientBoostingClassifier\n",
    "from sklearn.linear_model import LogisticRegression, SGDClassifier"
   ]
  },
  {
   "cell_type": "markdown",
   "id": "south-devon",
   "metadata": {},
   "source": [
    "# 1. Reuters News Data EDA"
   ]
  },
  {
   "cell_type": "markdown",
   "id": "joint-occasion",
   "metadata": {},
   "source": [
    "> 본 1장에서는 데이터 전처리 이전에 Reuters News 데이터의 특징을 분석하는 과정을 기술한다."
   ]
  },
  {
   "cell_type": "markdown",
   "id": "promising-advocacy",
   "metadata": {},
   "source": [
    "## 1.1 Data Load"
   ]
  },
  {
   "cell_type": "markdown",
   "id": "acquired-equation",
   "metadata": {},
   "source": [
    "> Reuters News 데이터를 8:2 비율로 학습 데이터와 테스트 데이터로 분할하여 데이터를 메모리에 할당한다."
   ]
  },
  {
   "cell_type": "code",
   "execution_count": 2,
   "id": "external-satisfaction",
   "metadata": {},
   "outputs": [
    {
     "name": "stderr",
     "output_type": "stream",
     "text": [
      "/opt/conda/lib/python3.7/site-packages/tensorflow/python/keras/datasets/reuters.py:148: VisibleDeprecationWarning: Creating an ndarray from ragged nested sequences (which is a list-or-tuple of lists-or-tuples-or ndarrays with different lengths or shapes) is deprecated. If you meant to do this, you must specify 'dtype=object' when creating the ndarray\n",
      "  x_train, y_train = np.array(xs[:idx]), np.array(labels[:idx])\n",
      "/opt/conda/lib/python3.7/site-packages/tensorflow/python/keras/datasets/reuters.py:149: VisibleDeprecationWarning: Creating an ndarray from ragged nested sequences (which is a list-or-tuple of lists-or-tuples-or ndarrays with different lengths or shapes) is deprecated. If you meant to do this, you must specify 'dtype=object' when creating the ndarray\n",
      "  x_test, y_test = np.array(xs[idx:]), np.array(labels[idx:])\n"
     ]
    }
   ],
   "source": [
    "(x_train, y_train), (x_test, y_test) = reuters.load_data(test_split=0.2)"
   ]
  },
  {
   "cell_type": "code",
   "execution_count": 3,
   "id": "coral-soldier",
   "metadata": {},
   "outputs": [
    {
     "name": "stdout",
     "output_type": "stream",
     "text": [
      "학습 데이터 text 개수: 8982\n",
      "학습 데이터 label 개수: 8982\n",
      "테스트 데이터 text 개수: 2246\n",
      "테스트 데이터 label 개수: 2246\n"
     ]
    }
   ],
   "source": [
    "print(f'학습 데이터 text 개수: {len(x_train)}')\n",
    "print(f'학습 데이터 label 개수: {len(y_train)}')\n",
    "print(f'테스트 데이터 text 개수: {len(x_test)}')\n",
    "print(f'테스트 데이터 label 개수: {len(y_test)}')"
   ]
  },
  {
   "cell_type": "markdown",
   "id": "likely-integer",
   "metadata": {},
   "source": [
    "> 학습 데이터는 8,982개, 테스트 데이터는 2246개이다."
   ]
  },
  {
   "cell_type": "markdown",
   "id": "copyrighted-drinking",
   "metadata": {},
   "source": [
    "## 1.2 Data Feature Analysis"
   ]
  },
  {
   "cell_type": "markdown",
   "id": "exciting-asset",
   "metadata": {},
   "source": [
    "### 1.2.1 뉴스 주제 종류 분석"
   ]
  },
  {
   "cell_type": "markdown",
   "id": "recent-blowing",
   "metadata": {},
   "source": [
    "> Reuters News는 뉴스 주제(카테고리)를 라벨에 분류하여 표기하였고, 이를 활용하여 카데고리의 개수를 분석한다.<br>"
   ]
  },
  {
   "cell_type": "code",
   "execution_count": 4,
   "id": "fatty-budget",
   "metadata": {},
   "outputs": [
    {
     "name": "stdout",
     "output_type": "stream",
     "text": [
      "뉴스 주제(카테고리)의 종류 가지 수 : 46\n"
     ]
    }
   ],
   "source": [
    "set_lable = set(y_test)\n",
    "news_label = max(set_lable)+1\n",
    "\n",
    "print(f'뉴스 주제(카테고리)의 종류 가지 수 : {news_label}')"
   ]
  },
  {
   "cell_type": "markdown",
   "id": "configured-petite",
   "metadata": {},
   "source": [
    "> Reuters News는 46가지의 주제가 분포되어있음을 확인할 수 있다."
   ]
  },
  {
   "cell_type": "markdown",
   "id": "correct-sponsorship",
   "metadata": {},
   "source": [
    "### 1.2.2 본문의 단어 종류 분석"
   ]
  },
  {
   "cell_type": "markdown",
   "id": "stable-plasma",
   "metadata": {},
   "source": [
    "> 본문 텍스트의 종류 개수를 분석한 결과는 아래와 같다."
   ]
  },
  {
   "cell_type": "code",
   "execution_count": 5,
   "id": "sexual-painting",
   "metadata": {},
   "outputs": [
    {
     "name": "stdout",
     "output_type": "stream",
     "text": [
      "Reuters News의 본문 개수 : 11228 개\n",
      "Reuters News의 단어 종류 개수 : 30980 가지\n"
     ]
    }
   ],
   "source": [
    "df_sentence = np.concatenate((x_train, x_test), axis=0)\n",
    "print(f\"Reuters News의 본문 개수 : {len(df_sentence)} 개\")\n",
    "\n",
    "df_text = set()\n",
    "for sentence in df_sentence:\n",
    "    df_text.update(sentence)\n",
    "    \n",
    "print(f\"Reuters News의 단어 종류 개수 : {len(df_text)} 가지\")"
   ]
  },
  {
   "cell_type": "markdown",
   "id": "noticed-think",
   "metadata": {},
   "source": [
    "> 뉴스 본문은 11,228 개 이며, 본문에 사용된 단어의 종류는 30,980 가지이다."
   ]
  },
  {
   "cell_type": "markdown",
   "id": "annual-reset",
   "metadata": {},
   "source": [
    "## 1.3 Data Distribution analysis"
   ]
  },
  {
   "cell_type": "markdown",
   "id": "focal-mozambique",
   "metadata": {},
   "source": [
    "> Reuters News의 본문과 주제의 구성를 분석하기 위한 분포도를 확인한다."
   ]
  },
  {
   "cell_type": "markdown",
   "id": "ordered-liabilities",
   "metadata": {},
   "source": [
    "### 1.3.1 뉴스 본문 데이터 분포도 분석"
   ]
  },
  {
   "cell_type": "markdown",
   "id": "disciplinary-arena",
   "metadata": {},
   "source": [
    "> Reuters News 본문 데이터의 분포를 분석하기위한 사용자 정의 함수를 구현한다."
   ]
  },
  {
   "cell_type": "code",
   "execution_count": 6,
   "id": "nuclear-ceiling",
   "metadata": {},
   "outputs": [],
   "source": [
    "def print_distribution_data(df_data, title='데이터'):\n",
    "    print(f'{title}의 본문 최대 길이 :{max(len(l) for l in df_data)}')\n",
    "    print(f'{title}의 본문 평균 길이 :{sum(map(len, x_train))/len(x_train)}')\n",
    "\n",
    "    plt.hist([len(s) for s in df_data], bins=50)\n",
    "    plt.xlabel('length of samples')\n",
    "    plt.ylabel('number of samples')\n",
    "    plt.show()"
   ]
  },
  {
   "cell_type": "markdown",
   "id": "forward-volunteer",
   "metadata": {},
   "source": [
    "> 학습 데이터의 뉴스 본문 분포도를 분석한 결과 가장 긴 뉴스 본문은 2,376자, 평균 145자이다."
   ]
  },
  {
   "cell_type": "code",
   "execution_count": 7,
   "id": "expressed-difference",
   "metadata": {},
   "outputs": [
    {
     "name": "stdout",
     "output_type": "stream",
     "text": [
      "학습 데이터의 본문 최대 길이 :2376\n",
      "학습 데이터의 본문 평균 길이 :145.5398574927633\n"
     ]
    },
    {
     "data": {
      "image/png": "[encoded data removed]",
      "text/plain": [
       "<Figure size 432x288 with 1 Axes>"
      ]
     },
     "metadata": {
      "needs_background": "light"
     },
     "output_type": "display_data"
    }
   ],
   "source": [
    "print_distribution_data(x_train, '학습 데이터')"
   ]
  },
  {
   "cell_type": "markdown",
   "id": "pleasant-memory",
   "metadata": {},
   "source": [
    "> 테스트 데이터의 뉴스 본문 분포도를 분석한 결과 가장 긴 뉴스 본문은 1,032자, 평균 145자이다."
   ]
  },
  {
   "cell_type": "code",
   "execution_count": 8,
   "id": "structured-theater",
   "metadata": {},
   "outputs": [
    {
     "name": "stdout",
     "output_type": "stream",
     "text": [
      "테스트 데이터의 본문 최대 길이 :1032\n",
      "테스트 데이터의 본문 평균 길이 :145.5398574927633\n"
     ]
    },
    {
     "data": {
      "image/png": "[encoded data removed]",
      "text/plain": [
       "<Figure size 432x288 with 1 Axes>"
      ]
     },
     "metadata": {
      "needs_background": "light"
     },
     "output_type": "display_data"
    }
   ],
   "source": [
    "print_distribution_data(x_test, '테스트 데이터')"
   ]
  },
  {
   "cell_type": "markdown",
   "id": "important-salem",
   "metadata": {},
   "source": [
    "### 1.3.2 뉴스 주제 데이터 분포도 분석"
   ]
  },
  {
   "cell_type": "markdown",
   "id": "structural-census",
   "metadata": {},
   "source": [
    "> Reuters News 데이터의 주제(카테고리) 분포를 분석하기위한 사용자 정의 함수를 구현한다."
   ]
  },
  {
   "cell_type": "code",
   "execution_count": 9,
   "id": "driving-length",
   "metadata": {},
   "outputs": [],
   "source": [
    "def print_distribution_category(df_data):\n",
    "    fig, axe = plt.subplots(ncols=1)\n",
    "    fig.set_size_inches(11,5)\n",
    "    sns.countplot(x=df_data)\n",
    "    plt.show()"
   ]
  },
  {
   "cell_type": "markdown",
   "id": "informal-adolescent",
   "metadata": {},
   "source": [
    "> 학습 데이터의 뉴스 주제 분포도를 분석한 결과 가장 높은 빈도는 '3'이고, 이어서 '4', '19', '16', '1' 순으로 빈도가 높았다."
   ]
  },
  {
   "cell_type": "code",
   "execution_count": 10,
   "id": "genetic-scholarship",
   "metadata": {},
   "outputs": [
    {
     "data": {
      "text/html": [
       "<div>\n",
       "<style scoped>\n",
       "    .dataframe tbody tr th:only-of-type {\n",
       "        vertical-align: middle;\n",
       "    }\n",
       "\n",
       "    .dataframe tbody tr th {\n",
       "        vertical-align: top;\n",
       "    }\n",
       "\n",
       "    .dataframe thead th {\n",
       "        text-align: right;\n",
       "    }\n",
       "</style>\n",
       "<table border=\"1\" class=\"dataframe\">\n",
       "  <thead>\n",
       "    <tr style=\"text-align: right;\">\n",
       "      <th></th>\n",
       "      <th>0</th>\n",
       "      <th>1</th>\n",
       "      <th>2</th>\n",
       "      <th>3</th>\n",
       "      <th>4</th>\n",
       "      <th>5</th>\n",
       "      <th>6</th>\n",
       "      <th>7</th>\n",
       "      <th>8</th>\n",
       "      <th>9</th>\n",
       "      <th>...</th>\n",
       "      <th>36</th>\n",
       "      <th>37</th>\n",
       "      <th>38</th>\n",
       "      <th>39</th>\n",
       "      <th>40</th>\n",
       "      <th>41</th>\n",
       "      <th>42</th>\n",
       "      <th>43</th>\n",
       "      <th>44</th>\n",
       "      <th>45</th>\n",
       "    </tr>\n",
       "  </thead>\n",
       "  <tbody>\n",
       "    <tr>\n",
       "      <th>0</th>\n",
       "      <td>0</td>\n",
       "      <td>1</td>\n",
       "      <td>2</td>\n",
       "      <td>3</td>\n",
       "      <td>4</td>\n",
       "      <td>5</td>\n",
       "      <td>6</td>\n",
       "      <td>7</td>\n",
       "      <td>8</td>\n",
       "      <td>9</td>\n",
       "      <td>...</td>\n",
       "      <td>36</td>\n",
       "      <td>37</td>\n",
       "      <td>38</td>\n",
       "      <td>39</td>\n",
       "      <td>40</td>\n",
       "      <td>41</td>\n",
       "      <td>42</td>\n",
       "      <td>43</td>\n",
       "      <td>44</td>\n",
       "      <td>45</td>\n",
       "    </tr>\n",
       "    <tr>\n",
       "      <th>1</th>\n",
       "      <td>55</td>\n",
       "      <td>432</td>\n",
       "      <td>74</td>\n",
       "      <td>3159</td>\n",
       "      <td>1949</td>\n",
       "      <td>17</td>\n",
       "      <td>48</td>\n",
       "      <td>16</td>\n",
       "      <td>139</td>\n",
       "      <td>101</td>\n",
       "      <td>...</td>\n",
       "      <td>49</td>\n",
       "      <td>19</td>\n",
       "      <td>19</td>\n",
       "      <td>24</td>\n",
       "      <td>36</td>\n",
       "      <td>30</td>\n",
       "      <td>13</td>\n",
       "      <td>21</td>\n",
       "      <td>12</td>\n",
       "      <td>18</td>\n",
       "    </tr>\n",
       "  </tbody>\n",
       "</table>\n",
       "<p>2 rows × 46 columns</p>\n",
       "</div>"
      ],
      "text/plain": [
       "   0    1   2     3     4   5   6   7    8    9   ...  36  37  38  39  40  41  \\\n",
       "0   0    1   2     3     4   5   6   7    8    9  ...  36  37  38  39  40  41   \n",
       "1  55  432  74  3159  1949  17  48  16  139  101  ...  49  19  19  24  36  30   \n",
       "\n",
       "   42  43  44  45  \n",
       "0  42  43  44  45  \n",
       "1  13  21  12  18  \n",
       "\n",
       "[2 rows x 46 columns]"
      ]
     },
     "metadata": {},
     "output_type": "display_data"
    }
   ],
   "source": [
    "unique_elements, counts_elements = np.unique(y_train, return_counts=True)\n",
    "display(pd.DataFrame(np.asarray((unique_elements, counts_elements))))"
   ]
  },
  {
   "cell_type": "code",
   "execution_count": 11,
   "id": "dangerous-heaven",
   "metadata": {},
   "outputs": [
    {
     "data": {
      "image/png": "[encoded data removed]",
      "text/plain": [
       "<Figure size 792x360 with 1 Axes>"
      ]
     },
     "metadata": {
      "needs_background": "light"
     },
     "output_type": "display_data"
    }
   ],
   "source": [
    "print_distribution_category(y_train)"
   ]
  },
  {
   "cell_type": "markdown",
   "id": "attached-nicholas",
   "metadata": {},
   "source": [
    "> 테스트 데이터의 뉴스 주제 분포도를 분석한 결과, 학습 데이터의 분포도와 동일한 비율의 결과를 보여주었다."
   ]
  },
  {
   "cell_type": "code",
   "execution_count": 12,
   "id": "elect-affect",
   "metadata": {},
   "outputs": [
    {
     "data": {
      "text/html": [
       "<div>\n",
       "<style scoped>\n",
       "    .dataframe tbody tr th:only-of-type {\n",
       "        vertical-align: middle;\n",
       "    }\n",
       "\n",
       "    .dataframe tbody tr th {\n",
       "        vertical-align: top;\n",
       "    }\n",
       "\n",
       "    .dataframe thead th {\n",
       "        text-align: right;\n",
       "    }\n",
       "</style>\n",
       "<table border=\"1\" class=\"dataframe\">\n",
       "  <thead>\n",
       "    <tr style=\"text-align: right;\">\n",
       "      <th></th>\n",
       "      <th>0</th>\n",
       "      <th>1</th>\n",
       "      <th>2</th>\n",
       "      <th>3</th>\n",
       "      <th>4</th>\n",
       "      <th>5</th>\n",
       "      <th>6</th>\n",
       "      <th>7</th>\n",
       "      <th>8</th>\n",
       "      <th>9</th>\n",
       "      <th>...</th>\n",
       "      <th>36</th>\n",
       "      <th>37</th>\n",
       "      <th>38</th>\n",
       "      <th>39</th>\n",
       "      <th>40</th>\n",
       "      <th>41</th>\n",
       "      <th>42</th>\n",
       "      <th>43</th>\n",
       "      <th>44</th>\n",
       "      <th>45</th>\n",
       "    </tr>\n",
       "  </thead>\n",
       "  <tbody>\n",
       "    <tr>\n",
       "      <th>0</th>\n",
       "      <td>0</td>\n",
       "      <td>1</td>\n",
       "      <td>2</td>\n",
       "      <td>3</td>\n",
       "      <td>4</td>\n",
       "      <td>5</td>\n",
       "      <td>6</td>\n",
       "      <td>7</td>\n",
       "      <td>8</td>\n",
       "      <td>9</td>\n",
       "      <td>...</td>\n",
       "      <td>36</td>\n",
       "      <td>37</td>\n",
       "      <td>38</td>\n",
       "      <td>39</td>\n",
       "      <td>40</td>\n",
       "      <td>41</td>\n",
       "      <td>42</td>\n",
       "      <td>43</td>\n",
       "      <td>44</td>\n",
       "      <td>45</td>\n",
       "    </tr>\n",
       "    <tr>\n",
       "      <th>1</th>\n",
       "      <td>12</td>\n",
       "      <td>105</td>\n",
       "      <td>20</td>\n",
       "      <td>813</td>\n",
       "      <td>474</td>\n",
       "      <td>5</td>\n",
       "      <td>14</td>\n",
       "      <td>3</td>\n",
       "      <td>38</td>\n",
       "      <td>25</td>\n",
       "      <td>...</td>\n",
       "      <td>11</td>\n",
       "      <td>2</td>\n",
       "      <td>3</td>\n",
       "      <td>5</td>\n",
       "      <td>10</td>\n",
       "      <td>8</td>\n",
       "      <td>3</td>\n",
       "      <td>6</td>\n",
       "      <td>5</td>\n",
       "      <td>1</td>\n",
       "    </tr>\n",
       "  </tbody>\n",
       "</table>\n",
       "<p>2 rows × 46 columns</p>\n",
       "</div>"
      ],
      "text/plain": [
       "   0    1   2    3    4   5   6   7   8   9   ...  36  37  38  39  40  41  42  \\\n",
       "0   0    1   2    3    4   5   6   7   8   9  ...  36  37  38  39  40  41  42   \n",
       "1  12  105  20  813  474   5  14   3  38  25  ...  11   2   3   5  10   8   3   \n",
       "\n",
       "   43  44  45  \n",
       "0  43  44  45  \n",
       "1   6   5   1  \n",
       "\n",
       "[2 rows x 46 columns]"
      ]
     },
     "metadata": {},
     "output_type": "display_data"
    }
   ],
   "source": [
    "unique_elements, counts_elements = np.unique(y_test, return_counts=True)\n",
    "display(pd.DataFrame(np.asarray((unique_elements, counts_elements))))"
   ]
  },
  {
   "cell_type": "code",
   "execution_count": 13,
   "id": "expressed-antarctica",
   "metadata": {},
   "outputs": [
    {
     "data": {
      "image/png": "[encoded data removed]",
      "text/plain": [
       "<Figure size 792x360 with 1 Axes>"
      ]
     },
     "metadata": {
      "needs_background": "light"
     },
     "output_type": "display_data"
    }
   ],
   "source": [
    "print_distribution_category(y_test)"
   ]
  },
  {
   "cell_type": "markdown",
   "id": "armed-boston",
   "metadata": {},
   "source": [
    "# 2. Data Preprocessing"
   ]
  },
  {
   "cell_type": "markdown",
   "id": "guilty-apache",
   "metadata": {},
   "source": [
    "> 본 2 장에서는 자연어 처리 모델에 활용할 단어장을 생성하는 과정을 기술한다."
   ]
  },
  {
   "cell_type": "markdown",
   "id": "static-particle",
   "metadata": {},
   "source": [
    "## 2.1 단어장 생성"
   ]
  },
  {
   "cell_type": "markdown",
   "id": "enabling-architecture",
   "metadata": {},
   "source": [
    "> Keras사에서 제공하는 '로이터 뉴스(Reuters News)' library의 word to index.json을 활용하여 Vocabulary를 생성한다.<br>\n",
    "> Reuters News의 word2index의 index는 +3을 했을때 고유 번호이므로, 1번 인덱스를 4번으로 옮기는 작업을 진행한다."
   ]
  },
  {
   "cell_type": "code",
   "execution_count": 14,
   "id": "finnish-grenada",
   "metadata": {},
   "outputs": [
    {
     "name": "stdout",
     "output_type": "stream",
     "text": [
      "vocabulary size: 30979\n"
     ]
    }
   ],
   "source": [
    "word_index = reuters.get_word_index(path=\"reuters_word_index.json\")\n",
    "index_to_word = {index+3 : word for word, index in word_index.items()}\n",
    "print(\"vocabulary size:\", len(index_to_word))"
   ]
  },
  {
   "cell_type": "markdown",
   "id": "accomplished-organization",
   "metadata": {},
   "source": [
    "> 위 작업으로 사용되지 않는 0~2번 index에 pad, sos, unk 토큰을 추가하여, 단어장의 총 크기는 30,982이다."
   ]
  },
  {
   "cell_type": "code",
   "execution_count": 15,
   "id": "recognized-malpractice",
   "metadata": {},
   "outputs": [
    {
     "name": "stdout",
     "output_type": "stream",
     "text": [
      "vocabulary size: 30982\n"
     ]
    }
   ],
   "source": [
    "for index, token in enumerate((\"<pad>\", \"<sos>\", \"<unk>\")):\n",
    "    index_to_word[index]=token\n",
    "print(\"vocabulary size:\", len(index_to_word))"
   ]
  },
  {
   "cell_type": "markdown",
   "id": "prescription-audit",
   "metadata": {},
   "source": [
    "## 2.2 단어장을 활용한 문장 복원 실험"
   ]
  },
  {
   "cell_type": "markdown",
   "id": "declared-intellectual",
   "metadata": {},
   "source": [
    "> 위 2.1장에서 구성한 vocabulary를 활용하여 학습 데이터와 테스트 데이터의 문장을 복원하는 실험을 위한 사용자 정의 함수를 구현한다."
   ]
  },
  {
   "cell_type": "code",
   "execution_count": 16,
   "id": "infinite-digest",
   "metadata": {},
   "outputs": [],
   "source": [
    "def decode_index_to_word(df_data):\n",
    "    decoded = []\n",
    "    for i in range(len(df_data)):\n",
    "        decoded += [' '.join([index_to_word[index] for index in df_data[i]])]\n",
    "        \n",
    "    return decoded"
   ]
  },
  {
   "cell_type": "markdown",
   "id": "spoken-export",
   "metadata": {},
   "source": [
    "> 학습 데이터의 정수형 시퀀스 데이터를 문자형 데이터로 복원하였을때 결과는 아래와 같다.<br>\n",
    "> 단어장에 등록되지 않은 단어는 정수형 데이터로 표현함을 확인할 수 있다."
   ]
  },
  {
   "cell_type": "code",
   "execution_count": 17,
   "id": "choice-innocent",
   "metadata": {},
   "outputs": [
    {
     "data": {
      "text/plain": [
       "[\"<sos> currency fluctuations may reassert their influence on the bullion market in the near future bullion bankers samuel montagu and co ltd said in a market report but the firm said silver may lag behind gold in any reactions to movements on foreign exchanges opec's failure to address the recent decline in oil prices remains a worrying factor however and on balance it appears that the market should be approached cautiously montagu said the bank said the us economy has shown no noticeable long term improvement and that both latin american debt and the iranian arms affair could undermine confidence in the dollar reuter 3\"]"
      ]
     },
     "execution_count": 17,
     "metadata": {},
     "output_type": "execute_result"
    }
   ],
   "source": [
    "train_data = decode_index_to_word(x_train)\n",
    "train_data[-1:]"
   ]
  },
  {
   "cell_type": "markdown",
   "id": "contained-control",
   "metadata": {},
   "source": [
    "> 테스트 데이터의 정수형 시퀀스 데이터를 문자형 데이터로 복원하였을때 결과는 아래와 같다.<br>\n",
    "> 단어장에 등록되지 않은 일부 단어는 정수형 데이터로 표현함을 확인할 수 있다."
   ]
  },
  {
   "cell_type": "code",
   "execution_count": 18,
   "id": "competitive-worst",
   "metadata": {},
   "outputs": [
    {
     "data": {
      "text/plain": [
       "[\"<sos> congress should give the u s agriculture secretary the authority to keep the 1987 soybean loan rate at the current effective rate of 4 56 dlrs per bushel in order to help resolve the problem of soybean export competitiveness usda undersecretary dan amstutz said speaking to reporters following a senate agriculture appropriations hearing amstutz suggested that one way out of the current soybean program dilemma would be for congress to allow the loan rate to remain at 4 56 dlrs he indicated if the loan rate were 4 56 dlrs usda could then consider ways to make u s soybeans more competitive such as using certificates to further buydown the loan rate under current law the 1987 soybean loan rate cannot be less than 4 77 dlrs per bu amstutz' suggestion would be for congress to change the farm bill to allow usda to leave the soybean loan rate at 4 56 dlrs in crop year 1987 rather than increase it to 4 77 dlrs the 1986 effective loan rate is 4 56 dlrs because of the 4 3 pct gramm rudman budget cut amstutz stressed that a major factor in any decision on soybean program changes will be the budget costs he told the hearing that the problem in soybeans is that the u s loan rate provides an umbrella to foreign production and causes competitive problems for u s soybeans asked about the american soybean association's request for some form of income support amstutz said the competitive problem is the most severe he said usda is still studying the situation and no resolution has yet been found reuter 3\"]"
      ]
     },
     "execution_count": 18,
     "metadata": {},
     "output_type": "execute_result"
    }
   ],
   "source": [
    "test_data = decode_index_to_word(x_test)\n",
    "test_data[-1:]"
   ]
  },
  {
   "cell_type": "markdown",
   "id": "incredible-prison",
   "metadata": {},
   "source": [
    "## 2.3 TF-IDF"
   ]
  },
  {
   "cell_type": "markdown",
   "id": "foreign-occasion",
   "metadata": {},
   "source": [
    "> 뉴스 본문 데이터를 텍스트 분류 모델의 입력 데이터로 활용하려면 각 본문을 벡터화할 필요가 있다.<br>\n",
    "> 이에, 뉴스 본문을 서로 다른 문서들의 Bag of Words을 결합한 DTM(Document-Term Matrix)으로 변환 하고,<br>\n",
    "> DTM의 희소 표현과 단순 빈도 수 기반 접근의 한계점을 개선한 TF-IDF으로 변환하는 사용자 정의 함수를 구현한다.<br>\n",
    "> TF-IDF(Term Frequency-Inverse Document Frequency)는 DTM 내의 각 단어마다 중요한 정도의 가중치를 구하는 방법이다.<br>\n",
    "> 이는 문서의 빈도에 특정 식을 취함으로써, DTM을 사용하는 것보다 보다 더 많은 정보를 고려하여 문서들을 비교할 수 있다."
   ]
  },
  {
   "cell_type": "code",
   "execution_count": 19,
   "id": "cubic-framing",
   "metadata": {},
   "outputs": [],
   "source": [
    "def get_TFIDF(train_data, test_data):  \n",
    "    # step1. DTM, TF-IDF 객체 생성\n",
    "    dtmvector = CountVectorizer()\n",
    "    tfidf_transformer = TfidfTransformer()\n",
    "    \n",
    "    # step2. array -> DTM matrix convert\n",
    "    train_data = dtmvector.fit_transform(train_data)\n",
    "    test_data = dtmvector.transform(test_data)\n",
    "    \n",
    "    # step3. DTM -> TF-IDF matrix convert\n",
    "    train_data = tfidf_transformer.fit_transform(train_data)\n",
    "    test_data = tfidf_transformer.transform(test_data)\n",
    "\n",
    "    return train_data, test_data"
   ]
  },
  {
   "cell_type": "markdown",
   "id": "liable-coordinate",
   "metadata": {},
   "source": [
    "## 2.4 사용 단어 개수가 다른 데이터"
   ]
  },
  {
   "cell_type": "markdown",
   "id": "convinced-advertising",
   "metadata": {},
   "source": [
    "> 본 연구의 목표중 하나인 모델에서 사용하는 단어 수(vacabulary size)의 차이가 모델에 어떤 영향을 미치는지를 분석하고자 한다.<br>\n",
    "> 이에, 아래의 조건을 만족하는 후보군 3개를 8:2 비율로 학습 데이터와 테스트 데이터를 구성하고<br>\n",
    "> 모델 입력 데이터로 활용할 수 있도록 각 후보군에 2.2~ 2.3장의 전처리를 수행한다.<br>\n",
    "> <br>\n",
    "> 1. normal_data : 모든 단어(약 30,000개)를 사용하여 구성된 데이터.<br>\n",
    "> 2. word_5000_data : 사용빈도가 5,000위 이내인 단어로만 구성된 데이터.<br>\n",
    "> 3. word_15000_data : 사용빈도가 15,000위 이내인 단어로만 구성된 데이터.(normal 후보군 대비 1/2)<br>"
   ]
  },
  {
   "cell_type": "markdown",
   "id": "applicable-sport",
   "metadata": {},
   "source": [
    "### 2.4.1 Data Load"
   ]
  },
  {
   "cell_type": "code",
   "execution_count": 41,
   "id": "ongoing-office",
   "metadata": {},
   "outputs": [
    {
     "name": "stderr",
     "output_type": "stream",
     "text": [
      "/opt/conda/lib/python3.7/site-packages/tensorflow/python/keras/datasets/reuters.py:148: VisibleDeprecationWarning: Creating an ndarray from ragged nested sequences (which is a list-or-tuple of lists-or-tuples-or ndarrays with different lengths or shapes) is deprecated. If you meant to do this, you must specify 'dtype=object' when creating the ndarray\n",
      "  x_train, y_train = np.array(xs[:idx]), np.array(labels[:idx])\n",
      "/opt/conda/lib/python3.7/site-packages/tensorflow/python/keras/datasets/reuters.py:149: VisibleDeprecationWarning: Creating an ndarray from ragged nested sequences (which is a list-or-tuple of lists-or-tuples-or ndarrays with different lengths or shapes) is deprecated. If you meant to do this, you must specify 'dtype=object' when creating the ndarray\n",
      "  x_test, y_test = np.array(xs[idx:]), np.array(labels[idx:])\n"
     ]
    }
   ],
   "source": [
    "(normal_x_train, normal_y_train), (normal_x_test, normal_y_test) = reuters.load_data(test_split=0.2)\n",
    "(word_5000_x_train, word_5000_y_train), (word_5000_x_test, word_5000_y_test) = reuters.load_data(num_words=5000, test_split=0.2)\n",
    "(word_15000_x_train, word_15000_y_train), (word_15000_x_test, word_15000_y_test) = reuters.load_data(num_words=15000, test_split=0.2)"
   ]
  },
  {
   "cell_type": "markdown",
   "id": "textile-harassment",
   "metadata": {},
   "source": [
    "### 2.4.2 Integer sequence data decode"
   ]
  },
  {
   "cell_type": "code",
   "execution_count": 42,
   "id": "scenic-worker",
   "metadata": {},
   "outputs": [],
   "source": [
    "d_normal_x_train = decode_index_to_word(normal_x_train)\n",
    "d_normal_x_test = decode_index_to_word(normal_x_test)\n",
    "\n",
    "d_word_5000_x_train = decode_index_to_word(word_5000_x_train)\n",
    "d_word_5000_x_test = decode_index_to_word(word_5000_x_test)\n",
    "\n",
    "d_word_15000_x_train = decode_index_to_word(word_15000_x_train)\n",
    "d_word_15000_x_test = decode_index_to_word(word_15000_x_test)"
   ]
  },
  {
   "cell_type": "markdown",
   "id": "registered-basin",
   "metadata": {},
   "source": [
    "### 2.4.3 TF-IDF"
   ]
  },
  {
   "cell_type": "code",
   "execution_count": 22,
   "id": "settled-unknown",
   "metadata": {},
   "outputs": [],
   "source": [
    "normal_x_train, normal_x_test = get_TFIDF(d_normal_x_train, d_normal_x_test)\n",
    "word_5000_x_train, word_5000_x_test = get_TFIDF(d_word_5000_x_train, d_word_5000_x_test)\n",
    "word_15000_x_train, word_15000_x_test = get_TFIDF(d_word_15000_x_train, d_word_15000_x_test)"
   ]
  },
  {
   "cell_type": "markdown",
   "id": "promising-peace",
   "metadata": {},
   "source": [
    "# 3. 각 모델 훈련 및 테스트"
   ]
  },
  {
   "cell_type": "markdown",
   "id": "signed-purpose",
   "metadata": {},
   "source": [
    "> 본 3장에서는 3가지 단어장 후보군을 여러 종류의 머신러닝 모델과 LSTM 딥러닝 모델에 학습한 결과를 기술한다. "
   ]
  },
  {
   "cell_type": "markdown",
   "id": "streaming-girlfriend",
   "metadata": {},
   "source": [
    "## 3.1 Create Utility Function"
   ]
  },
  {
   "cell_type": "markdown",
   "id": "indoor-links",
   "metadata": {},
   "source": [
    "> 다수의 모델을 편리하게 사용하기 위한 모델 학습 후, 결과를 출력하는 사용자 정의 함수를 구현한다. "
   ]
  },
  {
   "cell_type": "code",
   "execution_count": 23,
   "id": "overhead-medicare",
   "metadata": {},
   "outputs": [],
   "source": [
    "def model_train_test(x_train, y_train, x_test, y_test, model, sentence):\n",
    "    model.fit(x_train, y_train)\n",
    "    model_predict = model.predict(x_test)\n",
    "    \n",
    "    #print(classification_report(y_test, model_predict))\n",
    "    print('-'*40)\n",
    "    print(f'\\t{sentence}')\n",
    "    print('-'*40)\n",
    "    print(f'정확도 :  {round(accuracy_score(y_test, model_predict),4)}')\n",
    "    print(f'F1-Score의 macro 평균 :  {round(f1_score(y_test, model_predict, average=\"macro\"),4)}')\n",
    "    print(f'F1-Score의 micro 평균 :  {round(f1_score(y_test, model_predict, average=\"micro\"),4)}')\n",
    "    print(f'F1-Score의 weight 평균 :  {round(f1_score(y_test, model_predict, average=\"weighted\"),4)}')\n",
    "    print('-'*40,'\\n')"
   ]
  },
  {
   "cell_type": "markdown",
   "id": "driven-cooperation",
   "metadata": {},
   "source": [
    "## 3.2 머신러닝 알고리듬 기반 모델 학습&테스트"
   ]
  },
  {
   "cell_type": "markdown",
   "id": "framed-representative",
   "metadata": {},
   "source": [
    "> 연구에 사용되는 머신러닝 모델은 아래와 같다.<br>\n",
    "> <br>\n",
    "> 1. 나이브 베이즈 분류기(Multinomial Naive Bayes Classifier)<br>\n",
    "> 2. 컴플리먼트 나이브 베이즈 분류기(Complement Naive Bayes Classifier)<br>\n",
    "> 3. 로지스틱 회귀(Logistic Regression)<br>\n",
    "> 4. 선형 서포트 벡터 머신(Linear Support Vector Machine)<br>\n",
    "> 5. 결정 트리(Decision Tree)<br>\n",
    "> 6. 랜덤 포레스트(Random Forest)<br>\n",
    "> 7. 그래디언트 부스팅 트리(GradientBoostingClassifier)<br>\n",
    "> 8. 보팅(Voting)"
   ]
  },
  {
   "cell_type": "markdown",
   "id": "therapeutic-intensity",
   "metadata": {},
   "source": [
    "### 3.2.1 나이브 베이즈 분류기(Multinomial Naive Bayes Classifier)"
   ]
  },
  {
   "cell_type": "markdown",
   "id": "vocal-granny",
   "metadata": {},
   "source": [
    "> 나이브 베이즈 분류기는 텍스트 분류를 위해 전통적으로 사용되는 분류기로 머신 러닝의 주요 알고리즘으로 분류에 있어 준수한 성능을 보여주는 것으로 알려져 있다.<br>\n",
    "> <br>\n",
    "> 나이브 베이즈 분류기는 조건부 확률을 계산하는 방법인 ['베이즈 정리'](https://ko.wikipedia.org/wiki/%EB%B2%A0%EC%9D%B4%EC%A6%88_%EC%A0%95%EB%A6%AC)를 이용하여 텍스트 분류를 수행한다."
   ]
  },
  {
   "cell_type": "code",
   "execution_count": 24,
   "id": "roman-slave",
   "metadata": {},
   "outputs": [
    {
     "name": "stdout",
     "output_type": "stream",
     "text": [
      "----------------------------------------\n",
      "\t전체 단어장\n",
      "----------------------------------------\n",
      "정확도 :  0.5997\n",
      "F1-Score의 macro 평균 :  0.0677\n",
      "F1-Score의 micro 평균 :  0.5997\n",
      "F1-Score의 weight 평균 :  0.5046\n",
      "---------------------------------------- \n",
      "\n",
      "----------------------------------------\n",
      "\t5,000 단어장\n",
      "----------------------------------------\n",
      "정확도 :  0.6732\n",
      "F1-Score의 macro 평균 :  0.1102\n",
      "F1-Score의 micro 평균 :  0.6732\n",
      "F1-Score의 weight 평균 :  0.6013\n",
      "---------------------------------------- \n",
      "\n",
      "----------------------------------------\n",
      "\t15,000 단어장\n",
      "----------------------------------------\n",
      "정확도 :  0.6331\n",
      "F1-Score의 macro 평균 :  0.0853\n",
      "F1-Score의 micro 평균 :  0.6331\n",
      "F1-Score의 weight 평균 :  0.5498\n",
      "---------------------------------------- \n",
      "\n"
     ]
    }
   ],
   "source": [
    "model_train_test(normal_x_train, normal_y_train, normal_x_test, normal_y_test, MultinomialNB(),'전체 단어장')\n",
    "model_train_test(word_5000_x_train, word_5000_y_train, word_5000_x_test, word_5000_y_test, MultinomialNB(),'5,000 단어장')\n",
    "model_train_test(word_15000_x_train, word_15000_y_train, word_15000_x_test, word_15000_y_test, MultinomialNB(),'15,000 단어장')"
   ]
  },
  {
   "cell_type": "markdown",
   "id": "awful-potential",
   "metadata": {},
   "source": [
    "> 나이브 베이즈 분류기의 정확도는 5,000 단어장(67.32%), 15,000 단어장(63.31%), 모든 단어장(59.97%)이다.<br>\n",
    "> 단어장의 크기가 클수록 낮은 정확도를 기록하는 모습을 보여준다.<br>\n",
    "> 이는 해당 모델이 독립 변수가 '조건부로 독립적'이라는 가정으로 연산하기에 단어장의 크기가 클수록 특정 단어에 편향되는 것으로 생각된다.<br>\n",
    "> <br>\n",
    "> F1-Score의 weight는 5,000 단어장(0.6013), 15,000 단어장(0.5498), 모든 단어장(0.5046)의 결과를 보여주었다."
   ]
  },
  {
   "cell_type": "markdown",
   "id": "pressing-indiana",
   "metadata": {},
   "source": [
    "### 3.2.2 컴플리먼트 나이브 베이즈 분류기(Complement Naive Bayes Classifier)"
   ]
  },
  {
   "cell_type": "markdown",
   "id": "specific-entity",
   "metadata": {},
   "source": [
    "> 컴플리먼트 나이브 베이즈 분류기는 데이터가 불균형한 정도에 따라, 가중치를 부여하는 모델이다.<br>\n",
    "> 이는, 기존 나이브 베이즈 분류기에서 데이터가 불균형할 때, 가중치가 편향되는 단점을 개선했다."
   ]
  },
  {
   "cell_type": "code",
   "execution_count": 25,
   "id": "allied-population",
   "metadata": {},
   "outputs": [
    {
     "name": "stdout",
     "output_type": "stream",
     "text": [
      "----------------------------------------\n",
      "\t전체 단어장\n",
      "----------------------------------------\n",
      "정확도 :  0.7649\n",
      "F1-Score의 macro 평균 :  0.464\n",
      "F1-Score의 micro 평균 :  0.7649\n",
      "F1-Score의 weight 평균 :  0.7347\n",
      "---------------------------------------- \n",
      "\n",
      "----------------------------------------\n",
      "\t5,000 단어장\n",
      "----------------------------------------\n",
      "정확도 :  0.7707\n",
      "F1-Score의 macro 평균 :  0.482\n",
      "F1-Score의 micro 평균 :  0.7707\n",
      "F1-Score의 weight 평균 :  0.7459\n",
      "---------------------------------------- \n",
      "\n",
      "----------------------------------------\n",
      "\t15,000 단어장\n",
      "----------------------------------------\n",
      "정확도 :  0.772\n",
      "F1-Score의 macro 평균 :  0.4668\n",
      "F1-Score의 micro 평균 :  0.772\n",
      "F1-Score의 weight 평균 :  0.7448\n",
      "---------------------------------------- \n",
      "\n"
     ]
    }
   ],
   "source": [
    "model_train_test(normal_x_train, normal_y_train, normal_x_test, normal_y_test, ComplementNB(),'전체 단어장')\n",
    "model_train_test(word_5000_x_train, word_5000_y_train, word_5000_x_test, word_5000_y_test, ComplementNB(),'5,000 단어장')\n",
    "model_train_test(word_15000_x_train, word_15000_y_train, word_15000_x_test, word_15000_y_test, ComplementNB(),'15,000 단어장')"
   ]
  },
  {
   "cell_type": "markdown",
   "id": "satisfactory-norway",
   "metadata": {},
   "source": [
    "> 컴플리먼트 나이브 베이즈 분류기의 정확도는 5,000 단어장(77.07%), 15,000 단어장(77.2%), 모든 단어장(76.49%)이다.<br>\n",
    "> 이전 나이브 베이즈 분류기모델에 비해 단어장의 크기에 영향을 적게 받는 모습을 보여준다.<br>\n",
    "> 따라서, 불균형한 데이터에서 효율적인 모델임 알 수 있다.<br>\n",
    "> <br>\n",
    "> F1-Score의 weight는 5,000 단어장(0.7459), 15,000 단어장(0.7448), 모든 단어장(0.7347)의 결과를 보여주었다."
   ]
  },
  {
   "cell_type": "markdown",
   "id": "ecological-characteristic",
   "metadata": {},
   "source": [
    "### 3.2.3 로지스틱 회귀(Logistic Regression)"
   ]
  },
  {
   "cell_type": "markdown",
   "id": "worst-order",
   "metadata": {},
   "source": [
    "> 로지스틱 회귀는 선형 분류 알고리듬으로, 소프트맥스(softmax) 함수를 활용한 다중 클래스 분류에 강점을 보이는 모델이다.<br>\n",
    "> 로지스틱 '회귀'의 이름때문에, 실제 값을 유추하는 회귀 기능을 수행할 것이라는 착각에 빠지기 쉽다.<br>\n",
    "> 로지스틱 회귀가 소프트맥스 함수를 사용하기에, 클래스를 확률로 '분류'하는 기능을 수행함을 알 수 있다."
   ]
  },
  {
   "cell_type": "code",
   "execution_count": 26,
   "id": "atomic-bridge",
   "metadata": {},
   "outputs": [
    {
     "name": "stdout",
     "output_type": "stream",
     "text": [
      "----------------------------------------\n",
      "\t전체 단어장\n",
      "----------------------------------------\n",
      "정확도 :  0.817\n",
      "F1-Score의 macro 평균 :  0.673\n",
      "F1-Score의 micro 평균 :  0.817\n",
      "F1-Score의 weight 평균 :  0.8118\n",
      "---------------------------------------- \n",
      "\n"
     ]
    },
    {
     "name": "stderr",
     "output_type": "stream",
     "text": [
      "/opt/conda/lib/python3.7/site-packages/sklearn/linear_model/_logistic.py:762: ConvergenceWarning: lbfgs failed to converge (status=1):\n",
      "STOP: TOTAL NO. of ITERATIONS REACHED LIMIT.\n",
      "\n",
      "Increase the number of iterations (max_iter) or scale the data as shown in:\n",
      "    https://scikit-learn.org/stable/modules/preprocessing.html\n",
      "Please also refer to the documentation for alternative solver options:\n",
      "    https://scikit-learn.org/stable/modules/linear_model.html#logistic-regression\n",
      "  extra_warning_msg=_LOGISTIC_SOLVER_CONVERGENCE_MSG)\n"
     ]
    },
    {
     "name": "stdout",
     "output_type": "stream",
     "text": [
      "----------------------------------------\n",
      "\t5,000 단어장\n",
      "----------------------------------------\n",
      "정확도 :  0.8028\n",
      "F1-Score의 macro 평균 :  0.6526\n",
      "F1-Score의 micro 평균 :  0.8028\n",
      "F1-Score의 weight 평균 :  0.7977\n",
      "---------------------------------------- \n",
      "\n",
      "----------------------------------------\n",
      "\t15,000 단어장\n",
      "----------------------------------------\n",
      "정확도 :  0.8143\n",
      "F1-Score의 macro 평균 :  0.6682\n",
      "F1-Score의 micro 평균 :  0.8143\n",
      "F1-Score의 weight 평균 :  0.8092\n",
      "---------------------------------------- \n",
      "\n"
     ]
    }
   ],
   "source": [
    "model_train_test(normal_x_train, normal_y_train, normal_x_test, normal_y_test, LogisticRegression(C=10000, penalty='l2', max_iter=2000),'전체 단어장')\n",
    "model_train_test(word_5000_x_train, word_5000_y_train, word_5000_x_test, word_5000_y_test, LogisticRegression(C=10000, penalty='l2', max_iter=2000),'5,000 단어장')\n",
    "model_train_test(word_15000_x_train, word_15000_y_train, word_15000_x_test, word_15000_y_test, LogisticRegression(C=10000, penalty='l2', max_iter=2000),'15,000 단어장')"
   ]
  },
  {
   "cell_type": "markdown",
   "id": "convinced-purse",
   "metadata": {},
   "source": [
    "> 로지스틱 회귀의 정확도는 5,000 단어장(80.28%), 15,000 단어장(81.43%), 모든 단어장(81.7%)이다.<br>\n",
    "> 이전 나이브 베이즈 분류기 계열 모델에 비해 뉴스 카테고리를 분류하는 성능이 뛰어남을 확인할 수 있다.<br>\n",
    "> <br>\n",
    "> F1-Score의 weight는 5,000 단어장(0.7977), 15,000 단어장(0.8092), 모든 단어장(0.8118)의 결과를 보여주었다."
   ]
  },
  {
   "cell_type": "markdown",
   "id": "comparable-reminder",
   "metadata": {},
   "source": [
    "### 3.2.4 선형 서포트 벡터 머신(Linear Support Vector Machine)"
   ]
  },
  {
   "cell_type": "markdown",
   "id": "distributed-monitor",
   "metadata": {},
   "source": [
    "> 선형 서포트 벡터 머신은 대표적인 선형 분류 알고리듬으로, 이진 분류를 위한 모델이다.<br>\n",
    "> LSVM은 이진 분류 모델이나 1:N 방식으로 각 클래스를 다른 모든 클래스와 구분하도록 이진 분류 모델을 학습한다.<br>\n",
    "> 때문에, 클래스의 수만큼 이진 분류 모델이 만들어지며 예측할 때는 모든 이진 분류기를 활용하여 가장 높은 점수를 내는<br>\n",
    "> 분류기의 클래스를 예측값으로 선택한다."
   ]
  },
  {
   "cell_type": "code",
   "execution_count": 27,
   "id": "small-california",
   "metadata": {},
   "outputs": [
    {
     "name": "stderr",
     "output_type": "stream",
     "text": [
      "/opt/conda/lib/python3.7/site-packages/sklearn/svm/_base.py:975: ConvergenceWarning: Liblinear failed to converge, increase the number of iterations.\n",
      "  \"the number of iterations.\", ConvergenceWarning)\n"
     ]
    },
    {
     "name": "stdout",
     "output_type": "stream",
     "text": [
      "----------------------------------------\n",
      "\t전체 단어장\n",
      "----------------------------------------\n",
      "정확도 :  0.7863\n",
      "F1-Score의 macro 평균 :  0.6416\n",
      "F1-Score의 micro 평균 :  0.7863\n",
      "F1-Score의 weight 평균 :  0.7822\n",
      "---------------------------------------- \n",
      "\n",
      "----------------------------------------\n",
      "\t5,000 단어장\n",
      "----------------------------------------\n",
      "정확도 :  0.7814\n",
      "F1-Score의 macro 평균 :  0.6179\n",
      "F1-Score의 micro 평균 :  0.7814\n",
      "F1-Score의 weight 평균 :  0.7765\n",
      "---------------------------------------- \n",
      "\n",
      "----------------------------------------\n",
      "\t15,000 단어장\n",
      "----------------------------------------\n",
      "정확도 :  0.7881\n",
      "F1-Score의 macro 평균 :  0.6492\n",
      "F1-Score의 micro 평균 :  0.7881\n",
      "F1-Score의 weight 평균 :  0.7832\n",
      "---------------------------------------- \n",
      "\n"
     ]
    }
   ],
   "source": [
    "model_train_test(normal_x_train, normal_y_train, normal_x_test, normal_y_test, LinearSVC(C=1000, penalty='l1', max_iter=2000, dual=False),'전체 단어장')\n",
    "model_train_test(word_5000_x_train, word_5000_y_train, word_5000_x_test, word_5000_y_test, LinearSVC(C=1000, penalty='l1', max_iter=2000, dual=False),'5,000 단어장')\n",
    "model_train_test(word_15000_x_train, word_15000_y_train, word_15000_x_test, word_15000_y_test, LinearSVC(C=1000, penalty='l1', max_iter=2000, dual=False),'15,000 단어장')"
   ]
  },
  {
   "cell_type": "markdown",
   "id": "developing-bonus",
   "metadata": {},
   "source": [
    "> 선형 서포트 벡터 머신의 정확도는 5,000 단어장(77.38%), 15,000 단어장(78.58%), 모든 단어장(78.85%)이다.<br>\n",
    "> LSVM은 이전 CNB 모델처럼 가중치를 편향되지 않도록 분류하기에, 확률적으로 분류하는 로지스틱 회귀보다 낮은 성능을 보여주었다.<br>\n",
    "> 그러나 샘플 수가 많을 수록 정확도화 F1-Score weight가 향상됨을 확인할 수 있다.<br>\n",
    "> <br>\n",
    "> F1-Score의 weight는 5,000 단어장(0.77), 15,000 단어장(0.781), 모든 단어장(0.784)의 결과를 보여주었다."
   ]
  },
  {
   "cell_type": "markdown",
   "id": "hundred-coordinator",
   "metadata": {},
   "source": [
    "### 3.2.5 결정 트리(Decision Tree)"
   ]
  },
  {
   "cell_type": "markdown",
   "id": "falling-ministry",
   "metadata": {},
   "source": [
    "> 결정 트리는 분류와 회귀 문제에 널리 사용하는 모델로, 각 분기점마다 이진 분류로 학습을 진행하는 모델이다.<br>"
   ]
  },
  {
   "cell_type": "code",
   "execution_count": 28,
   "id": "organized-hudson",
   "metadata": {},
   "outputs": [
    {
     "name": "stdout",
     "output_type": "stream",
     "text": [
      "----------------------------------------\n",
      "\t전체 단어장\n",
      "----------------------------------------\n",
      "정확도 :  0.6211\n",
      "F1-Score의 macro 평균 :  0.1545\n",
      "F1-Score의 micro 평균 :  0.6211\n",
      "F1-Score의 weight 평균 :  0.5769\n",
      "---------------------------------------- \n",
      "\n",
      "----------------------------------------\n",
      "\t5,000 단어장\n",
      "----------------------------------------\n",
      "정확도 :  0.618\n",
      "F1-Score의 macro 평균 :  0.1779\n",
      "F1-Score의 micro 평균 :  0.618\n",
      "F1-Score의 weight 평균 :  0.573\n",
      "---------------------------------------- \n",
      "\n",
      "----------------------------------------\n",
      "\t15,000 단어장\n",
      "----------------------------------------\n",
      "정확도 :  0.6193\n",
      "F1-Score의 macro 평균 :  0.1818\n",
      "F1-Score의 micro 평균 :  0.6193\n",
      "F1-Score의 weight 평균 :  0.5756\n",
      "---------------------------------------- \n",
      "\n"
     ]
    }
   ],
   "source": [
    "model_train_test(normal_x_train, normal_y_train, normal_x_test, normal_y_test, DecisionTreeClassifier(max_depth=10, random_state=0),'전체 단어장')\n",
    "model_train_test(word_5000_x_train, word_5000_y_train, word_5000_x_test, word_5000_y_test, DecisionTreeClassifier(max_depth=10, random_state=0),'5,000 단어장')\n",
    "model_train_test(word_15000_x_train, word_15000_y_train, word_15000_x_test, word_15000_y_test, DecisionTreeClassifier(max_depth=10, random_state=0),'15,000 단어장')"
   ]
  },
  {
   "cell_type": "markdown",
   "id": "announced-surprise",
   "metadata": {},
   "source": [
    "> 결정 트리의 정확도는 5,000 단어장(61.8%), 15,000 단어장(61.9%), 모든 단어장(62.1%)이다.<br>\n",
    "> 결정 트리는 이진 분류과정에서, 불균형한 데이터의 특정 데이터에 편향되는 과적합 현상을 보여준다.<br>\n",
    "> <br>\n",
    "> F1-Score의 weight는 5,000 단어장(0.573), 15,000 단어장(0.575), 모든 단어장(0.576)의 결과를 보여주었다."
   ]
  },
  {
   "cell_type": "markdown",
   "id": "million-immunology",
   "metadata": {},
   "source": [
    "### 3.2.6 랜덤 포레스트(Random Forest)"
   ]
  },
  {
   "cell_type": "markdown",
   "id": "applied-dealing",
   "metadata": {},
   "source": [
    "> 랜덤 포레스트는 여러 머신러닝 모델을 연결하여 더 강력한 모델을 생성하는 앙상블 기법을 활용한 모델이다.<br>\n",
    "> 이전 결정 트리의 단점인 과적합을 활용하여 서로 다른 방향으로 과적합된 트리들을 조합함으로써 모델 전체에서의 과적합을 회피한다."
   ]
  },
  {
   "cell_type": "code",
   "execution_count": 29,
   "id": "present-processing",
   "metadata": {},
   "outputs": [
    {
     "name": "stdout",
     "output_type": "stream",
     "text": [
      "----------------------------------------\n",
      "\t전체 단어장\n",
      "----------------------------------------\n",
      "정확도 :  0.6545\n",
      "F1-Score의 macro 평균 :  0.2795\n",
      "F1-Score의 micro 평균 :  0.6545\n",
      "F1-Score의 weight 평균 :  0.6226\n",
      "---------------------------------------- \n",
      "\n",
      "----------------------------------------\n",
      "\t5,000 단어장\n",
      "----------------------------------------\n",
      "정확도 :  0.7012\n",
      "F1-Score의 macro 평균 :  0.3596\n",
      "F1-Score의 micro 평균 :  0.7012\n",
      "F1-Score의 weight 평균 :  0.677\n",
      "---------------------------------------- \n",
      "\n",
      "----------------------------------------\n",
      "\t15,000 단어장\n",
      "----------------------------------------\n",
      "정확도 :  0.6714\n",
      "F1-Score의 macro 평균 :  0.2971\n",
      "F1-Score의 micro 평균 :  0.6714\n",
      "F1-Score의 weight 평균 :  0.6407\n",
      "---------------------------------------- \n",
      "\n"
     ]
    }
   ],
   "source": [
    "model_train_test(normal_x_train, normal_y_train, normal_x_test, normal_y_test, RandomForestClassifier(n_estimators=5, random_state=0),'전체 단어장')\n",
    "model_train_test(word_5000_x_train, word_5000_y_train, word_5000_x_test, word_5000_y_test, RandomForestClassifier(n_estimators=5, random_state=0),'5,000 단어장')\n",
    "model_train_test(word_15000_x_train, word_15000_y_train, word_15000_x_test, word_15000_y_test, RandomForestClassifier(n_estimators=5, random_state=0),'15,000 단어장')"
   ]
  },
  {
   "cell_type": "markdown",
   "id": "architectural-memory",
   "metadata": {},
   "source": [
    "> 랜덤 포레스트의 정확도는 5,000 단어장(70.1%), 15,000 단어장(67.1%), 모든 단어장(65.45%)이다.<br>\n",
    "> 랜덤 포레스트는 결정 트리보다 성능이 개선되었음을 확인할 수 있다.<br>\n",
    "> 그러나, 단어 수가 많아질 수록 연산할 노드가 많아지기에, 성능이 낮아지는 모습을 확인할 수 있다.<br>\n",
    "> <br>\n",
    "> F1-Score의 weight는 5,000 단어장(0.677), 15,000 단어장(0.640), 모든 단어장(0.622)의 결과를 보여주었다."
   ]
  },
  {
   "cell_type": "markdown",
   "id": "chubby-chambers",
   "metadata": {},
   "source": [
    "### 3.2.7 그래디언트 부스팅 트리(GradientBoostingClassifier)"
   ]
  },
  {
   "cell_type": "markdown",
   "id": "facial-resource",
   "metadata": {},
   "source": [
    "> 그래디언트 부스팅 트리는 여러 개의 결정 트리를 묶어 만드는 앙상블 모델이다.<br>\n",
    "> 랜덤 포레스트와 다르게 이전 트리의 오차를 보완하는 방식으로 순차적으로 트리를 생성한다.<br>\n",
    "> 또한, 그래디언트 부스팅 트리는 일부 특성을 무시한다는 특징을 가진다.<br>\n",
    "> 때문에, 랜덤 포레스트를 먼저 사용해보고, 성능이나 예측 시간에서 만족스럽지 않은 경우에 그래디언트 부스팅 트리를 사용한다.<br>\n",
    "> 보통, 1 ~ 5 정도의 깊지 않은 트리를 사용하므로 메모리도 적게 사용하고 예측도 빠른 장점이 있다.<br>\n",
    "> 훈련이 오래 걸리고, 트리 기반 모델의 특성으로 인해서 희소한 고차원 데이터에 대해서는 잘 동작하지 않는다는 단점이 있다."
   ]
  },
  {
   "cell_type": "code",
   "execution_count": 30,
   "id": "classical-crisis",
   "metadata": {},
   "outputs": [
    {
     "name": "stdout",
     "output_type": "stream",
     "text": [
      "----------------------------------------\n",
      "\t전체 단어장\n",
      "----------------------------------------\n",
      "정확도 :  0.7703\n",
      "F1-Score의 macro 평균 :  0.5728\n",
      "F1-Score의 micro 평균 :  0.7703\n",
      "F1-Score의 weight 평균 :  0.7642\n",
      "---------------------------------------- \n",
      "\n",
      "----------------------------------------\n",
      "\t5,000 단어장\n",
      "----------------------------------------\n",
      "정확도 :  0.7676\n",
      "F1-Score의 macro 평균 :  0.5792\n",
      "F1-Score의 micro 평균 :  0.7676\n",
      "F1-Score의 weight 평균 :  0.7662\n",
      "---------------------------------------- \n",
      "\n",
      "----------------------------------------\n",
      "\t15,000 단어장\n",
      "----------------------------------------\n",
      "정확도 :  0.7707\n",
      "F1-Score의 macro 평균 :  0.5716\n",
      "F1-Score의 micro 평균 :  0.7707\n",
      "F1-Score의 weight 평균 :  0.7679\n",
      "---------------------------------------- \n",
      "\n"
     ]
    }
   ],
   "source": [
    "model_train_test(normal_x_train, normal_y_train, normal_x_test, normal_y_test, GradientBoostingClassifier(random_state=0),'전체 단어장')\n",
    "model_train_test(word_5000_x_train, word_5000_y_train, word_5000_x_test, word_5000_y_test, GradientBoostingClassifier(random_state=0),'5,000 단어장')\n",
    "model_train_test(word_15000_x_train, word_15000_y_train, word_15000_x_test, word_15000_y_test, GradientBoostingClassifier(random_state=0),'15,000 단어장')"
   ]
  },
  {
   "cell_type": "markdown",
   "id": "hungarian-agent",
   "metadata": {},
   "source": [
    "> 그래디언트 부스팅 트리의 정확도는 5,000 단어장(76.76%), 15,000 단어장(77.07%), 모든 단어장(77.03%)이다.<br>\n",
    "> 그래디언트 부스팅 트리는 랜덤 포레스트보다 성능이 개선되었음을 확인할 수 있다.<br>\n",
    "> 이전 트리의 오차를 보완하는 방식 덕분에 단어 수에따른 성능의 차는 크지 않음을 확인할 수 있다.<br>\n",
    "> <br>\n",
    "> F1-Score의 weight는 5,000 단어장(0.766), 15,000 단어장(0.767), 모든 단어장(0.764)의 결과를 보여주었다."
   ]
  },
  {
   "cell_type": "markdown",
   "id": "generous-values",
   "metadata": {},
   "source": [
    "### 3.2.8 보팅(Voting)"
   ]
  },
  {
   "cell_type": "markdown",
   "id": "serious-flexibility",
   "metadata": {},
   "source": [
    "> 보팅은 여러 앙상블 기법을 사용하면서, 투표를 통해 가장 좋은 결과를 도출하는 기법이다.<br>\n",
    "> 보팅은 하드 보팅과 소프트 보팅 두 가지로 나누어진다.<br>\n",
    "> 하드 보팅은 결과물에 대한 최종값을 투표해서 결정한다.<br>\n",
    "> 소프트 보팅은 최종 결과물이 나올 확률값을 모두 더해서 최종 결과물에 대한 각각의 확률을 구한 뒤 최종값을 도출한다."
   ]
  },
  {
   "cell_type": "code",
   "execution_count": 31,
   "id": "moving-light",
   "metadata": {},
   "outputs": [
    {
     "name": "stdout",
     "output_type": "stream",
     "text": [
      "----------------------------------------\n",
      "\t전체 단어장\n",
      "----------------------------------------\n",
      "정확도 :  0.8161\n",
      "F1-Score의 macro 평균 :  0.6738\n",
      "F1-Score의 micro 평균 :  0.8161\n",
      "F1-Score의 weight 평균 :  0.8103\n",
      "---------------------------------------- \n",
      "\n",
      "----------------------------------------\n",
      "\t5,000 단어장\n",
      "----------------------------------------\n",
      "정확도 :  0.8094\n",
      "F1-Score의 macro 평균 :  0.6458\n",
      "F1-Score의 micro 평균 :  0.8094\n",
      "F1-Score의 weight 평균 :  0.8026\n",
      "---------------------------------------- \n",
      "\n",
      "----------------------------------------\n",
      "\t15,000 단어장\n",
      "----------------------------------------\n",
      "정확도 :  0.8157\n",
      "F1-Score의 macro 평균 :  0.667\n",
      "F1-Score의 micro 평균 :  0.8157\n",
      "F1-Score의 weight 평균 :  0.8086\n",
      "---------------------------------------- \n",
      "\n"
     ]
    }
   ],
   "source": [
    "def get_voting_model():\n",
    "    voting_classifier = VotingClassifier(\n",
    "        estimators=[\n",
    "            ('lr', LogisticRegression(C=10000, penalty='l2')),\n",
    "            ('cb', ComplementNB())\n",
    "        ], voting='soft', n_jobs=-1\n",
    "    )\n",
    "    return voting_classifier\n",
    "\n",
    "model_train_test(normal_x_train, normal_y_train, normal_x_test, normal_y_test, get_voting_model(),'전체 단어장')\n",
    "model_train_test(word_5000_x_train, word_5000_y_train, word_5000_x_test, word_5000_y_test, get_voting_model(),'5,000 단어장')\n",
    "model_train_test(word_15000_x_train, word_15000_y_train, word_15000_x_test, word_15000_y_test, get_voting_model(),'15,000 단어장')"
   ]
  },
  {
   "cell_type": "markdown",
   "id": "marine-dressing",
   "metadata": {},
   "source": [
    "> 보팅의 정확도는 5,000 단어장(80.9%), 15,000 단어장(81.5%), 모든 단어장(81.6%)이다.<br>\n",
    "> 보팅은 로지스틱 회귀와 비슷한 성능을 보이나, F1-Score가 로지스티 회귀보다 높은 모습을 보여준다.<br>\n",
    "> 이는, 불균형 데이터에서 보팅이 로지스틱 회귀 보다 좀 더 강하다는것을 확인할 수 있다.<br>\n",
    "> <br>\n",
    "> F1-Score의 weight는 5,000 단어장(0.8026), 15,000 단어장(0.8086), 모든 단어장(0.8103)의 결과를 보여주었다."
   ]
  },
  {
   "cell_type": "markdown",
   "id": "satisfied-settle",
   "metadata": {},
   "source": [
    "## 3.3 딥러닝 알고리듬 기반 모델 학습&테스트"
   ]
  },
  {
   "cell_type": "markdown",
   "id": "sacred-pharmacology",
   "metadata": {},
   "source": [
    "> 인공신경망 알고리듬을 활용하여 Reuters News 데이터를 학습 후 결과를 확인한다."
   ]
  },
  {
   "cell_type": "markdown",
   "id": "atlantic-charger",
   "metadata": {},
   "source": [
    "### 3.3.1 Data Preprocessing "
   ]
  },
  {
   "cell_type": "markdown",
   "id": "moral-sterling",
   "metadata": {},
   "source": [
    "> 모델에 적용할 데이터를 사전에 Padding&One-Hot기법을 전처리하는 사용자 정의 함수를 구현한다.<br>\n",
    "> Reuters News의 본문 길이는 평균 145이므로, 약 2.5배의 범위로 400을 문장의 최대 길이로 설정한다."
   ]
  },
  {
   "cell_type": "code",
   "execution_count": 44,
   "id": "furnished-builder",
   "metadata": {},
   "outputs": [],
   "source": [
    "def nlp_preprocessing(x_train, y_train, x_test, y_test, sentence_max_len):\n",
    "    x_train = pad_sequences(x_train, maxlen=sentence_max_len, padding=\"pre\")\n",
    "    x_test = pad_sequences(x_test, maxlen=sentence_max_len, padding=\"pre\")\n",
    "\n",
    "    y_train = to_categorical(y_train)\n",
    "    y_test = to_categorical(y_test)\n",
    "\n",
    "    x_train, x_val, y_train, y_val = train_test_split(x_train, y_train, test_size=0.2, random_state=1996)\n",
    "    \n",
    "    return x_train, y_train, x_val, y_val, x_test, y_test"
   ]
  },
  {
   "cell_type": "markdown",
   "id": "nearby-happiness",
   "metadata": {},
   "source": [
    "> 위 사용자 정의 함수를 활용하여 LSTM에 모델에 사용할 각 후보군 데이터를 전처리하는 작업을 진행한다."
   ]
  },
  {
   "cell_type": "code",
   "execution_count": 49,
   "id": "welsh-overview",
   "metadata": {},
   "outputs": [],
   "source": [
    "pre_n_x_train, pre_n_y_train, pre_n_x_val, pre_n_y_val, pre_n_x_test, pre_n_y_test = nlp_preprocessing(normal_x_train, normal_y_train, normal_x_test, normal_y_test, 400)\n",
    "pre_5000_x_train, pre_5000_y_train, pre_n_5000_val, pre_5000_y_val, pre_5000_x_test, pre_5000_y_test = nlp_preprocessing(word_5000_x_train, word_5000_y_train, word_5000_x_test, word_5000_y_test, 400)\n",
    "pre_15000_x_train, pre_15000_y_train, pre_15000_x_val, pre_15000_y_val, pre_15000_x_test, pre_15000_y_test = nlp_preprocessing(word_15000_x_train, word_15000_y_train, word_15000_x_test, word_15000_y_test, 400)"
   ]
  },
  {
   "cell_type": "markdown",
   "id": "scientific-terror",
   "metadata": {},
   "source": [
    "### 3.3.2 model design"
   ]
  },
  {
   "cell_type": "markdown",
   "id": "choice-brick",
   "metadata": {},
   "source": [
    "> 딥러닝 기반 알고리듬 중, 자연어 처리에 강점을 가진 LSTM 모델을 활용한다.<br>\n",
    "> 문장의 최대 길이(400)을 워드 벡터의 차원수로 설정하고, 46가지의 뉴스 주제를 분류하는 문제이므로 softmax 함수를 사용한다."
   ]
  },
  {
   "cell_type": "code",
   "execution_count": 86,
   "id": "transparent-sessions",
   "metadata": {},
   "outputs": [],
   "source": [
    "def lstm_model(vocab_size):\n",
    "    word_vector_dim = 400\n",
    "    \n",
    "    model = tf.keras.Sequential()\n",
    "    model.add(keras.layers.Embedding(vocab_size, word_vector_dim, input_shape=(None,)))\n",
    "    model.add(keras.layers.LSTM(128))\n",
    "    model.add(keras.layers.Dense(46, activation='softmax'))\n",
    "    \n",
    "    model.compile(optimizer='adam', loss='categorical_crossentropy', metrics=['accuracy', precision, recall, f1score])\n",
    "    \n",
    "    return model"
   ]
  },
  {
   "cell_type": "markdown",
   "id": "graphic-sleeping",
   "metadata": {},
   "source": [
    "> 모델의 예측 성능을 평가하기 위해, F1-Score를 성능 지료로 활용한다.<br>\n",
    "> Keras 2.0 부터는 사용자가 직접 F1-Score를 정의하여야 한다.<br>\n",
    "> 이에, [F1-Score code 블로그](https://blog.naver.com/PostView.nhn?blogId=wideeyed&logNo=221226716255)를 참고하여 F1-Score를 구성했다."
   ]
  },
  {
   "cell_type": "code",
   "execution_count": 82,
   "id": "warming-chapter",
   "metadata": {},
   "outputs": [],
   "source": [
    "def recall(y_target, y_pred):\n",
    "    y_target_yn = K.round(K.clip(y_target, 0, 1))\n",
    "    y_pred_yn = K.round(K.clip(y_pred, 0, 1))\n",
    "    count_true_positive = K.sum(y_target_yn * y_pred_yn) \n",
    "    count_true_positive_false_negative = K.sum(y_target_yn)\n",
    "    recall = count_true_positive / (count_true_positive_false_negative + K.epsilon())\n",
    "\n",
    "    return recall\n",
    "\n",
    "\n",
    "def precision(y_target, y_pred):\n",
    "    y_pred_yn = K.round(K.clip(y_pred, 0, 1))\n",
    "    y_target_yn = K.round(K.clip(y_target, 0, 1))\n",
    "\n",
    "    count_true_positive = K.sum(y_target_yn * y_pred_yn) \n",
    "    count_true_positive_false_positive = K.sum(y_pred_yn)\n",
    "    precision = count_true_positive / (count_true_positive_false_positive + K.epsilon())\n",
    "\n",
    "    return precision\n",
    "\n",
    "\n",
    "def f1score(y_target, y_pred):\n",
    "    _recall = recall(y_target, y_pred)\n",
    "    _precision = precision(y_target, y_pred)\n",
    "    _f1score = ( 2 * _recall * _precision) / (_recall + _precision+ K.epsilon())\n",
    "    \n",
    "    return _f1score"
   ]
  },
  {
   "cell_type": "markdown",
   "id": "assisted-advocate",
   "metadata": {},
   "source": [
    "### 3.3.3 model train "
   ]
  },
  {
   "cell_type": "markdown",
   "id": "speaking-consortium",
   "metadata": {},
   "source": [
    "> 모델 훈련 및 성능을 시각화하는 테스트 함수를 구현한다."
   ]
  },
  {
   "cell_type": "code",
   "execution_count": 97,
   "id": "provincial-company",
   "metadata": {},
   "outputs": [],
   "source": [
    "def train_model(model, epoch, batch_size, x_train, y_train, x_val, y_val):   \n",
    "    history = model.fit(x_train, y_train, epochs=epoch, batch_size=batch_size, verbose=1,validation_data=(x_val, y_val))\n",
    "\n",
    "    return history, model"
   ]
  },
  {
   "cell_type": "code",
   "execution_count": 94,
   "id": "maritime-apartment",
   "metadata": {},
   "outputs": [],
   "source": [
    "def test_model(history, trained_model, x_test, y_test):  \n",
    "    _loss, _acc, _precision, _recall, _f1score = trained_model.evaluate(x_test, y_test)\n",
    "    print('loss: {:.3f}, accuracy: {:.3f}, precision: {:.3f}, recall: {:.3f}, f1score: {:.3f}'.format(_loss, _acc, _precision, _recall, _f1score))"
   ]
  },
  {
   "cell_type": "markdown",
   "id": "controversial-binding",
   "metadata": {},
   "source": [
    "### 3.3.4 단어 5,000개를 사용한 LSTM Model"
   ]
  },
  {
   "cell_type": "markdown",
   "id": "typical-depth",
   "metadata": {},
   "source": [
    "> Vocabulary의 단어가 5,000개인 데이터를 활용한 LSTM model을 훈련 및 테스트하는 과정을 기술한다.<br>\n",
    "> 훈련 횟수는 15회이며, batch_size는 128로 설정했다."
   ]
  },
  {
   "cell_type": "code",
   "execution_count": 103,
   "id": "fleet-disaster",
   "metadata": {},
   "outputs": [
    {
     "name": "stdout",
     "output_type": "stream",
     "text": [
      "Epoch 1/15\n",
      "57/57 [==============================] - 12s 176ms/step - loss: 2.9927 - accuracy: 0.3141 - precision: 0.0756 - recall: 0.0136 - f1score: 0.0219 - val_loss: 2.0600 - val_accuracy: 0.4942 - val_precision: 0.9315 - val_recall: 0.2696 - val_f1score: 0.4169\n",
      "Epoch 2/15\n",
      "57/57 [==============================] - 9s 164ms/step - loss: 2.0415 - accuracy: 0.4828 - precision: 0.9316 - recall: 0.2747 - f1score: 0.4212 - val_loss: 1.8847 - val_accuracy: 0.5170 - val_precision: 0.8495 - val_recall: 0.3774 - val_f1score: 0.5215\n",
      "Epoch 3/15\n",
      "57/57 [==============================] - 9s 164ms/step - loss: 1.7895 - accuracy: 0.5224 - precision: 0.8320 - recall: 0.4194 - f1score: 0.5536 - val_loss: 1.6820 - val_accuracy: 0.5821 - val_precision: 0.9021 - val_recall: 0.4904 - val_f1score: 0.6289\n",
      "Epoch 4/15\n",
      "57/57 [==============================] - 9s 164ms/step - loss: 1.6704 - accuracy: 0.5704 - precision: 0.8718 - recall: 0.4845 - f1score: 0.6204 - val_loss: 1.6825 - val_accuracy: 0.5743 - val_precision: 0.8336 - val_recall: 0.4805 - val_f1score: 0.6086\n",
      "Epoch 5/15\n",
      "57/57 [==============================] - 9s 164ms/step - loss: 1.5199 - accuracy: 0.6147 - precision: 0.8895 - recall: 0.5127 - f1score: 0.6495 - val_loss: 1.4646 - val_accuracy: 0.6528 - val_precision: 0.9096 - val_recall: 0.5100 - val_f1score: 0.6518\n",
      "Epoch 6/15\n",
      "57/57 [==============================] - 9s 165ms/step - loss: 1.2555 - accuracy: 0.6989 - precision: 0.9193 - recall: 0.5870 - f1score: 0.7154 - val_loss: 1.3866 - val_accuracy: 0.6772 - val_precision: 0.8770 - val_recall: 0.5808 - val_f1score: 0.6958\n",
      "Epoch 7/15\n",
      "57/57 [==============================] - 9s 164ms/step - loss: 1.0796 - accuracy: 0.7309 - precision: 0.9098 - recall: 0.6590 - f1score: 0.7638 - val_loss: 1.4100 - val_accuracy: 0.6661 - val_precision: 0.8626 - val_recall: 0.5537 - val_f1score: 0.6720\n",
      "Epoch 8/15\n",
      "57/57 [==============================] - 9s 164ms/step - loss: 1.0012 - accuracy: 0.7524 - precision: 0.8954 - recall: 0.6667 - f1score: 0.7638 - val_loss: 1.3436 - val_accuracy: 0.6795 - val_precision: 0.8606 - val_recall: 0.5717 - val_f1score: 0.6774\n",
      "Epoch 9/15\n",
      "57/57 [==============================] - 9s 165ms/step - loss: 0.8922 - accuracy: 0.7735 - precision: 0.9080 - recall: 0.6971 - f1score: 0.7882 - val_loss: 1.2655 - val_accuracy: 0.7168 - val_precision: 0.8608 - val_recall: 0.6314 - val_f1score: 0.7243\n",
      "Epoch 10/15\n",
      "57/57 [==============================] - 9s 165ms/step - loss: 0.7161 - accuracy: 0.8224 - precision: 0.9198 - recall: 0.7465 - f1score: 0.8236 - val_loss: 1.2800 - val_accuracy: 0.7090 - val_precision: 0.8467 - val_recall: 0.6298 - val_f1score: 0.7181\n",
      "Epoch 11/15\n",
      "57/57 [==============================] - 9s 164ms/step - loss: 0.5857 - accuracy: 0.8573 - precision: 0.9338 - recall: 0.7943 - f1score: 0.8581 - val_loss: 1.3054 - val_accuracy: 0.7229 - val_precision: 0.8254 - val_recall: 0.6475 - val_f1score: 0.7248\n",
      "Epoch 12/15\n",
      "57/57 [==============================] - 9s 164ms/step - loss: 0.4739 - accuracy: 0.8890 - precision: 0.9470 - recall: 0.8180 - f1score: 0.8774 - val_loss: 1.3916 - val_accuracy: 0.7023 - val_precision: 0.8241 - val_recall: 0.6454 - val_f1score: 0.7189\n",
      "Epoch 13/15\n",
      "57/57 [==============================] - 9s 165ms/step - loss: 0.4107 - accuracy: 0.9062 - precision: 0.9503 - recall: 0.8458 - f1score: 0.8946 - val_loss: 1.4138 - val_accuracy: 0.7001 - val_precision: 0.8208 - val_recall: 0.6310 - val_f1score: 0.7012\n",
      "Epoch 14/15\n",
      "57/57 [==============================] - 9s 164ms/step - loss: 0.3395 - accuracy: 0.9234 - precision: 0.9599 - recall: 0.8738 - f1score: 0.9147 - val_loss: 1.4727 - val_accuracy: 0.7034 - val_precision: 0.8079 - val_recall: 0.6543 - val_f1score: 0.7221\n",
      "Epoch 15/15\n",
      "57/57 [==============================] - 9s 164ms/step - loss: 0.2884 - accuracy: 0.9356 - precision: 0.9591 - recall: 0.8993 - f1score: 0.9281 - val_loss: 1.4128 - val_accuracy: 0.7212 - val_precision: 0.7854 - val_recall: 0.6725 - val_f1score: 0.7244\n"
     ]
    }
   ],
   "source": [
    "vacab_5000_lstm_model = lstm_model(5000)\n",
    "vacab_5000_history, vacab_5000_trained_model = train_model(vacab_5000_lstm_model, 15, 128, pre_5000_x_train, pre_5000_y_train, pre_n_5000_val, pre_5000_y_val)"
   ]
  },
  {
   "cell_type": "code",
   "execution_count": 104,
   "id": "union-canyon",
   "metadata": {},
   "outputs": [
    {
     "name": "stdout",
     "output_type": "stream",
     "text": [
      "71/71 [==============================] - 2s 26ms/step - loss: 1.5794 - accuracy: 0.7021 - precision: 0.7832 - recall: 0.6648 - f1score: 0.7177\n",
      "loss: 1.579, accuracy: 0.702, precision: 0.783, recall: 0.665, f1score: 0.718\n"
     ]
    }
   ],
   "source": [
    "test_model(vacab_5000_history,vacab_5000_trained_model, pre_5000_x_test, pre_5000_y_test)"
   ]
  },
  {
   "cell_type": "markdown",
   "id": "combined-question",
   "metadata": {},
   "source": [
    "> Vocabulary의 단어가 5,000개인 LSTM Model을 테스트 결과는 아래와 같다.<br>\n",
    "> <br>\n",
    "> test_accuracy : 70.2%<br>\n",
    "> test_loss : 1.579<br>\n",
    "> test_F1-Score : 0.718<br>\n",
    "> test_Precision : 0.783<br>\n",
    "> test_Recall : 0.665<br>"
   ]
  },
  {
   "cell_type": "markdown",
   "id": "searching-australia",
   "metadata": {},
   "source": [
    "### 3.3.5 단어 15,000개를 사용한 LSTM Model"
   ]
  },
  {
   "cell_type": "markdown",
   "id": "anonymous-turkish",
   "metadata": {},
   "source": [
    "> Vocabulary의 단어가 15,000개인 데이터를 활용한 LSTM model을 훈련 및 테스트하는 과정을 기술한다.<br>\n",
    "> 훈련 횟수는 15회이며, batch_size는 128로 설정했다."
   ]
  },
  {
   "cell_type": "code",
   "execution_count": 105,
   "id": "moving-equilibrium",
   "metadata": {},
   "outputs": [
    {
     "name": "stdout",
     "output_type": "stream",
     "text": [
      "Epoch 1/15\n",
      "57/57 [==============================] - 13s 200ms/step - loss: 3.0037 - accuracy: 0.3239 - precision: 0.1325 - recall: 0.0482 - f1score: 0.0612 - val_loss: 2.0063 - val_accuracy: 0.4942 - val_precision: 0.9498 - val_recall: 0.2685 - val_f1score: 0.4175\n",
      "Epoch 2/15\n",
      "57/57 [==============================] - 11s 185ms/step - loss: 1.8874 - accuracy: 0.4914 - precision: 0.8901 - recall: 0.3552 - f1score: 0.4979 - val_loss: 1.7189 - val_accuracy: 0.5665 - val_precision: 0.8958 - val_recall: 0.4663 - val_f1score: 0.6122\n",
      "Epoch 3/15\n",
      "57/57 [==============================] - 11s 186ms/step - loss: 1.6230 - accuracy: 0.5830 - precision: 0.8821 - recall: 0.4817 - f1score: 0.6214 - val_loss: 1.5999 - val_accuracy: 0.6093 - val_precision: 0.8714 - val_recall: 0.5343 - val_f1score: 0.6620\n",
      "Epoch 4/15\n",
      "57/57 [==============================] - 11s 187ms/step - loss: 1.4323 - accuracy: 0.6306 - precision: 0.9019 - recall: 0.5361 - f1score: 0.6717 - val_loss: 1.4697 - val_accuracy: 0.6322 - val_precision: 0.8557 - val_recall: 0.5269 - val_f1score: 0.6510\n",
      "Epoch 5/15\n",
      "57/57 [==============================] - 11s 186ms/step - loss: 1.1757 - accuracy: 0.6979 - precision: 0.9023 - recall: 0.5897 - f1score: 0.7123 - val_loss: 1.4072 - val_accuracy: 0.6489 - val_precision: 0.8587 - val_recall: 0.5253 - val_f1score: 0.6507\n",
      "Epoch 6/15\n",
      "57/57 [==============================] - 11s 186ms/step - loss: 1.0150 - accuracy: 0.7466 - precision: 0.9294 - recall: 0.6509 - f1score: 0.7638 - val_loss: 1.2885 - val_accuracy: 0.6978 - val_precision: 0.8242 - val_recall: 0.5993 - val_f1score: 0.6919\n",
      "Epoch 7/15\n",
      "57/57 [==============================] - 11s 187ms/step - loss: 0.7979 - accuracy: 0.8011 - precision: 0.9277 - recall: 0.7284 - f1score: 0.8157 - val_loss: 1.3325 - val_accuracy: 0.6962 - val_precision: 0.8187 - val_recall: 0.6311 - val_f1score: 0.7126\n",
      "Epoch 8/15\n",
      "57/57 [==============================] - 11s 187ms/step - loss: 0.6513 - accuracy: 0.8400 - precision: 0.9382 - recall: 0.7658 - f1score: 0.8429 - val_loss: 1.3130 - val_accuracy: 0.7062 - val_precision: 0.8225 - val_recall: 0.6144 - val_f1score: 0.7013\n",
      "Epoch 9/15\n",
      "57/57 [==============================] - 11s 186ms/step - loss: 0.5142 - accuracy: 0.8789 - precision: 0.9542 - recall: 0.8014 - f1score: 0.8709 - val_loss: 1.3709 - val_accuracy: 0.7078 - val_precision: 0.8064 - val_recall: 0.6582 - val_f1score: 0.7246\n",
      "Epoch 10/15\n",
      "57/57 [==============================] - 11s 185ms/step - loss: 0.3961 - accuracy: 0.9071 - precision: 0.9548 - recall: 0.8406 - f1score: 0.8938 - val_loss: 1.4152 - val_accuracy: 0.7040 - val_precision: 0.7616 - val_recall: 0.6435 - val_f1score: 0.6969\n",
      "Epoch 11/15\n",
      "57/57 [==============================] - 11s 186ms/step - loss: 0.3323 - accuracy: 0.9165 - precision: 0.9562 - recall: 0.8753 - f1score: 0.9138 - val_loss: 1.4244 - val_accuracy: 0.7001 - val_precision: 0.7499 - val_recall: 0.6467 - val_f1score: 0.6938\n",
      "Epoch 12/15\n",
      "57/57 [==============================] - 11s 186ms/step - loss: 0.2775 - accuracy: 0.9302 - precision: 0.9567 - recall: 0.8935 - f1score: 0.9239 - val_loss: 1.4646 - val_accuracy: 0.7056 - val_precision: 0.7469 - val_recall: 0.6560 - val_f1score: 0.6983\n",
      "Epoch 13/15\n",
      "57/57 [==============================] - 11s 185ms/step - loss: 0.2138 - accuracy: 0.9462 - precision: 0.9637 - recall: 0.9246 - f1score: 0.9436 - val_loss: 1.4686 - val_accuracy: 0.7067 - val_precision: 0.7562 - val_recall: 0.6451 - val_f1score: 0.6932\n",
      "Epoch 14/15\n",
      "57/57 [==============================] - 11s 185ms/step - loss: 0.1869 - accuracy: 0.9542 - precision: 0.9644 - recall: 0.9360 - f1score: 0.9499 - val_loss: 1.6191 - val_accuracy: 0.6861 - val_precision: 0.7433 - val_recall: 0.6470 - val_f1score: 0.6916\n",
      "Epoch 15/15\n",
      "57/57 [==============================] - 11s 186ms/step - loss: 0.1689 - accuracy: 0.9546 - precision: 0.9650 - recall: 0.9425 - f1score: 0.9536 - val_loss: 1.5393 - val_accuracy: 0.7095 - val_precision: 0.7317 - val_recall: 0.6550 - val_f1score: 0.6910\n"
     ]
    }
   ],
   "source": [
    "vacab_15000_lstm_model = lstm_model(15000)\n",
    "vacab_15000_history, vacab_15000_trained_model = train_model(vacab_15000_lstm_model, 15, 128, pre_15000_x_train, pre_15000_y_train, pre_15000_x_val, pre_15000_y_val)"
   ]
  },
  {
   "cell_type": "code",
   "execution_count": 106,
   "id": "cardiac-customer",
   "metadata": {},
   "outputs": [
    {
     "name": "stdout",
     "output_type": "stream",
     "text": [
      "71/71 [==============================] - 2s 26ms/step - loss: 1.7202 - accuracy: 0.6843 - precision: 0.7475 - recall: 0.6601 - f1score: 0.7000\n",
      "loss: 1.720, accuracy: 0.684, precision: 0.747, recall: 0.660, f1score: 0.700\n"
     ]
    }
   ],
   "source": [
    "test_model(vacab_15000_history,vacab_15000_trained_model, pre_15000_x_test, pre_15000_y_test)"
   ]
  },
  {
   "cell_type": "markdown",
   "id": "qualified-payment",
   "metadata": {},
   "source": [
    "> Vocabulary의 단어가 15,000개인 LSTM Model을 테스트 결과는 아래와 같다.<br>\n",
    "> <br>\n",
    "> test_accuracy : 68.4%<br>\n",
    "> test_loss : 1.720<br>\n",
    "> test_F1-Score : 0.7<br>\n",
    "> test_Precision : 0.747<br>\n",
    "> test_Recall : 0.66<br>"
   ]
  },
  {
   "cell_type": "markdown",
   "id": "vanilla-hunter",
   "metadata": {},
   "source": [
    "### 3.3.6 모든 단어를 사용한 LSTM Model"
   ]
  },
  {
   "cell_type": "markdown",
   "id": "architectural-public",
   "metadata": {},
   "source": [
    "> Vocabulary의 단어가 30,982개인 데이터를 활용한 LSTM model을 훈련 및 테스트하는 과정을 기술한다.<br>\n",
    "> 훈련 횟수는 15회이며, batch_size는 128로 설정했다."
   ]
  },
  {
   "cell_type": "code",
   "execution_count": 107,
   "id": "respected-winner",
   "metadata": {},
   "outputs": [
    {
     "name": "stdout",
     "output_type": "stream",
     "text": [
      "Epoch 1/15\n",
      "57/57 [==============================] - 16s 249ms/step - loss: 2.9909 - accuracy: 0.3340 - precision: 0.0814 - recall: 0.0436 - f1score: 0.0512 - val_loss: 2.0796 - val_accuracy: 0.4613 - val_precision: 0.9064 - val_recall: 0.2769 - val_f1score: 0.4226\n",
      "Epoch 2/15\n",
      "57/57 [==============================] - 13s 234ms/step - loss: 1.9911 - accuracy: 0.4796 - precision: 0.8801 - recall: 0.3149 - f1score: 0.4565 - val_loss: 1.7666 - val_accuracy: 0.5659 - val_precision: 0.8150 - val_recall: 0.5145 - val_f1score: 0.6304\n",
      "Epoch 3/15\n",
      "57/57 [==============================] - 13s 235ms/step - loss: 1.6976 - accuracy: 0.5647 - precision: 0.8631 - recall: 0.4795 - f1score: 0.6109 - val_loss: 1.6679 - val_accuracy: 0.5815 - val_precision: 0.8265 - val_recall: 0.4722 - val_f1score: 0.6001\n",
      "Epoch 4/15\n",
      "57/57 [==============================] - 13s 232ms/step - loss: 1.3549 - accuracy: 0.6538 - precision: 0.9104 - recall: 0.5414 - f1score: 0.6779 - val_loss: 1.5015 - val_accuracy: 0.6188 - val_precision: 0.8290 - val_recall: 0.5118 - val_f1score: 0.6318\n",
      "Epoch 5/15\n",
      "57/57 [==============================] - 13s 233ms/step - loss: 1.0812 - accuracy: 0.7250 - precision: 0.9264 - recall: 0.6410 - f1score: 0.7566 - val_loss: 1.4331 - val_accuracy: 0.6583 - val_precision: 0.8155 - val_recall: 0.5618 - val_f1score: 0.6635\n",
      "Epoch 6/15\n",
      "57/57 [==============================] - 13s 234ms/step - loss: 0.8786 - accuracy: 0.7691 - precision: 0.9266 - recall: 0.7023 - f1score: 0.7979 - val_loss: 1.4193 - val_accuracy: 0.6611 - val_precision: 0.7996 - val_recall: 0.5639 - val_f1score: 0.6595\n",
      "Epoch 7/15\n",
      "57/57 [==============================] - 13s 234ms/step - loss: 0.6696 - accuracy: 0.8279 - precision: 0.9423 - recall: 0.7652 - f1score: 0.8441 - val_loss: 1.4642 - val_accuracy: 0.6694 - val_precision: 0.7914 - val_recall: 0.5779 - val_f1score: 0.6658\n",
      "Epoch 8/15\n",
      "57/57 [==============================] - 13s 234ms/step - loss: 0.5316 - accuracy: 0.8647 - precision: 0.9444 - recall: 0.7985 - f1score: 0.8651 - val_loss: 1.4399 - val_accuracy: 0.6845 - val_precision: 0.7773 - val_recall: 0.6092 - val_f1score: 0.6806\n",
      "Epoch 9/15\n",
      "57/57 [==============================] - 13s 235ms/step - loss: 0.4196 - accuracy: 0.8959 - precision: 0.9558 - recall: 0.8384 - f1score: 0.8929 - val_loss: 1.4978 - val_accuracy: 0.6973 - val_precision: 0.7515 - val_recall: 0.6264 - val_f1score: 0.6826\n",
      "Epoch 10/15\n",
      "57/57 [==============================] - 13s 236ms/step - loss: 0.2913 - accuracy: 0.9327 - precision: 0.9634 - recall: 0.8783 - f1score: 0.9188 - val_loss: 1.5093 - val_accuracy: 0.6978 - val_precision: 0.7574 - val_recall: 0.6248 - val_f1score: 0.6819\n",
      "Epoch 11/15\n",
      "57/57 [==============================] - 14s 248ms/step - loss: 0.2337 - accuracy: 0.9422 - precision: 0.9635 - recall: 0.9103 - f1score: 0.9361 - val_loss: 1.5630 - val_accuracy: 0.6917 - val_precision: 0.7427 - val_recall: 0.6352 - val_f1score: 0.6846\n",
      "Epoch 12/15\n",
      "57/57 [==============================] - 13s 233ms/step - loss: 0.2288 - accuracy: 0.9418 - precision: 0.9588 - recall: 0.9161 - f1score: 0.9369 - val_loss: 1.6103 - val_accuracy: 0.6945 - val_precision: 0.7289 - val_recall: 0.6425 - val_f1score: 0.6821\n",
      "Epoch 13/15\n",
      "57/57 [==============================] - 13s 235ms/step - loss: 0.1620 - accuracy: 0.9570 - precision: 0.9676 - recall: 0.9393 - f1score: 0.9532 - val_loss: 1.6074 - val_accuracy: 0.6939 - val_precision: 0.7503 - val_recall: 0.6394 - val_f1score: 0.6873\n",
      "Epoch 14/15\n",
      "57/57 [==============================] - 13s 235ms/step - loss: 0.1377 - accuracy: 0.9600 - precision: 0.9692 - recall: 0.9485 - f1score: 0.9587 - val_loss: 1.6363 - val_accuracy: 0.7062 - val_precision: 0.7505 - val_recall: 0.6550 - val_f1score: 0.6963\n",
      "Epoch 15/15\n",
      "57/57 [==============================] - 13s 235ms/step - loss: 0.1192 - accuracy: 0.9631 - precision: 0.9718 - recall: 0.9544 - f1score: 0.9630 - val_loss: 1.6482 - val_accuracy: 0.6917 - val_precision: 0.7547 - val_recall: 0.6538 - val_f1score: 0.6992\n"
     ]
    }
   ],
   "source": [
    "all_lstm_model = lstm_model(30982)\n",
    "history, trained_model = train_model(all_lstm_model, 15, 128, pre_n_x_train, pre_n_y_train, pre_n_x_val, pre_n_y_val)"
   ]
  },
  {
   "cell_type": "code",
   "execution_count": 108,
   "id": "straight-schedule",
   "metadata": {},
   "outputs": [
    {
     "name": "stdout",
     "output_type": "stream",
     "text": [
      "71/71 [==============================] - 2s 27ms/step - loss: 1.8123 - accuracy: 0.6687 - precision: 0.7385 - recall: 0.6408 - f1score: 0.6855\n",
      "loss: 1.812, accuracy: 0.669, precision: 0.739, recall: 0.641, f1score: 0.685\n"
     ]
    }
   ],
   "source": [
    "test_model(history,trained_model, pre_n_x_test, pre_n_y_test)"
   ]
  },
  {
   "cell_type": "markdown",
   "id": "asian-gibraltar",
   "metadata": {},
   "source": [
    "> Vocabulary의 단어가 30,982개인 LSTM Model을 테스트 결과는 아래와 같다.<br>\n",
    "> <br>\n",
    "> test_accuracy : 66.9%<br>\n",
    "> test_loss : 1.812<br>\n",
    "> test_F1-Score : 0.685<br>\n",
    "> test_Precision : 0.739<br>\n",
    "> test_Recall : 0.641<br>"
   ]
  },
  {
   "cell_type": "markdown",
   "id": "measured-stanley",
   "metadata": {},
   "source": [
    "# 연구 결론"
   ]
  },
  {
   "cell_type": "markdown",
   "id": "increased-lloyd",
   "metadata": {},
   "source": [
    "> 본 연구의 목적인 '로이터 뉴스(Reuters News)' 데이터를 활용하여 머신러닝 알고리듬과 딥러닝 모델의 성능을 비교하고, 모델에서 사용하는 단어 수(vacabulary size)의 차이가 모델 성능에 영향을 미치는지 분석하는 실험을 진행한 결과는 아래의 표1, 표2와 같았다.<br>\n",
    "> <br>\n",
    "> 아래의 결과를 통해 Reuters News 데이터에 가장 적합한 모델은 보팅이라 생각한다.<br>\n",
    "> 보팅 머신러닝 알고리듬이 성능이 가장 유사한 로지스틱 회귀에 비해, 각 단어 수 차이에 따른 편차가 가장 적었기 때문이다.<br>\n",
    "> 이는 불균형 데이터에서 비교군 알고리듬에 비해 좀 더 강건한 장점이 있음을 의미한다.<br>"
   ]
  },
  {
   "attachments": {},
   "cell_type": "markdown",
   "id": "iraqi-database",
   "metadata": {},
   "source": [
    "<span style=\"text-align: center;\">\n",
    "    <b> 표1 | 머신러닝 알고리듬 기반 학습 결과 </b>\n",
    "</span>\n",
    "<br>\n",
    "\n",
    "|머신러닝 모델|accuracy(5,000, 15,000, ALL)|F1-Score weight(5,000, 15,000, ALL)|F1-Score micro(5,000, 15,000, ALL)|F1-Score macro(5,000, 15,000, ALL)|\n",
    "|---|------|---|---|---|\n",
    "|나이브 베이즈 분류기|63.31% / 67.32% / 59.97%|0.5498 / 0.6013 / 0.5046|0.6331 / 0.6732 / 0.5997|0.0853 / 0.1102 / 0.0677|\n",
    "|컴플리먼트 나이브 베이즈 분류기|59.97% / 67.32% / 63.31%|0.7459 / 0.7448 / 0.7347|0.7707 / 0.772 / 0.7649|0.482 / 0.4668 / 0.464|\n",
    "|로지스틱 회귀|80.28% / 81.43% / 81.7%|0.7977 / 0.8092 / 0.8118|0.8028 / 0.8143 / 0.817|0.6526 / 0.6682 / 0.673|\n",
    "|선형 서포트 벡터 머신| 77.38% / 78.58% / 78.85%| 0.7702 / 0.7814 / 0.784|0.7738 / 0.7858 / 0.7885|0.607 / 0.6201 / 0.6351|\n",
    "|결정 트리|61.8% / 61.93% / 62.11%|0.573 / 0.5756 / 0.5769|0.618 / 0.6193 / 0.6211|0.1779 / 0.1818 / 0.1545|\n",
    "|랜덤 포레스트|70.12% / 67.14% / 65.45%|0.677 / 0.6407 / 0.6226|0.7012 / 0.6714 / 0.6545|0.3596 / 0.2971 / 0.2795|\n",
    "|그래디언트 부스팅 트리|76.76% / 77.07% / 77.03%|0.7662 / 0.7679 / 0.7642|0.7703 / 0.7676 / 0.7707|0.5792 / 0.5716 / 0.5728|\n",
    "|보팅|80.94% / 81.57% / 81.61%|0.8026 / 0.8086 / 0.8103|0.8094 / 0.8157 / 0.8161|0.6458 / 0.667 / 0.6738|"
   ]
  },
  {
   "cell_type": "markdown",
   "id": "improved-paste",
   "metadata": {},
   "source": [
    "<span style=\"text-align: center;\">\n",
    "    <b> 표2 | 인공신경망 알고리듬 LSTM 모델 기반 학습 결과 </b>\n",
    "</span>\n",
    "<br>\n",
    "\n",
    "|LSTM 모델|Test Accuracy|Test Loss|Test Precision|Test Recall|Test F1-Score|\n",
    "|---|------|---|---|---|---|\n",
    "|5,000 단어|70.2%|1.579|0.783|0.665|0.718|\n",
    "|15,000 단어|68.4%|1.72|0.747|0.66|0.7|\n",
    "|모든 단어|66.9%|1.812|0.739|0.641|0.685|"
   ]
  },
  {
   "cell_type": "markdown",
   "id": "ignored-movement",
   "metadata": {},
   "source": [
    "> 첫번째 연구 목적인 모델에서 사용하는 단어의 수(vacabulary size)가 모델 성능에 영향을 미치는가에 대한 연구 결과의 답은, 단어의 수가 모델 성능에 영향을 미친다는 것이다.<br>\n",
    "> <br>\n",
    "> 같은 모델을 사용했을때, 단어의 수에 따라 정확도, F1-Score (weight,micro, macro)의 성능이 유의미하게 차이가 나는 모습을 보여주었다.\n",
    "> 로지스텍 회귀, 선형 서포트 벡터 머신, 보팅 알고리듬과 같이 다중 분류에 특화된 머신러닝 알고리듬에서 좋은 성능을 보여주었다.\n",
    "> 나이브 베이즈 분류기, 컴플리먼트 나이브 베이즈 분류기, 결정 트리 알고리듬과 같이 이중 분류에 특화된 머신러닝 알고리듬에서는 낮은 성능을 보여주었다.\n",
    "> 컴플리먼트 나이브 베이즈 분류기, 그래디언트 부스팅 트리와 같이, 불균형 데이터에 보정을 하는 알고리듬은 F1-Score가 보정을 하지 않는 알고리듬보다 좋은 성능을 보여주었다."
   ]
  },
  {
   "cell_type": "markdown",
   "id": "respiratory-manual",
   "metadata": {},
   "source": [
    "> 두번째 연구 목적인 머신러닝 알고리듬과 LSTM 인공신경망 알고리듬의 성능을 비교했을 때, 머신러닝 알고리듬 비교군에따라 결과가 달랐다.<br>\n",
    "> 이중 분류 머신러닝 알고리듬에서는 인공신경망이 정확도, F1-Score 등 대부분의 기록에서 우위인 모습을 보여주었다.<br>\n",
    "> 그러나, 다중 분류 머신러닝에서는 인공신경망이 정확도, F1-Score 등 대부분의 기록에서 열세인 모습을 보여주었다.<br>\n",
    "> LSTM은 Reuters News 데이터의 80%를 구성하는 문장 길이가 400이내인 뉴스 본문에서는 70% 이상의 정확률(precision)을 보여주었다.<br>\n",
    "> 그러나, 400자 이상의 뉴스 본문을  Test 데이터셋을 사용할 시 상대적으로 낮은 정확률(Recall)을 보여주었다.<br>\n",
    "> LSTM모델 외에 다른 인공신경망에서 비교하는 연구가 더 필요할것같다."
   ]
  }
 ],
 "metadata": {
  "kernelspec": {
   "display_name": "Python 3",
   "language": "python",
   "name": "python3"
  },
  "language_info": {
   "codemirror_mode": {
    "name": "ipython",
    "version": 3
   },
   "file_extension": ".py",
   "mimetype": "text/x-python",
   "name": "python",
   "nbconvert_exporter": "python",
   "pygments_lexer": "ipython3",
   "version": "3.7.9"
  }
 },
 "nbformat": 4,
 "nbformat_minor": 5
}

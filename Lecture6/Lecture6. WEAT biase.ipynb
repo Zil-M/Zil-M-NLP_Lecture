{
 "cells": [
  {
   "cell_type": "markdown",
   "id": "great-bulletin",
   "metadata": {},
   "source": [
    "# 연구 목표"
   ]
  },
  {
   "cell_type": "markdown",
   "id": "earlier-handling",
   "metadata": {},
   "source": [
    ">오늘날 AI를 활용한 다양한 서비스가 우리 주위에서 익숙하고 자연스럽게 사용되고 있다. 음악 서비스에서는 사용자의 선호도에 따라 음악을 추천해주고, 금융 서비스에서는 은행원 대신 대출 서비스를 AI가 심사를 진행한다. 이처럼 사람 대신 의사결정을 진행해주는 AI에 대해, 사람들은 AI은 기계이므로 객관적이고 공정하게 결과를 제시한다고 생각하기 때문에, AI가 도출한 결과에 의문 대신 높은 신뢰를 하는 경향이 많다.<br>\n",
    "> <br>\n",
    "> 2016년에 발표된 'Man is to Computer Programmer as Woman is to Homemaker? Debiasing Word Embeddings'라는 논문은 AI도 학습에 사용된 데이터에 따라 객관적이지 않을 수 있음을 보여주었다. 사람들이 가지고 있는 편견이 AI가 학습하는 워드 임베딩 속 벡터들에 고스란히 반영되어 있었다는 것을 보여 주었기 때문이다.<br>\n",
    "> <br>\n",
    "> 이에, 본 연구에는 워드 임베딩 벡터들 간에는 의미적인 유사도 거리를 정량적으로 측정하는 Word Embedding Association Test (WEAT)과, 영화의 시놉시스 데이터를 활용하여, 21개의 영화 장르에 따른 일반 영화와 예술 영화에 대한 편향성을 측성하고, 어떤 영화 장르가 일반 영화와 예술 영화에 가까운지 확인하는 실험을 진행한다."
   ]
  },
  {
   "cell_type": "code",
   "execution_count": 146,
   "id": "convertible-utility",
   "metadata": {},
   "outputs": [
    {
     "name": "stdout",
     "output_type": "stream",
     "text": [
      "Requirement already satisfied: matplotlib-venn in /opt/conda/lib/python3.7/site-packages (0.11.6)\n",
      "Requirement already satisfied: scipy in /opt/conda/lib/python3.7/site-packages (from matplotlib-venn) (1.4.1)\n",
      "Requirement already satisfied: matplotlib in /opt/conda/lib/python3.7/site-packages (from matplotlib-venn) (3.3.3)\n",
      "Requirement already satisfied: numpy in /opt/conda/lib/python3.7/site-packages (from matplotlib-venn) (1.19.5)\n",
      "Requirement already satisfied: kiwisolver>=1.0.1 in /opt/conda/lib/python3.7/site-packages (from matplotlib->matplotlib-venn) (1.3.1)\n",
      "Requirement already satisfied: python-dateutil>=2.1 in /opt/conda/lib/python3.7/site-packages (from matplotlib->matplotlib-venn) (2.8.1)\n",
      "Requirement already satisfied: pyparsing!=2.0.4,!=2.1.2,!=2.1.6,>=2.0.3 in /opt/conda/lib/python3.7/site-packages (from matplotlib->matplotlib-venn) (2.4.7)\n",
      "Requirement already satisfied: pillow>=6.2.0 in /opt/conda/lib/python3.7/site-packages (from matplotlib->matplotlib-venn) (8.1.0)\n",
      "Requirement already satisfied: cycler>=0.10 in /opt/conda/lib/python3.7/site-packages (from matplotlib->matplotlib-venn) (0.10.0)\n",
      "Requirement already satisfied: six in /opt/conda/lib/python3.7/site-packages (from cycler>=0.10->matplotlib->matplotlib-venn) (1.15.0)\n",
      "\u001b[33mWARNING: You are using pip version 20.3.3; however, version 21.3.1 is available.\n",
      "You should consider upgrading via the '/opt/conda/bin/python3.7 -m pip install --upgrade pip' command.\u001b[0m\n"
     ]
    }
   ],
   "source": [
    "!pip install matplotlib-venn"
   ]
  },
  {
   "cell_type": "code",
   "execution_count": 149,
   "id": "musical-neighborhood",
   "metadata": {},
   "outputs": [
    {
     "name": "stdout",
     "output_type": "stream",
     "text": [
      "Requirement already satisfied: pip in /opt/conda/lib/python3.7/site-packages (20.3.3)\n",
      "Collecting pip\n",
      "  Downloading pip-21.3.1-py3-none-any.whl (1.7 MB)\n",
      "\u001b[K     |████████████████████████████████| 1.7 MB 22.6 MB/s eta 0:00:01\n",
      "\u001b[?25hInstalling collected packages: pip\n",
      "  Attempting uninstall: pip\n",
      "    Found existing installation: pip 20.3.3\n",
      "    Uninstalling pip-20.3.3:\n",
      "      Successfully uninstalled pip-20.3.3\n",
      "Successfully installed pip-21.3.1\n"
     ]
    }
   ],
   "source": [
    "!pip install --upgrade pip"
   ]
  },
  {
   "cell_type": "code",
   "execution_count": 165,
   "id": "disturbed-chancellor",
   "metadata": {},
   "outputs": [],
   "source": [
    "import os\n",
    "import pickle\n",
    "import numpy as np\n",
    "import seaborn as sns\n",
    "import matplotlib.pyplot as plt \n",
    "\n",
    "from matplotlib_venn import venn2, venn2_circles\n",
    "from numpy import dot\n",
    "from numpy.linalg import norm\n",
    "from konlpy.tag import Okt\n",
    "from gensim.models import Word2Vec\n",
    "from sklearn.feature_extraction.text import TfidfVectorizer"
   ]
  },
  {
   "cell_type": "markdown",
   "id": "employed-geometry",
   "metadata": {},
   "source": [
    "# 1. Word2Vec기반 워드 임베딩 벡터 생성"
   ]
  },
  {
   "cell_type": "markdown",
   "id": "devoted-vietnamese",
   "metadata": {},
   "source": [
    "> 본 1장에서는 WEAT에 활용할 워드 임베딩을 생성하는 과정을 기술한다.<br>\n",
    "> <br>\n",
    "> WEAT에 활용할 워드 임베딩은 Word2Vec를 채택했다.<br>\n",
    "> Word2Vec는 단어 벡터간 단어의 '의미'의 유사도를 계산하고 이를 수치화하여 표현할 수 있기에 자연어 편향성 측정 문제에 적합하다고 생각했다.<br>\n",
    "> <br>\n",
    "> Word2Vec 기반 워드 임베딩 생성을 위해 영화의 시놉시스 데이터(16.9 Mbyte)를 사용한다.<br>\n",
    "> 시놉시스 데이터 중, 단어의 의미를 명확하게 표기하는 '체언' 중 '명사'만을 추출한다.<br>\n",
    "> 관계언, 수식언, 용언 등 다른 품사는 단어의 의미를 명확하게 구분하는데 노이즈의 역할을 하므로 제거한다.<br>\n",
    "> <br>\n",
    "> 추출한 '명사' 데이터를 활용하여 Word2Vec 기반 워드 임베딩을 생성한다."
   ]
  },
  {
   "cell_type": "markdown",
   "id": "vocal-suffering",
   "metadata": {},
   "source": [
    "## 1.1 Data load"
   ]
  },
  {
   "cell_type": "markdown",
   "id": "otherwise-authority",
   "metadata": {},
   "source": [
    "> Word2Vec 기반 워드 임베딩 생성을 위한 영화들의 시놉시스 데이터를 메모리에 적재 후 정보를 확인한다.<br>\n",
    "> 영화들의 시놉시스 데이터는 2001년부터 2019년 8월까지 제작된 영화의 시놉시스를 국문으로 기록한 정보이다.<br>\n",
    "> <br>\n",
    "> 국문 영화 시놉시스 데이터는 아래 링크에서 확인할 수 있다.<br>\n",
    "> [synopsis.zip](https://d3s0tskafalll9.cloudfront.net/media/documents/synopsis.zip)"
   ]
  },
  {
   "cell_type": "code",
   "execution_count": 7,
   "id": "third-beast",
   "metadata": {},
   "outputs": [
    {
     "name": "stdout",
     "output_type": "stream",
     "text": [
      "0 :  사운드 엔지니어 상우(유지태 분)는 치매에 걸린 할머니(백성희 분)와\n",
      "1 :   젊은 시절 상처한 한 아버지(박인환 분), 고모(신신애 분)와 함께 살고 있다.\n",
      "2 :   어느 겨울 그는 지방 방송국 라디오 PD 은수(이영애 분)를 만난다.\n",
      "3 :   자연의 소리를 채집해 틀어주는 라디오 프로그램을 준비하는 은수는 상우와 녹음 여행을 떠난다.\n",
      "4 :   자연스레 가까워지는 두 사람은 어느 날, 은수의 아파트에서 밤을 보낸다.\n",
      "5 :   너무 쉽게 사랑에 빠진 두 사람... 상우는 주체할 수 없을 정도로 그녀에게 빨려든다.\n",
      "6 :   그러나 겨울에 만난 두 사람의 관계는 봄을 지나 여름을 맞이하면서 삐걱거린다.\n",
      "7 :   이혼 경험이 있는 은수는 상우에게 결혼할 생각이 없다며 부담스러운 표정을 내비친다.\n",
      "8 :   \"어떻게 사랑이 변하니?...\"라고 묻는 상우에게 은수는 그저 \"헤어져\" 라고 단호하게 말한다.\n",
      "9 :   영원히 변할 것 같지 않던 사랑이 변하고, 그 사실을 받아들이지 못하는 상우는 어찌 할 바를 모른다.\n"
     ]
    }
   ],
   "source": [
    "with open(os.getenv('HOME')+'/aiffel/weat/synopsis.txt', 'r') as file:\n",
    "    for i in range(10):\n",
    "        print(i,': ',file.readline(), end='')"
   ]
  },
  {
   "cell_type": "markdown",
   "id": "surgical-leader",
   "metadata": {},
   "source": [
    "> 영화들의 시놉시스 데이터. 이하, <code>synopsis</code> 데이터의 일부 정보를 출력한 결과는 위와 같다."
   ]
  },
  {
   "cell_type": "code",
   "execution_count": null,
   "id": "christian-zambia",
   "metadata": {},
   "outputs": [],
   "source": []
  },
  {
   "cell_type": "markdown",
   "id": "pacific-mercy",
   "metadata": {},
   "source": [
    "## 1.2 '명사' 단어만 추출"
   ]
  },
  {
   "cell_type": "markdown",
   "id": "generous-evans",
   "metadata": {},
   "source": [
    "> WEAT에 활용할 word2Vec를 생성하기 위해, <code>konlpy</code> 패키지를 활용하여 <code>synopsis</code> 데이터에서 '명사' 데이터만 추출 후 <code>tokenized</code> 변수에 저장한다.<br>"
   ]
  },
  {
   "cell_type": "code",
   "execution_count": 8,
   "id": "grand-cleaning",
   "metadata": {},
   "outputs": [],
   "source": [
    "okt = Okt()\n",
    "tokenized = []\n",
    "with open(os.getenv('HOME')+'/aiffel/weat/synopsis.txt', 'r') as file:\n",
    "    while True:\n",
    "        line = file.readline()\n",
    "        if not line: break\n",
    "        words = okt.pos(line, stem=True, norm=True)\n",
    "        res = []\n",
    "        for w in words:\n",
    "            if w[1] in [\"Noun\"]:\n",
    "                res.append(w[0])\n",
    "        tokenized.append(res)"
   ]
  },
  {
   "cell_type": "markdown",
   "id": "allied-gallery",
   "metadata": {},
   "source": [
    "> '명사' 단어 추출 작업에 계산 비용이 크므로 재사용할 수 있도록 추출된 단어를 <code>.txt</code> 파일로 저장한다. "
   ]
  },
  {
   "cell_type": "code",
   "execution_count": 14,
   "id": "nutritional-inquiry",
   "metadata": {},
   "outputs": [],
   "source": [
    "with open('./Data/lecture6/tokenized.txt', \"wb\") as f:\n",
    "    pickle.dump(tokenized, f)"
   ]
  },
  {
   "cell_type": "markdown",
   "id": "separated-palace",
   "metadata": {},
   "source": [
    "> '명사' 단어만 추출한 <code>tokenized</code>의 내용을 문장 원본과 비교하여 확인한다."
   ]
  },
  {
   "cell_type": "code",
   "execution_count": 31,
   "id": "little-tomato",
   "metadata": {},
   "outputs": [
    {
     "name": "stdout",
     "output_type": "stream",
     "text": [
      "문장 원본 :  사운드 엔지니어 상우(유지태 분)는 치매에 걸린 할머니(백성희 분)와\n",
      "명사만 추출 : ['사운드', '엔지니어', '상우', '유지태', '분', '치매', '할머니', '백성희', '분']\n",
      "\n",
      "\n",
      "문장 원본 :   젊은 시절 상처한 한 아버지(박인환 분), 고모(신신애 분)와 함께 살고 있다.\n",
      "명사만 추출 : ['시절', '상처', '아버지', '박인환', '분', '고모', '신신애', '분', '살']\n",
      "\n",
      "\n",
      "문장 원본 :   어느 겨울 그는 지방 방송국 라디오 PD 은수(이영애 분)를 만난다.\n",
      "명사만 추출 : ['겨울', '그', '지방', '방송국', '라디오', '은수', '이영애', '분', '를']\n",
      "\n",
      "\n",
      "추출된 명사 : 71156 개 \n"
     ]
    }
   ],
   "source": [
    "with open(os.getenv('HOME')+'/aiffel/weat/synopsis.txt', 'r') as file:\n",
    "    for i in range(3):\n",
    "        print('문장 원본 : ',file.readline(), end='')\n",
    "        print('명사만 추출 :',tokenized[i])\n",
    "        print('\\n')\n",
    "        \n",
    "print(f\"추출된 명사 : {len(tokenized)} 개 \")"
   ]
  },
  {
   "cell_type": "markdown",
   "id": "chronic-luther",
   "metadata": {},
   "source": [
    "> 문장 원본과 비교했을 때, 품사가 '명사'인 단어만 추출되었음을 확인할 수 있다."
   ]
  },
  {
   "cell_type": "code",
   "execution_count": null,
   "id": "requested-europe",
   "metadata": {},
   "outputs": [],
   "source": []
  },
  {
   "cell_type": "markdown",
   "id": "civilian-crown",
   "metadata": {},
   "source": [
    "## 1.3 Make Word2Vec Embedding Vector"
   ]
  },
  {
   "cell_type": "markdown",
   "id": "presidential-military",
   "metadata": {},
   "source": [
    "<code>tokenized</code>을 활용하여 Word2Vec 기반 임베딩 벡터를 생성한다."
   ]
  },
  {
   "cell_type": "code",
   "execution_count": 32,
   "id": "cheap-enhancement",
   "metadata": {},
   "outputs": [],
   "source": [
    "word2vec_model = Word2Vec(tokenized, vector_size=100, window=5, min_count=3, sg=0)"
   ]
  },
  {
   "cell_type": "markdown",
   "id": "encouraging-spotlight",
   "metadata": {},
   "source": [
    "> 생성된 임베딩 벡터 모델의 성능을 테스트하는 작업을 진행한다.<br>\n",
    "> <br>\n",
    "> '영화'라는 단어를 입력했을때, '작품', '다큐멘터리',' 드라마', '코미디' 순으로 단어간 유사도를 출력했다.<br>\n",
    "> '예술'이라는 단어를 입력했을때, '주제', '예술가', '대중', 시적' 순으로 단어간 유사도를 출력했다.<br>\n",
    "> <br>\n",
    "> 위 결과를 바탕으로 일반 영화는 다큐멘터리, 드라마, 코미디 관련 영화 장르가 유사성이 높을것이란 가설을 세울 수 있을것이다.<br>\n",
    "> 예술 영화는 드라마, 철학 관련 영화 장르가 유사성이 높을것이라는 가설을 세울 수 있을것이다."
   ]
  },
  {
   "cell_type": "code",
   "execution_count": 37,
   "id": "increasing-correlation",
   "metadata": {},
   "outputs": [
    {
     "data": {
      "text/plain": [
       "[('작품', 0.889788806438446),\n",
       " ('다큐멘터리', 0.8484927415847778),\n",
       " ('드라마', 0.8241448998451233),\n",
       " ('코미디', 0.8184667825698853),\n",
       " ('영화로', 0.8016467094421387),\n",
       " ('주제', 0.8010066747665405),\n",
       " ('감동', 0.7968703508377075),\n",
       " ('형식', 0.7904599905014038),\n",
       " ('실화', 0.7843252420425415),\n",
       " ('소재', 0.7813414931297302)]"
      ]
     },
     "execution_count": 37,
     "metadata": {},
     "output_type": "execute_result"
    }
   ],
   "source": [
    "word2vec_model.wv.most_similar(positive=['영화'])"
   ]
  },
  {
   "cell_type": "code",
   "execution_count": 38,
   "id": "vulnerable-emphasis",
   "metadata": {},
   "outputs": [
    {
     "data": {
      "text/plain": [
       "[('주제', 0.9322843551635742),\n",
       " ('예술가', 0.9317293763160706),\n",
       " ('대중', 0.9140779972076416),\n",
       " ('시적', 0.9060763120651245),\n",
       " ('영화로', 0.9060647487640381),\n",
       " ('해석', 0.9020172953605652),\n",
       " ('영감', 0.9017684459686279),\n",
       " ('드라마', 0.9005115628242493),\n",
       " ('시각', 0.8975170254707336),\n",
       " ('철학', 0.8931575417518616)]"
      ]
     },
     "execution_count": 38,
     "metadata": {},
     "output_type": "execute_result"
    }
   ],
   "source": [
    "word2vec_model.wv.most_similar(positive=['예술'])"
   ]
  },
  {
   "cell_type": "code",
   "execution_count": null,
   "id": "whole-science",
   "metadata": {},
   "outputs": [],
   "source": []
  },
  {
   "cell_type": "markdown",
   "id": "surrounded-representation",
   "metadata": {},
   "source": [
    "# 2. WEAT(Word Embedding Association Test)"
   ]
  },
  {
   "cell_type": "markdown",
   "id": "hindu-toolbox",
   "metadata": {},
   "source": [
    "> <code>synopsis</code> 데이터의 편향성을 관측하기 위해 WEAT 기법을 활용하고자 한다.<br>\n",
    "> WEAT의 Target은 '일반영화' , '예술 영화' 2개이고, Attribute는 영화 장르인 21개이다.<br>\n",
    "> <br>\n",
    "> Target과 Attirubute를 대표할 단어를 선정하기위해 TF-IDF을 지표로 사용한다.<br>\n",
    "> Target과 Attirubute의 각 대표 단어는 명사이며, 상위 5개 단어만 출력한다.<br>"
   ]
  },
  {
   "cell_type": "markdown",
   "id": "velvet-boundary",
   "metadata": {},
   "source": [
    "## 2.0 Utility Function"
   ]
  },
  {
   "cell_type": "markdown",
   "id": "awful-perspective",
   "metadata": {},
   "source": [
    "> 각 데이터에서 명사만 추출할 수 있도록 편의성 함수를 사전에 구현한다."
   ]
  },
  {
   "cell_type": "code",
   "execution_count": 40,
   "id": "tired-torture",
   "metadata": {},
   "outputs": [],
   "source": [
    "# 명사 단어(토큰)을 추출하는 함수\n",
    "def get_Noun_Token(file_name):\n",
    "    okt = Okt()\n",
    "    result = []\n",
    "    with open(os.getenv('HOME')+'/aiffel/weat/'+file_name, 'r') as fread: \n",
    "        print(file_name, '파일을 읽고 있습니다.')\n",
    "        while True:\n",
    "            line = fread.readline() \n",
    "            if not line: break \n",
    "            tokenlist = okt.pos(line, stem=True, norm=True) \n",
    "            for word in tokenlist:\n",
    "                if word[1] in [\"Noun\"]:#, \"Adjective\", \"Verb\"]:\n",
    "                    result.append((word[0])) \n",
    "    return ' '.join(result)"
   ]
  },
  {
   "cell_type": "markdown",
   "id": "numerous-tuning",
   "metadata": {},
   "source": [
    "> 추출된 데이터를 재사용할 수 있도록 저장, 불러오는 기능 함수를 구현한다."
   ]
  },
  {
   "cell_type": "code",
   "execution_count": 41,
   "id": "legislative-wheat",
   "metadata": {},
   "outputs": [],
   "source": [
    "# 토큰 모음집을 저장하는 함수\n",
    "def save_token(file_name, data):\n",
    "    with open('./Data/lecture6/'+file_name, \"wb\") as f:\n",
    "        pickle.dump(data, f)\n",
    "\n",
    "\n",
    "# 토큰 모음집을 불러오는 함수\n",
    "def load_token(file_name):\n",
    "    with open('./Data/lecture6/'+file_name, \"rb\") as f:\n",
    "        tokenizer = pickle.load(data, f)\n",
    "        \n",
    "    return tokenizer"
   ]
  },
  {
   "cell_type": "markdown",
   "id": "roman-investigator",
   "metadata": {},
   "source": [
    "## 2.1 WEAT Target"
   ]
  },
  {
   "cell_type": "markdown",
   "id": "angry-blogger",
   "metadata": {},
   "source": [
    "> WEAT의 Target 데이터는 <code>일반 영화</code>, <code>예술 영화</code> 2가지 이다."
   ]
  },
  {
   "cell_type": "markdown",
   "id": "reasonable-storage",
   "metadata": {},
   "source": [
    "### 2.1.1 WEAT Target에서 명사 단어 추출"
   ]
  },
  {
   "cell_type": "markdown",
   "id": "hollywood-hurricane",
   "metadata": {},
   "source": [
    "> 아래의 각 데이터에서 명사 단어만을 추출 후, 재 작업시 계산비용 절약을 위해 결과를 <code>.txt</code> 파일로 저장한다.<br>\n",
    "> <br>\n",
    "> synopsis_art.txt : 예술영화<br>\n",
    "> synopsis_gen.txt : 일반영화<br>"
   ]
  },
  {
   "cell_type": "code",
   "execution_count": 42,
   "id": "shared-shield",
   "metadata": {},
   "outputs": [
    {
     "name": "stdout",
     "output_type": "stream",
     "text": [
      "synopsis_art.txt 파일을 읽고 있습니다.\n",
      "synopsis_gen.txt 파일을 읽고 있습니다.\n"
     ]
    }
   ],
   "source": [
    "art = get_Noun_Token('synopsis_art.txt')\n",
    "gen = get_Noun_Token('synopsis_gen.txt')\n",
    "\n",
    "save_token('art_token.txt', art)\n",
    "save_token('gen_token.txt', gen)"
   ]
  },
  {
   "cell_type": "markdown",
   "id": "checked-award",
   "metadata": {},
   "source": [
    "### 2.1.2 Target TF-IDF 생성 및 출력"
   ]
  },
  {
   "cell_type": "markdown",
   "id": "passing-sustainability",
   "metadata": {},
   "source": [
    "> <code>art</code>와 <code>gen</code>을 활용하여 TF-IDF를 생성한다."
   ]
  },
  {
   "cell_type": "code",
   "execution_count": 46,
   "id": "satisfactory-arbor",
   "metadata": {},
   "outputs": [],
   "source": [
    "vectorizer = TfidfVectorizer()\n",
    "X = vectorizer.fit_transform([art, gen])"
   ]
  },
  {
   "cell_type": "markdown",
   "id": "married-yorkshire",
   "metadata": {},
   "source": [
    "> WEAT의 Target를 표현할 대표 단어 5개를 출력하는 기능함수를 구현한다."
   ]
  },
  {
   "cell_type": "code",
   "execution_count": 80,
   "id": "sexual-requirement",
   "metadata": {},
   "outputs": [],
   "source": [
    "def print_tfidf_word(data):\n",
    "    for i in range(20):\n",
    "        print(vectorizer.get_feature_names()[data[i][0]], \":\", round(data[i][1],2))"
   ]
  },
  {
   "cell_type": "markdown",
   "id": "offensive-racing",
   "metadata": {},
   "source": [
    "> <code>art</code>와 <code>gen</code>의 TF-IDF 값을 내림차순으로 정렬했을 때, 상위 5개까지 대표 단어와 값(.2f까지)을 표기하여 출력한다."
   ]
  },
  {
   "cell_type": "code",
   "execution_count": 81,
   "id": "bright-execution",
   "metadata": {},
   "outputs": [
    {
     "name": "stdout",
     "output_type": "stream",
     "text": [
      "예술영화를 대표하는 단어들:\n",
      "그녀 : 0.3\n",
      "자신 : 0.29\n",
      "시작 : 0.29\n",
      "위해 : 0.26\n",
      "사랑 : 0.25\n",
      "사람 : 0.23\n",
      "영화 : 0.16\n",
      "친구 : 0.15\n",
      "남자 : 0.13\n",
      "가족 : 0.11\n",
      "이야기 : 0.11\n",
      "마을 : 0.1\n",
      "사건 : 0.1\n",
      "마음 : 0.1\n",
      "세상 : 0.1\n",
      "아버지 : 0.1\n",
      "아이 : 0.09\n",
      "엄마 : 0.09\n",
      "모든 : 0.09\n",
      "여자 : 0.09\n",
      "None\n",
      "\n",
      "일반영화를 대표하는 단어들:\n",
      "자신 : 0.3\n",
      "그녀 : 0.29\n",
      "영화제 : 0.29\n",
      "위해 : 0.24\n",
      "사람 : 0.21\n",
      "시작 : 0.21\n",
      "국제 : 0.2\n",
      "영화 : 0.18\n",
      "친구 : 0.16\n",
      "사랑 : 0.16\n",
      "남자 : 0.15\n",
      "이야기 : 0.13\n",
      "대한 : 0.1\n",
      "서울 : 0.1\n",
      "여자 : 0.1\n",
      "사건 : 0.1\n",
      "남편 : 0.09\n",
      "아이 : 0.09\n",
      "가족 : 0.09\n",
      "아버지 : 0.09\n",
      "None\n"
     ]
    }
   ],
   "source": [
    "m1 = X[0].tocoo()\n",
    "m2 = X[1].tocoo()\n",
    "\n",
    "w1 = [[i, j] for i, j in zip(m1.col, m1.data)]\n",
    "w2 = [[i, j] for i, j in zip(m2.col, m2.data)]\n",
    "\n",
    "w1.sort(key=lambda x: x[1], reverse=True)\n",
    "w2.sort(key=lambda x: x[1], reverse=True)\n",
    "\n",
    "print('예술영화를 대표하는 단어들:')\n",
    "print(print_tfidf_word(w1))\n",
    "\n",
    "print('\\n일반영화를 대표하는 단어들:')\n",
    "print(print_tfidf_word(w2))"
   ]
  },
  {
   "cell_type": "markdown",
   "id": "popular-pennsylvania",
   "metadata": {},
   "source": [
    "### 2.1.3 Target TF-IDF의 중복 제거"
   ]
  },
  {
   "cell_type": "markdown",
   "id": "received-banner",
   "metadata": {},
   "source": [
    "> WEAT의 Target의 대표 단어 선정의 지표로 TF-IDF을 사용했다.<br>\n",
    "> Target의 대표 단어를 TF-IDF가 높은 순으로 출력하였을 때, '일반 영화'와 '예술 영화' 각 축에 중복된 단어가 다수 있음을 확인할 수 있다.<br>\n",
    "> 연구 목표는 Target의 각 축이 대조되도록 대표하는 단어를 구성하는것이므로, 서로 중복되지 않게 단어 셋을 구성해야 한다.<br>\n",
    "> 이에, Target의 상위 50개의 단어들 중 중복되는 단어를 제외하고 상위 5개의 단어를 추출하는 작업을 진행한다."
   ]
  },
  {
   "cell_type": "code",
   "execution_count": 77,
   "id": "circular-session",
   "metadata": {},
   "outputs": [],
   "source": [
    "n = 5\n",
    "\n",
    "w1_, w2_ = [], []\n",
    "for i in range(50):\n",
    "    w1_.append(vectorizer.get_feature_names()[w1[i][0]])\n",
    "    w2_.append(vectorizer.get_feature_names()[w2[i][0]])\n",
    "\n",
    "target_art, target_gen = [], []\n",
    "for i in range(50):\n",
    "    if (w1_[i] not in w2_) and (w1_[i] in word2vec_model.wv): target_art.append(w1_[i])\n",
    "    if len(target_art) == n: break \n",
    "\n",
    "for i in range(50):\n",
    "    if (w2_[i] not in w1_) and (w2_[i] in word2vec_model.wv): target_gen.append(w2_[i])\n",
    "    if len(target_gen) == n: break"
   ]
  },
  {
   "cell_type": "code",
   "execution_count": 79,
   "id": "arranged-settle",
   "metadata": {},
   "outputs": [
    {
     "name": "stdout",
     "output_type": "stream",
     "text": [
      "일반 영화 대표 단어 :  ['국제', '서울', '단편', '작품', '생각']\n",
      "예술 영화 대표 단어 :  ['점점', '여행', '인생', '모두', '순간']\n"
     ]
    }
   ],
   "source": [
    "print('일반 영화 대표 단어 : ', target_gen)\n",
    "print('예술 영화 대표 단어 : ', target_art)"
   ]
  },
  {
   "cell_type": "markdown",
   "id": "comparable-houston",
   "metadata": {},
   "source": [
    "> Target의 각 축에서 중복되는 단어를 제거했을 때 각 축의 대표 단어는 아래와 같다.<br>\n",
    "> <br>\n",
    "> 일반 영화 : <code>국제</code>, <code>서울</code>, <code>단편</code>, <code>작품</code>, <code>생각</code><br>\n",
    "> 예술 영화 : <code>점점</code>, <code>여행</code>, <code>인생</code>, <code>모두</code>, <code>순간</code><br>"
   ]
  },
  {
   "cell_type": "code",
   "execution_count": null,
   "id": "strong-feeling",
   "metadata": {},
   "outputs": [],
   "source": []
  },
  {
   "cell_type": "markdown",
   "id": "structural-barrel",
   "metadata": {},
   "source": [
    "## 2.2 WEAT Attirubute"
   ]
  },
  {
   "cell_type": "markdown",
   "id": "verified-custody",
   "metadata": {},
   "source": [
    "> WEAT의 Attirubute 데이터는 <code>SF</code>, <code>가족</code>, <code>공연</code>, <code>공포(호러)</code>, <code>다큐멘터리</code>, <code>드라마</code>, <code>멜로로맨스</code>, <code>뮤지컬</code>, <code>미스터리</code>, <code>범죄</code>, <code>사극</code>, <code>서부극(웨스턴)</code>, <code>성인물(에로)</code>, <code>스릴러</code>, <code>애니메이션</code>, <code>액션</code>, <code>어드벤처</code>, <code>전쟁</code>, <code>코미디</code>, <code>판타지</code> 21가지 이다."
   ]
  },
  {
   "cell_type": "markdown",
   "id": "suspected-rochester",
   "metadata": {},
   "source": [
    "### 2.2.1 WEAT Attirubute에서 명사 단어 추출"
   ]
  },
  {
   "cell_type": "markdown",
   "id": "consecutive-match",
   "metadata": {},
   "source": [
    "> 아래의 각 데이터에서 명사 단어만을 추출 후, 재 작업시 계산비용 절약을 위해 결과를 .txt 파일로 저장한다.\n",
    ">\n",
    "> 1. synopsis_SF.txt : SF 영화<br>\n",
    "> 2. synopsis_family.txt : 가족 영화<br>\n",
    "> 3. synopsis_show.txt : 공연 영화<br>\n",
    "> 4. synopsis_horror.txt : 공포(호러) 영화<br>\n",
    "> 5. synopsis_etc.txt : 기타 영화<br>\n",
    "> 6. synopsis_documentary.txt : 다큐멘터리 영화<br>\n",
    "> 7. synopsis_drama.txt : 다큐멘터리 영화<br>\n",
    "> 8. synopsis_romance.txt : 멜로로맨스 영화<br>\n",
    "> 9. synopsis_musical.txt : 뮤지컬 영화<br>\n",
    "> 10. synopsis_mystery.txt : 미스터리 영화<br>\n",
    "> 11. synopsis_crime.txt : 범죄 영화<br>\n",
    "> 12. synopsis_historical.txt : 사극 영화<br>\n",
    "> 13. synopsis_western.txt : 서부극(웨스턴) 영화<br>\n",
    "> 14. synopsis_adult.txt : 성인물(에로) 영화<br>\n",
    "> 15. synopsis_thriller.txt : 스릴러 영화<br>\n",
    "> 16. synopsis_animation.txt : 애니메이션 영화<br>\n",
    "> 17. synopsis_action.txt : 액션 영화<br>\n",
    "> 18. synopsis_adventure.txt : 어드벤처 영화<br>\n",
    "> 19. synopsis_war.txt : 전쟁 영화<br>\n",
    "> 20. synopsis_comedy.txt : 코미디 영화<br>\n",
    "> 21. synopsis_fantasy.txt : 판타지 영화<br>"
   ]
  },
  {
   "cell_type": "code",
   "execution_count": 45,
   "id": "white-abuse",
   "metadata": {},
   "outputs": [
    {
     "name": "stdout",
     "output_type": "stream",
     "text": [
      "synopsis_SF.txt 파일을 읽고 있습니다.\n",
      "synopsis_family.txt 파일을 읽고 있습니다.\n",
      "synopsis_show.txt 파일을 읽고 있습니다.\n",
      "synopsis_horror.txt 파일을 읽고 있습니다.\n",
      "synopsis_etc.txt 파일을 읽고 있습니다.\n",
      "synopsis_documentary.txt 파일을 읽고 있습니다.\n",
      "synopsis_drama.txt 파일을 읽고 있습니다.\n",
      "synopsis_romance.txt 파일을 읽고 있습니다.\n",
      "synopsis_musical.txt 파일을 읽고 있습니다.\n",
      "synopsis_mystery.txt 파일을 읽고 있습니다.\n",
      "synopsis_crime.txt 파일을 읽고 있습니다.\n",
      "synopsis_historical.txt 파일을 읽고 있습니다.\n",
      "synopsis_western.txt 파일을 읽고 있습니다.\n",
      "synopsis_adult.txt 파일을 읽고 있습니다.\n",
      "synopsis_thriller.txt 파일을 읽고 있습니다.\n",
      "synopsis_animation.txt 파일을 읽고 있습니다.\n",
      "synopsis_action.txt 파일을 읽고 있습니다.\n",
      "synopsis_adventure.txt 파일을 읽고 있습니다.\n",
      "synopsis_war.txt 파일을 읽고 있습니다.\n",
      "synopsis_comedy.txt 파일을 읽고 있습니다.\n",
      "synopsis_fantasy.txt 파일을 읽고 있습니다.\n"
     ]
    }
   ],
   "source": [
    "genre_txt = ['synopsis_SF.txt', 'synopsis_family.txt', 'synopsis_show.txt', 'synopsis_horror.txt', 'synopsis_etc.txt', \n",
    "             'synopsis_documentary.txt', 'synopsis_drama.txt', 'synopsis_romance.txt', 'synopsis_musical.txt', \n",
    "             'synopsis_mystery.txt', 'synopsis_crime.txt', 'synopsis_historical.txt', 'synopsis_western.txt', \n",
    "             'synopsis_adult.txt', 'synopsis_thriller.txt', 'synopsis_animation.txt', 'synopsis_action.txt', \n",
    "             'synopsis_adventure.txt', 'synopsis_war.txt', 'synopsis_comedy.txt', 'synopsis_fantasy.txt']\n",
    "genre_name = ['SF', '가족', '공연', '공포(호러)', '기타', '다큐멘터리', '드라마', '멜로로맨스', '뮤지컬', '미스터리', '범죄', '사극', '서부극(웨스턴)',\n",
    "         '성인물(에로)', '스릴러', '애니메이션', '액션', '어드벤처', '전쟁', '코미디', '판타지']\n",
    "\n",
    "genre = []\n",
    "for file_name in genre_txt:\n",
    "    genre.append(get_Noun_Token(file_name))\n",
    "    \n",
    "save_token('genre_token.txt', art)"
   ]
  },
  {
   "cell_type": "markdown",
   "id": "damaged-sunglasses",
   "metadata": {},
   "source": [
    "### 2.2.2 Attirubute TF-IDF 생성 및 출력"
   ]
  },
  {
   "cell_type": "markdown",
   "id": "present-yeast",
   "metadata": {},
   "source": [
    "> Attirubute의 값이 저장된 <code>genre</code>을 활용하여 TF-IDF를 생성한다."
   ]
  },
  {
   "cell_type": "code",
   "execution_count": 117,
   "id": "nominated-exhaust",
   "metadata": {},
   "outputs": [],
   "source": [
    "vectorizer = TfidfVectorizer()\n",
    "X = vectorizer.fit_transform(genre)"
   ]
  },
  {
   "cell_type": "markdown",
   "id": "virgin-license",
   "metadata": {},
   "source": [
    "> <code>genre</code>의 TF-IDF 값을 내림차순으로 정렬했을 때, 각 축의 상위 5개까지 출력한다."
   ]
  },
  {
   "cell_type": "code",
   "execution_count": 118,
   "id": "essential-words",
   "metadata": {},
   "outputs": [
    {
     "name": "stdout",
     "output_type": "stream",
     "text": [
      "SF: 위해 0.26, 자신 0.26, 지구 0.24, 시작 0.23, 사람 0.19, \n",
      " ------------------------------------------------------------\n",
      "가족: 엄마 0.25, 아빠 0.23, 가족 0.2, 영화제 0.2, 자신 0.19, \n",
      " ------------------------------------------------------------\n",
      "공연: 오페라 0.27, 사랑 0.26, 토스카 0.21, 실황 0.2, 올레 0.17, \n",
      " ------------------------------------------------------------\n",
      "공포(호러): 시작 0.26, 위해 0.24, 사람 0.24, 자신 0.23, 친구 0.22, \n",
      " ------------------------------------------------------------\n",
      "기타: 영화제 0.51, 국제 0.4, 서울 0.36, 단편 0.31, 영화 0.15, \n",
      " ------------------------------------------------------------\n",
      "다큐멘터리: 영화제 0.33, 영화 0.28, 다큐 0.23, 국제 0.23, 다큐멘터리 0.22, \n",
      " ------------------------------------------------------------\n",
      "드라마: 자신 0.29, 영화제 0.29, 그녀 0.28, 사람 0.2, 사랑 0.2, \n",
      " ------------------------------------------------------------\n",
      "멜로로맨스: 그녀 0.47, 사랑 0.31, 자신 0.25, 시작 0.21, 남편 0.21, \n",
      " ------------------------------------------------------------\n",
      "뮤지컬: 뮤지컬 0.26, 사랑 0.2, 에스메랄다 0.19, 그녀 0.18, 음악 0.17, \n",
      " ------------------------------------------------------------\n",
      "미스터리: 사건 0.35, 그녀 0.29, 시작 0.25, 자신 0.22, 위해 0.17, \n",
      " ------------------------------------------------------------\n",
      "범죄: 사건 0.31, 위해 0.25, 자신 0.25, 경찰 0.23, 시작 0.22, \n",
      " ------------------------------------------------------------\n",
      "사극: 조선 0.37, 위해 0.19, 시작 0.16, 신기전 0.15, 사랑 0.15, \n",
      " ------------------------------------------------------------\n",
      "서부극(웨스턴): 서부 0.31, 보안관 0.23, 위해 0.2, 벌린 0.2, 카우보이 0.18, \n",
      " ------------------------------------------------------------\n",
      "성인물(에로): 그녀 0.47, 남편 0.32, 마사지 0.24, 자신 0.22, 섹스 0.17, \n",
      " ------------------------------------------------------------\n",
      "스릴러: 자신 0.32, 그녀 0.29, 사건 0.28, 시작 0.26, 위해 0.23, \n",
      " ------------------------------------------------------------\n",
      "애니메이션: 애니메이션 0.48, 국제 0.32, 영화제 0.29, 친구 0.2, 인디애니페스트 0.18, \n",
      " ------------------------------------------------------------\n",
      "액션: 위해 0.36, 자신 0.3, 시작 0.24, 조직 0.19, 사건 0.17, \n",
      " ------------------------------------------------------------\n",
      "어드벤처: 위해 0.3, 자신 0.18, 시작 0.15, 친구 0.14, 마을 0.14, \n",
      " ------------------------------------------------------------\n",
      "전쟁: 전쟁 0.27, 독일군 0.26, 전투 0.22, 위해 0.2, 작전 0.19, \n",
      " ------------------------------------------------------------\n",
      "코미디: 그녀 0.27, 자신 0.27, 시작 0.24, 위해 0.23, 사랑 0.21, \n",
      " ------------------------------------------------------------\n",
      "판타지: 자신 0.28, 그녀 0.26, 시작 0.24, 위해 0.21, 사람 0.18, \n",
      " ------------------------------------------------------------\n"
     ]
    }
   ],
   "source": [
    "m = [X[i].tocoo() for i in range(X.shape[0])]\n",
    "w = [[[i, j] for i, j in zip(mm.col, mm.data)] for mm in m]\n",
    "\n",
    "for i in range(len(w)):\n",
    "    w[i].sort(key=lambda x: x[1], reverse=True)\n",
    "\n",
    "    \n",
    "attributes = []\n",
    "for i in range(len(w)):\n",
    "    print(genre_name[i], end=': ')\n",
    "    attr = []\n",
    "    j = 0\n",
    "    while (len(attr) < 5):\n",
    "        if vectorizer.get_feature_names()[w[i][j][0]] in word2vec_model.wv:\n",
    "            attr.append(vectorizer.get_feature_names()[w[i][j][0]])\n",
    "            print(vectorizer.get_feature_names()[w[i][j][0]], round(w[i][j][1], 2), end=', ')\n",
    "        j += 1\n",
    "    attributes.append(attr)\n",
    "    print('\\n','--'*30)"
   ]
  },
  {
   "cell_type": "markdown",
   "id": "fleet-decision",
   "metadata": {},
   "source": [
    "# 3. WEAT기반 편향성 측정결과"
   ]
  },
  {
   "cell_type": "markdown",
   "id": "surrounded-yorkshire",
   "metadata": {},
   "source": [
    "> 본 3장에서는 2장에서 추출한 WEAT Target, Attirubute의 대표 단어를 활용하여 각 축과의 편향성을 WEAT score으로 측정한다.<br>\n",
    "> WEAT score은 Cos(코싸인)의 유사도로 측정하며, 양수가 클수록 실험군(A)에 가깝다고 할 수 있고, 음수가 클수록 대조군(B)에 가깝다고 할 수 있다.<br>\n",
    "> 모든 Target, Attirubute의 편향성 최종 결과는 heatmap으로 시각화하여 표현한다."
   ]
  },
  {
   "cell_type": "markdown",
   "id": "ruled-collection",
   "metadata": {},
   "source": [
    "## 3.1 WEAT Score Function"
   ]
  },
  {
   "cell_type": "markdown",
   "id": "royal-heritage",
   "metadata": {},
   "source": [
    "> WEAT socre는 두 벡터의 유사도를 측정하기 위해 cosine similarity를 이용하며 이를 코드로 구현한 결과는 아래와 같다.<br>\n",
    "> <br>\n",
    "> cos(θ)=1: 두 벡터의 방향이 똑같을 때 <br>\n",
    "> cos(\\theta)=0cos(θ)=0: 두 벡터가 직교할 때<br>\n",
    "> cos(\\theta)=-1cos(θ)=−1: 두 벡터의 방향이 반대일 때<br>"
   ]
  },
  {
   "attachments": {
    "%EC%BA%A1%EC%B2%98.PNG": {
     "image/png": "[encoded data removed]"
    }
   },
   "cell_type": "markdown",
   "id": "quiet-salem",
   "metadata": {},
   "source": [
    "![%EC%BA%A1%EC%B2%98.PNG](attachment:%EC%BA%A1%EC%B2%98.PNG)"
   ]
  },
  {
   "cell_type": "code",
   "execution_count": null,
   "id": "lasting-assessment",
   "metadata": {},
   "outputs": [],
   "source": [
    "def cos_sim(i, j):\n",
    "    return dot(i, j.T)/(norm(i)*norm(j))"
   ]
  },
  {
   "cell_type": "markdown",
   "id": "metropolitan-sending",
   "metadata": {},
   "source": [
    "> 실험군과 비교군과의 편향성을 측정하기 위해 s(w,A,B)가 사용되며,target에 있는 단어가 두 attribute 셋 A, B에 속한 단어들과의 유사도의 평균(mean)값이 얼마나 차이 나는지를 측정한다.<br>\n",
    "> 절댓값이 클수록 A-B 개념축에 대해 편향성이 높다고 할 수 있다."
   ]
  },
  {
   "attachments": {
    "%EC%BA%A1%EC%B2%98.PNG": {
     "image/png": "[encoded data removed]"
    }
   },
   "cell_type": "markdown",
   "id": "significant-archive",
   "metadata": {},
   "source": [
    "![%EC%BA%A1%EC%B2%98.PNG](attachment:%EC%BA%A1%EC%B2%98.PNG)"
   ]
  },
  {
   "cell_type": "code",
   "execution_count": 107,
   "id": "cutting-template",
   "metadata": {},
   "outputs": [],
   "source": [
    "def s(w, A, B):\n",
    "    c_a = cos_sim(w, A)\n",
    "    c_b = cos_sim(w, B)\n",
    "    mean_A = np.mean(c_a, axis=-1)\n",
    "    mean_B = np.mean(c_b, axis=-1)\n",
    "    return mean_A - mean_B"
   ]
  },
  {
   "cell_type": "markdown",
   "id": "protective-piece",
   "metadata": {},
   "source": [
    "> 위 수식을 활용하여 작성된 최종 WEAT score는 아래 수식과 같이 정의할 수 있다."
   ]
  },
  {
   "attachments": {
    "%EC%BA%A1%EC%B2%98.PNG": {
     "image/png": "[encoded data removed]"
    }
   },
   "cell_type": "markdown",
   "id": "environmental-electronics",
   "metadata": {},
   "source": [
    "![%EC%BA%A1%EC%B2%98.PNG](attachment:%EC%BA%A1%EC%B2%98.PNG)"
   ]
  },
  {
   "cell_type": "code",
   "execution_count": null,
   "id": "interior-robin",
   "metadata": {},
   "outputs": [],
   "source": [
    "def weat_score(X, Y, A, B):\n",
    "    \n",
    "    s_X = s(X, A, B)\n",
    "    s_Y = s(Y, A, B)\n",
    "\n",
    "    mean_X = np.mean(s_X)\n",
    "    mean_Y = np.mean(s_Y)\n",
    "    \n",
    "    std_dev = np.std(np.concatenate([s_X, s_Y], axis=0))\n",
    "    \n",
    "    return  (mean_X-mean_Y)/std_dev"
   ]
  },
  {
   "cell_type": "markdown",
   "id": "reasonable-clearance",
   "metadata": {},
   "source": [
    "> 위 수식을 활용하여 WEAT Target과 Attirubute의 Score를 추출한뒤 행렬 변수 <code>matrix</code>에 저장한다.<br>\n",
    "> 그리고 <code>matrix</code>의 WEAT Score 점수에 따라 Target에 편향된 장르 데이터를 추출한다.<br>\n",
    "> <br>\n",
    "> WEAT Score 0.1 이상 일때 -> 예술 영화에 편향되었다.<br>\n",
    "> WEAT Score -0.1 이하 일때 -> 일반 영화에 편향되었다.<br>\n",
    "> WEAT Score 0.1 미만, -0.1 초과 일때 -> 어떤 Target에도 편향되지 않았다."
   ]
  },
  {
   "cell_type": "code",
   "execution_count": 127,
   "id": "opponent-embassy",
   "metadata": {},
   "outputs": [],
   "source": [
    "matrix = [[0 for _ in range(len(genre_name))] for _ in range(len(genre_name))]\n",
    "\n",
    "X = np.array([word2vec_model.wv[word] for word in target_art])\n",
    "Y = np.array([word2vec_model.wv[word] for word in target_gen])\n",
    "\n",
    "art_biase = list()\n",
    "gen_biase = list()\n",
    "null_biase = list()\n",
    "\n",
    "for i in range(len(genre_name)-1):\n",
    "    for j in range(i+1, len(genre_name)):\n",
    "        A = np.array([word2vec_model.wv[word] for word in attributes[i]])\n",
    "        B = np.array([word2vec_model.wv[word] for word in attributes[j]])\n",
    "        matrix[i][j] = weat_score(X, Y, A, B)  \n",
    "        if matrix[i][j] >= 0.1:\n",
    "            art_biase += [genre_name[i]]\n",
    "            gen_biase += [genre_name[j]]\n",
    "        elif matrix[i][j] < 0.1 and matrix[i][j] > -0.1:\n",
    "            art_biase += [genre_name[i]]\n",
    "            gen_biase += [genre_name[j]]\n",
    "        elif matrix[i][j] <= -0.1:\n",
    "            null_biase = [genre_name[j]]"
   ]
  },
  {
   "cell_type": "markdown",
   "id": "illegal-grammar",
   "metadata": {},
   "source": [
    "# 4. 연구 결과"
   ]
  },
  {
   "cell_type": "markdown",
   "id": "built-trunk",
   "metadata": {},
   "source": [
    "> 위 3장에서 분류 과정을 통해 2가지 Target과 21가지 Attirubute에서 편향된 영화 장르를 벤 다이어그램으로 시각화 하여 표현하면 아래 그림과 같다.<br>\n",
    "> <br>\n",
    "> [벤 다이어그램 참고 사이트](https://towardsdatascience.com/how-to-create-and-customize-venn-diagrams-in-python-263555527305)"
   ]
  },
  {
   "cell_type": "code",
   "execution_count": 183,
   "id": "collective-expert",
   "metadata": {},
   "outputs": [
    {
     "data": {
      "image/png": "[encoded data removed]",
      "text/plain": [
       "<Figure size 720x720 with 1 Axes>"
      ]
     },
     "metadata": {},
     "output_type": "display_data"
    }
   ],
   "source": [
    "art_movire_biase = set(gen_biase)\n",
    "gen_movire_biase = set(art_biase) \n",
    "\n",
    "plt.figure(figsize = (10, 10))\n",
    "v = venn2(subsets=(art_movire_biase, gen_movire_biase), set_labels=('일반 영화', '예술 영화'),set_colors=('purple', 'skyblue'),alpha = 0.5) \n",
    "v.get_label_by_id('10').set_text('\\n'.join(map(str,art_movire_biase - gen_movire_biase)))\n",
    "v.get_label_by_id('11').set_text('\\n'.join(map(str,art_movire_biase & gen_movire_biase)))\n",
    "v.get_label_by_id('01').set_text('\\n'.join(map(str,gen_movire_biase - art_movire_biase)))\n",
    "\n",
    "plt.show()"
   ]
  },
  {
   "cell_type": "markdown",
   "id": "cosmetic-passenger",
   "metadata": {},
   "source": [
    "> <code>다큐멘터리</code>, <code>전쟁</code>, <code>코미디</code>, <code>판타지</code>, <code>기타</code>, <code>애니메이션</code> 장르는 일반 영화(WEAT Score <= -0.1) 편향된 모습을 보여주었다.<br>\n",
    "> <code>SF</code>, <code>공포(호러)</code> 장르는 예술 영화(WEAT Score >= 0.1) 편향된 모습을 보여주었다.<br>\n",
    "> <code>액션</code>, <code>범죄</code>, <code>공연</code>, <code>드라마</code>, <code>미스터리</code>, <code>멜로로맨스</code>, <code>가족</code>, <code>사극</code>, <code>서부극(웨스턴)</code>, <code>스릴러</code>, <code>뮤지컬</code>, <code>어드벤처</code>, <code>성인물(에로)</code>는 편향되지 않는 모습을 보여주었다."
   ]
  },
  {
   "cell_type": "markdown",
   "id": "productive-bailey",
   "metadata": {},
   "source": [
    "> 벤 다이어그램에서 표현하지 못한 WEAT score의 상세한 값을 출력한 결과는 아래와 같다."
   ]
  },
  {
   "cell_type": "code",
   "execution_count": 110,
   "id": "after-positive",
   "metadata": {
    "scrolled": false
   },
   "outputs": [
    {
     "name": "stdout",
     "output_type": "stream",
     "text": [
      "SF - 가족 :  1.7296892\n",
      "SF - 공연 :  1.4652212\n",
      "SF - 공포(호러) :  -1.0948788\n",
      "SF - 기타 :  1.6577326\n",
      "SF - 다큐멘터리 :  1.6368878\n",
      "SF - 드라마 :  1.7590516\n",
      "SF - 멜로로맨스 :  -0.26238805\n",
      "SF - 뮤지컬 :  1.4076309\n",
      "SF - 미스터리 :  -0.056996804\n",
      "SF - 범죄 :  0.50432676\n",
      "SF - 사극 :  1.1535724\n",
      "SF - 서부극(웨스턴) :  1.3644098\n",
      "SF - 성인물(에로) :  0.7121802\n",
      "SF - 스릴러 :  -0.05699647\n",
      "SF - 애니메이션 :  1.6746238\n",
      "SF - 액션 :  0.7879329\n",
      "SF - 어드벤처 :  -0.14813186\n",
      "SF - 전쟁 :  0.9842216\n",
      "SF - 코미디 :  -0.6336722\n",
      "SF - 판타지 :  -0.99481493\n",
      "------------------------------------------------------------\n",
      "가족 - 공연 :  0.38373262\n",
      "가족 - 공포(호러) :  -1.7553273\n",
      "가족 - 기타 :  1.4889578\n",
      "가족 - 다큐멘터리 :  1.427031\n",
      "가족 - 드라마 :  -0.13548762\n",
      "가족 - 멜로로맨스 :  -1.5856916\n",
      "가족 - 뮤지컬 :  -0.18047945\n",
      "가족 - 미스터리 :  -1.5919604\n",
      "가족 - 범죄 :  -1.5391212\n",
      "가족 - 사극 :  -1.7243804\n",
      "가족 - 서부극(웨스턴) :  -1.3577847\n",
      "가족 - 성인물(에로) :  -1.2338681\n",
      "가족 - 스릴러 :  -1.5919603\n",
      "가족 - 애니메이션 :  1.4553676\n",
      "가족 - 액션 :  -1.504156\n",
      "가족 - 어드벤처 :  -1.7819293\n",
      "가족 - 전쟁 :  -1.4740038\n",
      "가족 - 코미디 :  -1.7174402\n",
      "가족 - 판타지 :  -1.6776383\n",
      "------------------------------------------------------------\n",
      "공연 - 공포(호러) :  -1.480302\n",
      "공연 - 기타 :  1.6995151\n",
      "공연 - 다큐멘터리 :  1.7238722\n",
      "공연 - 드라마 :  -0.6205537\n",
      "공연 - 멜로로맨스 :  -1.3735682\n",
      "공연 - 뮤지컬 :  -1.1608657\n",
      "공연 - 미스터리 :  -1.3898104\n",
      "공연 - 범죄 :  -1.3294513\n",
      "공연 - 사극 :  -1.4928625\n",
      "공연 - 서부극(웨스턴) :  -1.083655\n",
      "공연 - 성인물(에로) :  -1.0660942\n",
      "공연 - 스릴러 :  -1.3898104\n",
      "공연 - 애니메이션 :  1.65802\n",
      "공연 - 액션 :  -1.3305048\n",
      "공연 - 어드벤처 :  -1.4039677\n",
      "공연 - 전쟁 :  -1.489406\n",
      "공연 - 코미디 :  -1.4624163\n",
      "공연 - 판타지 :  -1.4461173\n",
      "------------------------------------------------------------\n",
      "공포(호러) - 기타 :  1.6408136\n",
      "공포(호러) - 다큐멘터리 :  1.623162\n",
      "공포(호러) - 드라마 :  1.7039008\n",
      "공포(호러) - 멜로로맨스 :  0.51747936\n",
      "공포(호러) - 뮤지컬 :  1.457485\n",
      "공포(호러) - 미스터리 :  0.9975847\n",
      "공포(호러) - 범죄 :  1.2988368\n",
      "공포(호러) - 사극 :  1.3684224\n",
      "공포(호러) - 서부극(웨스턴) :  1.4494672\n",
      "공포(호러) - 성인물(에로) :  1.2127024\n",
      "공포(호러) - 스릴러 :  0.9975848\n",
      "공포(호러) - 애니메이션 :  1.6522816\n",
      "공포(호러) - 액션 :  1.3128972\n",
      "공포(호러) - 어드벤처 :  0.9200382\n",
      "공포(호러) - 전쟁 :  1.1144277\n",
      "공포(호러) - 코미디 :  0.7075113\n",
      "공포(호러) - 판타지 :  0.02219738\n",
      "------------------------------------------------------------\n",
      "기타 - 다큐멘터리 :  -0.45547923\n",
      "기타 - 드라마 :  -1.558068\n",
      "기타 - 멜로로맨스 :  -1.586108\n",
      "기타 - 뮤지컬 :  -1.6303328\n",
      "기타 - 미스터리 :  -1.6050373\n",
      "기타 - 범죄 :  -1.594123\n",
      "기타 - 사극 :  -1.6899983\n",
      "기타 - 서부극(웨스턴) :  -1.6557957\n",
      "기타 - 성인물(에로) :  -1.485705\n",
      "기타 - 스릴러 :  -1.6050376\n",
      "기타 - 애니메이션 :  -1.4213423\n",
      "기타 - 액션 :  -1.5982623\n",
      "기타 - 어드벤처 :  -1.6410257\n",
      "기타 - 전쟁 :  -1.7558991\n",
      "기타 - 코미디 :  -1.6328695\n",
      "기타 - 판타지 :  -1.6228136\n",
      "------------------------------------------------------------\n",
      "다큐멘터리 - 드라마 :  -1.5357316\n",
      "다큐멘터리 - 멜로로맨스 :  -1.5714004\n",
      "다큐멘터리 - 뮤지컬 :  -1.659804\n",
      "다큐멘터리 - 미스터리 :  -1.5928612\n",
      "다큐멘터리 - 범죄 :  -1.580043\n",
      "다큐멘터리 - 사극 :  -1.6614207\n",
      "다큐멘터리 - 서부극(웨스턴) :  -1.5885056\n",
      "다큐멘터리 - 성인물(에로) :  -1.4587656\n",
      "다큐멘터리 - 스릴러 :  -1.5928612\n",
      "다큐멘터리 - 애니메이션 :  -0.8328717\n",
      "다큐멘터리 - 액션 :  -1.5881097\n",
      "다큐멘터리 - 어드벤처 :  -1.6067578\n",
      "다큐멘터리 - 전쟁 :  -1.7197063\n",
      "다큐멘터리 - 코미디 :  -1.6141543\n",
      "다큐멘터리 - 판타지 :  -1.6065277\n",
      "------------------------------------------------------------\n",
      "드라마 - 멜로로맨스 :  -1.6105531\n",
      "드라마 - 뮤지컬 :  -0.15237208\n",
      "드라마 - 미스터리 :  -1.647053\n",
      "드라마 - 범죄 :  -1.5926615\n",
      "드라마 - 사극 :  -1.7517904\n",
      "드라마 - 서부극(웨스턴) :  -1.0553764\n",
      "드라마 - 성인물(에로) :  -1.2415174\n",
      "드라마 - 스릴러 :  -1.647053\n",
      "드라마 - 애니메이션 :  1.53584\n",
      "드라마 - 액션 :  -1.6202215\n",
      "드라마 - 어드벤처 :  -1.594394\n",
      "드라마 - 전쟁 :  -1.5266373\n",
      "드라마 - 코미디 :  -1.7207948\n",
      "드라마 - 판타지 :  -1.6910698\n",
      "------------------------------------------------------------\n",
      "멜로로맨스 - 뮤지컬 :  1.3679854\n",
      "멜로로맨스 - 미스터리 :  0.35102904\n",
      "멜로로맨스 - 범죄 :  0.6410171\n",
      "멜로로맨스 - 사극 :  0.896646\n",
      "멜로로맨스 - 서부극(웨스턴) :  1.0499567\n",
      "멜로로맨스 - 성인물(에로) :  1.5753834\n",
      "멜로로맨스 - 스릴러 :  0.35102943\n",
      "멜로로맨스 - 애니메이션 :  1.5817118\n",
      "멜로로맨스 - 액션 :  0.8313425\n",
      "멜로로맨스 - 어드벤처 :  0.11636531\n",
      "멜로로맨스 - 전쟁 :  0.7396757\n",
      "멜로로맨스 - 코미디 :  -0.24887311\n",
      "멜로로맨스 - 판타지 :  -0.7506452\n",
      "------------------------------------------------------------\n",
      "뮤지컬 - 미스터리 :  -1.3677486\n",
      "뮤지컬 - 범죄 :  -1.2702886\n",
      "뮤지컬 - 사극 :  -1.3710229\n",
      "뮤지컬 - 서부극(웨스턴) :  -0.71400607\n",
      "뮤지컬 - 성인물(에로) :  -0.966265\n",
      "뮤지컬 - 스릴러 :  -1.3677486\n",
      "뮤지컬 - 애니메이션 :  1.577355\n",
      "뮤지컬 - 액션 :  -1.2657391\n",
      "뮤지컬 - 어드벤처 :  -1.3170831\n",
      "뮤지컬 - 전쟁 :  -1.1744843\n",
      "뮤지컬 - 코미디 :  -1.4514536\n",
      "뮤지컬 - 판타지 :  -1.4322731\n",
      "------------------------------------------------------------\n",
      "미스터리 - 범죄 :  1.1136487\n",
      "미스터리 - 사극 :  0.93082803\n",
      "미스터리 - 서부극(웨스턴) :  1.0918474\n",
      "미스터리 - 성인물(에로) :  0.91972035\n",
      "미스터리 - 스릴러 :  0.9864793\n",
      "미스터리 - 애니메이션 :  1.6001221\n",
      "미스터리 - 액션 :  1.2039386\n",
      "미스터리 - 어드벤처 :  -0.07087293\n",
      "미스터리 - 전쟁 :  0.743008\n",
      "미스터리 - 코미디 :  -0.7525195\n",
      "미스터리 - 판타지 :  -1.3720151\n",
      "------------------------------------------------------------\n",
      "범죄 - 사극 :  0.68272626\n",
      "범죄 - 서부극(웨스턴) :  0.9969751\n",
      "범죄 - 성인물(에로) :  0.5362787\n",
      "범죄 - 스릴러 :  -1.1136478\n",
      "범죄 - 애니메이션 :  1.5880202\n",
      "범죄 - 액션 :  0.7149894\n",
      "범죄 - 어드벤처 :  -0.42058694\n",
      "범죄 - 전쟁 :  0.5972424\n",
      "범죄 - 코미디 :  -1.027763\n",
      "범죄 - 판타지 :  -1.4613236\n",
      "------------------------------------------------------------\n",
      "사극 - 서부극(웨스턴) :  1.0917425\n",
      "사극 - 성인물(에로) :  -0.07442315\n",
      "사극 - 스릴러 :  -0.930828\n",
      "사극 - 애니메이션 :  1.7057034\n",
      "사극 - 액션 :  -0.5296068\n",
      "사극 - 어드벤처 :  -1.1075547\n",
      "사극 - 전쟁 :  0.30531874\n",
      "사극 - 코미디 :  -1.231757\n",
      "사극 - 판타지 :  -1.2364875\n",
      "------------------------------------------------------------\n",
      "서부극(웨스턴) - 성인물(에로) :  -0.52934384\n",
      "서부극(웨스턴) - 스릴러 :  -1.0918474\n",
      "서부극(웨스턴) - 애니메이션 :  1.6825299\n",
      "서부극(웨스턴) - 액션 :  -0.9067678\n",
      "서부극(웨스턴) - 어드벤처 :  -1.5269725\n",
      "서부극(웨스턴) - 전쟁 :  -1.0650897\n",
      "서부극(웨스턴) - 코미디 :  -1.2886778\n",
      "서부극(웨스턴) - 판타지 :  -1.3118842\n",
      "------------------------------------------------------------\n",
      "성인물(에로) - 스릴러 :  -0.9197203\n",
      "성인물(에로) - 애니메이션 :  1.465273\n",
      "성인물(에로) - 액션 :  -0.39206794\n",
      "성인물(에로) - 어드벤처 :  -0.66584545\n",
      "성인물(에로) - 전쟁 :  0.17087182\n",
      "성인물(에로) - 코미디 :  -1.2791975\n",
      "성인물(에로) - 판타지 :  -1.4592422\n",
      "------------------------------------------------------------\n",
      "스릴러 - 애니메이션 :  1.600122\n",
      "스릴러 - 액션 :  1.2039381\n",
      "스릴러 - 어드벤처 :  -0.0708731\n",
      "스릴러 - 전쟁 :  0.74300784\n",
      "스릴러 - 코미디 :  -0.75251985\n",
      "스릴러 - 판타지 :  -1.3720151\n",
      "------------------------------------------------------------\n",
      "애니메이션 - 액션 :  -1.5944806\n",
      "애니메이션 - 어드벤처 :  -1.6553689\n",
      "애니메이션 - 전쟁 :  -1.8030819\n",
      "애니메이션 - 코미디 :  -1.6398621\n",
      "애니메이션 - 판타지 :  -1.6291357\n",
      "------------------------------------------------------------\n",
      "액션 - 어드벤처 :  -0.53850603\n",
      "액션 - 전쟁 :  0.51078695\n",
      "액션 - 코미디 :  -1.172311\n",
      "액션 - 판타지 :  -1.4981714\n",
      "------------------------------------------------------------\n",
      "어드벤처 - 전쟁 :  0.9580566\n",
      "어드벤처 - 코미디 :  -0.3077687\n",
      "어드벤처 - 판타지 :  -0.5906927\n",
      "------------------------------------------------------------\n",
      "전쟁 - 코미디 :  -0.947772\n",
      "전쟁 - 판타지 :  -1.0167981\n",
      "------------------------------------------------------------\n",
      "코미디 - 판타지 :  -0.9353469\n",
      "------------------------------------------------------------\n"
     ]
    }
   ],
   "source": [
    "for i in range(len(genre_name)-1):\n",
    "    for j in range(i+1, len(genre_name)):\n",
    "        print(genre_name[i],\"-\", genre_name[j],\": \",matrix[i][j])\n",
    "    print('--'*30)"
   ]
  },
  {
   "cell_type": "markdown",
   "id": "parental-circulation",
   "metadata": {},
   "source": [
    "> 위 상세 결과를 Heatmap으로 시각화하여 출력한 결과는 다음과 같다."
   ]
  },
  {
   "cell_type": "code",
   "execution_count": 106,
   "id": "conceptual-conviction",
   "metadata": {},
   "outputs": [
    {
     "data": {
      "text/plain": [
       "<AxesSubplot:>"
      ]
     },
     "execution_count": 106,
     "metadata": {},
     "output_type": "execute_result"
    },
    {
     "data": {
      "image/png": "[encoded data removed]",
      "text/plain": [
       "<Figure size 1152x1152 with 2 Axes>"
      ]
     },
     "metadata": {},
     "output_type": "display_data"
    }
   ],
   "source": [
    "np.random.seed(0)\n",
    "\n",
    "sns.set(font='NanumGothic')\n",
    "\n",
    "plt.figure(figsize=(16,16))\n",
    "plt.rcParams['axes.unicode_minus'] = False\n",
    "\n",
    "ax = sns.heatmap(matrix, xticklabels=genre_name, yticklabels=genre_name, annot=True,  cmap='RdYlGn_r')\n",
    "ax"
   ]
  },
  {
   "cell_type": "markdown",
   "id": "interstate-channel",
   "metadata": {},
   "source": [
    "> 행을 기준으로 보았을 때, <code>SF</code> 와 <code>공포(호러)</code> 장르는 WEAT Secore가 0.1 이상인 데이터(빨간색-예술 영화)의 빈도수가 높음을 확인 할 수 있다.<br>\n",
    "> 반면, <code>다큐멘터리</code>, <code>전쟁</code>, <code>코미디</code>, <code>판타지</code>, <code>기타</code>, <code>애니메이션</code> 장르는 WEAT Secore가 -0.1 이하인 데이터(초록색-일반 영화)의 빈도수가 높음을 확인 할 수 있다."
   ]
  }
 ],
 "metadata": {
  "kernelspec": {
   "display_name": "Python 3",
   "language": "python",
   "name": "python3"
  },
  "language_info": {
   "codemirror_mode": {
    "name": "ipython",
    "version": 3
   },
   "file_extension": ".py",
   "mimetype": "text/x-python",
   "name": "python",
   "nbconvert_exporter": "python",
   "pygments_lexer": "ipython3",
   "version": "3.7.9"
  }
 },
 "nbformat": 4,
 "nbformat_minor": 5
}

{
 "cells": [
  {
   "cell_type": "code",
   "execution_count": 1,
   "id": "twelve-warrant",
   "metadata": {},
   "outputs": [],
   "source": [
    "import os\n",
    "import io\n",
    "import re\n",
    "import random\n",
    "import numpy as np\n",
    "import pandas as pd\n",
    "import tensorflow as tf\n",
    "import matplotlib as mpl\n",
    "import missingno as msno\n",
    "import matplotlib.pyplot as plt\n",
    "import matplotlib.ticker as ticker\n",
    "import matplotlib.font_manager as fm\n",
    "\n",
    "from tqdm import tqdm\n",
    "from konlpy.tag import Mecab"
   ]
  },
  {
   "cell_type": "markdown",
   "id": "floppy-trinity",
   "metadata": {},
   "source": [
    "# 1. Data load"
   ]
  },
  {
   "cell_type": "markdown",
   "id": "republican-mistress",
   "metadata": {},
   "source": [
    "> 본 1장에서는 실습에 활용할 데이터를 메모리에 할당 후 하나의 데이터셋으로 통합하는 과정을 기술한다."
   ]
  },
  {
   "cell_type": "code",
   "execution_count": 2,
   "id": "asian-fishing",
   "metadata": {},
   "outputs": [],
   "source": [
    "def load_dataset(file_name):\n",
    "    data_set = None\n",
    "    with open('./Data/lecture8/'+file_name, 'r') as f:\n",
    "        data_set = f.read().splitlines()\n",
    "        \n",
    "    return data_set     "
   ]
  },
  {
   "cell_type": "markdown",
   "id": "sustained-detection",
   "metadata": {},
   "source": [
    "> KR-EN 번역기에 활용할 국문 데이터와 영문 데이터를 <code>load_dataset()</code> 함수로 불러온다."
   ]
  },
  {
   "cell_type": "code",
   "execution_count": 3,
   "id": "alternative-hamburg",
   "metadata": {},
   "outputs": [],
   "source": [
    "english_data = load_dataset('korean-english-park.train.en')\n",
    "krean_data = load_dataset('korean-english-park.train.ko')"
   ]
  },
  {
   "cell_type": "markdown",
   "id": "instrumental-payday",
   "metadata": {},
   "source": [
    "> 불러온 영문 데이터와 국문 데이터의 내용이 한 쌍으로 구성되어있는지 확인하는 작업을 진행한다."
   ]
  },
  {
   "cell_type": "code",
   "execution_count": 4,
   "id": "northern-palestine",
   "metadata": {},
   "outputs": [
    {
     "name": "stdout",
     "output_type": "stream",
     "text": [
      "['Much of personal computing is about \"can you top this?\"', 'so a mention a few weeks ago about a rechargeable wireless optical mouse brought in another rechargeable, wireless mouse.', \"Like all optical mice, But it also doesn't need a desk.\"]\n",
      "\n",
      " ['개인용 컴퓨터 사용의 상당 부분은 \"이것보다 뛰어날 수 있느냐?\"', '모든 광마우스와 마찬가지 로 이 광마우스도 책상 위에 놓는 마우스 패드를 필요로 하지 않는다.', '그러나 이것은 또한 책상도 필요로 하지 않는다.']\n"
     ]
    }
   ],
   "source": [
    "print(english_data[:3])\n",
    "print('\\n', krean_data[:3])"
   ]
  },
  {
   "cell_type": "markdown",
   "id": "micro-typing",
   "metadata": {},
   "source": [
    "> 국문, 영문 데이터가 한 쌍으로 구성되어있으므로 편의성을 위해 하나의 시트(sheet)로 통합한다."
   ]
  },
  {
   "cell_type": "code",
   "execution_count": 5,
   "id": "durable-earthquake",
   "metadata": {},
   "outputs": [],
   "source": [
    "kr_en_dataset = pd.DataFrame(zip(english_data, krean_data), columns=['en', 'kr'])"
   ]
  },
  {
   "cell_type": "code",
   "execution_count": 6,
   "id": "accessory-saturn",
   "metadata": {},
   "outputs": [
    {
     "data": {
      "text/html": [
       "<div>\n",
       "<style scoped>\n",
       "    .dataframe tbody tr th:only-of-type {\n",
       "        vertical-align: middle;\n",
       "    }\n",
       "\n",
       "    .dataframe tbody tr th {\n",
       "        vertical-align: top;\n",
       "    }\n",
       "\n",
       "    .dataframe thead th {\n",
       "        text-align: right;\n",
       "    }\n",
       "</style>\n",
       "<table border=\"1\" class=\"dataframe\">\n",
       "  <thead>\n",
       "    <tr style=\"text-align: right;\">\n",
       "      <th></th>\n",
       "      <th>en</th>\n",
       "      <th>kr</th>\n",
       "    </tr>\n",
       "  </thead>\n",
       "  <tbody>\n",
       "    <tr>\n",
       "      <th>0</th>\n",
       "      <td>Much of personal computing is about \"can you t...</td>\n",
       "      <td>개인용 컴퓨터 사용의 상당 부분은 \"이것보다 뛰어날 수 있느냐?\"</td>\n",
       "    </tr>\n",
       "    <tr>\n",
       "      <th>1</th>\n",
       "      <td>so a mention a few weeks ago about a rechargea...</td>\n",
       "      <td>모든 광마우스와 마찬가지 로 이 광마우스도 책상 위에 놓는 마우스 패드를 필요로 하...</td>\n",
       "    </tr>\n",
       "    <tr>\n",
       "      <th>2</th>\n",
       "      <td>Like all optical mice, But it also doesn't nee...</td>\n",
       "      <td>그러나 이것은 또한 책상도 필요로 하지 않는다.</td>\n",
       "    </tr>\n",
       "    <tr>\n",
       "      <th>3</th>\n",
       "      <td>uses gyroscopic sensors to control the cursor ...</td>\n",
       "      <td>79.95달러하는 이 최첨단 무선 광마우스는 허공에서 팔목, 팔, 그외에 어떤 부분...</td>\n",
       "    </tr>\n",
       "    <tr>\n",
       "      <th>4</th>\n",
       "      <td>Intelligence officials have revealed a spate o...</td>\n",
       "      <td>정보 관리들은 동남 아시아에서의 선박들에 대한 많은 (테러) 계획들이 실패로 돌아갔...</td>\n",
       "    </tr>\n",
       "  </tbody>\n",
       "</table>\n",
       "</div>"
      ],
      "text/plain": [
       "                                                  en  \\\n",
       "0  Much of personal computing is about \"can you t...   \n",
       "1  so a mention a few weeks ago about a rechargea...   \n",
       "2  Like all optical mice, But it also doesn't nee...   \n",
       "3  uses gyroscopic sensors to control the cursor ...   \n",
       "4  Intelligence officials have revealed a spate o...   \n",
       "\n",
       "                                                  kr  \n",
       "0               개인용 컴퓨터 사용의 상당 부분은 \"이것보다 뛰어날 수 있느냐?\"  \n",
       "1  모든 광마우스와 마찬가지 로 이 광마우스도 책상 위에 놓는 마우스 패드를 필요로 하...  \n",
       "2                         그러나 이것은 또한 책상도 필요로 하지 않는다.  \n",
       "3  79.95달러하는 이 최첨단 무선 광마우스는 허공에서 팔목, 팔, 그외에 어떤 부분...  \n",
       "4  정보 관리들은 동남 아시아에서의 선박들에 대한 많은 (테러) 계획들이 실패로 돌아갔...  "
      ]
     },
     "execution_count": 6,
     "metadata": {},
     "output_type": "execute_result"
    }
   ],
   "source": [
    "kr_en_dataset[:5]"
   ]
  },
  {
   "cell_type": "markdown",
   "id": "regulation-instrumentation",
   "metadata": {},
   "source": [
    "> 위 결과로 국문, 영문 데이터가 한 시트(sheet)에 통합되었음을 확인할 수 있다."
   ]
  },
  {
   "cell_type": "markdown",
   "id": "coral-billy",
   "metadata": {},
   "source": [
    "# 2. Data Analysis"
   ]
  },
  {
   "cell_type": "markdown",
   "id": "excessive-nickel",
   "metadata": {},
   "source": [
    "> 본 2 장에서는 국문-영문 번역기 모델에 활용할 데이터를 분석하는 과정을 기술한다.<br>\n",
    "> 데이터 분석 과정은 데이터 정보 확인, 결측치 확인, 중복 데이터 확인, 문장 길이 분포 확인 작업이 진행된다.<br>"
   ]
  },
  {
   "cell_type": "markdown",
   "id": "joined-sally",
   "metadata": {},
   "source": [
    "## 2.1 Check Dataset Info"
   ]
  },
  {
   "cell_type": "markdown",
   "id": "offshore-patent",
   "metadata": {},
   "source": [
    "> <code>pandas.DataFrame.info()</code>을 활용하여 국문-영문 통합 데이터셋인 <code>kr_en_dataset</code>의 구성 정보를 확인한다."
   ]
  },
  {
   "cell_type": "code",
   "execution_count": 7,
   "id": "manual-marketplace",
   "metadata": {},
   "outputs": [
    {
     "name": "stdout",
     "output_type": "stream",
     "text": [
      "<class 'pandas.core.frame.DataFrame'>\n",
      "RangeIndex: 94123 entries, 0 to 94122\n",
      "Data columns (total 2 columns):\n",
      " #   Column  Non-Null Count  Dtype \n",
      "---  ------  --------------  ----- \n",
      " 0   en      94123 non-null  object\n",
      " 1   kr      94123 non-null  object\n",
      "dtypes: object(2)\n",
      "memory usage: 1.4+ MB\n"
     ]
    }
   ],
   "source": [
    "kr_en_dataset.info()"
   ]
  },
  {
   "cell_type": "markdown",
   "id": "instrumental-nomination",
   "metadata": {},
   "source": [
    "> 국문과 영문 모두 94,123개의 index를 가지고 있으며, 결측치는 Null(0), 관측되지 않았다."
   ]
  },
  {
   "cell_type": "markdown",
   "id": "plain-marks",
   "metadata": {},
   "source": [
    "## 2.2 Check Dataset Deduplication"
   ]
  },
  {
   "cell_type": "markdown",
   "id": "brown-grace",
   "metadata": {},
   "source": [
    "> <code>kr_en_dataset</code>에 중복되는 데이터가 없도록 중복을 제거하는 작업을 진행한다."
   ]
  },
  {
   "cell_type": "code",
   "execution_count": 8,
   "id": "agricultural-bearing",
   "metadata": {},
   "outputs": [],
   "source": [
    "kr_en_dataset.drop_duplicates([\"en\"], inplace=True)\n",
    "kr_en_dataset.drop_duplicates([\"kr\"], inplace=True)"
   ]
  },
  {
   "cell_type": "code",
   "execution_count": 9,
   "id": "driven-instrument",
   "metadata": {},
   "outputs": [
    {
     "name": "stdout",
     "output_type": "stream",
     "text": [
      "<class 'pandas.core.frame.DataFrame'>\n",
      "Int64Index: 74786 entries, 0 to 94122\n",
      "Data columns (total 2 columns):\n",
      " #   Column  Non-Null Count  Dtype \n",
      "---  ------  --------------  ----- \n",
      " 0   en      74786 non-null  object\n",
      " 1   kr      74786 non-null  object\n",
      "dtypes: object(2)\n",
      "memory usage: 1.7+ MB\n"
     ]
    }
   ],
   "source": [
    "kr_en_dataset.info()"
   ]
  },
  {
   "cell_type": "markdown",
   "id": "corporate-certification",
   "metadata": {},
   "source": [
    "> 중복 데이터를 제거한 <code>kr_en_dataset</code>의 데이터는 기존 94,123 개에서 74,786 개로 감소되며, 19,337개의 중복 데이터가 제거되었음을 확인할 수 있다."
   ]
  },
  {
   "cell_type": "markdown",
   "id": "increasing-survivor",
   "metadata": {},
   "source": [
    "## 2.3 Check Sentence Length"
   ]
  },
  {
   "cell_type": "markdown",
   "id": "committed-analysis",
   "metadata": {},
   "source": [
    "> 국문과 영문 문장 속 단어의 개수 정보를 확인하는 함수를 구현하고, 이를 확인하는 작업을 진행한다."
   ]
  },
  {
   "cell_type": "code",
   "execution_count": 10,
   "id": "excessive-sequence",
   "metadata": {},
   "outputs": [],
   "source": [
    "def view_sentence_length_distribution(df_data, graph_title):\n",
    "    min_len = 999\n",
    "    max_len = 0\n",
    "    sum_len = 0\n",
    "\n",
    "    for sen in df_data:\n",
    "        length = len(sen.split())\n",
    "        if min_len > length: min_len = length\n",
    "        if max_len < length: max_len = length\n",
    "        sum_len += length\n",
    "\n",
    "    print(graph_title,\"문장 속 단어 최소 개수:\", min_len)\n",
    "    print(graph_title,\"문장 속 단어 최대 개수:\", max_len)\n",
    "    print(graph_title,\"문장 속 단어 평균 개수:\", sum_len // len(df_data))\n",
    "\n",
    "    sentence_length = np.zeros((max_len), dtype=np.int)\n",
    "\n",
    "    for sen in df_data:\n",
    "        sentence_length[len(sen.split())-1] += 1\n",
    "    \n",
    "    plt.bar(range(max_len), sentence_length, width=1.0)\n",
    "    plt.title(graph_title+\"Sentence Length Distribution\")\n",
    "    plt.show()"
   ]
  },
  {
   "cell_type": "markdown",
   "id": "cutting-ghana",
   "metadata": {},
   "source": [
    "> <code>view_sentence_length_distribution()</code>를 활용하여 국문과 영문 문장 속 데이터의 개수를 확인한다."
   ]
  },
  {
   "cell_type": "code",
   "execution_count": 11,
   "id": "adverse-bulletin",
   "metadata": {},
   "outputs": [
    {
     "name": "stdout",
     "output_type": "stream",
     "text": [
      "English  문장 속 단어 최소 개수: 1\n",
      "English  문장 속 단어 최대 개수: 90\n",
      "English  문장 속 단어 평균 개수: 22\n"
     ]
    },
    {
     "data": {
      "image/png": "[encoded data removed]",
      "text/plain": [
       "<Figure size 432x288 with 1 Axes>"
      ]
     },
     "metadata": {
      "needs_background": "light"
     },
     "output_type": "display_data"
    },
    {
     "name": "stdout",
     "output_type": "stream",
     "text": [
      "Krean  문장 속 단어 최소 개수: 1\n",
      "Krean  문장 속 단어 최대 개수: 82\n",
      "Krean  문장 속 단어 평균 개수: 15\n"
     ]
    },
    {
     "data": {
      "image/png": "[encoded data removed]",
      "text/plain": [
       "<Figure size 432x288 with 1 Axes>"
      ]
     },
     "metadata": {
      "needs_background": "light"
     },
     "output_type": "display_data"
    }
   ],
   "source": [
    "view_sentence_length_distribution(kr_en_dataset['en'],\"English \")\n",
    "view_sentence_length_distribution(kr_en_dataset['kr'],\"Krean \")"
   ]
  },
  {
   "cell_type": "markdown",
   "id": "enormous-responsibility",
   "metadata": {},
   "source": [
    "> 영문 속 단어의 평균 개수는 22개이며, 0 ~ 50의 범위로 보았을 때 정규 분포의 형태를 확인할 수 있다.<br>\n",
    "> 국문 속 단어의 평균 개수는 15개이며, 0 ~ 40의 범위로 보았을 때 정규 분포의 형태를 확인할 수 있다."
   ]
  },
  {
   "cell_type": "markdown",
   "id": "included-occurrence",
   "metadata": {},
   "source": [
    "# 3. Data preprocessing"
   ]
  },
  {
   "cell_type": "markdown",
   "id": "higher-seattle",
   "metadata": {},
   "source": [
    "> 2장에서 진행한 데이터 분석 결과를 바탕으로 데이터를 전처리하는 과정을 진행한다.\n",
    "> 데이터 전처리는 모델에 사용할 데이터 범위 규정, 정규식을 활용한 문장 정제, 문장 토큰화 작업을 진행한다."
   ]
  },
  {
   "cell_type": "markdown",
   "id": "coastal-humor",
   "metadata": {},
   "source": [
    "## 3.1 문장 데이터 범위 규정"
   ]
  },
  {
   "cell_type": "markdown",
   "id": "english-satellite",
   "metadata": {},
   "source": [
    "> 단어의 개수가 너무 적으면 노이즈가 될 수 있으므로, 단어의 개수가 너무 많으면 모델의 복잡도(연산량)이/가 비효율적으로 증가하므로 각 국-영문 데이터의 분포에 맞춰 적절한 개수로 범위를 제한하는 작업을 진행한다."
   ]
  },
  {
   "cell_type": "code",
   "execution_count": 12,
   "id": "collect-hours",
   "metadata": {},
   "outputs": [],
   "source": [
    "def sentence_lenght_limit(df_data, sentence_max, colume):\n",
    "    temp_df = df_data.copy()\n",
    "    temp_df[\"count\"] = temp_df[colume].apply(lambda x: len(x.split()))\n",
    "    temp_df = temp_df.loc[temp_df[\"count\"] <= sentence_max]\n",
    "    temp_df.drop([\"count\"], axis=\"columns\", inplace=True)\n",
    "    \n",
    "    return temp_df"
   ]
  },
  {
   "cell_type": "markdown",
   "id": "assured-thinking",
   "metadata": {},
   "source": [
    "> 국문 데이터는 문장 속 단어 개수가 40개 초과, 영문 데이터는 60개가 초과되는 문장을 제거한다."
   ]
  },
  {
   "cell_type": "code",
   "execution_count": 13,
   "id": "brutal-complexity",
   "metadata": {},
   "outputs": [],
   "source": [
    "kr_en_dataset = sentence_lenght_limit(kr_en_dataset, 60, 'en')\n",
    "kr_en_dataset = sentence_lenght_limit(kr_en_dataset, 40, 'kr')"
   ]
  },
  {
   "cell_type": "code",
   "execution_count": 14,
   "id": "single-upgrade",
   "metadata": {},
   "outputs": [
    {
     "name": "stdout",
     "output_type": "stream",
     "text": [
      "<class 'pandas.core.frame.DataFrame'>\n",
      "Int64Index: 74597 entries, 0 to 94122\n",
      "Data columns (total 2 columns):\n",
      " #   Column  Non-Null Count  Dtype \n",
      "---  ------  --------------  ----- \n",
      " 0   en      74597 non-null  object\n",
      " 1   kr      74597 non-null  object\n",
      "dtypes: object(2)\n",
      "memory usage: 1.7+ MB\n"
     ]
    }
   ],
   "source": [
    "kr_en_dataset.info()"
   ]
  },
  {
   "cell_type": "markdown",
   "id": "stupid-holder",
   "metadata": {},
   "source": [
    "> 단어 개수 범위 조건 내에 해당하는 <code>kr_en_dataset</code> 문장 개수는 기존 74,786 개에서 189 개가 감소한 74,597 개이다."
   ]
  },
  {
   "cell_type": "markdown",
   "id": "russian-hollow",
   "metadata": {},
   "source": [
    "## 3.2 정규식을 활용한 문장 정제"
   ]
  },
  {
   "cell_type": "markdown",
   "id": "deluxe-latin",
   "metadata": {},
   "source": [
    "> 모델이 자연어를 학습함에 있어서 특수문자는 불필요한 노이즈로 작용하므로, 특수 문자와 국문-영문에 해당하지 않는 문자를 제거 후 공백으로 처리한다.<br>\n",
    "> Decoder에 해당하는 영문에는 첫 입력으로 사용할 시작 토큰과 문장생성 종료를 알리는 끝 토큰이 반드시 필요하므로, 문장 생성 및 종료 토큰을 추가하는 과정을 추가한다. "
   ]
  },
  {
   "cell_type": "code",
   "execution_count": 15,
   "id": "statistical-cyprus",
   "metadata": {},
   "outputs": [],
   "source": [
    "def preprocess_sentence(sentence, decoder=False):\n",
    "    \n",
    "    sentence = sentence.lower().strip()\n",
    "    sentence = re.sub(r\"([?.!,])\", r\" \\1 \", sentence)\n",
    "    sentence = re.sub(r'[\" \"]+', \" \", sentence)\n",
    "    sentence = re.sub(r\"[^a-zA-Zㄱ-ㅎ가-힣0-9?.!,]+\", \" \", sentence)\n",
    "    sentence = sentence.strip()\n",
    "    \n",
    "    if decoder:\n",
    "        sentence = '<start> ' + sentence + ' <end>'   \n",
    "\n",
    "    return sentence"
   ]
  },
  {
   "cell_type": "code",
   "execution_count": 16,
   "id": "registered-samba",
   "metadata": {},
   "outputs": [],
   "source": [
    "kr_en_dataset['en'] = kr_en_dataset['en'].apply(lambda x: preprocess_sentence(x, decoder=True))\n",
    "kr_en_dataset['kr'] = kr_en_dataset['kr'].apply(lambda x: preprocess_sentence(x, decoder=False))"
   ]
  },
  {
   "cell_type": "code",
   "execution_count": 17,
   "id": "official-belle",
   "metadata": {},
   "outputs": [
    {
     "data": {
      "text/html": [
       "<div>\n",
       "<style scoped>\n",
       "    .dataframe tbody tr th:only-of-type {\n",
       "        vertical-align: middle;\n",
       "    }\n",
       "\n",
       "    .dataframe tbody tr th {\n",
       "        vertical-align: top;\n",
       "    }\n",
       "\n",
       "    .dataframe thead th {\n",
       "        text-align: right;\n",
       "    }\n",
       "</style>\n",
       "<table border=\"1\" class=\"dataframe\">\n",
       "  <thead>\n",
       "    <tr style=\"text-align: right;\">\n",
       "      <th></th>\n",
       "      <th>en</th>\n",
       "      <th>kr</th>\n",
       "    </tr>\n",
       "  </thead>\n",
       "  <tbody>\n",
       "    <tr>\n",
       "      <th>0</th>\n",
       "      <td>&lt;start&gt; much of personal computing is about ca...</td>\n",
       "      <td>개인용 컴퓨터 사용의 상당 부분은 이것보다 뛰어날 수 있느냐 ?</td>\n",
       "    </tr>\n",
       "    <tr>\n",
       "      <th>1</th>\n",
       "      <td>&lt;start&gt; so a mention a few weeks ago about a r...</td>\n",
       "      <td>모든 광마우스와 마찬가지 로 이 광마우스도 책상 위에 놓는 마우스 패드를 필요로 하...</td>\n",
       "    </tr>\n",
       "    <tr>\n",
       "      <th>2</th>\n",
       "      <td>&lt;start&gt; like all optical mice , but it also do...</td>\n",
       "      <td>그러나 이것은 또한 책상도 필요로 하지 않는다 .</td>\n",
       "    </tr>\n",
       "    <tr>\n",
       "      <th>3</th>\n",
       "      <td>&lt;start&gt; uses gyroscopic sensors to control the...</td>\n",
       "      <td>79 . 95달러하는 이 최첨단 무선 광마우스는 허공에서 팔목 , 팔 , 그외에 어...</td>\n",
       "    </tr>\n",
       "    <tr>\n",
       "      <th>4</th>\n",
       "      <td>&lt;start&gt; intelligence officials have revealed a...</td>\n",
       "      <td>정보 관리들은 동남 아시아에서의 선박들에 대한 많은 테러 계획들이 실패로 돌아갔음을...</td>\n",
       "    </tr>\n",
       "  </tbody>\n",
       "</table>\n",
       "</div>"
      ],
      "text/plain": [
       "                                                  en  \\\n",
       "0  <start> much of personal computing is about ca...   \n",
       "1  <start> so a mention a few weeks ago about a r...   \n",
       "2  <start> like all optical mice , but it also do...   \n",
       "3  <start> uses gyroscopic sensors to control the...   \n",
       "4  <start> intelligence officials have revealed a...   \n",
       "\n",
       "                                                  kr  \n",
       "0                개인용 컴퓨터 사용의 상당 부분은 이것보다 뛰어날 수 있느냐 ?  \n",
       "1  모든 광마우스와 마찬가지 로 이 광마우스도 책상 위에 놓는 마우스 패드를 필요로 하...  \n",
       "2                        그러나 이것은 또한 책상도 필요로 하지 않는다 .  \n",
       "3  79 . 95달러하는 이 최첨단 무선 광마우스는 허공에서 팔목 , 팔 , 그외에 어...  \n",
       "4  정보 관리들은 동남 아시아에서의 선박들에 대한 많은 테러 계획들이 실패로 돌아갔음을...  "
      ]
     },
     "execution_count": 17,
     "metadata": {},
     "output_type": "execute_result"
    }
   ],
   "source": [
    "kr_en_dataset[:5]"
   ]
  },
  {
   "cell_type": "markdown",
   "id": "retained-vacuum",
   "metadata": {},
   "source": [
    "## 3.3 문장 토큰화"
   ]
  },
  {
   "cell_type": "markdown",
   "id": "polar-discipline",
   "metadata": {},
   "source": [
    "> 국문-영문 번역기 모델에 활용할 데이터를 토큰화하는 함수를 구현 및 토큰화를 진행한다.<br>\n",
    "> Encoder에 사용되는 국문 데이터에는 KoNLPy의 형태소 기반 토큰화 함수 <code>mecab()</code>으로 토큰화를 진행한다."
   ]
  },
  {
   "cell_type": "code",
   "execution_count": 18,
   "id": "novel-notion",
   "metadata": {},
   "outputs": [],
   "source": [
    "def tokenize(corpus, encoder=False):\n",
    "    df_data = corpus\n",
    "    \n",
    "    # 데이터가 한국어일때, 형태소 기반 토큰화\n",
    "    if encoder:\n",
    "        mecab_o = Mecab()\n",
    "        df_data = []\n",
    "    \n",
    "        for sentence in corpus:\n",
    "            df_data.append(mecab_o.morphs(sentence))\n",
    "            \n",
    "    # 데이터가 한국어가 아닐때, 공백 기반 토큰화        \n",
    "    tokenizer = tf.keras.preprocessing.text.Tokenizer(filters='')\n",
    "    tokenizer.fit_on_texts(df_data)\n",
    "\n",
    "    \n",
    "    tensor = tokenizer.texts_to_sequences(df_data)\n",
    "    tensor = tf.keras.preprocessing.sequence.pad_sequences(tensor, padding='pre')\n",
    "\n",
    "    return tensor, tokenizer"
   ]
  },
  {
   "cell_type": "code",
   "execution_count": 19,
   "id": "utility-karen",
   "metadata": {},
   "outputs": [],
   "source": [
    "enc_tensor, enc_tokenizer = tokenize(kr_en_dataset['kr'], encoder=True)\n",
    "dec_tensor, dec_tokenizer = tokenize(kr_en_dataset['en'], encoder=False)"
   ]
  },
  {
   "cell_type": "code",
   "execution_count": 20,
   "id": "deadly-charity",
   "metadata": {},
   "outputs": [
    {
     "name": "stdout",
     "output_type": "stream",
     "text": [
      "국문 단어장 크기: 50985\n",
      "영문 단어장 크기: 46128\n"
     ]
    }
   ],
   "source": [
    "print(\"국문 단어장 크기:\", len(enc_tokenizer.index_word))\n",
    "print(\"영문 단어장 크기:\", len(dec_tokenizer.index_word))"
   ]
  },
  {
   "cell_type": "markdown",
   "id": "operational-contents",
   "metadata": {},
   "source": [
    "> 국문 데이터는 토큰화 작업 이후, 50,985개의 토큰이 생성되었고, 영문 데이터는 46,128개의 토큰이 생성되었다."
   ]
  },
  {
   "cell_type": "markdown",
   "id": "dominican-vegetarian",
   "metadata": {},
   "source": [
    "# 4. Model design"
   ]
  },
  {
   "cell_type": "markdown",
   "id": "adolescent-thomas",
   "metadata": {},
   "source": [
    "> 본 실습의 국문-영문 번역기 모델은 Bahdanau 기반 Attention 모델이다.<br>\n",
    "> Bahdanau Attention 모델은 아래 그림처럼 각각 1개의 GRU을 갖는 Encoder-Decoder 구조로 이루어져 있다."
   ]
  },
  {
   "attachments": {
    "GN-4-P-2.max-800x600.jpg": {
     "image/jpeg": "[encoded data removed]"
    }
   },
   "cell_type": "markdown",
   "id": "experimental-reproduction",
   "metadata": {},
   "source": [
    "![GN-4-P-2.max-800x600.jpg](attachment:GN-4-P-2.max-800x600.jpg)"
   ]
  },
  {
   "cell_type": "markdown",
   "id": "available-balance",
   "metadata": {},
   "source": [
    "## 4.1 Bahdanau Attention"
   ]
  },
  {
   "cell_type": "markdown",
   "id": "convertible-format",
   "metadata": {},
   "source": [
    "> 기존 seq2seq 기반 Encoder-Decoder 모델의 경우 문장 임베딩을 인코더에서 지정한 고정된 길이 벡터로 디코더가 예측 결과를 고정된 길이의 벡터로 압축하면서 정보손실 발생하는 문제점이 있다.<br>"
   ]
  },
  {
   "cell_type": "markdown",
   "id": "sexual-selection",
   "metadata": {},
   "source": [
    "> Attention은 위 문제를 encoder의 매 time step으로부터 하나씩 벡터을 추출하고, 예측할 단어와 연관이 큰 단어에 더 가중치를 부여하는 방법으로 개선했다."
   ]
  },
  {
   "cell_type": "markdown",
   "id": "korean-engineer",
   "metadata": {},
   "source": [
    "> Bahdanau Attention은 다음과 같은 연산 과정으로 다중 분류 이후 각 인코더의 어텐션 가중치와 은닉 상태값을 AND 연산하여 예측률을 높이고자 고안된 Attention 기법이다.<br>\n",
    "> <br>\n",
    "> 1. 어텐션 스코어(Attention Score)를 구한다.<br>\n",
    "> 2. 소프트맥스(softmax) 함수를 통해 어텐션 분포(Attention Distribution)를 구한다.<br>\n",
    "> 3. 각 인코더의 어텐션 가중치와 은닉 상태를 가중합하여 어텐션 값(Attention Value)을 구한다.<br>\n",
    "> 4. 컨텍스트 벡터로부터 디코더의 은닉 상태값를 구한다.<br>\n",
    "\n",
    "> 상세 내용은 아래 링크를 참고하였다.<br>\n",
    ">\n",
    "> [Bahdanau Attention](https://wikidocs.net/73161)"
   ]
  },
  {
   "cell_type": "code",
   "execution_count": 21,
   "id": "gothic-fifteen",
   "metadata": {},
   "outputs": [],
   "source": [
    "class BahdanauAttention(tf.keras.layers.Layer):\n",
    "    def __init__(self, units):\n",
    "        super(BahdanauAttention, self).__init__()\n",
    "        self.w_dec = tf.keras.layers.Dense(units)\n",
    "        self.w_enc = tf.keras.layers.Dense(units)\n",
    "        self.w_com = tf.keras.layers.Dense(1)\n",
    "    \n",
    "    def call(self, h_enc, h_dec):\n",
    "        h_enc = self.w_enc(h_enc)\n",
    "        h_dec = tf.expand_dims(h_dec, 1)\n",
    "        h_dec = self.w_dec(h_dec)\n",
    "        \n",
    "        score = self.w_com(tf.nn.tanh(h_dec + h_enc))\n",
    "        \n",
    "        attn = tf.nn.softmax(score, axis=1)\n",
    "\n",
    "        context_vec = attn * h_enc\n",
    "        context_vec = tf.reduce_sum(context_vec, axis=1)\n",
    "\n",
    "        return context_vec, attn"
   ]
  },
  {
   "cell_type": "markdown",
   "id": "abandoned-adrian",
   "metadata": {},
   "source": [
    "## 4.2 Encoder for Bahdanau Attention"
   ]
  },
  {
   "cell_type": "markdown",
   "id": "legitimate-creature",
   "metadata": {},
   "source": [
    "> Time-Step의 Hidden State를 출력하도록 Encoder 함수를 구성한다"
   ]
  },
  {
   "cell_type": "code",
   "execution_count": 22,
   "id": "arbitrary-proxy",
   "metadata": {},
   "outputs": [],
   "source": [
    "class Encoder(tf.keras.Model):\n",
    "    def __init__(self, vocab_size, embedding_dim, enc_units):\n",
    "        super(Encoder, self).__init__()\n",
    "        self.enc_units = enc_units\n",
    "        self.embedding = tf.keras.layers.Embedding(vocab_size, embedding_dim)\n",
    "        self.gru = tf.keras.layers.GRU(enc_units,return_sequences=True)\n",
    "        \n",
    "    def call(self, x):\n",
    "        out = self.embedding(x)\n",
    "        out = self.gru(out)\n",
    "        \n",
    "        return out"
   ]
  },
  {
   "cell_type": "markdown",
   "id": "intellectual-insulin",
   "metadata": {},
   "source": [
    "## 4.3 Decoder for Bahdanau Attention"
   ]
  },
  {
   "cell_type": "markdown",
   "id": "antique-cooler",
   "metadata": {},
   "source": [
    "> Encoder의 출력과 Decoder의 (t-1)Step의 은닉 상태로 Attention을 취하여 (t)Step의 은닉 상태를 생성하도록 Decoder 함수를 구현한다"
   ]
  },
  {
   "cell_type": "code",
   "execution_count": 23,
   "id": "driving-melissa",
   "metadata": {},
   "outputs": [],
   "source": [
    "class Decoder(tf.keras.Model):\n",
    "    def __init__(self, vocab_size, embedding_dim, dec_units):\n",
    "        super(Decoder, self).__init__()\n",
    "        self.dec_units = dec_units\n",
    "        self.embedding = tf.keras.layers.Embedding(vocab_size, embedding_dim)\n",
    "        self.gru = tf.keras.layers.GRU(dec_units, return_sequences=True, return_state=True)\n",
    "        self.fc = tf.keras.layers.Dense(vocab_size)\n",
    "\n",
    "        self.attention = BahdanauAttention(self.dec_units)\n",
    "\n",
    "    def call(self, x, h_dec, enc_out):\n",
    "        context_vec, attn = self.attention(enc_out, h_dec)\n",
    "\n",
    "        out = self.embedding(x)\n",
    "        out = tf.concat([tf.expand_dims(context_vec, 1), out], axis=-1)\n",
    "        \n",
    "        out, h_dec = self.gru(out)\n",
    "        out = tf.reshape(out, (-1, out.shape[2]))\n",
    "        out = self.fc(out)\n",
    "\n",
    "        return out, h_dec, attn"
   ]
  },
  {
   "cell_type": "markdown",
   "id": "greek-jefferson",
   "metadata": {},
   "source": [
    "> 256개의 유닛과 256 임베팅 차원으로 Encoder, Decoder 인스턴스 객체를 생성한다."
   ]
  },
  {
   "cell_type": "code",
   "execution_count": 24,
   "id": "naked-professional",
   "metadata": {},
   "outputs": [],
   "source": [
    "SRC_VOCAB_SIZE = len(enc_tokenizer.index_word) + 1\n",
    "TGT_VOCAB_SIZE = len(dec_tokenizer.index_word) + 1\n",
    "\n",
    "BATCH_SIZE     = 128\n",
    "units         = 256\n",
    "embedding_dim = 256\n",
    "\n",
    "encoder = Encoder(SRC_VOCAB_SIZE, embedding_dim, units)\n",
    "decoder = Decoder(TGT_VOCAB_SIZE, embedding_dim, units)"
   ]
  },
  {
   "cell_type": "markdown",
   "id": "addressed-prevention",
   "metadata": {},
   "source": [
    "## 4.4 Optimizer and loss function"
   ]
  },
  {
   "cell_type": "markdown",
   "id": "experimental-stomach",
   "metadata": {},
   "source": [
    "> 모델 학습을 위한 Adam 옵티마이저 객체와 손실 함수 객체를 생성한다."
   ]
  },
  {
   "cell_type": "code",
   "execution_count": 25,
   "id": "supposed-discretion",
   "metadata": {},
   "outputs": [],
   "source": [
    "def loss_function(real, pred):\n",
    "    mask = tf.math.logical_not(tf.math.equal(real, 0))\n",
    "    loss = loss_object(real, pred)\n",
    "    \n",
    "    mask = tf.cast(mask, dtype=loss.dtype)\n",
    "    loss *= mask\n",
    "    \n",
    "    return tf.reduce_mean(loss)"
   ]
  },
  {
   "cell_type": "code",
   "execution_count": 26,
   "id": "breathing-ranking",
   "metadata": {},
   "outputs": [],
   "source": [
    "optimizer = tf.keras.optimizers.Adam()\n",
    "loss_object = tf.keras.losses.SparseCategoricalCrossentropy(from_logits=True, reduction='none')"
   ]
  },
  {
   "cell_type": "markdown",
   "id": "isolated-consent",
   "metadata": {},
   "source": [
    "# 5. Model train"
   ]
  },
  {
   "cell_type": "code",
   "execution_count": null,
   "id": "historic-violin",
   "metadata": {},
   "outputs": [],
   "source": []
  },
  {
   "cell_type": "code",
   "execution_count": 27,
   "id": "unavailable-lunch",
   "metadata": {},
   "outputs": [],
   "source": [
    "@tf.function\n",
    "def train_step(src, tgt, encoder, decoder, optimizer, dec_tok):\n",
    "    bsz = src.shape[0]\n",
    "    loss = 0\n",
    "\n",
    "    with tf.GradientTape() as tape:\n",
    "        enc_out = encoder(src)\n",
    "        h_dec = enc_out[:, -1]\n",
    "        \n",
    "        dec_src = tf.expand_dims([dec_tok.word_index['<start>']] * bsz, 1)\n",
    "\n",
    "        for t in range(1, tgt.shape[1]):\n",
    "            pred, h_dec, _ = decoder(dec_src, h_dec, enc_out)\n",
    "\n",
    "            loss += loss_function(tgt[:, t], pred)\n",
    "            dec_src = tf.expand_dims(tgt[:, t], 1)\n",
    "        \n",
    "    batch_loss = (loss / int(tgt.shape[1]))\n",
    "\n",
    "    variables = encoder.trainable_variables + decoder.trainable_variables\n",
    "    gradients = tape.gradient(loss, variables)\n",
    "    optimizer.apply_gradients(zip(gradients, variables))\n",
    "    \n",
    "    return batch_loss"
   ]
  },
  {
   "cell_type": "code",
   "execution_count": null,
   "id": "twenty-developer",
   "metadata": {},
   "outputs": [],
   "source": []
  },
  {
   "cell_type": "code",
   "execution_count": 30,
   "id": "global-music",
   "metadata": {},
   "outputs": [
    {
     "name": "stderr",
     "output_type": "stream",
     "text": [
      "Epoch  1:  17%|█▋        | 198/1166 [04:15<20:50,  1.29s/it, Loss 2.6251] \n"
     ]
    },
    {
     "ename": "KeyboardInterrupt",
     "evalue": "",
     "output_type": "error",
     "traceback": [
      "\u001b[0;31m---------------------------------------------------------------------------\u001b[0m",
      "\u001b[0;31mKeyboardInterrupt\u001b[0m                         Traceback (most recent call last)",
      "\u001b[0;32m<ipython-input-30-394b45aa52a3>\u001b[0m in \u001b[0;36m<module>\u001b[0;34m\u001b[0m\n\u001b[1;32m     14\u001b[0m                                 \u001b[0mdecoder\u001b[0m\u001b[0;34m,\u001b[0m\u001b[0;34m\u001b[0m\u001b[0;34m\u001b[0m\u001b[0m\n\u001b[1;32m     15\u001b[0m                                 \u001b[0moptimizer\u001b[0m\u001b[0;34m,\u001b[0m\u001b[0;34m\u001b[0m\u001b[0;34m\u001b[0m\u001b[0m\n\u001b[0;32m---> 16\u001b[0;31m                                 dec_tokenizer)\n\u001b[0m\u001b[1;32m     17\u001b[0m \u001b[0;34m\u001b[0m\u001b[0m\n\u001b[1;32m     18\u001b[0m         \u001b[0mtotal_loss\u001b[0m \u001b[0;34m+=\u001b[0m \u001b[0mbatch_loss\u001b[0m\u001b[0;34m\u001b[0m\u001b[0;34m\u001b[0m\u001b[0m\n",
      "\u001b[0;32m/opt/conda/lib/python3.7/site-packages/tensorflow/python/eager/def_function.py\u001b[0m in \u001b[0;36m__call__\u001b[0;34m(self, *args, **kwds)\u001b[0m\n\u001b[1;32m    826\u001b[0m     \u001b[0mtracing_count\u001b[0m \u001b[0;34m=\u001b[0m \u001b[0mself\u001b[0m\u001b[0;34m.\u001b[0m\u001b[0mexperimental_get_tracing_count\u001b[0m\u001b[0;34m(\u001b[0m\u001b[0;34m)\u001b[0m\u001b[0;34m\u001b[0m\u001b[0;34m\u001b[0m\u001b[0m\n\u001b[1;32m    827\u001b[0m     \u001b[0;32mwith\u001b[0m \u001b[0mtrace\u001b[0m\u001b[0;34m.\u001b[0m\u001b[0mTrace\u001b[0m\u001b[0;34m(\u001b[0m\u001b[0mself\u001b[0m\u001b[0;34m.\u001b[0m\u001b[0m_name\u001b[0m\u001b[0;34m)\u001b[0m \u001b[0;32mas\u001b[0m \u001b[0mtm\u001b[0m\u001b[0;34m:\u001b[0m\u001b[0;34m\u001b[0m\u001b[0;34m\u001b[0m\u001b[0m\n\u001b[0;32m--> 828\u001b[0;31m       \u001b[0mresult\u001b[0m \u001b[0;34m=\u001b[0m \u001b[0mself\u001b[0m\u001b[0;34m.\u001b[0m\u001b[0m_call\u001b[0m\u001b[0;34m(\u001b[0m\u001b[0;34m*\u001b[0m\u001b[0margs\u001b[0m\u001b[0;34m,\u001b[0m \u001b[0;34m**\u001b[0m\u001b[0mkwds\u001b[0m\u001b[0;34m)\u001b[0m\u001b[0;34m\u001b[0m\u001b[0;34m\u001b[0m\u001b[0m\n\u001b[0m\u001b[1;32m    829\u001b[0m       \u001b[0mcompiler\u001b[0m \u001b[0;34m=\u001b[0m \u001b[0;34m\"xla\"\u001b[0m \u001b[0;32mif\u001b[0m \u001b[0mself\u001b[0m\u001b[0;34m.\u001b[0m\u001b[0m_experimental_compile\u001b[0m \u001b[0;32melse\u001b[0m \u001b[0;34m\"nonXla\"\u001b[0m\u001b[0;34m\u001b[0m\u001b[0;34m\u001b[0m\u001b[0m\n\u001b[1;32m    830\u001b[0m       \u001b[0mnew_tracing_count\u001b[0m \u001b[0;34m=\u001b[0m \u001b[0mself\u001b[0m\u001b[0;34m.\u001b[0m\u001b[0mexperimental_get_tracing_count\u001b[0m\u001b[0;34m(\u001b[0m\u001b[0;34m)\u001b[0m\u001b[0;34m\u001b[0m\u001b[0;34m\u001b[0m\u001b[0m\n",
      "\u001b[0;32m/opt/conda/lib/python3.7/site-packages/tensorflow/python/eager/def_function.py\u001b[0m in \u001b[0;36m_call\u001b[0;34m(self, *args, **kwds)\u001b[0m\n\u001b[1;32m    853\u001b[0m       \u001b[0;31m# In this case we have created variables on the first call, so we run the\u001b[0m\u001b[0;34m\u001b[0m\u001b[0;34m\u001b[0m\u001b[0;34m\u001b[0m\u001b[0m\n\u001b[1;32m    854\u001b[0m       \u001b[0;31m# defunned version which is guaranteed to never create variables.\u001b[0m\u001b[0;34m\u001b[0m\u001b[0;34m\u001b[0m\u001b[0;34m\u001b[0m\u001b[0m\n\u001b[0;32m--> 855\u001b[0;31m       \u001b[0;32mreturn\u001b[0m \u001b[0mself\u001b[0m\u001b[0;34m.\u001b[0m\u001b[0m_stateless_fn\u001b[0m\u001b[0;34m(\u001b[0m\u001b[0;34m*\u001b[0m\u001b[0margs\u001b[0m\u001b[0;34m,\u001b[0m \u001b[0;34m**\u001b[0m\u001b[0mkwds\u001b[0m\u001b[0;34m)\u001b[0m  \u001b[0;31m# pylint: disable=not-callable\u001b[0m\u001b[0;34m\u001b[0m\u001b[0;34m\u001b[0m\u001b[0m\n\u001b[0m\u001b[1;32m    856\u001b[0m     \u001b[0;32melif\u001b[0m \u001b[0mself\u001b[0m\u001b[0;34m.\u001b[0m\u001b[0m_stateful_fn\u001b[0m \u001b[0;32mis\u001b[0m \u001b[0;32mnot\u001b[0m \u001b[0;32mNone\u001b[0m\u001b[0;34m:\u001b[0m\u001b[0;34m\u001b[0m\u001b[0;34m\u001b[0m\u001b[0m\n\u001b[1;32m    857\u001b[0m       \u001b[0;31m# Release the lock early so that multiple threads can perform the call\u001b[0m\u001b[0;34m\u001b[0m\u001b[0;34m\u001b[0m\u001b[0;34m\u001b[0m\u001b[0m\n",
      "\u001b[0;32m/opt/conda/lib/python3.7/site-packages/tensorflow/python/eager/function.py\u001b[0m in \u001b[0;36m__call__\u001b[0;34m(self, *args, **kwargs)\u001b[0m\n\u001b[1;32m   2941\u001b[0m        filtered_flat_args) = self._maybe_define_function(args, kwargs)\n\u001b[1;32m   2942\u001b[0m     return graph_function._call_flat(\n\u001b[0;32m-> 2943\u001b[0;31m         filtered_flat_args, captured_inputs=graph_function.captured_inputs)  # pylint: disable=protected-access\n\u001b[0m\u001b[1;32m   2944\u001b[0m \u001b[0;34m\u001b[0m\u001b[0m\n\u001b[1;32m   2945\u001b[0m   \u001b[0;34m@\u001b[0m\u001b[0mproperty\u001b[0m\u001b[0;34m\u001b[0m\u001b[0;34m\u001b[0m\u001b[0m\n",
      "\u001b[0;32m/opt/conda/lib/python3.7/site-packages/tensorflow/python/eager/function.py\u001b[0m in \u001b[0;36m_call_flat\u001b[0;34m(self, args, captured_inputs, cancellation_manager)\u001b[0m\n\u001b[1;32m   1917\u001b[0m       \u001b[0;31m# No tape is watching; skip to running the function.\u001b[0m\u001b[0;34m\u001b[0m\u001b[0;34m\u001b[0m\u001b[0;34m\u001b[0m\u001b[0m\n\u001b[1;32m   1918\u001b[0m       return self._build_call_outputs(self._inference_function.call(\n\u001b[0;32m-> 1919\u001b[0;31m           ctx, args, cancellation_manager=cancellation_manager))\n\u001b[0m\u001b[1;32m   1920\u001b[0m     forward_backward = self._select_forward_and_backward_functions(\n\u001b[1;32m   1921\u001b[0m         \u001b[0margs\u001b[0m\u001b[0;34m,\u001b[0m\u001b[0;34m\u001b[0m\u001b[0;34m\u001b[0m\u001b[0m\n",
      "\u001b[0;32m/opt/conda/lib/python3.7/site-packages/tensorflow/python/eager/function.py\u001b[0m in \u001b[0;36mcall\u001b[0;34m(self, ctx, args, cancellation_manager)\u001b[0m\n\u001b[1;32m    558\u001b[0m               \u001b[0minputs\u001b[0m\u001b[0;34m=\u001b[0m\u001b[0margs\u001b[0m\u001b[0;34m,\u001b[0m\u001b[0;34m\u001b[0m\u001b[0;34m\u001b[0m\u001b[0m\n\u001b[1;32m    559\u001b[0m               \u001b[0mattrs\u001b[0m\u001b[0;34m=\u001b[0m\u001b[0mattrs\u001b[0m\u001b[0;34m,\u001b[0m\u001b[0;34m\u001b[0m\u001b[0;34m\u001b[0m\u001b[0m\n\u001b[0;32m--> 560\u001b[0;31m               ctx=ctx)\n\u001b[0m\u001b[1;32m    561\u001b[0m         \u001b[0;32melse\u001b[0m\u001b[0;34m:\u001b[0m\u001b[0;34m\u001b[0m\u001b[0;34m\u001b[0m\u001b[0m\n\u001b[1;32m    562\u001b[0m           outputs = execute.execute_with_cancellation(\n",
      "\u001b[0;32m/opt/conda/lib/python3.7/site-packages/tensorflow/python/eager/execute.py\u001b[0m in \u001b[0;36mquick_execute\u001b[0;34m(op_name, num_outputs, inputs, attrs, ctx, name)\u001b[0m\n\u001b[1;32m     58\u001b[0m     \u001b[0mctx\u001b[0m\u001b[0;34m.\u001b[0m\u001b[0mensure_initialized\u001b[0m\u001b[0;34m(\u001b[0m\u001b[0;34m)\u001b[0m\u001b[0;34m\u001b[0m\u001b[0;34m\u001b[0m\u001b[0m\n\u001b[1;32m     59\u001b[0m     tensors = pywrap_tfe.TFE_Py_Execute(ctx._handle, device_name, op_name,\n\u001b[0;32m---> 60\u001b[0;31m                                         inputs, attrs, num_outputs)\n\u001b[0m\u001b[1;32m     61\u001b[0m   \u001b[0;32mexcept\u001b[0m \u001b[0mcore\u001b[0m\u001b[0;34m.\u001b[0m\u001b[0m_NotOkStatusException\u001b[0m \u001b[0;32mas\u001b[0m \u001b[0me\u001b[0m\u001b[0;34m:\u001b[0m\u001b[0;34m\u001b[0m\u001b[0;34m\u001b[0m\u001b[0m\n\u001b[1;32m     62\u001b[0m     \u001b[0;32mif\u001b[0m \u001b[0mname\u001b[0m \u001b[0;32mis\u001b[0m \u001b[0;32mnot\u001b[0m \u001b[0;32mNone\u001b[0m\u001b[0;34m:\u001b[0m\u001b[0;34m\u001b[0m\u001b[0;34m\u001b[0m\u001b[0m\n",
      "\u001b[0;31mKeyboardInterrupt\u001b[0m: "
     ]
    }
   ],
   "source": [
    "EPOCHS = 10\n",
    "\n",
    "for epoch in range(EPOCHS):\n",
    "    total_loss = 0\n",
    "    \n",
    "    idx_list = list(range(0, enc_tensor.shape[0], BATCH_SIZE))\n",
    "    random.shuffle(idx_list)\n",
    "    t = tqdm(idx_list)\n",
    "\n",
    "    for (batch, idx) in enumerate(t):\n",
    "        batch_loss = train_step(enc_tensor[idx:idx+BATCH_SIZE],\n",
    "                                dec_tensor[idx:idx+BATCH_SIZE],\n",
    "                                encoder,\n",
    "                                decoder,\n",
    "                                optimizer,\n",
    "                                dec_tokenizer)\n",
    "    \n",
    "        total_loss += batch_loss\n",
    "        \n",
    "        t.set_description_str('Epoch %2d' % (epoch + 1))\n",
    "        t.set_postfix_str('Loss %.4f' % (total_loss.numpy() / (batch + 1)))"
   ]
  },
  {
   "cell_type": "markdown",
   "id": "duplicate-connection",
   "metadata": {},
   "source": [
    "# 6. Result"
   ]
  },
  {
   "cell_type": "code",
   "execution_count": null,
   "id": "palestinian-kentucky",
   "metadata": {},
   "outputs": [],
   "source": []
  },
  {
   "cell_type": "markdown",
   "id": "awful-utilization",
   "metadata": {},
   "source": [
    "# 평가 문항"
   ]
  },
  {
   "cell_type": "markdown",
   "id": "american-bearing",
   "metadata": {},
   "source": [
    "> 1. 번역기 모델 학습에 필요한 텍스트 데이터 전처리가 한국어 포함하여 잘 이루어졌다.<br>\n",
    "> 구두점, 대소문자, 띄어쓰기, 한글 형태소분석 등 번역기 모델에 요구되는 전처리가 정상적으로 진행되었다.<br>\n",
    "> <br>\n",
    "> 2. Attentional Seq2seq 모델이 정상적으로 구동된다.<br>\n",
    "> seq2seq 모델 훈련 과정에서 training loss가 안정적으로 떨어지면서 학습이 진행됨이 확인되었다.<br>\n",
    "> <br>\n",
    "> 3. 테스트 결과 의미가 통하는 수준의 번역문이 생성되었다.<br>\n",
    "> 테스트용 디코더 모델이 정상적으로 만들어져서, 정답과 어느 정도 유사한 영어 번역이 진행됨을 확인하였다."
   ]
  },
  {
   "cell_type": "code",
   "execution_count": null,
   "id": "dedicated-cloud",
   "metadata": {},
   "outputs": [],
   "source": []
  }
 ],
 "metadata": {
  "kernelspec": {
   "display_name": "Python 3",
   "language": "python",
   "name": "python3"
  },
  "language_info": {
   "codemirror_mode": {
    "name": "ipython",
    "version": 3
   },
   "file_extension": ".py",
   "mimetype": "text/x-python",
   "name": "python",
   "nbconvert_exporter": "python",
   "pygments_lexer": "ipython3",
   "version": "3.7.9"
  }
 },
 "nbformat": 4,
 "nbformat_minor": 5
}
